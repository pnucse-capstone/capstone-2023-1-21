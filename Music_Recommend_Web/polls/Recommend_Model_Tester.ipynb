{
 "cells": [
  {
   "cell_type": "markdown",
   "id": "3623a464",
   "metadata": {},
   "source": [
    "## 데이터 로드"
   ]
  },
  {
   "cell_type": "code",
   "execution_count": 1,
   "id": "1bf46884",
   "metadata": {},
   "outputs": [],
   "source": [
    "import json\n",
    "import pandas as pd\n",
    "import math\n",
    "import numpy as np\n",
    "from scipy import stats\n",
    "import multiprocessing\n",
    "import requests"
   ]
  },
  {
   "cell_type": "code",
   "execution_count": 2,
   "id": "751c106d",
   "metadata": {},
   "outputs": [],
   "source": [
    "with open('../Datasets/train_datas.json', 'r', encoding='utf-8') as f:\n",
    "    json_data = json.load(f)"
   ]
  },
  {
   "cell_type": "code",
   "execution_count": 3,
   "id": "d7e6ed51",
   "metadata": {},
   "outputs": [
    {
     "data": {
      "text/html": [
       "<div>\n",
       "<style scoped>\n",
       "    .dataframe tbody tr th:only-of-type {\n",
       "        vertical-align: middle;\n",
       "    }\n",
       "\n",
       "    .dataframe tbody tr th {\n",
       "        vertical-align: top;\n",
       "    }\n",
       "\n",
       "    .dataframe thead th {\n",
       "        text-align: right;\n",
       "    }\n",
       "</style>\n",
       "<table border=\"1\" class=\"dataframe\">\n",
       "  <thead>\n",
       "    <tr style=\"text-align: right;\">\n",
       "      <th></th>\n",
       "      <th>tags</th>\n",
       "      <th>song_id</th>\n",
       "      <th>like_cnt</th>\n",
       "    </tr>\n",
       "  </thead>\n",
       "  <tbody>\n",
       "    <tr>\n",
       "      <th>0</th>\n",
       "      <td>[미세먼지, 여유로운, 출근길, 아침, 잔잔한, 드라이브, 감성, 기분전환, 스트레...</td>\n",
       "      <td>[116805, 366786, 521739, 212014, 36179, 672550...</td>\n",
       "      <td>5</td>\n",
       "    </tr>\n",
       "    <tr>\n",
       "      <th>1</th>\n",
       "      <td>[힙합, 힙합엘이, 블랙뮤직, HIPHOPLE, 흑인음악]</td>\n",
       "      <td>[406498, 271311, 123597, 699012, 137952, 70319...</td>\n",
       "      <td>0</td>\n",
       "    </tr>\n",
       "    <tr>\n",
       "      <th>2</th>\n",
       "      <td>[여름, 기분전환]</td>\n",
       "      <td>[606905, 91361, 215618, 341999, 618007, 389726...</td>\n",
       "      <td>2</td>\n",
       "    </tr>\n",
       "    <tr>\n",
       "      <th>3</th>\n",
       "      <td>[잔잔, 새벽, 카페, loveandlyrics, moody]</td>\n",
       "      <td>[495532, 677144, 34898, 657439, 525848, 386995...</td>\n",
       "      <td>6</td>\n",
       "    </tr>\n",
       "    <tr>\n",
       "      <th>4</th>\n",
       "      <td>[홍대, 인디음악, Rock, 인디밴드, 상수, 참이슬, 인디]</td>\n",
       "      <td>[565726, 69242, 613056, 465889, 522895, 141820...</td>\n",
       "      <td>6</td>\n",
       "    </tr>\n",
       "  </tbody>\n",
       "</table>\n",
       "</div>"
      ],
      "text/plain": [
       "                                                tags  \\\n",
       "0  [미세먼지, 여유로운, 출근길, 아침, 잔잔한, 드라이브, 감성, 기분전환, 스트레...   \n",
       "1                   [힙합, 힙합엘이, 블랙뮤직, HIPHOPLE, 흑인음악]   \n",
       "2                                         [여름, 기분전환]   \n",
       "3                 [잔잔, 새벽, 카페, loveandlyrics, moody]   \n",
       "4                [홍대, 인디음악, Rock, 인디밴드, 상수, 참이슬, 인디]   \n",
       "\n",
       "                                             song_id  like_cnt  \n",
       "0  [116805, 366786, 521739, 212014, 36179, 672550...         5  \n",
       "1  [406498, 271311, 123597, 699012, 137952, 70319...         0  \n",
       "2  [606905, 91361, 215618, 341999, 618007, 389726...         2  \n",
       "3  [495532, 677144, 34898, 657439, 525848, 386995...         6  \n",
       "4  [565726, 69242, 613056, 465889, 522895, 141820...         6  "
      ]
     },
     "execution_count": 3,
     "metadata": {},
     "output_type": "execute_result"
    }
   ],
   "source": [
    "train_data = pd.DataFrame(json_data)\n",
    "#train_data = train_data.drop(['id', 'plylst_title', 'updt_date'], axis=1)\n",
    "train_data.head()"
   ]
  },
  {
   "cell_type": "code",
   "execution_count": 4,
   "id": "cc61bcc3",
   "metadata": {},
   "outputs": [],
   "source": [
    "with open('../Datasets/song_meta_with_likes.json', 'r', encoding='utf-8') as f:\n",
    "    json_data = json.load(f)"
   ]
  },
  {
   "cell_type": "code",
   "execution_count": 5,
   "id": "9d00a9fe",
   "metadata": {},
   "outputs": [
    {
     "data": {
      "text/html": [
       "<div>\n",
       "<style scoped>\n",
       "    .dataframe tbody tr th:only-of-type {\n",
       "        vertical-align: middle;\n",
       "    }\n",
       "\n",
       "    .dataframe tbody tr th {\n",
       "        vertical-align: top;\n",
       "    }\n",
       "\n",
       "    .dataframe thead th {\n",
       "        text-align: right;\n",
       "    }\n",
       "</style>\n",
       "<table border=\"1\" class=\"dataframe\">\n",
       "  <thead>\n",
       "    <tr style=\"text-align: right;\">\n",
       "      <th></th>\n",
       "      <th>song_gn_dtl_gnr_basket</th>\n",
       "      <th>issue_date</th>\n",
       "      <th>album_id</th>\n",
       "      <th>artist_id_basket</th>\n",
       "      <th>song_name</th>\n",
       "      <th>artist_name_basket</th>\n",
       "      <th>id</th>\n",
       "      <th>like_cnt_song</th>\n",
       "    </tr>\n",
       "  </thead>\n",
       "  <tbody>\n",
       "    <tr>\n",
       "      <th>0</th>\n",
       "      <td>[GN0901]</td>\n",
       "      <td>20140512</td>\n",
       "      <td>2255639</td>\n",
       "      <td>[2727]</td>\n",
       "      <td>Feelings</td>\n",
       "      <td>[Various Artists]</td>\n",
       "      <td>0</td>\n",
       "      <td>0.616807</td>\n",
       "    </tr>\n",
       "    <tr>\n",
       "      <th>1</th>\n",
       "      <td>[GN1601, GN1606]</td>\n",
       "      <td>20080421</td>\n",
       "      <td>376431</td>\n",
       "      <td>[29966]</td>\n",
       "      <td>Bach : Partita No. 4 In D Major, BWV 828 - II....</td>\n",
       "      <td>[Murray Perahia]</td>\n",
       "      <td>1</td>\n",
       "      <td>0.000000</td>\n",
       "    </tr>\n",
       "    <tr>\n",
       "      <th>2</th>\n",
       "      <td>[GN0901]</td>\n",
       "      <td>20180518</td>\n",
       "      <td>4698747</td>\n",
       "      <td>[3361]</td>\n",
       "      <td>Solsbury Hill (Remastered 2002)</td>\n",
       "      <td>[Peter Gabriel]</td>\n",
       "      <td>2</td>\n",
       "      <td>0.000000</td>\n",
       "    </tr>\n",
       "    <tr>\n",
       "      <th>3</th>\n",
       "      <td>[GN1102, GN1101]</td>\n",
       "      <td>20151016</td>\n",
       "      <td>2644882</td>\n",
       "      <td>[838543]</td>\n",
       "      <td>Feeling Right (Everything Is Nice) (Feat. Popc...</td>\n",
       "      <td>[Matoma]</td>\n",
       "      <td>3</td>\n",
       "      <td>22.996574</td>\n",
       "    </tr>\n",
       "    <tr>\n",
       "      <th>4</th>\n",
       "      <td>[GN1802, GN1801]</td>\n",
       "      <td>20110824</td>\n",
       "      <td>2008470</td>\n",
       "      <td>[560160]</td>\n",
       "      <td>그남자 그여자</td>\n",
       "      <td>[Jude Law]</td>\n",
       "      <td>4</td>\n",
       "      <td>0.297234</td>\n",
       "    </tr>\n",
       "  </tbody>\n",
       "</table>\n",
       "</div>"
      ],
      "text/plain": [
       "  song_gn_dtl_gnr_basket issue_date  album_id artist_id_basket  \\\n",
       "0               [GN0901]   20140512   2255639           [2727]   \n",
       "1       [GN1601, GN1606]   20080421    376431          [29966]   \n",
       "2               [GN0901]   20180518   4698747           [3361]   \n",
       "3       [GN1102, GN1101]   20151016   2644882         [838543]   \n",
       "4       [GN1802, GN1801]   20110824   2008470         [560160]   \n",
       "\n",
       "                                           song_name artist_name_basket  id  \\\n",
       "0                                           Feelings  [Various Artists]   0   \n",
       "1  Bach : Partita No. 4 In D Major, BWV 828 - II....   [Murray Perahia]   1   \n",
       "2                    Solsbury Hill (Remastered 2002)    [Peter Gabriel]   2   \n",
       "3  Feeling Right (Everything Is Nice) (Feat. Popc...           [Matoma]   3   \n",
       "4                                            그남자 그여자         [Jude Law]   4   \n",
       "\n",
       "   like_cnt_song  \n",
       "0       0.616807  \n",
       "1       0.000000  \n",
       "2       0.000000  \n",
       "3      22.996574  \n",
       "4       0.297234  "
      ]
     },
     "execution_count": 5,
     "metadata": {},
     "output_type": "execute_result"
    }
   ],
   "source": [
    "song_data = pd.DataFrame(json_data)\n",
    "song_data = song_data.drop(['album_name', 'song_gn_gnr_basket'], axis=1)\n",
    "song_data.head()"
   ]
  },
  {
   "cell_type": "markdown",
   "id": "bcf2ecba",
   "metadata": {},
   "source": [
    "## 데이터 열 이름 변경"
   ]
  },
  {
   "cell_type": "code",
   "execution_count": 6,
   "id": "36cf5e58",
   "metadata": {},
   "outputs": [
    {
     "data": {
      "text/html": [
       "<div>\n",
       "<style scoped>\n",
       "    .dataframe tbody tr th:only-of-type {\n",
       "        vertical-align: middle;\n",
       "    }\n",
       "\n",
       "    .dataframe tbody tr th {\n",
       "        vertical-align: top;\n",
       "    }\n",
       "\n",
       "    .dataframe thead th {\n",
       "        text-align: right;\n",
       "    }\n",
       "</style>\n",
       "<table border=\"1\" class=\"dataframe\">\n",
       "  <thead>\n",
       "    <tr style=\"text-align: right;\">\n",
       "      <th></th>\n",
       "      <th>tags</th>\n",
       "      <th>song_id</th>\n",
       "      <th>like_cnt</th>\n",
       "    </tr>\n",
       "  </thead>\n",
       "  <tbody>\n",
       "    <tr>\n",
       "      <th>0</th>\n",
       "      <td>[미세먼지, 여유로운, 출근길, 아침, 잔잔한, 드라이브, 감성, 기분전환, 스트레...</td>\n",
       "      <td>[116805, 366786, 521739, 212014, 36179, 672550...</td>\n",
       "      <td>5</td>\n",
       "    </tr>\n",
       "    <tr>\n",
       "      <th>1</th>\n",
       "      <td>[힙합, 힙합엘이, 블랙뮤직, HIPHOPLE, 흑인음악]</td>\n",
       "      <td>[406498, 271311, 123597, 699012, 137952, 70319...</td>\n",
       "      <td>0</td>\n",
       "    </tr>\n",
       "    <tr>\n",
       "      <th>2</th>\n",
       "      <td>[여름, 기분전환]</td>\n",
       "      <td>[606905, 91361, 215618, 341999, 618007, 389726...</td>\n",
       "      <td>2</td>\n",
       "    </tr>\n",
       "    <tr>\n",
       "      <th>3</th>\n",
       "      <td>[잔잔, 새벽, 카페, loveandlyrics, moody]</td>\n",
       "      <td>[495532, 677144, 34898, 657439, 525848, 386995...</td>\n",
       "      <td>6</td>\n",
       "    </tr>\n",
       "    <tr>\n",
       "      <th>4</th>\n",
       "      <td>[홍대, 인디음악, Rock, 인디밴드, 상수, 참이슬, 인디]</td>\n",
       "      <td>[565726, 69242, 613056, 465889, 522895, 141820...</td>\n",
       "      <td>6</td>\n",
       "    </tr>\n",
       "  </tbody>\n",
       "</table>\n",
       "</div>"
      ],
      "text/plain": [
       "                                                tags  \\\n",
       "0  [미세먼지, 여유로운, 출근길, 아침, 잔잔한, 드라이브, 감성, 기분전환, 스트레...   \n",
       "1                   [힙합, 힙합엘이, 블랙뮤직, HIPHOPLE, 흑인음악]   \n",
       "2                                         [여름, 기분전환]   \n",
       "3                 [잔잔, 새벽, 카페, loveandlyrics, moody]   \n",
       "4                [홍대, 인디음악, Rock, 인디밴드, 상수, 참이슬, 인디]   \n",
       "\n",
       "                                             song_id  like_cnt  \n",
       "0  [116805, 366786, 521739, 212014, 36179, 672550...         5  \n",
       "1  [406498, 271311, 123597, 699012, 137952, 70319...         0  \n",
       "2  [606905, 91361, 215618, 341999, 618007, 389726...         2  \n",
       "3  [495532, 677144, 34898, 657439, 525848, 386995...         6  \n",
       "4  [565726, 69242, 613056, 465889, 522895, 141820...         6  "
      ]
     },
     "execution_count": 6,
     "metadata": {},
     "output_type": "execute_result"
    }
   ],
   "source": [
    "train_data.rename(columns={'songs':'song_id'}, inplace=True)\n",
    "train_data.head()"
   ]
  },
  {
   "cell_type": "markdown",
   "id": "e2dcc1c1",
   "metadata": {},
   "source": [
    "## 데이터 추출\n",
    "\n",
    "- 500개의 플레이리스트 추출"
   ]
  },
  {
   "cell_type": "code",
   "execution_count": 7,
   "id": "9bec8482",
   "metadata": {},
   "outputs": [
    {
     "data": {
      "text/plain": [
       "(300, 3)"
      ]
     },
     "execution_count": 7,
     "metadata": {},
     "output_type": "execute_result"
    }
   ],
   "source": [
    "#train_data_sample = train_data[:500].copy()\n",
    "train_data_origin = train_data.sample(n=300)\n",
    "train_data_indices = train_data_origin.index # 영어 전처리 시, 동일한 인덱스의 인스턴스를 가져오기 위함\n",
    "train_data_origin = train_data_origin.reset_index(drop=True)\n",
    "train_data_sample = train_data_origin.copy()\n",
    "train_data_origin.shape\n",
    "#train_data_sample = train_data"
   ]
  },
  {
   "cell_type": "code",
   "execution_count": 8,
   "id": "06c5ffc9",
   "metadata": {},
   "outputs": [
    {
     "data": {
      "text/html": [
       "<div>\n",
       "<style scoped>\n",
       "    .dataframe tbody tr th:only-of-type {\n",
       "        vertical-align: middle;\n",
       "    }\n",
       "\n",
       "    .dataframe tbody tr th {\n",
       "        vertical-align: top;\n",
       "    }\n",
       "\n",
       "    .dataframe thead th {\n",
       "        text-align: right;\n",
       "    }\n",
       "</style>\n",
       "<table border=\"1\" class=\"dataframe\">\n",
       "  <thead>\n",
       "    <tr style=\"text-align: right;\">\n",
       "      <th></th>\n",
       "      <th>gnr</th>\n",
       "      <th>issue_date</th>\n",
       "      <th>album_id</th>\n",
       "      <th>artist_id_basket</th>\n",
       "      <th>song_name</th>\n",
       "      <th>artist_name_basket</th>\n",
       "      <th>song_id</th>\n",
       "      <th>like_cnt_song</th>\n",
       "    </tr>\n",
       "  </thead>\n",
       "  <tbody>\n",
       "    <tr>\n",
       "      <th>0</th>\n",
       "      <td>[GN0901]</td>\n",
       "      <td>20140512</td>\n",
       "      <td>2255639</td>\n",
       "      <td>[2727]</td>\n",
       "      <td>Feelings</td>\n",
       "      <td>[Various Artists]</td>\n",
       "      <td>0</td>\n",
       "      <td>0.616807</td>\n",
       "    </tr>\n",
       "    <tr>\n",
       "      <th>1</th>\n",
       "      <td>[GN1601, GN1606]</td>\n",
       "      <td>20080421</td>\n",
       "      <td>376431</td>\n",
       "      <td>[29966]</td>\n",
       "      <td>Bach : Partita No. 4 In D Major, BWV 828 - II....</td>\n",
       "      <td>[Murray Perahia]</td>\n",
       "      <td>1</td>\n",
       "      <td>0.000000</td>\n",
       "    </tr>\n",
       "    <tr>\n",
       "      <th>2</th>\n",
       "      <td>[GN0901]</td>\n",
       "      <td>20180518</td>\n",
       "      <td>4698747</td>\n",
       "      <td>[3361]</td>\n",
       "      <td>Solsbury Hill (Remastered 2002)</td>\n",
       "      <td>[Peter Gabriel]</td>\n",
       "      <td>2</td>\n",
       "      <td>0.000000</td>\n",
       "    </tr>\n",
       "    <tr>\n",
       "      <th>3</th>\n",
       "      <td>[GN1102, GN1101]</td>\n",
       "      <td>20151016</td>\n",
       "      <td>2644882</td>\n",
       "      <td>[838543]</td>\n",
       "      <td>Feeling Right (Everything Is Nice) (Feat. Popc...</td>\n",
       "      <td>[Matoma]</td>\n",
       "      <td>3</td>\n",
       "      <td>22.996574</td>\n",
       "    </tr>\n",
       "    <tr>\n",
       "      <th>4</th>\n",
       "      <td>[GN1802, GN1801]</td>\n",
       "      <td>20110824</td>\n",
       "      <td>2008470</td>\n",
       "      <td>[560160]</td>\n",
       "      <td>그남자 그여자</td>\n",
       "      <td>[Jude Law]</td>\n",
       "      <td>4</td>\n",
       "      <td>0.297234</td>\n",
       "    </tr>\n",
       "  </tbody>\n",
       "</table>\n",
       "</div>"
      ],
      "text/plain": [
       "                gnr  issue_date  album_id artist_id_basket  \\\n",
       "0          [GN0901]    20140512   2255639           [2727]   \n",
       "1  [GN1601, GN1606]    20080421    376431          [29966]   \n",
       "2          [GN0901]    20180518   4698747           [3361]   \n",
       "3  [GN1102, GN1101]    20151016   2644882         [838543]   \n",
       "4  [GN1802, GN1801]    20110824   2008470         [560160]   \n",
       "\n",
       "                                           song_name artist_name_basket  \\\n",
       "0                                           Feelings  [Various Artists]   \n",
       "1  Bach : Partita No. 4 In D Major, BWV 828 - II....   [Murray Perahia]   \n",
       "2                    Solsbury Hill (Remastered 2002)    [Peter Gabriel]   \n",
       "3  Feeling Right (Everything Is Nice) (Feat. Popc...           [Matoma]   \n",
       "4                                            그남자 그여자         [Jude Law]   \n",
       "\n",
       "   song_id  like_cnt_song  \n",
       "0        0       0.616807  \n",
       "1        1       0.000000  \n",
       "2        2       0.000000  \n",
       "3        3      22.996574  \n",
       "4        4       0.297234  "
      ]
     },
     "execution_count": 8,
     "metadata": {},
     "output_type": "execute_result"
    }
   ],
   "source": [
    "song_data.rename(columns={'id':'song_id', 'song_gn_dtl_gnr_basket': 'gnr'}, inplace=True)\n",
    "song_data = song_data.astype({'issue_date':'int64'})\n",
    "song_data.head()"
   ]
  },
  {
   "cell_type": "markdown",
   "id": "8079fb88",
   "metadata": {},
   "source": [
    "## 태그 병합\n",
    "\n",
    "- 같은 노래에 부여된 서로 다른 태그들을 합친다\n",
    "- 그 결과 동일한 태그 리스트가 거의 모든 노래에 부여되었다"
   ]
  },
  {
   "cell_type": "code",
   "execution_count": 9,
   "id": "790f2755",
   "metadata": {},
   "outputs": [
    {
     "data": {
      "text/html": [
       "<div>\n",
       "<style scoped>\n",
       "    .dataframe tbody tr th:only-of-type {\n",
       "        vertical-align: middle;\n",
       "    }\n",
       "\n",
       "    .dataframe tbody tr th {\n",
       "        vertical-align: top;\n",
       "    }\n",
       "\n",
       "    .dataframe thead th {\n",
       "        text-align: right;\n",
       "    }\n",
       "</style>\n",
       "<table border=\"1\" class=\"dataframe\">\n",
       "  <thead>\n",
       "    <tr style=\"text-align: right;\">\n",
       "      <th></th>\n",
       "      <th>tags</th>\n",
       "      <th>song_id</th>\n",
       "      <th>like_cnt</th>\n",
       "    </tr>\n",
       "  </thead>\n",
       "  <tbody>\n",
       "    <tr>\n",
       "      <th>0</th>\n",
       "      <td>[햇살, 카페, 여유, 오후, 재즈, 나른한, 커피, 감성, 향긋한]</td>\n",
       "      <td>314824</td>\n",
       "      <td>10</td>\n",
       "    </tr>\n",
       "    <tr>\n",
       "      <th>1</th>\n",
       "      <td>[햇살, 카페, 여유, 오후, 재즈, 나른한, 커피, 감성, 향긋한]</td>\n",
       "      <td>249789</td>\n",
       "      <td>10</td>\n",
       "    </tr>\n",
       "    <tr>\n",
       "      <th>2</th>\n",
       "      <td>[햇살, 카페, 여유, 오후, 재즈, 나른한, 커피, 감성, 향긋한]</td>\n",
       "      <td>28215</td>\n",
       "      <td>10</td>\n",
       "    </tr>\n",
       "    <tr>\n",
       "      <th>3</th>\n",
       "      <td>[햇살, 카페, 여유, 오후, 재즈, 나른한, 커피, 감성, 향긋한]</td>\n",
       "      <td>497515</td>\n",
       "      <td>10</td>\n",
       "    </tr>\n",
       "    <tr>\n",
       "      <th>4</th>\n",
       "      <td>[햇살, 카페, 여유, 오후, 재즈, 나른한, 커피, 감성, 향긋한]</td>\n",
       "      <td>650192</td>\n",
       "      <td>10</td>\n",
       "    </tr>\n",
       "    <tr>\n",
       "      <th>5</th>\n",
       "      <td>[햇살, 카페, 여유, 오후, 재즈, 나른한, 커피, 감성, 향긋한]</td>\n",
       "      <td>182422</td>\n",
       "      <td>10</td>\n",
       "    </tr>\n",
       "    <tr>\n",
       "      <th>6</th>\n",
       "      <td>[햇살, 카페, 여유, 오후, 재즈, 나른한, 커피, 감성, 향긋한]</td>\n",
       "      <td>503210</td>\n",
       "      <td>10</td>\n",
       "    </tr>\n",
       "    <tr>\n",
       "      <th>7</th>\n",
       "      <td>[햇살, 카페, 여유, 오후, 재즈, 나른한, 커피, 감성, 향긋한]</td>\n",
       "      <td>635003</td>\n",
       "      <td>10</td>\n",
       "    </tr>\n",
       "    <tr>\n",
       "      <th>8</th>\n",
       "      <td>[햇살, 카페, 여유, 오후, 재즈, 나른한, 커피, 감성, 향긋한]</td>\n",
       "      <td>78009</td>\n",
       "      <td>10</td>\n",
       "    </tr>\n",
       "    <tr>\n",
       "      <th>9</th>\n",
       "      <td>[햇살, 카페, 여유, 오후, 재즈, 나른한, 커피, 감성, 향긋한]</td>\n",
       "      <td>393368</td>\n",
       "      <td>10</td>\n",
       "    </tr>\n",
       "    <tr>\n",
       "      <th>10</th>\n",
       "      <td>[햇살, 카페, 여유, 오후, 재즈, 나른한, 커피, 감성, 향긋한]</td>\n",
       "      <td>10159</td>\n",
       "      <td>10</td>\n",
       "    </tr>\n",
       "    <tr>\n",
       "      <th>11</th>\n",
       "      <td>[햇살, 카페, 여유, 오후, 재즈, 나른한, 커피, 감성, 향긋한]</td>\n",
       "      <td>543256</td>\n",
       "      <td>10</td>\n",
       "    </tr>\n",
       "    <tr>\n",
       "      <th>12</th>\n",
       "      <td>[햇살, 카페, 여유, 오후, 재즈, 나른한, 커피, 감성, 향긋한]</td>\n",
       "      <td>332196</td>\n",
       "      <td>10</td>\n",
       "    </tr>\n",
       "    <tr>\n",
       "      <th>13</th>\n",
       "      <td>[햇살, 카페, 여유, 오후, 재즈, 나른한, 커피, 감성, 향긋한]</td>\n",
       "      <td>418</td>\n",
       "      <td>10</td>\n",
       "    </tr>\n",
       "    <tr>\n",
       "      <th>14</th>\n",
       "      <td>[햇살, 카페, 여유, 오후, 재즈, 나른한, 커피, 감성, 향긋한]</td>\n",
       "      <td>510650</td>\n",
       "      <td>10</td>\n",
       "    </tr>\n",
       "    <tr>\n",
       "      <th>15</th>\n",
       "      <td>[햇살, 카페, 여유, 오후, 재즈, 나른한, 커피, 감성, 향긋한]</td>\n",
       "      <td>210226</td>\n",
       "      <td>10</td>\n",
       "    </tr>\n",
       "    <tr>\n",
       "      <th>16</th>\n",
       "      <td>[햇살, 카페, 여유, 오후, 재즈, 나른한, 커피, 감성, 향긋한]</td>\n",
       "      <td>614925</td>\n",
       "      <td>10</td>\n",
       "    </tr>\n",
       "    <tr>\n",
       "      <th>17</th>\n",
       "      <td>[햇살, 카페, 여유, 오후, 재즈, 나른한, 커피, 감성, 향긋한]</td>\n",
       "      <td>220508</td>\n",
       "      <td>10</td>\n",
       "    </tr>\n",
       "    <tr>\n",
       "      <th>18</th>\n",
       "      <td>[햇살, 카페, 여유, 오후, 재즈, 나른한, 커피, 감성, 향긋한]</td>\n",
       "      <td>374658</td>\n",
       "      <td>10</td>\n",
       "    </tr>\n",
       "    <tr>\n",
       "      <th>19</th>\n",
       "      <td>[햇살, 카페, 여유, 오후, 재즈, 나른한, 커피, 감성, 향긋한]</td>\n",
       "      <td>269104</td>\n",
       "      <td>10</td>\n",
       "    </tr>\n",
       "    <tr>\n",
       "      <th>20</th>\n",
       "      <td>[햇살, 카페, 여유, 오후, 재즈, 나른한, 커피, 감성, 향긋한]</td>\n",
       "      <td>638831</td>\n",
       "      <td>10</td>\n",
       "    </tr>\n",
       "    <tr>\n",
       "      <th>21</th>\n",
       "      <td>[햇살, 카페, 여유, 오후, 재즈, 나른한, 커피, 감성, 향긋한]</td>\n",
       "      <td>171755</td>\n",
       "      <td>10</td>\n",
       "    </tr>\n",
       "    <tr>\n",
       "      <th>22</th>\n",
       "      <td>[햇살, 카페, 여유, 오후, 재즈, 나른한, 커피, 감성, 향긋한]</td>\n",
       "      <td>220103</td>\n",
       "      <td>10</td>\n",
       "    </tr>\n",
       "    <tr>\n",
       "      <th>23</th>\n",
       "      <td>[햇살, 카페, 여유, 오후, 재즈, 나른한, 커피, 감성, 향긋한]</td>\n",
       "      <td>234763</td>\n",
       "      <td>10</td>\n",
       "    </tr>\n",
       "    <tr>\n",
       "      <th>24</th>\n",
       "      <td>[햇살, 카페, 여유, 오후, 재즈, 나른한, 커피, 감성, 향긋한]</td>\n",
       "      <td>175107</td>\n",
       "      <td>10</td>\n",
       "    </tr>\n",
       "    <tr>\n",
       "      <th>25</th>\n",
       "      <td>[햇살, 카페, 여유, 오후, 재즈, 나른한, 커피, 감성, 향긋한]</td>\n",
       "      <td>509600</td>\n",
       "      <td>10</td>\n",
       "    </tr>\n",
       "    <tr>\n",
       "      <th>26</th>\n",
       "      <td>[햇살, 카페, 여유, 오후, 재즈, 나른한, 커피, 감성, 향긋한]</td>\n",
       "      <td>58664</td>\n",
       "      <td>10</td>\n",
       "    </tr>\n",
       "    <tr>\n",
       "      <th>27</th>\n",
       "      <td>[햇살, 카페, 여유, 오후, 재즈, 나른한, 커피, 감성, 향긋한]</td>\n",
       "      <td>97939</td>\n",
       "      <td>10</td>\n",
       "    </tr>\n",
       "    <tr>\n",
       "      <th>28</th>\n",
       "      <td>[햇살, 카페, 여유, 오후, 재즈, 나른한, 커피, 감성, 향긋한]</td>\n",
       "      <td>470401</td>\n",
       "      <td>10</td>\n",
       "    </tr>\n",
       "    <tr>\n",
       "      <th>29</th>\n",
       "      <td>[햇살, 카페, 여유, 오후, 재즈, 나른한, 커피, 감성, 향긋한]</td>\n",
       "      <td>511775</td>\n",
       "      <td>10</td>\n",
       "    </tr>\n",
       "  </tbody>\n",
       "</table>\n",
       "</div>"
      ],
      "text/plain": [
       "                                      tags song_id  like_cnt\n",
       "0   [햇살, 카페, 여유, 오후, 재즈, 나른한, 커피, 감성, 향긋한]  314824        10\n",
       "1   [햇살, 카페, 여유, 오후, 재즈, 나른한, 커피, 감성, 향긋한]  249789        10\n",
       "2   [햇살, 카페, 여유, 오후, 재즈, 나른한, 커피, 감성, 향긋한]   28215        10\n",
       "3   [햇살, 카페, 여유, 오후, 재즈, 나른한, 커피, 감성, 향긋한]  497515        10\n",
       "4   [햇살, 카페, 여유, 오후, 재즈, 나른한, 커피, 감성, 향긋한]  650192        10\n",
       "5   [햇살, 카페, 여유, 오후, 재즈, 나른한, 커피, 감성, 향긋한]  182422        10\n",
       "6   [햇살, 카페, 여유, 오후, 재즈, 나른한, 커피, 감성, 향긋한]  503210        10\n",
       "7   [햇살, 카페, 여유, 오후, 재즈, 나른한, 커피, 감성, 향긋한]  635003        10\n",
       "8   [햇살, 카페, 여유, 오후, 재즈, 나른한, 커피, 감성, 향긋한]   78009        10\n",
       "9   [햇살, 카페, 여유, 오후, 재즈, 나른한, 커피, 감성, 향긋한]  393368        10\n",
       "10  [햇살, 카페, 여유, 오후, 재즈, 나른한, 커피, 감성, 향긋한]   10159        10\n",
       "11  [햇살, 카페, 여유, 오후, 재즈, 나른한, 커피, 감성, 향긋한]  543256        10\n",
       "12  [햇살, 카페, 여유, 오후, 재즈, 나른한, 커피, 감성, 향긋한]  332196        10\n",
       "13  [햇살, 카페, 여유, 오후, 재즈, 나른한, 커피, 감성, 향긋한]     418        10\n",
       "14  [햇살, 카페, 여유, 오후, 재즈, 나른한, 커피, 감성, 향긋한]  510650        10\n",
       "15  [햇살, 카페, 여유, 오후, 재즈, 나른한, 커피, 감성, 향긋한]  210226        10\n",
       "16  [햇살, 카페, 여유, 오후, 재즈, 나른한, 커피, 감성, 향긋한]  614925        10\n",
       "17  [햇살, 카페, 여유, 오후, 재즈, 나른한, 커피, 감성, 향긋한]  220508        10\n",
       "18  [햇살, 카페, 여유, 오후, 재즈, 나른한, 커피, 감성, 향긋한]  374658        10\n",
       "19  [햇살, 카페, 여유, 오후, 재즈, 나른한, 커피, 감성, 향긋한]  269104        10\n",
       "20  [햇살, 카페, 여유, 오후, 재즈, 나른한, 커피, 감성, 향긋한]  638831        10\n",
       "21  [햇살, 카페, 여유, 오후, 재즈, 나른한, 커피, 감성, 향긋한]  171755        10\n",
       "22  [햇살, 카페, 여유, 오후, 재즈, 나른한, 커피, 감성, 향긋한]  220103        10\n",
       "23  [햇살, 카페, 여유, 오후, 재즈, 나른한, 커피, 감성, 향긋한]  234763        10\n",
       "24  [햇살, 카페, 여유, 오후, 재즈, 나른한, 커피, 감성, 향긋한]  175107        10\n",
       "25  [햇살, 카페, 여유, 오후, 재즈, 나른한, 커피, 감성, 향긋한]  509600        10\n",
       "26  [햇살, 카페, 여유, 오후, 재즈, 나른한, 커피, 감성, 향긋한]   58664        10\n",
       "27  [햇살, 카페, 여유, 오후, 재즈, 나른한, 커피, 감성, 향긋한]   97939        10\n",
       "28  [햇살, 카페, 여유, 오후, 재즈, 나른한, 커피, 감성, 향긋한]  470401        10\n",
       "29  [햇살, 카페, 여유, 오후, 재즈, 나른한, 커피, 감성, 향긋한]  511775        10"
      ]
     },
     "execution_count": 9,
     "metadata": {},
     "output_type": "execute_result"
    }
   ],
   "source": [
    "train_data_sample = train_data_sample.explode('song_id', ignore_index=True)\n",
    "train_data_sample.head(30)"
   ]
  },
  {
   "cell_type": "code",
   "execution_count": 10,
   "id": "ec6056ea",
   "metadata": {},
   "outputs": [],
   "source": [
    "train_dict = dict()\n",
    "\n",
    "for i in range(len(train_data_sample)):\n",
    "    song = train_data_sample['song_id'][i]\n",
    "    tag = train_data_sample['tags'][i]\n",
    "    \n",
    "    if song in train_dict:\n",
    "        for j in tag:\n",
    "            train_dict[song].add(j)\n",
    "    \n",
    "    else:\n",
    "        train_dict[song] = set(tag)"
   ]
  },
  {
   "cell_type": "code",
   "execution_count": 11,
   "id": "4a038475",
   "metadata": {},
   "outputs": [
    {
     "data": {
      "text/plain": [
       "(10636, 3)"
      ]
     },
     "execution_count": 11,
     "metadata": {},
     "output_type": "execute_result"
    }
   ],
   "source": [
    "train_data_sample.drop_duplicates(subset='song_id', keep='first',inplace=True)\n",
    "train_data_sample.shape"
   ]
  },
  {
   "cell_type": "code",
   "execution_count": 12,
   "id": "8674dafe",
   "metadata": {},
   "outputs": [
    {
     "name": "stderr",
     "output_type": "stream",
     "text": [
      "C:\\Users\\Hyun\\AppData\\Local\\Temp\\ipykernel_15164\\1966443478.py:4: SettingWithCopyWarning: \n",
      "A value is trying to be set on a copy of a slice from a DataFrame\n",
      "\n",
      "See the caveats in the documentation: https://pandas.pydata.org/pandas-docs/stable/user_guide/indexing.html#returning-a-view-versus-a-copy\n",
      "  train_data_sample['tags'].iloc[i] = list(train_dict[song])\n"
     ]
    },
    {
     "data": {
      "text/html": [
       "<div>\n",
       "<style scoped>\n",
       "    .dataframe tbody tr th:only-of-type {\n",
       "        vertical-align: middle;\n",
       "    }\n",
       "\n",
       "    .dataframe tbody tr th {\n",
       "        vertical-align: top;\n",
       "    }\n",
       "\n",
       "    .dataframe thead th {\n",
       "        text-align: right;\n",
       "    }\n",
       "</style>\n",
       "<table border=\"1\" class=\"dataframe\">\n",
       "  <thead>\n",
       "    <tr style=\"text-align: right;\">\n",
       "      <th></th>\n",
       "      <th>tags</th>\n",
       "      <th>song_id</th>\n",
       "      <th>like_cnt</th>\n",
       "    </tr>\n",
       "  </thead>\n",
       "  <tbody>\n",
       "    <tr>\n",
       "      <th>0</th>\n",
       "      <td>[향긋한, 나른한, 카페, 오후, 여유, 커피, 햇살, 재즈, 감성]</td>\n",
       "      <td>314824</td>\n",
       "      <td>10</td>\n",
       "    </tr>\n",
       "    <tr>\n",
       "      <th>1</th>\n",
       "      <td>[향긋한, 나른한, 카페, 오후, 여유, 커피, 햇살, 재즈, 감성]</td>\n",
       "      <td>249789</td>\n",
       "      <td>10</td>\n",
       "    </tr>\n",
       "    <tr>\n",
       "      <th>2</th>\n",
       "      <td>[향긋한, 나른한, 카페, 오후, 여유, 커피, 햇살, 재즈, 감성]</td>\n",
       "      <td>28215</td>\n",
       "      <td>10</td>\n",
       "    </tr>\n",
       "    <tr>\n",
       "      <th>3</th>\n",
       "      <td>[향긋한, 나른한, 카페, 오후, 여유, 커피, 햇살, 재즈, 감성]</td>\n",
       "      <td>497515</td>\n",
       "      <td>10</td>\n",
       "    </tr>\n",
       "    <tr>\n",
       "      <th>4</th>\n",
       "      <td>[향긋한, 나른한, 카페, 오후, 여유, 커피, 햇살, 재즈, 감성]</td>\n",
       "      <td>650192</td>\n",
       "      <td>10</td>\n",
       "    </tr>\n",
       "  </tbody>\n",
       "</table>\n",
       "</div>"
      ],
      "text/plain": [
       "                                     tags song_id  like_cnt\n",
       "0  [향긋한, 나른한, 카페, 오후, 여유, 커피, 햇살, 재즈, 감성]  314824        10\n",
       "1  [향긋한, 나른한, 카페, 오후, 여유, 커피, 햇살, 재즈, 감성]  249789        10\n",
       "2  [향긋한, 나른한, 카페, 오후, 여유, 커피, 햇살, 재즈, 감성]   28215        10\n",
       "3  [향긋한, 나른한, 카페, 오후, 여유, 커피, 햇살, 재즈, 감성]  497515        10\n",
       "4  [향긋한, 나른한, 카페, 오후, 여유, 커피, 햇살, 재즈, 감성]  650192        10"
      ]
     },
     "execution_count": 12,
     "metadata": {},
     "output_type": "execute_result"
    }
   ],
   "source": [
    "for i in range(len(train_data_sample)):\n",
    "    song = train_data_sample['song_id'].iloc[i]\n",
    "    \n",
    "    train_data_sample['tags'].iloc[i] = list(train_dict[song])\n",
    "\n",
    "train_data_sample.head()"
   ]
  },
  {
   "cell_type": "code",
   "execution_count": 13,
   "id": "dbd80db8",
   "metadata": {},
   "outputs": [
    {
     "data": {
      "text/html": [
       "<div>\n",
       "<style scoped>\n",
       "    .dataframe tbody tr th:only-of-type {\n",
       "        vertical-align: middle;\n",
       "    }\n",
       "\n",
       "    .dataframe tbody tr th {\n",
       "        vertical-align: top;\n",
       "    }\n",
       "\n",
       "    .dataframe thead th {\n",
       "        text-align: right;\n",
       "    }\n",
       "</style>\n",
       "<table border=\"1\" class=\"dataframe\">\n",
       "  <thead>\n",
       "    <tr style=\"text-align: right;\">\n",
       "      <th></th>\n",
       "      <th>tags</th>\n",
       "      <th>song_id</th>\n",
       "      <th>like_cnt</th>\n",
       "      <th>gnr</th>\n",
       "      <th>issue_date</th>\n",
       "      <th>album_id</th>\n",
       "      <th>artist_id_basket</th>\n",
       "      <th>song_name</th>\n",
       "      <th>artist_name_basket</th>\n",
       "      <th>like_cnt_song</th>\n",
       "    </tr>\n",
       "  </thead>\n",
       "  <tbody>\n",
       "    <tr>\n",
       "      <th>0</th>\n",
       "      <td>[향긋한, 나른한, 카페, 오후, 여유, 커피, 햇살, 재즈, 감성]</td>\n",
       "      <td>314824</td>\n",
       "      <td>10</td>\n",
       "      <td>[GN1912, GN1904, GN1901]</td>\n",
       "      <td>20070914</td>\n",
       "      <td>534654</td>\n",
       "      <td>[408062, 408064]</td>\n",
       "      <td>Afterglow</td>\n",
       "      <td>[Kosemura Akira, Nakamura Haruka]</td>\n",
       "      <td>43.126594</td>\n",
       "    </tr>\n",
       "    <tr>\n",
       "      <th>1</th>\n",
       "      <td>[향긋한, 나른한, 카페, 오후, 여유, 커피, 햇살, 재즈, 감성]</td>\n",
       "      <td>249789</td>\n",
       "      <td>10</td>\n",
       "      <td>[GN1701, GN1704]</td>\n",
       "      <td>20090617</td>\n",
       "      <td>667658</td>\n",
       "      <td>[230358]</td>\n",
       "      <td>York Town Girl</td>\n",
       "      <td>[Eddie Higgins Trio]</td>\n",
       "      <td>242.402344</td>\n",
       "    </tr>\n",
       "    <tr>\n",
       "      <th>2</th>\n",
       "      <td>[향긋한, 나른한, 카페, 오후, 여유, 커피, 햇살, 재즈, 감성]</td>\n",
       "      <td>28215</td>\n",
       "      <td>10</td>\n",
       "      <td>[GN0508, GN0501, GN2602, GN0504, GN2601]</td>\n",
       "      <td>20091217</td>\n",
       "      <td>744955</td>\n",
       "      <td>[446541]</td>\n",
       "      <td>Cottage Piano</td>\n",
       "      <td>[5mg]</td>\n",
       "      <td>276.400629</td>\n",
       "    </tr>\n",
       "    <tr>\n",
       "      <th>3</th>\n",
       "      <td>[향긋한, 나른한, 카페, 오후, 여유, 커피, 햇살, 재즈, 감성]</td>\n",
       "      <td>497515</td>\n",
       "      <td>10</td>\n",
       "      <td>[GN1907, GN1910, GN1905, GN1912, GN1901]</td>\n",
       "      <td>20110126</td>\n",
       "      <td>1177351</td>\n",
       "      <td>[51538]</td>\n",
       "      <td>The Jazzy View</td>\n",
       "      <td>[DJ Ezasscul]</td>\n",
       "      <td>149.376908</td>\n",
       "    </tr>\n",
       "    <tr>\n",
       "      <th>4</th>\n",
       "      <td>[향긋한, 나른한, 카페, 오후, 여유, 커피, 햇살, 재즈, 감성]</td>\n",
       "      <td>650192</td>\n",
       "      <td>10</td>\n",
       "      <td>[GN1701]</td>\n",
       "      <td>20050513</td>\n",
       "      <td>130391</td>\n",
       "      <td>[193389]</td>\n",
       "      <td>I M Through With Love</td>\n",
       "      <td>[Wendy Lee Taylor]</td>\n",
       "      <td>2.587995</td>\n",
       "    </tr>\n",
       "  </tbody>\n",
       "</table>\n",
       "</div>"
      ],
      "text/plain": [
       "                                     tags  song_id  like_cnt  \\\n",
       "0  [향긋한, 나른한, 카페, 오후, 여유, 커피, 햇살, 재즈, 감성]   314824        10   \n",
       "1  [향긋한, 나른한, 카페, 오후, 여유, 커피, 햇살, 재즈, 감성]   249789        10   \n",
       "2  [향긋한, 나른한, 카페, 오후, 여유, 커피, 햇살, 재즈, 감성]    28215        10   \n",
       "3  [향긋한, 나른한, 카페, 오후, 여유, 커피, 햇살, 재즈, 감성]   497515        10   \n",
       "4  [향긋한, 나른한, 카페, 오후, 여유, 커피, 햇살, 재즈, 감성]   650192        10   \n",
       "\n",
       "                                        gnr  issue_date  album_id  \\\n",
       "0                  [GN1912, GN1904, GN1901]    20070914    534654   \n",
       "1                          [GN1701, GN1704]    20090617    667658   \n",
       "2  [GN0508, GN0501, GN2602, GN0504, GN2601]    20091217    744955   \n",
       "3  [GN1907, GN1910, GN1905, GN1912, GN1901]    20110126   1177351   \n",
       "4                                  [GN1701]    20050513    130391   \n",
       "\n",
       "   artist_id_basket              song_name                 artist_name_basket  \\\n",
       "0  [408062, 408064]              Afterglow  [Kosemura Akira, Nakamura Haruka]   \n",
       "1          [230358]         York Town Girl               [Eddie Higgins Trio]   \n",
       "2          [446541]          Cottage Piano                              [5mg]   \n",
       "3           [51538]         The Jazzy View                      [DJ Ezasscul]   \n",
       "4          [193389]  I M Through With Love                 [Wendy Lee Taylor]   \n",
       "\n",
       "   like_cnt_song  \n",
       "0      43.126594  \n",
       "1     242.402344  \n",
       "2     276.400629  \n",
       "3     149.376908  \n",
       "4       2.587995  "
      ]
     },
     "execution_count": 13,
     "metadata": {},
     "output_type": "execute_result"
    }
   ],
   "source": [
    "song_tag_appended = pd.merge(train_data_sample, song_data)\n",
    "song_tag_appended = song_tag_appended.astype({'song_id':'int64'})\n",
    "song_tag_appended.head()"
   ]
  },
  {
   "cell_type": "code",
   "execution_count": 14,
   "id": "c646e297",
   "metadata": {},
   "outputs": [
    {
     "name": "stdout",
     "output_type": "stream",
     "text": [
      "<class 'pandas.core.frame.DataFrame'>\n",
      "Int64Index: 10636 entries, 0 to 10635\n",
      "Data columns (total 10 columns):\n",
      " #   Column              Non-Null Count  Dtype  \n",
      "---  ------              --------------  -----  \n",
      " 0   tags                10636 non-null  object \n",
      " 1   song_id             10636 non-null  int64  \n",
      " 2   like_cnt            10636 non-null  int64  \n",
      " 3   gnr                 10636 non-null  object \n",
      " 4   issue_date          10636 non-null  int64  \n",
      " 5   album_id            10636 non-null  int64  \n",
      " 6   artist_id_basket    10636 non-null  object \n",
      " 7   song_name           10636 non-null  object \n",
      " 8   artist_name_basket  10636 non-null  object \n",
      " 9   like_cnt_song       10636 non-null  float64\n",
      "dtypes: float64(1), int64(4), object(5)\n",
      "memory usage: 914.0+ KB\n"
     ]
    }
   ],
   "source": [
    "song_tag_appended.info()"
   ]
  },
  {
   "cell_type": "markdown",
   "id": "4c740d7b",
   "metadata": {},
   "source": [
    "## Word2Vec 사용\n",
    "\n",
    "- 태그 리스트들을 word2vec로 학습시켜 태그 하나와 연관된 다른 태그들을 유추"
   ]
  },
  {
   "cell_type": "code",
   "execution_count": 15,
   "id": "bc470359",
   "metadata": {},
   "outputs": [],
   "source": [
    "train_data_sample2 = train_data_origin.copy()\n",
    "#train_data_sample2 = train_data_eng.copy()\n",
    "train_data_sample2 = train_data_sample2.reset_index(drop=True)\n",
    "#train_data_sample2 = train_data"
   ]
  },
  {
   "cell_type": "code",
   "execution_count": 16,
   "id": "3ab58103",
   "metadata": {},
   "outputs": [
    {
     "data": {
      "text/plain": [
       "(545, 100)"
      ]
     },
     "execution_count": 16,
     "metadata": {},
     "output_type": "execute_result"
    }
   ],
   "source": [
    "from gensim.models.word2vec import Word2Vec\n",
    "\n",
    "w2v = Word2Vec(sentences = song_tag_appended['tags'], vector_size = 100, \n",
    "               window = 5, min_count = 15, workers = 4, sg = 1)\n",
    "\n",
    "w2v.wv.vectors.shape"
   ]
  },
  {
   "cell_type": "code",
   "execution_count": 17,
   "id": "81cb7725",
   "metadata": {},
   "outputs": [
    {
     "name": "stdout",
     "output_type": "stream",
     "text": [
      "(10636, 10)\n"
     ]
    }
   ],
   "source": [
    "print(song_tag_appended.shape)"
   ]
  },
  {
   "cell_type": "markdown",
   "id": "51ab2ee5",
   "metadata": {},
   "source": [
    "# 태그 불균형"
   ]
  },
  {
   "cell_type": "code",
   "execution_count": 18,
   "id": "c64d9647",
   "metadata": {},
   "outputs": [
    {
     "name": "stdout",
     "output_type": "stream",
     "text": [
      "{'햇살': 3.7495040759303713, '카페': 1.3888816846848415, '여유': 1.6564886432200994, '오후': 2.7043098814864868, '재즈': 1.8583339598507247, '나른한': 3.5603774098944156, '커피': 2.5793688329334956, '감성': 0.913203780357451, '향긋한': 4.0158197991097895, '봄': 1.3862943611198906, '설렘': 1.1556319773916537, '사랑': 0.8220041684493304, '집중': 1.9043072095519868, '아침': 3.2271746276828956, '태교': 3.5048898402192847, '낮잠': 4.079230924412053, '피아노': 1.9899567525956874, '명상': 4.079230924412053, '클래식': 2.7043098814864868, '뉴에이지': 1.478067844045871, '자장가': 2.5729302457925494, '숙면': 3.5048898402192847, '휴식': 0.9671723419055103, '창작': 4.0158197991097895, '새벽': 0.9374555430661984, '월드뮤직': 4.0158197991097895, '드라이브': 0.7632345032889003, '작업': 4.0158197991097895, '기분전환': 0.6931471805599453, '짝사랑': 2.674950252675865, '두근두근': 4.079230924412053, '고백': 2.9930111834396302, '애정': 4.079230924412053, '상사병': 4.079230924412053, '겨울': 1.6200787715688214, '메리크리스마스': 4.4790399088438795, '성탄절': 4.4790399088438795, '크리스마스': 2.5665396042848716, '팝': 1.4263174885364014, 'Christmas': 4.4790399088438795, '힐링': 1.200237474475847, '위로': 2.126515140576956, '밤': 1.070001754626844, '일렉트로니카': 3.9856113620856353, 'dance': 4.905844416733525, '댄스': 1.4932377817382219, 'EDMFloor': 4.905844416733525, 'EDM': 2.9428098720996485, 'electronica': 4.905844416733525, '빌로우': 4.905844416733525, '2017년': 2.9139797716817317, '개인의취향': 2.9139797716817317, '옛날노래': 2.9139797716817317, '개인적취향': 2.9139797716817317, 'Pop': 1.9806306177590511, '경쾌한': 3.254242968705492, '까페': 1.7860451679646163, '신나는': 1.038554696286971, '카페음악': 3.1753088382317913, '듣기좋은': 3.900287749209725, '벚꽃': 3.523025335310023, '락': 2.0900557429216096, '여름': 1.6970458718763328, '장마': 3.7971731637492043, '아이돌': 3.114338015961838, '여행': 1.232840788326788, '신나는노래': 4.079230924412053, '스트레스': 1.4994091655577222, '수록곡': 4.079230924412053, 'ballad': 3.1753088382317913, '발라드': 1.0033681786996254, '산책': 1.765016144252544, '가을': 1.232840788326788, '잔잔한': 1.0714478276877322, '추억': 0.9625574867757707, '회상': 0.9540310598570021, '랩': 1.2955399978514264, '힙합': 0.9783261227936078, '슬픔': 1.6928805882108242, '이별': 1.4963159651986493, '비오는날': 2.141586305668912, '감정': 3.6193283911528207, '헤어짐': 3.6193283911528207, '어쿠스틱': 2.7424516278195425, '우울': 2.7193680260348714, '분위기': 1.6724243612439609, '띵곡들': 3.091042453358316, '인디': 2.002572408084786, '감각적인': 3.3255892710564847, '그루브': 3.1880041612011136, '라운지': 4.4790399088438795, '도입부': 4.4790399088438795, '트렌디': 2.4760130520623225, '일렉': 2.9428098720996485, '연주곡': 1.8250306398341063, '주말': 1.601680629637637, '모닝콜': 2.389075500969548, '아메리카노': 2.389075500969548, '포근한': 2.2215591977474536, '맑음': 2.389075500969548, 'FC서울': 4.1470951276076295, 'kleague': 4.1470951276076295, '수원fc': 4.1470951276076295, '수원블루웡즈': 4.1470951276076295, '축구': 4.1470951276076295, '월드컵': 4.1470951276076295, '전남드래곤즈': 4.1470951276076295, '인천유나이티드': 4.1470951276076295, 'K리그': 4.1470951276076295, '라운지음악': 3.0245271755019356, '오빠이노래뭐야': 3.0245271755019356, '감성일렉': 3.0245271755019356, '이태원': 2.8413500854492777, '너만몰라': 3.0245271755019356, '가창력': 4.340978165234755, '아이돌수록곡': 4.0158197991097895, '여름밤': 2.348783910805381, '시원한': 3.452490676049706, '추억회상': 3.639823297124742, '퇴근': 3.5796224681769866, '바람': 4.079230924412053, '생각': 3.01389957750944, '하루': 3.2963895048689054, '드림스테이션리브포나우': 4.1470951276076295, 'WeLoveVocalEDM': 4.1470951276076295, '취저보이': 4.1470951276076295, '스펙트럼': 4.1470951276076295, '취향저격보컬있는EDM': 4.1470951276076295, '출근길': 3.704103881241167, '호텔루프탑': 3.704103881241167, '비트감': 3.704103881241167, '라운지바': 3.704103881241167, '느낌있는': 2.5051308622506268, '퇴근길': 2.100816401264569, '행복': 3.68219046596314, '즐거운': 3.523025335310023, '불면증': 3.2680799820056654, '따뜻한': 3.7971731637492043, '겨울감성': 3.079613757534693, '헬스': 3.0352807301963045, '스포츠': 3.2963895048689054, '운동': 2.2300144001592104, '다이어트': 3.5796224681769866, '멜론스포츠': 3.5796224681769866, '웨이트': 3.5796224681769866, '록': 2.5665396042848716, '캐롤': 4.529765827329684, '힐링이필요해': 4.220073156138303, '위로가필요해': 4.220073156138303, '워십': 4.220073156138303, 'CCM': 3.1627863582171574, '찬송': 4.220073156138303, '나에게필요한': 4.220073156138303, '최신댄스': 3.639823297124742, '헬스장에세듣는빠른노래': 3.639823297124742, '체지방': 3.639823297124742, '헬스장': 3.639823297124742, '운동할때': 3.2821267527073066, '매장': 4.340978165234755, 'HipHop': 2.260325283704163, 'R': 3.7971731637492043, 'Rap': 3.114338015961838, '비': 3.5796224681769866, '비내리는날': 4.079230924412053, '센치': 3.0033951462995603, '플레이리스트': 3.523025335310023, '클럽': 2.5352828571130672, '마약': 3.847344123563276, '해외힙합': 3.847344123563276, '클럽뮤직': 3.847344123563276, '방구석에서': 3.847344123563276, '인싸': 3.847344123563276, '2019': 3.847344123563276, '외국힙합': 3.847344123563276, '비가오는날엔': 5.1664987919271885, '좋아요': 2.933096702562506, 'RapHiphop': 3.419114994262564, '매드클라운': 3.419114994262564, '감성힙합': 3.419114994262564, '망해라': 3.419114994262564, '마미손': 3.419114994262564, '쇼미더머니': 2.7346894496487955, '래퍼': 3.419114994262564, '한국힙합': 3.419114994262564, '재즈카페': 4.529765827329684, '티타임': 4.529765827329684, '편안한': 2.6535620158181406, '미국': 4.529765827329684, 'TOP20': 4.529765827329684, 'Hot100': 4.529765827329684, 'Billboard': 4.529765827329684, '술': 3.821929961901108, '음악술집': 4.529765827329684, '프로혼술러': 4.529765827329684, '혼술': 3.821929961901108, '2015': 2.9625564113150915, '빅뱅': 2.9625564113150915, '19금아님': 2.9625564113150915, '즐듣': 2.9625564113150915, '뱅뱅뱅': 2.9625564113150915, '무도': 2.9625564113150915, 'TOP100': 2.9625564113150915, '차분': 4.384863516009081, '겨울밤': 4.4790399088438795, '음색': 3.102616018752339, '신인': 4.4790399088438795, 'Lofi': 4.4790399088438795, '밤에듣기좋은': 4.4790399088438795, '감성적인': 2.7043098814864868, '쌀쌀한': 3.2008769751920014, 'RnB': 3.01389957750944, 'soul': 3.2271746276828956, 'BlackMusic': 3.2271746276828956, 'Black': 3.2271746276828956, 'Music': 3.2271746276828956, 'groove': 2.9930111834396302, '기분좋은': 3.3868878364492576, 'rudominick': 5.1664987919271885, 'dominick': 5.1664987919271885, '도미니크': 5.1664987919271885, '생일': 4.340978165234755, '팝송': 2.0794415416798357, '축하': 4.340978165234755, 'happy': 4.340978165234755, '감미롭고': 3.1880041612011136, '명곡': 2.2964122338869646, '다양한': 4.430816798843313, '송라이터': 4.430816798843313, 'Songwriter': 4.430816798843313, '작곡가': 4.430816798843313, '다채로운': 4.430816798843313, '뮤지션': 4.430816798843313, '부드러운': 4.340978165234755, '고막남친': 4.340978165234755, '남자보컬': 4.340978165234755, '아름다운': 4.4790399088438795, '로맨틱': 4.4790399088438795, '샹송': 4.4790399088438795, 'OST': 1.938569768653346, '프랑스': 4.4790399088438795, '프렌치팝': 4.4790399088438795, '영화음악': 2.8501120836104645, '낭만적인': 4.4790399088438795, '흥': 3.0571773521373578, '졸음방지': 4.0158197991097895, '운전할때': 4.0158197991097895, '시티팝': 3.7495040759303713, '내적댄스': 4.0158197991097895, '운전': 2.8678989020441064, '멜론차트': 2.9139797716817317, '실시간차트': 2.9139797716817317, '차트100': 2.9139797716817317, '시대별차트': 2.9139797716817317, '산뜻': 4.639855743975981, '달달': 4.1470951276076295, '간질간질': 4.639855743975981, '포근': 4.639855743975981, '가족여행': 3.900287749209725, '차분한': 2.2736710828294036, '감성자극': 2.0620670663972787, '맑은': 2.2736710828294036, '독서': 2.2736710828294036, '데이트': 2.0759354023505483, '북카페': 2.2736710828294036, '팝발라드': 4.763881877142913, '힙한': 2.015400409261795, '매장음악': 1.605319855825183, 'popsong': 2.2736710828294036, '취향저격': 2.2736710828294036, '외힙': 2.8589611372750574, '모음': 4.832305758571839, '여행산책': 4.112568301178552, '기분전환하기좋은노래': 4.112568301178552, '걷고싶은날': 4.112568301178552, '배경음악': 3.1880041612011136, '효리네민박': 3.927896354584436, 'bgm': 3.927896354584436, '예능': 3.927896354584436, '첫키스': 3.37118148572189, '첫눈': 3.37118148572189, '설레임': 3.114338015961838, '그리울때': 3.37118148572189, '첫사랑': 3.37118148572189, '집콕': 4.4790399088438795, '봄노래': 4.4790399088438795, '봄을타': 4.4790399088438795, '외로움': 3.2008769751920014, '키즈클래식': 4.763881877142913, '정서발달': 4.763881877142913, 'kpop': 4.583265350600041, '잠자기전': 4.182897959563546, '재즈추천': 3.95632130353849, '황덕호': 3.95632130353849, 'Jazz': 4.985317486111966, '원더풀재즈': 3.95632130353849, '새벽감성': 3.2963895048689054, '수면': 3.7971731637492043, '음악': 5.1664987919271885, '서교동의밤': 5.1664987919271885, '몽환적인': 5.1664987919271885, '아침음악': 2.9930111834396302, '봄비': 2.9930111834396302, '잔잔': 2.9930111834396302, '블랙뮤직': 2.9930111834396302, '흑인음악': 2.9930111834396302, '힙합감성': 2.9930111834396302, '알엔비': 3.2680799820056654, '와인바감성': 3.2680799820056654, '와인': 3.2680799820056654, '와인과함께분위기타기': 3.2680799820056654, 'soomooc': 4.430816798843313, '수묵': 4.430816798843313, '몇몇사람들': 4.583265350600041, '공원': 3.847344123563276, '벤치': 4.583265350600041, '박재범': 4.763881877142913, '대표곡': 4.763881877142913, '최애곡': 4.763881877142913, '서재페': 4.29898464197175, '페스티벌': 4.29898464197175, '떠나자': 4.699912022497777, '가을감성': 4.29898464197175, '가을밤': 4.29898464197175, '힘들었지': 3.873450730641906, '수고했어': 3.873450730641906, '그럴수있지': 3.873450730641906, '괜찮아': 3.873450730641906, '고생했어': 3.873450730641906, '오늘': 3.873450730641906, '슬픈오늘': 3.873450730641906, '따스한': 4.29898464197175, '잠들기전': 3.639823297124742, '취향': 3.2963895048689054, '지극히_개인적인': 3.2963895048689054, '요즘듣는노래': 3.2963895048689054, 'JPOP': 2.972594302945122, '바다': 2.7905191129582105, '밤새벽': 3.5048898402192847, '상시업뎃': 3.5048898402192847, '맥코이타이너': 4.384863516009081, '매코이타이너': 4.384863516009081, '보석같은노래': 3.9856113620856353, '숨은명곡추천': 3.9856113620856353, '편견버린': 3.9856113620856353, '에프엑스': 3.9856113620856353, '남자친구': 3.7265336457428817, '기념': 4.079230924412053, '합창': 4.079230924412053, '베토벤': 4.079230924412053, '비창': 4.079230924412053, '2020': 4.079230924412053, '운명': 4.079230924412053, '카페팝': 4.0158197991097895, '스타일리쉬팝': 4.0158197991097895, '팝신보': 4.0158197991097895, '힙스터': 4.0158197991097895, '에너지': 3.1262121400047813, '점심': 4.112568301178552, '추억의': 4.583265350600041, '뭉클한': 4.583265350600041, '연말': 3.2821267527073066, '크리스마스캐롤': 3.2821267527073066, '겨울음악': 3.2821267527073066, '크리스마스노래': 3.2821267527073066, '눈': 3.2821267527073066, '커플송': 3.2821267527073066, '커플': 3.2821267527073066, '추천': 2.689506623390041, '명반': 3.773041246435647, '국힙': 2.774203796615079, 'HiFi': 4.1470951276076295, '고음질': 4.1470951276076295, '인기가요': 4.0158197991097895, '최신': 3.5603774098944156, '연인': 3.5796224681769866, '러브송': 3.5796224681769866, '시분전환': 4.047004958384378, '현빈': 4.047004958384378, '사랑의불시착': 4.047004958384378, '운동하기동': 4.430816798843313, '런닝': 4.430816798843313, '런닝머신': 4.430816798843313, '상쾌한': 4.112568301178552, '산뜻한': 4.112568301178552, '자전거': 4.112568301178552, '월드': 4.112568301178552, '연주': 4.112568301178552, '몽환': 2.1608388042506315, '인디밴드': 3.6193283911528207, 'YB': 4.112568301178552, '국내록': 4.112568301178552, '윤도현': 4.112568301178552, '방탄소년단명곡': 3.541516582340952, '슬픈': 2.7987910946338053, '경쾌한음악': 4.639855743975981, 'Rock': 4.639855743975981, '분위기있는': 2.3737357836894826, '몽롱': 2.3737357836894826, '세련된': 1.9593065290059621, '방학': 3.7265336457428817, '흥겨운': 3.7265336457428817, '단풍놀이': 3.7265336457428817, '종강': 3.7265336457428817, '휴가': 3.7265336457428817, 'NCT_DREAM': 3.927896354584436, 'nct': 3.927896354584436, 'NCT_127': 3.927896354584436, '버스': 3.1753088382317913, '야경': 3.150432253038016, '피곤': 3.3868878364492576, '잠자기전듣기좋은노래': 3.1262121400047813, '그리움': 3.1262121400047813, '예술의전당': 5.1664987919271885, '오케스트라': 5.1664987919271885, '교향악축제': 5.1664987919271885, '기분업': 4.583265350600041, '화이팅': 3.773041246435647, '새해': 4.583265350600041, '시작': 4.583265350600041, '목소리': 3.7971731637492043, '명품보컬': 3.7971731637492043, '보컬': 3.7971731637492043, '음색깡패': 3.7971731637492043, '밴드': 3.68219046596314, 'JRock': 4.1470951276076295, '일본': 4.1470951276076295, '엑스재팬': 4.1470951276076295, '비주얼록': 4.1470951276076295, 'X_JAPAN': 4.1470951276076295, '칵테일Bar': 3.541516582340952, '호텔음악': 3.541516582340952, '재즈띵곡모음': 3.541516582340952, '재즈바에서듣는음악': 3.541516582340952, '보컬재즈': 3.541516582340952, '휴식힐링': 3.541516582340952, '소울': 3.541516582340952, '축가': 5.521460917862246, '여성보컬': 4.4790399088438795, '책': 3.927896354584436, '봄날': 4.583265350600041, '안정감': 4.583265350600041, '행복한': 4.583265350600041, '릴렉스': 4.583265350600041, '인연': 4.583265350600041, '한국재즈뮤지션': 3.7971731637492043, '난언제나꿈을꾸지아프지마도토도': 4.583265350600041, '안녕': 4.583265350600041, '꿀잠': 4.340978165234755, '가요': 3.1880041612011136, '메탈': 3.1880041612011136, '상큼한': 3.847344123563276, 'Cheer_up': 4.583265350600041, '청춘': 4.583265350600041, '회상기분전환': 2.2736710828294036, '시상식': 4.182897959563546, '노래방': 4.182897959563546, '1990': 4.4790399088438795, '댄스팝': 4.4790399088438795, '청량한': 4.4790399088438795, '스웨덴': 4.4790399088438795, '혼자': 2.612305144143826, '고독': 3.5048898402192847, '낙엽': 3.5048898402192847, '차에서': 4.905844416733525, '라디오': 3.7265336457428817, '다가오는': 5.1664987919271885, '드라마삽입곡': 3.046163127180883, '드라마': 3.046163127180883, '드라마배경음악': 3.046163127180883, '영화': 3.046163127180883, '드라마BGM': 3.046163127180883, '넷플릭스': 4.639855743975981, '신남': 3.079613757534693, '고민': 3.079613757534693, '하우스': 2.8952617431903565, '감성EDM': 3.079613757534693, '빈첸': 3.37118148572189, '김하온': 3.37118148572189, '고등래퍼': 3.37118148572189, '딕키즈': 3.37118148572189, '키프클랜': 3.37118148572189, '비투비': 4.047004958384378, '루프탑': 4.4790399088438795, '늦더위': 4.4790399088438795, '2030': 4.4790399088438795, '듀엣': 2.8769270810578673, '여자그룹': 2.8769270810578673, '그룹': 2.8769270810578673, '혼성그룹': 2.8769270810578673, '남자그룹': 2.8769270810578673, '기억': 3.773041246435647, '아픔': 3.773041246435647, '쓸쓸한_밤': 4.4790399088438795, '재즈보사노바': 4.699912022497777, '한강': 4.0158197991097895, '맥주': 3.541516582340952, '내취향': 4.4790399088438795, '현실': 2.5729302457925494, '애절한': 2.5729302457925494, '석양': 4.639855743975981, '먹먹한': 4.639855743975981, '몽글몽글': 4.639855743975981, '향수': 4.639855743975981, '90년대': 2.343882650092166, 'TV': 2.343882650092166, '전율을': 2.343882650092166, '추억이': 2.343882650092166, '노래방에서': 2.343882650092166, '옛추억의': 2.343882650092166, '멜론을': 2.343882650092166, '르네상스': 2.343882650092166, '히트곡의': 2.343882650092166, '파티': 4.529765827329684, '인기': 4.529765827329684, '일렉트로닉': 4.529765827329684, '깨어나라': 4.763881877142913, '셋리스트': 5.271288694160117, '공연': 5.271288694160117, '알앤비': 3.2406097536337666, '나만의Best3': 4.529765827329684, '피쉬슈즈': 4.529765827329684, '인디아티스트들의추천음악': 4.529765827329684, 'Chill': 2.8413500854492777, '금요일': 2.8413500854492777, '개인적': 3.1753088382317913, '크로스오버': 3.900287749209725, '샘플링': 3.900287749209725, '리메이크': 3.900287749209725, '감성팝': 3.900287749209725, '신보라': 3.660770687019624, '김범수': 3.660770687019624, '김조한': 3.660770687019624, '가스펠': 3.660770687019624, '박지헌': 3.660770687019624, '나얼': 3.660770687019624, '찬양': 3.660770687019624, '박정현': 3.660770687019624, '이재훈': 3.660770687019624, '땅콩': 4.4790399088438795, '막걸리': 4.4790399088438795, '한잔': 4.4790399088438795, '치맥': 4.4790399088438795, '소주': 4.4790399088438795, '모임': 4.4790399088438795, '갬성갬성': 3.5796224681769866, '섹시': 3.5796224681769866, '그루브한노래': 3.5796224681769866, 'RMUSIC': 2.8678989020441064, '태형음악': 2.8678989020441064, '활기찬': 4.4790399088438795, '1970년대': 4.4790399088438795, '휴가음악': 4.4790399088438795, '씨잼': 3.1627863582171574, '기리보이': 3.1627863582171574, '나플라': 3.1627863582171574, '블랙넛': 3.1627863582171574, '스윙스': 3.1627863582171574, '오왼오바도즈': 3.1627863582171574, 'dark': 3.114338015961838, '어둠': 3.114338015961838, '웅장함': 3.114338015961838, '어두운분위기': 3.114338015961838, '어두운노래': 3.114338015961838, '플랫화이트': 4.258728418329388, '더운': 4.258728418329388, '아이스': 4.258728418329388}\n"
     ]
    }
   ],
   "source": [
    "def make_song_num_dict(data):\n",
    "    song_ids = dict()\n",
    "    song_num = dict()\n",
    "    max_num = 0\n",
    "    \n",
    "    for i in range(len(data)):\n",
    "        songs = data['song_id'][i]\n",
    "        tags = data['tags'][i]\n",
    "        \n",
    "        for j in tags:\n",
    "            if not j in song_ids:\n",
    "                song_ids[j] = set(songs)\n",
    "            \n",
    "            else:\n",
    "                song_ids[j].update(songs)\n",
    "    \n",
    "    for i in song_ids:\n",
    "        song_num[i] = len(song_ids[i])\n",
    "        \n",
    "        max_num = max(song_num[i], max_num)\n",
    "    \n",
    "    return song_num, max_num\n",
    "\n",
    "song_num_dict, song_num_max = make_song_num_dict(train_data_sample2)\n",
    "tag_weights = {tag: np.log(song_num_max / cnt + 1) for tag, cnt in song_num_dict.items()}\n",
    "tag_weights_all = {tag: np.log(len(song_tag_appended) / cnt + 1) for tag, cnt in song_num_dict.items()}\n",
    "print(tag_weights)\n"
   ]
  },
  {
   "cell_type": "markdown",
   "id": "5869ea5c",
   "metadata": {},
   "source": [
    "## 코사인 유사도 사용\n",
    "\n",
    "- 세부 장르를 사용해 코사인 유사도 측정한다\n",
    "- 그후 유사도를 행렬로 저장한다"
   ]
  },
  {
   "cell_type": "code",
   "execution_count": 19,
   "id": "b998e83c",
   "metadata": {},
   "outputs": [
    {
     "data": {
      "text/plain": [
       "(10636, 182)"
      ]
     },
     "execution_count": 19,
     "metadata": {},
     "output_type": "execute_result"
    }
   ],
   "source": [
    "from sklearn.feature_extraction.text import CountVectorizer\n",
    "\n",
    "song_tag_appended['gnr_literal'] = song_tag_appended['gnr'].apply(lambda x : (' ').join(x))\n",
    "\n",
    "count_vect = CountVectorizer()\n",
    "gnr_mat = count_vect.fit_transform(song_tag_appended['gnr_literal'])\n",
    "\n",
    "gnr_mat.shape"
   ]
  },
  {
   "cell_type": "code",
   "execution_count": 20,
   "id": "60269f30",
   "metadata": {},
   "outputs": [
    {
     "data": {
      "text/plain": [
       "array([[1. , 0. , 0. , ..., 0. , 0. , 0. ],\n",
       "       [0. , 1. , 0. , ..., 0. , 0. , 0. ],\n",
       "       [0. , 0. , 1. , ..., 0. , 0. , 0. ],\n",
       "       ...,\n",
       "       [0. , 0. , 0. , ..., 1. , 1. , 0.5],\n",
       "       [0. , 0. , 0. , ..., 1. , 1. , 0.5],\n",
       "       [0. , 0. , 0. , ..., 0.5, 0.5, 1. ]])"
      ]
     },
     "execution_count": 20,
     "metadata": {},
     "output_type": "execute_result"
    }
   ],
   "source": [
    "from sklearn.metrics.pairwise import cosine_similarity\n",
    "\n",
    "gnr_sim = cosine_similarity(gnr_mat, gnr_mat)\n",
    "gnr_sim"
   ]
  },
  {
   "cell_type": "code",
   "execution_count": 21,
   "id": "77c46fae",
   "metadata": {},
   "outputs": [],
   "source": [
    "test_data_sample = train_data_origin.copy()\n",
    "#test_data_sample = train_data_eng.copy()\n",
    "test_data_sample = test_data_sample.reset_index(drop=True)\n",
    "test_my_tags = test_data_sample['tags'].tolist()\n",
    "test_my_songs = test_data_sample['song_id'].tolist()"
   ]
  },
  {
   "cell_type": "code",
   "execution_count": 22,
   "id": "ea3e8aaf",
   "metadata": {},
   "outputs": [],
   "source": [
    "from recommend import *\n",
    "\n",
    "weight_mat_cv = []\n",
    "weight_mat_tf = []\n",
    "\n",
    "weight_mat_cv.append(apply_genre_weight(get_embedding(song_tag_appended, 'cv'), 0))\n",
    "weight_mat_cv.append(apply_genre_weight(get_embedding(song_tag_appended, 'cv'), 1))\n",
    "\n",
    "weight_mat_tf.append(apply_genre_weight(get_embedding(song_tag_appended, 'tf'), 0))\n",
    "weight_mat_tf.append(apply_genre_weight(get_embedding(song_tag_appended, 'tf'), 1))"
   ]
  },
  {
   "cell_type": "markdown",
   "id": "e4783218",
   "metadata": {},
   "source": [
    "## 결과 (1)"
   ]
  },
  {
   "cell_type": "code",
   "execution_count": 24,
   "id": "3794c6bc",
   "metadata": {},
   "outputs": [
    {
     "name": "stdout",
     "output_type": "stream",
     "text": [
      "Recommend Model : 1, Simi_mode : cos, Tag : False, Genre : False, Like : False, Mode : cv, Genre Weight Mode : 0, Tag Weight Mode : 0, Like Weight Mode : 0\n",
      "MAP@K (K=10): 0.291\n",
      "nDCG: 0.541\n",
      "Recommend Model : 1, Simi_mode : cos, Tag : True, Genre : False, Like : False, Mode : cv, Genre Weight Mode : 0, Tag Weight Mode : 0, Like Weight Mode : 0\n",
      "MAP@K (K=10): 0.286\n",
      "nDCG: 0.522\n",
      "Recommend Model : 1, Simi_mode : cos, Tag : True, Genre : False, Like : False, Mode : cv, Genre Weight Mode : 0, Tag Weight Mode : 1, Like Weight Mode : 0\n",
      "MAP@K (K=10): 0.286\n",
      "nDCG: 0.558\n",
      "Recommend Model : 1, Simi_mode : cos, Tag : False, Genre : True, Like : False, Mode : cv, Genre Weight Mode : 0, Tag Weight Mode : 0, Like Weight Mode : 0\n",
      "MAP@K (K=10): 0.362\n",
      "nDCG: 0.655\n"
     ]
    }
   ],
   "source": [
    "# 1/36\n",
    "params_list = [\n",
    "    #recnum(1, 2) / simi_mode(cos, pea, jac) / 태그 / 장르 / 좋아요 / mode(cv/tf) / 장르 가중치 모드(0/1) / 좋아요 가중치 모드(0/1) / 태그 가중치 모드(0/1)\n",
    "    (1, 'cos', False, False, False, 'cv', 0, 0, 0),\n",
    "    (1, 'cos', True, False, False, 'cv', 0, 0, 0),\n",
    "    (1, 'cos', True, False, False, 'cv', 0, 0, 1),\n",
    "    (1, 'cos', False, True, False, 'cv', 0, 0, 0)\n",
    "]\n",
    "\n",
    "with multiprocessing.Pool(processes=4) as pool:\n",
    "    results = pool.starmap(process_fuc, [(param[0], test_my_songs, test_my_tags, song_tag_appended, param[1], param[2], param[3], param[4], \n",
    "                                         param[5], param[6], param[7], param[8], w2v, weight_mat_cv, weight_mat_tf, tag_weights, tag_weights_all) for param in params_list])\n",
    "    \n",
    "for result in results:\n",
    "    print(result)"
   ]
  },
  {
   "cell_type": "code",
   "execution_count": 25,
   "id": "65c2479b",
   "metadata": {},
   "outputs": [
    {
     "name": "stdout",
     "output_type": "stream",
     "text": [
      "Recommend Model : 1, Simi_mode : cos, Tag : False, Genre : True, Like : False, Mode : cv, Genre Weight Mode : 1, Tag Weight Mode : 0, Like Weight Mode : 0\n",
      "MAP@K (K=10): 0.302\n",
      "nDCG: 0.567\n",
      "Recommend Model : 1, Simi_mode : cos, Tag : True, Genre : True, Like : False, Mode : cv, Genre Weight Mode : 0, Tag Weight Mode : 0, Like Weight Mode : 0\n",
      "MAP@K (K=10): 0.341\n",
      "nDCG: 0.597\n",
      "Recommend Model : 1, Simi_mode : cos, Tag : True, Genre : True, Like : False, Mode : cv, Genre Weight Mode : 0, Tag Weight Mode : 1, Like Weight Mode : 0\n",
      "MAP@K (K=10): 0.348\n",
      "nDCG: 0.622\n",
      "Recommend Model : 1, Simi_mode : cos, Tag : True, Genre : True, Like : False, Mode : cv, Genre Weight Mode : 1, Tag Weight Mode : 0, Like Weight Mode : 0\n",
      "MAP@K (K=10): 0.290\n",
      "nDCG: 0.527\n"
     ]
    }
   ],
   "source": [
    "# 2/36\n",
    "params_list = [\n",
    "    #recnum(1, 2) / simi_mode(cos, pea, jac) / 태그 / 장르 / 좋아요 / mode(cv/tf) / 장르 가중치 모드(0/1) / 좋아요 가중치 모드(0/1) / 태그 가중치 모드(0/1)\n",
    "    (1, 'cos', False, True, False, 'cv', 1, 0, 0),\n",
    "    (1, 'cos', True, True, False, 'cv', 0, 0, 0),\n",
    "    (1, 'cos', True, True, False, 'cv', 0, 0, 1),\n",
    "    (1, 'cos', True, True, False, 'cv', 1, 0, 0)\n",
    "]\n",
    "\n",
    "with multiprocessing.Pool(processes=4) as pool:\n",
    "    results = pool.starmap(process_fuc, [(param[0], test_my_songs, test_my_tags, song_tag_appended, param[1], param[2], param[3], param[4], \n",
    "                                         param[5], param[6], param[7], param[8], w2v, weight_mat_cv, weight_mat_tf, tag_weights, tag_weights_all) for param in params_list])\n",
    "    \n",
    "for result in results:\n",
    "    print(result)"
   ]
  },
  {
   "cell_type": "code",
   "execution_count": 26,
   "id": "1c445f28",
   "metadata": {},
   "outputs": [
    {
     "name": "stdout",
     "output_type": "stream",
     "text": [
      "Recommend Model : 1, Simi_mode : cos, Tag : True, Genre : True, Like : False, Mode : cv, Genre Weight Mode : 1, Tag Weight Mode : 1, Like Weight Mode : 0\n",
      "MAP@K (K=10): 0.302\n",
      "nDCG: 0.559\n",
      "Recommend Model : 1, Simi_mode : cos, Tag : False, Genre : False, Like : False, Mode : tf, Genre Weight Mode : 0, Tag Weight Mode : 0, Like Weight Mode : 0\n",
      "MAP@K (K=10): 0.296\n",
      "nDCG: 0.554\n",
      "Recommend Model : 1, Simi_mode : cos, Tag : True, Genre : False, Like : False, Mode : tf, Genre Weight Mode : 0, Tag Weight Mode : 0, Like Weight Mode : 0\n",
      "MAP@K (K=10): 0.285\n",
      "nDCG: 0.527\n",
      "Recommend Model : 1, Simi_mode : cos, Tag : True, Genre : False, Like : False, Mode : tf, Genre Weight Mode : 0, Tag Weight Mode : 1, Like Weight Mode : 0\n",
      "MAP@K (K=10): 0.312\n",
      "nDCG: 0.580\n"
     ]
    }
   ],
   "source": [
    "# 3/36\n",
    "params_list = [\n",
    "    #recnum(1, 2) / simi_mode(cos, pea, jac) / 태그 / 장르 / 좋아요 / mode(cv/tf) / 장르 가중치 모드(0/1) / 좋아요 가중치 모드(0/1) / 태그 가중치 모드(0/1)\n",
    "    (1, 'cos', True, True, False, 'cv', 1, 0, 1),\n",
    "    (1, 'cos', False, False, False, 'tf', 0, 0, 0),\n",
    "    (1, 'cos', True, False, False, 'tf', 0, 0, 0),\n",
    "    (1, 'cos', True, False, False, 'tf', 0, 0, 1)\n",
    "]\n",
    "\n",
    "with multiprocessing.Pool(processes=4) as pool:\n",
    "    results = pool.starmap(process_fuc, [(param[0], test_my_songs, test_my_tags, song_tag_appended, param[1], param[2], param[3], param[4], \n",
    "                                         param[5], param[6], param[7], param[8], w2v, weight_mat_cv, weight_mat_tf, tag_weights, tag_weights_all) for param in params_list])\n",
    "    \n",
    "for result in results:\n",
    "    print(result)"
   ]
  },
  {
   "cell_type": "code",
   "execution_count": 28,
   "id": "be79dd36",
   "metadata": {},
   "outputs": [
    {
     "name": "stdout",
     "output_type": "stream",
     "text": [
      "Recommend Model : 1, Simi_mode : cos, Tag : False, Genre : True, Like : False, Mode : tf, Genre Weight Mode : 0, Tag Weight Mode : 0, Like Weight Mode : 0\n",
      "MAP@K (K=10): 0.309\n",
      "nDCG: 0.572\n",
      "Recommend Model : 1, Simi_mode : cos, Tag : False, Genre : True, Like : False, Mode : tf, Genre Weight Mode : 1, Tag Weight Mode : 0, Like Weight Mode : 0\n",
      "MAP@K (K=10): 0.311\n",
      "nDCG: 0.578\n",
      "Recommend Model : 1, Simi_mode : cos, Tag : True, Genre : True, Like : False, Mode : tf, Genre Weight Mode : 0, Tag Weight Mode : 0, Like Weight Mode : 0\n",
      "MAP@K (K=10): 0.305\n",
      "nDCG: 0.533\n",
      "Recommend Model : 1, Simi_mode : cos, Tag : True, Genre : True, Like : False, Mode : tf, Genre Weight Mode : 0, Tag Weight Mode : 1, Like Weight Mode : 0\n",
      "MAP@K (K=10): 0.325\n",
      "nDCG: 0.604\n"
     ]
    }
   ],
   "source": [
    "# 4/36\n",
    "params_list = [\n",
    "    #recnum(1, 2) / simi_mode(cos, pea, jac) / 태그 / 장르 / 좋아요 / mode(cv/tf) / 장르 가중치 모드(0/1) / 좋아요 가중치 모드(0/1) / 태그 가중치 모드(0/1)\n",
    "    (1, 'cos', False, True, False, 'tf', 0, 0, 0),\n",
    "    (1, 'cos', False, True, False, 'tf', 1, 0, 0),\n",
    "    (1, 'cos', True, True, False, 'tf', 0, 0, 0),\n",
    "    (1, 'cos', True, True, False, 'tf', 0, 0, 1)\n",
    "]\n",
    "\n",
    "with multiprocessing.Pool(processes=4) as pool:\n",
    "    results = pool.starmap(process_fuc, [(param[0], test_my_songs, test_my_tags, song_tag_appended, param[1], param[2], param[3], param[4], \n",
    "                                         param[5], param[6], param[7], param[8], w2v, weight_mat_cv, weight_mat_tf, tag_weights, tag_weights_all) for param in params_list])\n",
    "    \n",
    "for result in results:\n",
    "    print(result)"
   ]
  },
  {
   "cell_type": "code",
   "execution_count": 29,
   "id": "234eee4d",
   "metadata": {},
   "outputs": [
    {
     "name": "stdout",
     "output_type": "stream",
     "text": [
      "Recommend Model : 1, Simi_mode : cos, Tag : True, Genre : True, Like : False, Mode : tf, Genre Weight Mode : 1, Tag Weight Mode : 0, Like Weight Mode : 0\n",
      "MAP@K (K=10): 0.302\n",
      "nDCG: 0.536\n",
      "Recommend Model : 1, Simi_mode : cos, Tag : True, Genre : True, Like : False, Mode : tf, Genre Weight Mode : 1, Tag Weight Mode : 1, Like Weight Mode : 0\n",
      "MAP@K (K=10): 0.316\n",
      "nDCG: 0.597\n",
      "Recommend Model : 1, Simi_mode : pea, Tag : False, Genre : False, Like : False, Mode : cv, Genre Weight Mode : 0, Tag Weight Mode : 0, Like Weight Mode : 0\n",
      "MAP@K (K=10): 0.068\n",
      "nDCG: 0.168\n",
      "Recommend Model : 1, Simi_mode : pea, Tag : True, Genre : False, Like : False, Mode : cv, Genre Weight Mode : 0, Tag Weight Mode : 0, Like Weight Mode : 0\n",
      "MAP@K (K=10): 0.066\n",
      "nDCG: 0.187\n"
     ]
    }
   ],
   "source": [
    "# 5/36\n",
    "params_list = [\n",
    "    #recnum(1, 2) / simi_mode(cos, pea, jac) / 태그 / 장르 / 좋아요 / mode(cv/tf) / 장르 가중치 모드(0/1) / 좋아요 가중치 모드(0/1) / 태그 가중치 모드(0/1)\n",
    "    (1, 'cos', True, True, False, 'tf', 1, 0, 0),\n",
    "    (1, 'cos', True, True, False, 'tf', 1, 0, 1),\n",
    "    (1, 'pea', False, False, False, 'cv', 0, 0, 0),\n",
    "    (1, 'pea', True, False, False, 'cv', 0, 0, 0)\n",
    "]\n",
    "\n",
    "with multiprocessing.Pool(processes=4) as pool:\n",
    "    results = pool.starmap(process_fuc, [(param[0], test_my_songs, test_my_tags, song_tag_appended, param[1], param[2], param[3], param[4], \n",
    "                                         param[5], param[6], param[7], param[8], w2v, weight_mat_cv, weight_mat_tf, tag_weights, tag_weights_all) for param in params_list])\n",
    "    \n",
    "for result in results:\n",
    "    print(result)"
   ]
  },
  {
   "cell_type": "code",
   "execution_count": 30,
   "id": "b34d35a7",
   "metadata": {},
   "outputs": [
    {
     "name": "stdout",
     "output_type": "stream",
     "text": [
      "Recommend Model : 1, Simi_mode : pea, Tag : True, Genre : False, Like : False, Mode : cv, Genre Weight Mode : 0, Tag Weight Mode : 1, Like Weight Mode : 0\n",
      "MAP@K (K=10): 0.063\n",
      "nDCG: 0.179\n",
      "Recommend Model : 1, Simi_mode : pea, Tag : False, Genre : True, Like : False, Mode : cv, Genre Weight Mode : 0, Tag Weight Mode : 0, Like Weight Mode : 0\n",
      "MAP@K (K=10): 0.121\n",
      "nDCG: 0.293\n",
      "Recommend Model : 1, Simi_mode : pea, Tag : False, Genre : True, Like : False, Mode : cv, Genre Weight Mode : 1, Tag Weight Mode : 0, Like Weight Mode : 0\n",
      "MAP@K (K=10): 0.061\n",
      "nDCG: 0.172\n",
      "Recommend Model : 1, Simi_mode : pea, Tag : True, Genre : True, Like : False, Mode : cv, Genre Weight Mode : 0, Tag Weight Mode : 0, Like Weight Mode : 0\n",
      "MAP@K (K=10): 0.128\n",
      "nDCG: 0.315\n"
     ]
    }
   ],
   "source": [
    "# 6/36\n",
    "params_list = [\n",
    "    #recnum(1, 2) / simi_mode(cos, pea, jac) / 태그 / 장르 / 좋아요 / mode(cv/tf) / 장르 가중치 모드(0/1) / 좋아요 가중치 모드(0/1) / 태그 가중치 모드(0/1)\n",
    "    (1, 'pea', True, False, False, 'cv', 0, 0, 1),\n",
    "    (1, 'pea', False, True, False, 'cv', 0, 0, 0),\n",
    "    (1, 'pea', False, True, False, 'cv', 1, 0, 0),\n",
    "    (1, 'pea', True, True, False, 'cv', 0, 0, 0)\n",
    "]\n",
    "\n",
    "with multiprocessing.Pool(processes=4) as pool:\n",
    "    results = pool.starmap(process_fuc, [(param[0], test_my_songs, test_my_tags, song_tag_appended, param[1], param[2], param[3], param[4], \n",
    "                                         param[5], param[6], param[7], param[8], w2v, weight_mat_cv, weight_mat_tf, tag_weights, tag_weights_all) for param in params_list])\n",
    "    \n",
    "for result in results:\n",
    "    print(result)"
   ]
  },
  {
   "cell_type": "code",
   "execution_count": 32,
   "id": "bb8bae99",
   "metadata": {},
   "outputs": [
    {
     "name": "stdout",
     "output_type": "stream",
     "text": [
      "Recommend Model : 1, Simi_mode : pea, Tag : True, Genre : True, Like : False, Mode : cv, Genre Weight Mode : 0, Tag Weight Mode : 1, Like Weight Mode : 0\n",
      "MAP@K (K=10): 0.123\n",
      "nDCG: 0.287\n",
      "Recommend Model : 1, Simi_mode : pea, Tag : True, Genre : True, Like : False, Mode : cv, Genre Weight Mode : 1, Tag Weight Mode : 0, Like Weight Mode : 0\n",
      "MAP@K (K=10): 0.066\n",
      "nDCG: 0.191\n",
      "Recommend Model : 1, Simi_mode : pea, Tag : True, Genre : True, Like : False, Mode : cv, Genre Weight Mode : 1, Tag Weight Mode : 1, Like Weight Mode : 0\n",
      "MAP@K (K=10): 0.069\n",
      "nDCG: 0.190\n",
      "Recommend Model : 1, Simi_mode : pea, Tag : False, Genre : False, Like : False, Mode : tf, Genre Weight Mode : 0, Tag Weight Mode : 0, Like Weight Mode : 0\n",
      "MAP@K (K=10): 0.065\n",
      "nDCG: 0.167\n"
     ]
    }
   ],
   "source": [
    "# 7/36\n",
    "params_list = [\n",
    "    #recnum(1, 2) / simi_mode(cos, pea, jac) / 태그 / 장르 / 좋아요 / mode(cv/tf) / 장르 가중치 모드(0/1) / 좋아요 가중치 모드(0/1) / 태그 가중치 모드(0/1)\n",
    "    (1, 'pea', True, True, False, 'cv', 0, 0, 1),\n",
    "    (1, 'pea', True, True, False, 'cv', 1, 0, 0),\n",
    "    (1, 'pea', True, True, False, 'cv', 1, 0, 1),\n",
    "    (1, 'pea', False, False, False, 'tf', 0, 0, 0)\n",
    "]\n",
    "\n",
    "with multiprocessing.Pool(processes=4) as pool:\n",
    "    results = pool.starmap(process_fuc, [(param[0], test_my_songs, test_my_tags, song_tag_appended, param[1], param[2], param[3], param[4], \n",
    "                                         param[5], param[6], param[7], param[8], w2v, weight_mat_cv, weight_mat_tf, tag_weights, tag_weights_all) for param in params_list])\n",
    "    \n",
    "for result in results:\n",
    "    print(result)"
   ]
  },
  {
   "cell_type": "code",
   "execution_count": 33,
   "id": "b44db942",
   "metadata": {},
   "outputs": [
    {
     "name": "stdout",
     "output_type": "stream",
     "text": [
      "Recommend Model : 1, Simi_mode : pea, Tag : True, Genre : False, Like : False, Mode : tf, Genre Weight Mode : 0, Tag Weight Mode : 0, Like Weight Mode : 0\n",
      "MAP@K (K=10): 0.065\n",
      "nDCG: 0.184\n",
      "Recommend Model : 1, Simi_mode : pea, Tag : True, Genre : False, Like : False, Mode : tf, Genre Weight Mode : 0, Tag Weight Mode : 1, Like Weight Mode : 0\n",
      "MAP@K (K=10): 0.060\n",
      "nDCG: 0.178\n",
      "Recommend Model : 1, Simi_mode : pea, Tag : False, Genre : True, Like : False, Mode : tf, Genre Weight Mode : 0, Tag Weight Mode : 0, Like Weight Mode : 0\n",
      "MAP@K (K=10): 0.077\n",
      "nDCG: 0.189\n",
      "Recommend Model : 1, Simi_mode : pea, Tag : False, Genre : True, Like : False, Mode : tf, Genre Weight Mode : 1, Tag Weight Mode : 0, Like Weight Mode : 0\n",
      "MAP@K (K=10): 0.068\n",
      "nDCG: 0.180\n"
     ]
    }
   ],
   "source": [
    "# 8/36\n",
    "params_list = [\n",
    "    #recnum(1, 2) / simi_mode(cos, pea, jac) / 태그 / 장르 / 좋아요 / mode(cv/tf) / 장르 가중치 모드(0/1) / 좋아요 가중치 모드(0/1) / 태그 가중치 모드(0/1)\n",
    "    (1, 'pea', True, False, False, 'tf', 0, 0, 0),\n",
    "    (1, 'pea', True, False, False, 'tf', 0, 0, 1),\n",
    "    (1, 'pea', False, True, False, 'tf', 0, 0, 0),\n",
    "    (1, 'pea', False, True, False, 'tf', 1, 0, 0)\n",
    "]\n",
    "\n",
    "with multiprocessing.Pool(processes=4) as pool:\n",
    "    results = pool.starmap(process_fuc, [(param[0], test_my_songs, test_my_tags, song_tag_appended, param[1], param[2], param[3], param[4], \n",
    "                                         param[5], param[6], param[7], param[8], w2v, weight_mat_cv, weight_mat_tf, tag_weights, tag_weights_all) for param in params_list])\n",
    "    \n",
    "for result in results:\n",
    "    print(result)"
   ]
  },
  {
   "cell_type": "code",
   "execution_count": 34,
   "id": "7794f9ad",
   "metadata": {},
   "outputs": [
    {
     "name": "stdout",
     "output_type": "stream",
     "text": [
      "Recommend Model : 1, Simi_mode : pea, Tag : True, Genre : True, Like : False, Mode : tf, Genre Weight Mode : 0, Tag Weight Mode : 0, Like Weight Mode : 0\n",
      "MAP@K (K=10): 0.077\n",
      "nDCG: 0.193\n",
      "Recommend Model : 1, Simi_mode : pea, Tag : True, Genre : True, Like : False, Mode : tf, Genre Weight Mode : 0, Tag Weight Mode : 1, Like Weight Mode : 0\n",
      "MAP@K (K=10): 0.074\n",
      "nDCG: 0.198\n",
      "Recommend Model : 1, Simi_mode : pea, Tag : True, Genre : True, Like : False, Mode : tf, Genre Weight Mode : 1, Tag Weight Mode : 0, Like Weight Mode : 0\n",
      "MAP@K (K=10): 0.064\n",
      "nDCG: 0.185\n",
      "Recommend Model : 1, Simi_mode : pea, Tag : True, Genre : True, Like : False, Mode : tf, Genre Weight Mode : 1, Tag Weight Mode : 1, Like Weight Mode : 0\n",
      "MAP@K (K=10): 0.077\n",
      "nDCG: 0.193\n"
     ]
    }
   ],
   "source": [
    "# 9/36\n",
    "params_list = [\n",
    "    #recnum(1, 2) / simi_mode(cos, pea, jac) / 태그 / 장르 / 좋아요 / mode(cv/tf) / 장르 가중치 모드(0/1) / 좋아요 가중치 모드(0/1) / 태그 가중치 모드(0/1)\n",
    "    (1, 'pea', True, True, False, 'tf', 0, 0, 0),\n",
    "    (1, 'pea', True, True, False, 'tf', 0, 0, 1),\n",
    "    (1, 'pea', True, True, False, 'tf', 1, 0, 0),\n",
    "    (1, 'pea', True, True, False, 'tf', 1, 0, 1)\n",
    "]\n",
    "\n",
    "with multiprocessing.Pool(processes=4) as pool:\n",
    "    results = pool.starmap(process_fuc, [(param[0], test_my_songs, test_my_tags, song_tag_appended, param[1], param[2], param[3], param[4], \n",
    "                                         param[5], param[6], param[7], param[8], w2v, weight_mat_cv, weight_mat_tf, tag_weights, tag_weights_all) for param in params_list])\n",
    "    \n",
    "for result in results:\n",
    "    print(result)"
   ]
  },
  {
   "cell_type": "code",
   "execution_count": 36,
   "id": "82701585",
   "metadata": {},
   "outputs": [
    {
     "name": "stdout",
     "output_type": "stream",
     "text": [
      "Recommend Model : 2, Simi_mode : cos, Tag : False, Genre : False, Like : False, Mode : cv, Genre Weight Mode : 0, Tag Weight Mode : 0, Like Weight Mode : 0\n",
      "MAP@K (K=10): 0.555\n",
      "nDCG: 0.718\n",
      "Recommend Model : 2, Simi_mode : cos, Tag : True, Genre : False, Like : False, Mode : cv, Genre Weight Mode : 0, Tag Weight Mode : 0, Like Weight Mode : 0\n",
      "MAP@K (K=10): 0.560\n",
      "nDCG: 0.725\n",
      "Recommend Model : 2, Simi_mode : cos, Tag : True, Genre : False, Like : False, Mode : cv, Genre Weight Mode : 0, Tag Weight Mode : 1, Like Weight Mode : 0\n",
      "MAP@K (K=10): 0.557\n",
      "nDCG: 0.720\n",
      "Recommend Model : 2, Simi_mode : cos, Tag : False, Genre : True, Like : False, Mode : cv, Genre Weight Mode : 0, Tag Weight Mode : 0, Like Weight Mode : 0\n",
      "MAP@K (K=10): 0.586\n",
      "nDCG: 0.751\n"
     ]
    }
   ],
   "source": [
    "# 10/36\n",
    "params_list = [\n",
    "    #recnum(1, 2) / simi_mode(cos, pea, jac) / 태그 / 장르 / 좋아요 / mode(cv/tf) / 장르 가중치 모드(0/1) / 좋아요 가중치 모드(0/1) / 태그 가중치 모드(0/1)\n",
    "    (2, 'cos', False, False, False, 'cv', 0, 0, 0),\n",
    "    (2, 'cos', True, False, False, 'cv', 0, 0, 0),\n",
    "    (2, 'cos', True, False, False, 'cv', 0, 0, 1),\n",
    "    (2, 'cos', False, True, False, 'cv', 0, 0, 0)\n",
    "]\n",
    "\n",
    "with multiprocessing.Pool(processes=4) as pool:\n",
    "    results = pool.starmap(process_fuc, [(param[0], test_my_songs, test_my_tags, song_tag_appended, param[1], param[2], param[3], param[4], \n",
    "                                         param[5], param[6], param[7], param[8], w2v, weight_mat_cv, weight_mat_tf, tag_weights, tag_weights_all) for param in params_list])\n",
    "    \n",
    "for result in results:\n",
    "    print(result)"
   ]
  },
  {
   "cell_type": "code",
   "execution_count": 37,
   "id": "6417e608",
   "metadata": {},
   "outputs": [
    {
     "name": "stdout",
     "output_type": "stream",
     "text": [
      "Recommend Model : 2, Simi_mode : cos, Tag : False, Genre : True, Like : False, Mode : cv, Genre Weight Mode : 1, Tag Weight Mode : 0, Like Weight Mode : 0\n",
      "MAP@K (K=10): 0.587\n",
      "nDCG: 0.750\n",
      "Recommend Model : 2, Simi_mode : cos, Tag : True, Genre : True, Like : False, Mode : cv, Genre Weight Mode : 0, Tag Weight Mode : 0, Like Weight Mode : 0\n",
      "MAP@K (K=10): 0.591\n",
      "nDCG: 0.756\n",
      "Recommend Model : 2, Simi_mode : cos, Tag : True, Genre : True, Like : False, Mode : cv, Genre Weight Mode : 0, Tag Weight Mode : 1, Like Weight Mode : 0\n",
      "MAP@K (K=10): 0.590\n",
      "nDCG: 0.754\n",
      "Recommend Model : 2, Simi_mode : cos, Tag : True, Genre : True, Like : False, Mode : cv, Genre Weight Mode : 1, Tag Weight Mode : 0, Like Weight Mode : 0\n",
      "MAP@K (K=10): 0.593\n",
      "nDCG: 0.756\n"
     ]
    }
   ],
   "source": [
    "# 11/36\n",
    "params_list = [\n",
    "    #recnum(1, 2) / simi_mode(cos, pea, jac) / 태그 / 장르 / 좋아요 / mode(cv/tf) / 장르 가중치 모드(0/1) / 좋아요 가중치 모드(0/1) / 태그 가중치 모드(0/1)\n",
    "    (2, 'cos', False, True, False, 'cv', 1, 0, 0),\n",
    "    (2, 'cos', True, True, False, 'cv', 0, 0, 0),\n",
    "    (2, 'cos', True, True, False, 'cv', 0, 0, 1),\n",
    "    (2, 'cos', True, True, False, 'cv', 1, 0, 0)\n",
    "]\n",
    "\n",
    "with multiprocessing.Pool(processes=4) as pool:\n",
    "    results = pool.starmap(process_fuc, [(param[0], test_my_songs, test_my_tags, song_tag_appended, param[1], param[2], param[3], param[4], \n",
    "                                         param[5], param[6], param[7], param[8], w2v, weight_mat_cv, weight_mat_tf, tag_weights, tag_weights_all) for param in params_list])\n",
    "    \n",
    "for result in results:\n",
    "    print(result)"
   ]
  },
  {
   "cell_type": "code",
   "execution_count": 38,
   "id": "4374e25b",
   "metadata": {},
   "outputs": [
    {
     "name": "stdout",
     "output_type": "stream",
     "text": [
      "Recommend Model : 2, Simi_mode : cos, Tag : True, Genre : True, Like : False, Mode : cv, Genre Weight Mode : 1, Tag Weight Mode : 1, Like Weight Mode : 0\n",
      "MAP@K (K=10): 0.590\n",
      "nDCG: 0.751\n",
      "Recommend Model : 2, Simi_mode : cos, Tag : False, Genre : False, Like : False, Mode : tf, Genre Weight Mode : 0, Tag Weight Mode : 0, Like Weight Mode : 0\n",
      "MAP@K (K=10): 0.556\n",
      "nDCG: 0.710\n",
      "Recommend Model : 2, Simi_mode : cos, Tag : True, Genre : False, Like : False, Mode : tf, Genre Weight Mode : 0, Tag Weight Mode : 0, Like Weight Mode : 0\n",
      "MAP@K (K=10): 0.562\n",
      "nDCG: 0.714\n",
      "Recommend Model : 2, Simi_mode : cos, Tag : True, Genre : False, Like : False, Mode : tf, Genre Weight Mode : 0, Tag Weight Mode : 1, Like Weight Mode : 0\n",
      "MAP@K (K=10): 0.559\n",
      "nDCG: 0.716\n"
     ]
    }
   ],
   "source": [
    "# 12/36\n",
    "params_list = [\n",
    "    #recnum(1, 2) / simi_mode(cos, pea, jac) / 태그 / 장르 / 좋아요 / mode(cv/tf) / 장르 가중치 모드(0/1) / 좋아요 가중치 모드(0/1) / 태그 가중치 모드(0/1)\n",
    "    (2, 'cos', True, True, False, 'cv', 1, 0, 1),\n",
    "    (2, 'cos', False, False, False, 'tf', 0, 0, 0),\n",
    "    (2, 'cos', True, False, False, 'tf', 0, 0, 0),\n",
    "    (2, 'cos', True, False, False, 'tf', 0, 0, 1)\n",
    "]\n",
    "\n",
    "with multiprocessing.Pool(processes=4) as pool:\n",
    "    results = pool.starmap(process_fuc, [(param[0], test_my_songs, test_my_tags, song_tag_appended, param[1], param[2], param[3], param[4], \n",
    "                                         param[5], param[6], param[7], param[8], w2v, weight_mat_cv, weight_mat_tf, tag_weights, tag_weights_all) for param in params_list])\n",
    "    \n",
    "for result in results:\n",
    "    print(result)"
   ]
  },
  {
   "cell_type": "code",
   "execution_count": 40,
   "id": "825b9335",
   "metadata": {},
   "outputs": [
    {
     "name": "stdout",
     "output_type": "stream",
     "text": [
      "Recommend Model : 2, Simi_mode : cos, Tag : False, Genre : True, Like : False, Mode : tf, Genre Weight Mode : 0, Tag Weight Mode : 0, Like Weight Mode : 0\n",
      "MAP@K (K=10): 0.561\n",
      "nDCG: 0.717\n",
      "Recommend Model : 2, Simi_mode : cos, Tag : False, Genre : True, Like : False, Mode : tf, Genre Weight Mode : 1, Tag Weight Mode : 0, Like Weight Mode : 0\n",
      "MAP@K (K=10): 0.584\n",
      "nDCG: 0.733\n",
      "Recommend Model : 2, Simi_mode : cos, Tag : True, Genre : True, Like : False, Mode : tf, Genre Weight Mode : 0, Tag Weight Mode : 0, Like Weight Mode : 0\n",
      "MAP@K (K=10): 0.562\n",
      "nDCG: 0.721\n",
      "Recommend Model : 2, Simi_mode : cos, Tag : True, Genre : True, Like : False, Mode : tf, Genre Weight Mode : 0, Tag Weight Mode : 1, Like Weight Mode : 0\n",
      "MAP@K (K=10): 0.567\n",
      "nDCG: 0.723\n"
     ]
    }
   ],
   "source": [
    "# 13/36\n",
    "params_list = [\n",
    "    #recnum(1, 2) / simi_mode(cos, pea, jac) / 태그 / 장르 / 좋아요 / mode(cv/tf) / 장르 가중치 모드(0/1) / 좋아요 가중치 모드(0/1) / 태그 가중치 모드(0/1)\n",
    "    (2, 'cos', False, True, False, 'tf', 0, 0, 0),\n",
    "    (2, 'cos', False, True, False, 'tf', 1, 0, 0),\n",
    "    (2, 'cos', True, True, False, 'tf', 0, 0, 0),\n",
    "    (2, 'cos', True, True, False, 'tf', 0, 0, 1)\n",
    "]\n",
    "\n",
    "with multiprocessing.Pool(processes=4) as pool:\n",
    "    results = pool.starmap(process_fuc, [(param[0], test_my_songs, test_my_tags, song_tag_appended, param[1], param[2], param[3], param[4], \n",
    "                                         param[5], param[6], param[7], param[8], w2v, weight_mat_cv, weight_mat_tf, tag_weights, tag_weights_all) for param in params_list])\n",
    "    \n",
    "for result in results:\n",
    "    print(result)"
   ]
  },
  {
   "cell_type": "code",
   "execution_count": 41,
   "id": "0c3f426d",
   "metadata": {},
   "outputs": [
    {
     "name": "stdout",
     "output_type": "stream",
     "text": [
      "Recommend Model : 2, Simi_mode : cos, Tag : True, Genre : True, Like : False, Mode : tf, Genre Weight Mode : 1, Tag Weight Mode : 0, Like Weight Mode : 0\n",
      "MAP@K (K=10): 0.588\n",
      "nDCG: 0.738\n",
      "Recommend Model : 2, Simi_mode : cos, Tag : True, Genre : True, Like : False, Mode : tf, Genre Weight Mode : 1, Tag Weight Mode : 1, Like Weight Mode : 0\n",
      "MAP@K (K=10): 0.589\n",
      "nDCG: 0.740\n",
      "Recommend Model : 2, Simi_mode : pea, Tag : False, Genre : False, Like : False, Mode : cv, Genre Weight Mode : 0, Tag Weight Mode : 0, Like Weight Mode : 0\n",
      "MAP@K (K=10): 0.076\n",
      "nDCG: 0.181\n",
      "Recommend Model : 2, Simi_mode : pea, Tag : True, Genre : False, Like : False, Mode : cv, Genre Weight Mode : 0, Tag Weight Mode : 0, Like Weight Mode : 0\n",
      "MAP@K (K=10): 0.076\n",
      "nDCG: 0.181\n"
     ]
    }
   ],
   "source": [
    "# 14/36\n",
    "params_list = [\n",
    "    #recnum(1, 2) / simi_mode(cos, pea, jac) / 태그 / 장르 / 좋아요 / mode(cv/tf) / 장르 가중치 모드(0/1) / 좋아요 가중치 모드(0/1) / 태그 가중치 모드(0/1)\n",
    "    (2, 'cos', True, True, False, 'tf', 1, 0, 0),\n",
    "    (2, 'cos', True, True, False, 'tf', 1, 0, 1),\n",
    "    (2, 'pea', False, False, False, 'cv', 0, 0, 0),\n",
    "    (2, 'pea', True, False, False, 'cv', 0, 0, 0)\n",
    "]\n",
    "\n",
    "with multiprocessing.Pool(processes=4) as pool:\n",
    "    results = pool.starmap(process_fuc, [(param[0], test_my_songs, test_my_tags, song_tag_appended, param[1], param[2], param[3], param[4], \n",
    "                                         param[5], param[6], param[7], param[8], w2v, weight_mat_cv, weight_mat_tf, tag_weights, tag_weights_all) for param in params_list])\n",
    "    \n",
    "for result in results:\n",
    "    print(result)"
   ]
  },
  {
   "cell_type": "code",
   "execution_count": 42,
   "id": "0af6a1aa",
   "metadata": {},
   "outputs": [
    {
     "name": "stdout",
     "output_type": "stream",
     "text": [
      "Recommend Model : 2, Simi_mode : pea, Tag : True, Genre : False, Like : False, Mode : cv, Genre Weight Mode : 0, Tag Weight Mode : 1, Like Weight Mode : 0\n",
      "MAP@K (K=10): 0.076\n",
      "nDCG: 0.179\n",
      "Recommend Model : 2, Simi_mode : pea, Tag : False, Genre : True, Like : False, Mode : cv, Genre Weight Mode : 0, Tag Weight Mode : 0, Like Weight Mode : 0\n",
      "MAP@K (K=10): 0.123\n",
      "nDCG: 0.259\n",
      "Recommend Model : 2, Simi_mode : pea, Tag : False, Genre : True, Like : False, Mode : cv, Genre Weight Mode : 1, Tag Weight Mode : 0, Like Weight Mode : 0\n",
      "MAP@K (K=10): 0.085\n",
      "nDCG: 0.195\n",
      "Recommend Model : 2, Simi_mode : pea, Tag : True, Genre : True, Like : False, Mode : cv, Genre Weight Mode : 0, Tag Weight Mode : 0, Like Weight Mode : 0\n",
      "MAP@K (K=10): 0.123\n",
      "nDCG: 0.260\n"
     ]
    }
   ],
   "source": [
    "# 15/36\n",
    "params_list = [\n",
    "    #recnum(1, 2) / simi_mode(cos, pea, jac) / 태그 / 장르 / 좋아요 / mode(cv/tf) / 장르 가중치 모드(0/1) / 좋아요 가중치 모드(0/1) / 태그 가중치 모드(0/1)\n",
    "    (2, 'pea', True, False, False, 'cv', 0, 0, 1),\n",
    "    (2, 'pea', False, True, False, 'cv', 0, 0, 0),\n",
    "    (2, 'pea', False, True, False, 'cv', 1, 0, 0),\n",
    "    (2, 'pea', True, True, False, 'cv', 0, 0, 0)\n",
    "]\n",
    "\n",
    "with multiprocessing.Pool(processes=4) as pool:\n",
    "    results = pool.starmap(process_fuc, [(param[0], test_my_songs, test_my_tags, song_tag_appended, param[1], param[2], param[3], param[4], \n",
    "                                         param[5], param[6], param[7], param[8], w2v, weight_mat_cv, weight_mat_tf, tag_weights, tag_weights_all) for param in params_list])\n",
    "    \n",
    "for result in results:\n",
    "    print(result)"
   ]
  },
  {
   "cell_type": "code",
   "execution_count": 44,
   "id": "d73f5925",
   "metadata": {},
   "outputs": [
    {
     "name": "stdout",
     "output_type": "stream",
     "text": [
      "Recommend Model : 2, Simi_mode : pea, Tag : True, Genre : True, Like : False, Mode : cv, Genre Weight Mode : 0, Tag Weight Mode : 1, Like Weight Mode : 0\n",
      "MAP@K (K=10): 0.121\n",
      "nDCG: 0.255\n",
      "Recommend Model : 2, Simi_mode : pea, Tag : True, Genre : True, Like : False, Mode : cv, Genre Weight Mode : 1, Tag Weight Mode : 0, Like Weight Mode : 0\n",
      "MAP@K (K=10): 0.085\n",
      "nDCG: 0.194\n",
      "Recommend Model : 2, Simi_mode : pea, Tag : True, Genre : True, Like : False, Mode : cv, Genre Weight Mode : 1, Tag Weight Mode : 1, Like Weight Mode : 0\n",
      "MAP@K (K=10): 0.085\n",
      "nDCG: 0.194\n",
      "Recommend Model : 2, Simi_mode : pea, Tag : False, Genre : False, Like : False, Mode : tf, Genre Weight Mode : 0, Tag Weight Mode : 0, Like Weight Mode : 0\n",
      "MAP@K (K=10): 0.081\n",
      "nDCG: 0.204\n"
     ]
    }
   ],
   "source": [
    "# 16/36\n",
    "params_list = [\n",
    "    #recnum(1, 2) / simi_mode(cos, pea, jac) / 태그 / 장르 / 좋아요 / mode(cv/tf) / 장르 가중치 모드(0/1) / 좋아요 가중치 모드(0/1) / 태그 가중치 모드(0/1)\n",
    "    (2, 'pea', True, True, False, 'cv', 0, 0, 1),\n",
    "    (2, 'pea', True, True, False, 'cv', 1, 0, 0),\n",
    "    (2, 'pea', True, True, False, 'cv', 1, 0, 1),\n",
    "    (2, 'pea', False, False, False, 'tf', 0, 0, 0)\n",
    "]\n",
    "\n",
    "with multiprocessing.Pool(processes=4) as pool:\n",
    "    results = pool.starmap(process_fuc, [(param[0], test_my_songs, test_my_tags, song_tag_appended, param[1], param[2], param[3], param[4], \n",
    "                                         param[5], param[6], param[7], param[8], w2v, weight_mat_cv, weight_mat_tf, tag_weights, tag_weights_all) for param in params_list])\n",
    "    \n",
    "for result in results:\n",
    "    print(result)"
   ]
  },
  {
   "cell_type": "code",
   "execution_count": 45,
   "id": "d09b188b",
   "metadata": {},
   "outputs": [
    {
     "name": "stdout",
     "output_type": "stream",
     "text": [
      "Recommend Model : 2, Simi_mode : pea, Tag : True, Genre : False, Like : False, Mode : tf, Genre Weight Mode : 0, Tag Weight Mode : 0, Like Weight Mode : 0\n",
      "MAP@K (K=10): 0.081\n",
      "nDCG: 0.204\n",
      "Recommend Model : 2, Simi_mode : pea, Tag : True, Genre : False, Like : False, Mode : tf, Genre Weight Mode : 0, Tag Weight Mode : 1, Like Weight Mode : 0\n",
      "MAP@K (K=10): 0.081\n",
      "nDCG: 0.205\n",
      "Recommend Model : 2, Simi_mode : pea, Tag : False, Genre : True, Like : False, Mode : tf, Genre Weight Mode : 0, Tag Weight Mode : 0, Like Weight Mode : 0\n",
      "MAP@K (K=10): 0.097\n",
      "nDCG: 0.222\n",
      "Recommend Model : 2, Simi_mode : pea, Tag : False, Genre : True, Like : False, Mode : tf, Genre Weight Mode : 1, Tag Weight Mode : 0, Like Weight Mode : 0\n",
      "MAP@K (K=10): 0.104\n",
      "nDCG: 0.225\n"
     ]
    }
   ],
   "source": [
    "# 17/36\n",
    "params_list = [\n",
    "    #recnum(1, 2) / simi_mode(cos, pea, jac) / 태그 / 장르 / 좋아요 / mode(cv/tf) / 장르 가중치 모드(0/1) / 좋아요 가중치 모드(0/1) / 태그 가중치 모드(0/1)\n",
    "    (2, 'pea', True, False, False, 'tf', 0, 0, 0),\n",
    "    (2, 'pea', True, False, False, 'tf', 0, 0, 1),\n",
    "    (2, 'pea', False, True, False, 'tf', 0, 0, 0),\n",
    "    (2, 'pea', False, True, False, 'tf', 1, 0, 0)\n",
    "]\n",
    "\n",
    "with multiprocessing.Pool(processes=4) as pool:\n",
    "    results = pool.starmap(process_fuc, [(param[0], test_my_songs, test_my_tags, song_tag_appended, param[1], param[2], param[3], param[4], \n",
    "                                         param[5], param[6], param[7], param[8], w2v, weight_mat_cv, weight_mat_tf, tag_weights, tag_weights_all) for param in params_list])\n",
    "    \n",
    "for result in results:\n",
    "    print(result)"
   ]
  },
  {
   "cell_type": "code",
   "execution_count": 46,
   "id": "1f2ffd48",
   "metadata": {},
   "outputs": [
    {
     "name": "stdout",
     "output_type": "stream",
     "text": [
      "Recommend Model : 2, Simi_mode : pea, Tag : True, Genre : True, Like : False, Mode : tf, Genre Weight Mode : 0, Tag Weight Mode : 0, Like Weight Mode : 0\n",
      "MAP@K (K=10): 0.097\n",
      "nDCG: 0.219\n",
      "Recommend Model : 2, Simi_mode : pea, Tag : True, Genre : True, Like : False, Mode : tf, Genre Weight Mode : 0, Tag Weight Mode : 1, Like Weight Mode : 0\n",
      "MAP@K (K=10): 0.097\n",
      "nDCG: 0.222\n",
      "Recommend Model : 2, Simi_mode : pea, Tag : True, Genre : True, Like : False, Mode : tf, Genre Weight Mode : 1, Tag Weight Mode : 0, Like Weight Mode : 0\n",
      "MAP@K (K=10): 0.105\n",
      "nDCG: 0.227\n",
      "Recommend Model : 2, Simi_mode : pea, Tag : True, Genre : True, Like : False, Mode : tf, Genre Weight Mode : 1, Tag Weight Mode : 1, Like Weight Mode : 0\n",
      "MAP@K (K=10): 0.104\n",
      "nDCG: 0.225\n"
     ]
    }
   ],
   "source": [
    "# 18/36\n",
    "params_list = [\n",
    "    #recnum(1, 2) / simi_mode(cos, pea, jac) / 태그 / 장르 / 좋아요 / mode(cv/tf) / 장르 가중치 모드(0/1) / 좋아요 가중치 모드(0/1) / 태그 가중치 모드(0/1)\n",
    "    (2, 'pea', True, True, False, 'tf', 0, 0, 0),\n",
    "    (2, 'pea', True, True, False, 'tf', 0, 0, 1),\n",
    "    (2, 'pea', True, True, False, 'tf', 1, 0, 0),\n",
    "    (2, 'pea', True, True, False, 'tf', 1, 0, 1)\n",
    "]\n",
    "\n",
    "with multiprocessing.Pool(processes=4) as pool:\n",
    "    results = pool.starmap(process_fuc, [(param[0], test_my_songs, test_my_tags, song_tag_appended, param[1], param[2], param[3], param[4], \n",
    "                                         param[5], param[6], param[7], param[8], w2v, weight_mat_cv, weight_mat_tf, tag_weights, tag_weights_all) for param in params_list])\n",
    "    \n",
    "for result in results:\n",
    "    print(result)"
   ]
  },
  {
   "cell_type": "code",
   "execution_count": 48,
   "id": "3e7c46e4",
   "metadata": {},
   "outputs": [
    {
     "name": "stdout",
     "output_type": "stream",
     "text": [
      "Recommend Model : 1, Simi_mode : cos, Tag : False, Genre : False, Like : True, Mode : cv, Genre Weight Mode : 0, Tag Weight Mode : 0, Like Weight Mode : 0\n",
      "MAP@K (K=10): 0.241\n",
      "nDCG: 0.426\n",
      "Recommend Model : 1, Simi_mode : cos, Tag : True, Genre : False, Like : True, Mode : cv, Genre Weight Mode : 0, Tag Weight Mode : 0, Like Weight Mode : 0\n",
      "MAP@K (K=10): 0.237\n",
      "nDCG: 0.426\n",
      "Recommend Model : 1, Simi_mode : cos, Tag : True, Genre : False, Like : True, Mode : cv, Genre Weight Mode : 0, Tag Weight Mode : 1, Like Weight Mode : 0\n",
      "MAP@K (K=10): 0.239\n",
      "nDCG: 0.431\n",
      "Recommend Model : 1, Simi_mode : cos, Tag : False, Genre : True, Like : True, Mode : cv, Genre Weight Mode : 0, Tag Weight Mode : 0, Like Weight Mode : 0\n",
      "MAP@K (K=10): 0.302\n",
      "nDCG: 0.497\n"
     ]
    }
   ],
   "source": [
    "# 19/36\n",
    "params_list = [\n",
    "    #recnum(1, 2) / simi_mode(cos, pea, jac) / 태그 / 장르 / 좋아요 / mode(cv/tf) / 장르 가중치 모드(0/1) / 좋아요 가중치 모드(0/1) / 태그 가중치 모드(0/1)\n",
    "    (1, 'cos', False, False, True, 'cv', 0, 0, 0),\n",
    "    (1, 'cos', True, False, True, 'cv', 0, 0, 0),\n",
    "    (1, 'cos', True, False, True, 'cv', 0, 0, 1),\n",
    "    (1, 'cos', False, True, True, 'cv', 0, 0, 0)\n",
    "]\n",
    "\n",
    "with multiprocessing.Pool(processes=4) as pool:\n",
    "    results = pool.starmap(process_fuc, [(param[0], test_my_songs, test_my_tags, song_tag_appended, param[1], param[2], param[3], param[4], \n",
    "                                         param[5], param[6], param[7], param[8], w2v, weight_mat_cv, weight_mat_tf, tag_weights, tag_weights_all) for param in params_list])\n",
    "    \n",
    "for result in results:\n",
    "    print(result)"
   ]
  },
  {
   "cell_type": "code",
   "execution_count": 49,
   "id": "c9968291",
   "metadata": {},
   "outputs": [
    {
     "name": "stdout",
     "output_type": "stream",
     "text": [
      "Recommend Model : 1, Simi_mode : cos, Tag : False, Genre : True, Like : True, Mode : cv, Genre Weight Mode : 1, Tag Weight Mode : 0, Like Weight Mode : 0\n",
      "MAP@K (K=10): 0.263\n",
      "nDCG: 0.453\n",
      "Recommend Model : 1, Simi_mode : cos, Tag : True, Genre : True, Like : True, Mode : cv, Genre Weight Mode : 0, Tag Weight Mode : 0, Like Weight Mode : 0\n",
      "MAP@K (K=10): 0.291\n",
      "nDCG: 0.492\n",
      "Recommend Model : 1, Simi_mode : cos, Tag : True, Genre : True, Like : True, Mode : cv, Genre Weight Mode : 0, Tag Weight Mode : 1, Like Weight Mode : 0\n",
      "MAP@K (K=10): 0.290\n",
      "nDCG: 0.490\n",
      "Recommend Model : 1, Simi_mode : cos, Tag : True, Genre : True, Like : True, Mode : cv, Genre Weight Mode : 1, Tag Weight Mode : 0, Like Weight Mode : 0\n",
      "MAP@K (K=10): 0.259\n",
      "nDCG: 0.453\n"
     ]
    }
   ],
   "source": [
    "# 20/36\n",
    "params_list = [\n",
    "    #recnum(1, 2) / simi_mode(cos, pea, jac) / 태그 / 장르 / 좋아요 / mode(cv/tf) / 장르 가중치 모드(0/1) / 좋아요 가중치 모드(0/1) / 태그 가중치 모드(0/1)\n",
    "    (1, 'cos', False, True, True, 'cv', 1, 0, 0),\n",
    "    (1, 'cos', True, True, True, 'cv', 0, 0, 0),\n",
    "    (1, 'cos', True, True, True, 'cv', 0, 0, 1),\n",
    "    (1, 'cos', True, True, True, 'cv', 1, 0, 0)\n",
    "]\n",
    "\n",
    "with multiprocessing.Pool(processes=4) as pool:\n",
    "    results = pool.starmap(process_fuc, [(param[0], test_my_songs, test_my_tags, song_tag_appended, param[1], param[2], param[3], param[4], \n",
    "                                         param[5], param[6], param[7], param[8], w2v, weight_mat_cv, weight_mat_tf, tag_weights, tag_weights_all) for param in params_list])\n",
    "    \n",
    "for result in results:\n",
    "    print(result)"
   ]
  },
  {
   "cell_type": "code",
   "execution_count": 50,
   "id": "8064e05e",
   "metadata": {},
   "outputs": [
    {
     "name": "stdout",
     "output_type": "stream",
     "text": [
      "Recommend Model : 1, Simi_mode : cos, Tag : True, Genre : True, Like : True, Mode : cv, Genre Weight Mode : 1, Tag Weight Mode : 1, Like Weight Mode : 0\n",
      "MAP@K (K=10): 0.258\n",
      "nDCG: 0.455\n",
      "Recommend Model : 1, Simi_mode : cos, Tag : False, Genre : False, Like : True, Mode : tf, Genre Weight Mode : 0, Tag Weight Mode : 0, Like Weight Mode : 0\n",
      "MAP@K (K=10): 0.257\n",
      "nDCG: 0.443\n",
      "Recommend Model : 1, Simi_mode : cos, Tag : True, Genre : False, Like : True, Mode : tf, Genre Weight Mode : 0, Tag Weight Mode : 0, Like Weight Mode : 0\n",
      "MAP@K (K=10): 0.253\n",
      "nDCG: 0.446\n",
      "Recommend Model : 1, Simi_mode : cos, Tag : True, Genre : False, Like : True, Mode : tf, Genre Weight Mode : 0, Tag Weight Mode : 1, Like Weight Mode : 0\n",
      "MAP@K (K=10): 0.254\n",
      "nDCG: 0.446\n"
     ]
    }
   ],
   "source": [
    "# 21/36\n",
    "params_list = [\n",
    "    #recnum(1, 2) / simi_mode(cos, pea, jac) / 태그 / 장르 / 좋아요 / mode(cv/tf) / 장르 가중치 모드(0/1) / 좋아요 가중치 모드(0/1) / 태그 가중치 모드(0/1)\n",
    "    (1, 'cos', True, True, True, 'cv', 1, 0, 1),\n",
    "    (1, 'cos', False, False, True, 'tf', 0, 0, 0),\n",
    "    (1, 'cos', True, False, True, 'tf', 0, 0, 0),\n",
    "    (1, 'cos', True, False, True, 'tf', 0, 0, 1)\n",
    "]\n",
    "\n",
    "with multiprocessing.Pool(processes=4) as pool:\n",
    "    results = pool.starmap(process_fuc, [(param[0], test_my_songs, test_my_tags, song_tag_appended, param[1], param[2], param[3], param[4], \n",
    "                                         param[5], param[6], param[7], param[8], w2v, weight_mat_cv, weight_mat_tf, tag_weights, tag_weights_all) for param in params_list])\n",
    "    \n",
    "for result in results:\n",
    "    print(result)"
   ]
  },
  {
   "cell_type": "code",
   "execution_count": 52,
   "id": "8b042cdc",
   "metadata": {},
   "outputs": [
    {
     "name": "stdout",
     "output_type": "stream",
     "text": [
      "Recommend Model : 1, Simi_mode : cos, Tag : False, Genre : True, Like : True, Mode : tf, Genre Weight Mode : 0, Tag Weight Mode : 0, Like Weight Mode : 0\n",
      "MAP@K (K=10): 0.275\n",
      "nDCG: 0.475\n",
      "Recommend Model : 1, Simi_mode : cos, Tag : False, Genre : True, Like : True, Mode : tf, Genre Weight Mode : 1, Tag Weight Mode : 0, Like Weight Mode : 0\n",
      "MAP@K (K=10): 0.272\n",
      "nDCG: 0.471\n",
      "Recommend Model : 1, Simi_mode : cos, Tag : True, Genre : True, Like : True, Mode : tf, Genre Weight Mode : 0, Tag Weight Mode : 0, Like Weight Mode : 0\n",
      "MAP@K (K=10): 0.272\n",
      "nDCG: 0.478\n",
      "Recommend Model : 1, Simi_mode : cos, Tag : True, Genre : True, Like : True, Mode : tf, Genre Weight Mode : 0, Tag Weight Mode : 1, Like Weight Mode : 0\n",
      "MAP@K (K=10): 0.272\n",
      "nDCG: 0.478\n"
     ]
    }
   ],
   "source": [
    "# 22/36\n",
    "params_list = [\n",
    "    #recnum(1, 2) / simi_mode(cos, pea, jac) / 태그 / 장르 / 좋아요 / mode(cv/tf) / 장르 가중치 모드(0/1) / 좋아요 가중치 모드(0/1) / 태그 가중치 모드(0/1)\n",
    "    (1, 'cos', False, True, True, 'tf', 0, 0, 0),\n",
    "    (1, 'cos', False, True, True, 'tf', 1, 0, 0),\n",
    "    (1, 'cos', True, True, True, 'tf', 0, 0, 0),\n",
    "    (1, 'cos', True, True, True, 'tf', 0, 0, 1)\n",
    "]\n",
    "\n",
    "with multiprocessing.Pool(processes=4) as pool:\n",
    "    results = pool.starmap(process_fuc, [(param[0], test_my_songs, test_my_tags, song_tag_appended, param[1], param[2], param[3], param[4], \n",
    "                                         param[5], param[6], param[7], param[8], w2v, weight_mat_cv, weight_mat_tf, tag_weights, tag_weights_all) for param in params_list])\n",
    "    \n",
    "for result in results:\n",
    "    print(result)"
   ]
  },
  {
   "cell_type": "code",
   "execution_count": 53,
   "id": "c18d8d08",
   "metadata": {},
   "outputs": [
    {
     "name": "stdout",
     "output_type": "stream",
     "text": [
      "Recommend Model : 1, Simi_mode : cos, Tag : True, Genre : True, Like : True, Mode : tf, Genre Weight Mode : 1, Tag Weight Mode : 0, Like Weight Mode : 0\n",
      "MAP@K (K=10): 0.267\n",
      "nDCG: 0.470\n",
      "Recommend Model : 1, Simi_mode : cos, Tag : True, Genre : True, Like : True, Mode : tf, Genre Weight Mode : 1, Tag Weight Mode : 1, Like Weight Mode : 0\n",
      "MAP@K (K=10): 0.266\n",
      "nDCG: 0.470\n",
      "Recommend Model : 1, Simi_mode : pea, Tag : False, Genre : False, Like : True, Mode : cv, Genre Weight Mode : 0, Tag Weight Mode : 0, Like Weight Mode : 0\n",
      "MAP@K (K=10): 0.022\n",
      "nDCG: 0.067\n",
      "Recommend Model : 1, Simi_mode : pea, Tag : True, Genre : False, Like : True, Mode : cv, Genre Weight Mode : 0, Tag Weight Mode : 0, Like Weight Mode : 0\n",
      "MAP@K (K=10): 0.022\n",
      "nDCG: 0.068\n"
     ]
    }
   ],
   "source": [
    "# 23/36\n",
    "params_list = [\n",
    "    #recnum(1, 2) / simi_mode(cos, pea, jac) / 태그 / 장르 / 좋아요 / mode(cv/tf) / 장르 가중치 모드(0/1) / 좋아요 가중치 모드(0/1) / 태그 가중치 모드(0/1)\n",
    "    (1, 'cos', True, True, True, 'tf', 1, 0, 0),\n",
    "    (1, 'cos', True, True, True, 'tf', 1, 0, 1),\n",
    "    (1, 'pea', False, False, True, 'cv', 0, 0, 0),\n",
    "    (1, 'pea', True, False, True, 'cv', 0, 0, 0)\n",
    "]\n",
    "\n",
    "with multiprocessing.Pool(processes=4) as pool:\n",
    "    results = pool.starmap(process_fuc, [(param[0], test_my_songs, test_my_tags, song_tag_appended, param[1], param[2], param[3], param[4], \n",
    "                                         param[5], param[6], param[7], param[8], w2v, weight_mat_cv, weight_mat_tf, tag_weights, tag_weights_all) for param in params_list])\n",
    "    \n",
    "for result in results:\n",
    "    print(result)"
   ]
  },
  {
   "cell_type": "code",
   "execution_count": 54,
   "id": "4b872f7d",
   "metadata": {},
   "outputs": [
    {
     "name": "stdout",
     "output_type": "stream",
     "text": [
      "Recommend Model : 1, Simi_mode : pea, Tag : True, Genre : False, Like : True, Mode : cv, Genre Weight Mode : 0, Tag Weight Mode : 1, Like Weight Mode : 0\n",
      "MAP@K (K=10): 0.022\n",
      "nDCG: 0.073\n",
      "Recommend Model : 1, Simi_mode : pea, Tag : False, Genre : True, Like : True, Mode : cv, Genre Weight Mode : 0, Tag Weight Mode : 0, Like Weight Mode : 0\n",
      "MAP@K (K=10): 0.031\n",
      "nDCG: 0.077\n",
      "Recommend Model : 1, Simi_mode : pea, Tag : False, Genre : True, Like : True, Mode : cv, Genre Weight Mode : 1, Tag Weight Mode : 0, Like Weight Mode : 0\n",
      "MAP@K (K=10): 0.019\n",
      "nDCG: 0.075\n",
      "Recommend Model : 1, Simi_mode : pea, Tag : True, Genre : True, Like : True, Mode : cv, Genre Weight Mode : 0, Tag Weight Mode : 0, Like Weight Mode : 0\n",
      "MAP@K (K=10): 0.031\n",
      "nDCG: 0.078\n"
     ]
    }
   ],
   "source": [
    "# 24/36\n",
    "params_list = [\n",
    "    #recnum(1, 2) / simi_mode(cos, pea, jac) / 태그 / 장르 / 좋아요 / mode(cv/tf) / 장르 가중치 모드(0/1) / 좋아요 가중치 모드(0/1) / 태그 가중치 모드(0/1)\n",
    "    (1, 'pea', True, False, True, 'cv', 0, 0, 1),\n",
    "    (1, 'pea', False, True, True, 'cv', 0, 0, 0),\n",
    "    (1, 'pea', False, True, True, 'cv', 1, 0, 0),\n",
    "    (1, 'pea', True, True, True, 'cv', 0, 0, 0)\n",
    "]\n",
    "\n",
    "with multiprocessing.Pool(processes=4) as pool:\n",
    "    results = pool.starmap(process_fuc, [(param[0], test_my_songs, test_my_tags, song_tag_appended, param[1], param[2], param[3], param[4], \n",
    "                                         param[5], param[6], param[7], param[8], w2v, weight_mat_cv, weight_mat_tf, tag_weights, tag_weights_all) for param in params_list])\n",
    "    \n",
    "for result in results:\n",
    "    print(result)"
   ]
  },
  {
   "cell_type": "code",
   "execution_count": 56,
   "id": "7f54ab5c",
   "metadata": {},
   "outputs": [
    {
     "name": "stdout",
     "output_type": "stream",
     "text": [
      "Recommend Model : 1, Simi_mode : pea, Tag : True, Genre : True, Like : True, Mode : cv, Genre Weight Mode : 0, Tag Weight Mode : 1, Like Weight Mode : 0\n",
      "MAP@K (K=10): 0.029\n",
      "nDCG: 0.077\n",
      "Recommend Model : 1, Simi_mode : pea, Tag : True, Genre : True, Like : True, Mode : cv, Genre Weight Mode : 1, Tag Weight Mode : 0, Like Weight Mode : 0\n",
      "MAP@K (K=10): 0.019\n",
      "nDCG: 0.067\n",
      "Recommend Model : 1, Simi_mode : pea, Tag : True, Genre : True, Like : True, Mode : cv, Genre Weight Mode : 1, Tag Weight Mode : 1, Like Weight Mode : 0\n",
      "MAP@K (K=10): 0.023\n",
      "nDCG: 0.083\n",
      "Recommend Model : 1, Simi_mode : pea, Tag : False, Genre : False, Like : True, Mode : tf, Genre Weight Mode : 0, Tag Weight Mode : 0, Like Weight Mode : 0\n",
      "MAP@K (K=10): 0.024\n",
      "nDCG: 0.068\n"
     ]
    }
   ],
   "source": [
    "# 25/36\n",
    "params_list = [\n",
    "    #recnum(1, 2) / simi_mode(cos, pea, jac) / 태그 / 장르 / 좋아요 / mode(cv/tf) / 장르 가중치 모드(0/1) / 좋아요 가중치 모드(0/1) / 태그 가중치 모드(0/1)\n",
    "    (1, 'pea', True, True, True, 'cv', 0, 0, 1),\n",
    "    (1, 'pea', True, True, True, 'cv', 1, 0, 0),\n",
    "    (1, 'pea', True, True, True, 'cv', 1, 0, 1),\n",
    "    (1, 'pea', False, False, True, 'tf', 0, 0, 0)\n",
    "]\n",
    "\n",
    "with multiprocessing.Pool(processes=4) as pool:\n",
    "    results = pool.starmap(process_fuc, [(param[0], test_my_songs, test_my_tags, song_tag_appended, param[1], param[2], param[3], param[4], \n",
    "                                         param[5], param[6], param[7], param[8], w2v, weight_mat_cv, weight_mat_tf, tag_weights, tag_weights_all) for param in params_list])\n",
    "    \n",
    "for result in results:\n",
    "    print(result)"
   ]
  },
  {
   "cell_type": "code",
   "execution_count": 57,
   "id": "b58846d5",
   "metadata": {},
   "outputs": [
    {
     "name": "stdout",
     "output_type": "stream",
     "text": [
      "Recommend Model : 1, Simi_mode : pea, Tag : True, Genre : False, Like : True, Mode : tf, Genre Weight Mode : 0, Tag Weight Mode : 0, Like Weight Mode : 0\n",
      "MAP@K (K=10): 0.022\n",
      "nDCG: 0.066\n",
      "Recommend Model : 1, Simi_mode : pea, Tag : True, Genre : False, Like : True, Mode : tf, Genre Weight Mode : 0, Tag Weight Mode : 1, Like Weight Mode : 0\n",
      "MAP@K (K=10): 0.016\n",
      "nDCG: 0.061\n",
      "Recommend Model : 1, Simi_mode : pea, Tag : False, Genre : True, Like : True, Mode : tf, Genre Weight Mode : 0, Tag Weight Mode : 0, Like Weight Mode : 0\n",
      "MAP@K (K=10): 0.027\n",
      "nDCG: 0.075\n",
      "Recommend Model : 1, Simi_mode : pea, Tag : False, Genre : True, Like : True, Mode : tf, Genre Weight Mode : 1, Tag Weight Mode : 0, Like Weight Mode : 0\n",
      "MAP@K (K=10): 0.024\n",
      "nDCG: 0.071\n"
     ]
    }
   ],
   "source": [
    "# 26/36\n",
    "params_list = [\n",
    "    #recnum(1, 2) / simi_mode(cos, pea, jac) / 태그 / 장르 / 좋아요 / mode(cv/tf) / 장르 가중치 모드(0/1) / 좋아요 가중치 모드(0/1) / 태그 가중치 모드(0/1)\n",
    "    (1, 'pea', True, False, True, 'tf', 0, 0, 0),\n",
    "    (1, 'pea', True, False, True, 'tf', 0, 0, 1),\n",
    "    (1, 'pea', False, True, True, 'tf', 0, 0, 0),\n",
    "    (1, 'pea', False, True, True, 'tf', 1, 0, 0)\n",
    "]\n",
    "\n",
    "with multiprocessing.Pool(processes=4) as pool:\n",
    "    results = pool.starmap(process_fuc, [(param[0], test_my_songs, test_my_tags, song_tag_appended, param[1], param[2], param[3], param[4], \n",
    "                                         param[5], param[6], param[7], param[8], w2v, weight_mat_cv, weight_mat_tf, tag_weights, tag_weights_all) for param in params_list])\n",
    "    \n",
    "for result in results:\n",
    "    print(result)"
   ]
  },
  {
   "cell_type": "code",
   "execution_count": 58,
   "id": "d26e6f32",
   "metadata": {},
   "outputs": [
    {
     "name": "stdout",
     "output_type": "stream",
     "text": [
      "Recommend Model : 1, Simi_mode : pea, Tag : True, Genre : True, Like : True, Mode : tf, Genre Weight Mode : 0, Tag Weight Mode : 0, Like Weight Mode : 0\n",
      "MAP@K (K=10): 0.025\n",
      "nDCG: 0.074\n",
      "Recommend Model : 1, Simi_mode : pea, Tag : True, Genre : True, Like : True, Mode : tf, Genre Weight Mode : 0, Tag Weight Mode : 1, Like Weight Mode : 0\n",
      "MAP@K (K=10): 0.023\n",
      "nDCG: 0.072\n",
      "Recommend Model : 1, Simi_mode : pea, Tag : True, Genre : True, Like : True, Mode : tf, Genre Weight Mode : 1, Tag Weight Mode : 0, Like Weight Mode : 0\n",
      "MAP@K (K=10): 0.023\n",
      "nDCG: 0.073\n",
      "Recommend Model : 1, Simi_mode : pea, Tag : True, Genre : True, Like : True, Mode : tf, Genre Weight Mode : 1, Tag Weight Mode : 1, Like Weight Mode : 0\n",
      "MAP@K (K=10): 0.025\n",
      "nDCG: 0.073\n"
     ]
    }
   ],
   "source": [
    "# 27/36\n",
    "params_list = [\n",
    "    #recnum(1, 2) / simi_mode(cos, pea, jac) / 태그 / 장르 / 좋아요 / mode(cv/tf) / 장르 가중치 모드(0/1) / 좋아요 가중치 모드(0/1) / 태그 가중치 모드(0/1)\n",
    "    (1, 'pea', True, True, True, 'tf', 0, 0, 0),\n",
    "    (1, 'pea', True, True, True, 'tf', 0, 0, 1),\n",
    "    (1, 'pea', True, True, True, 'tf', 1, 0, 0),\n",
    "    (1, 'pea', True, True, True, 'tf', 1, 0, 1)\n",
    "]\n",
    "\n",
    "with multiprocessing.Pool(processes=4) as pool:\n",
    "    results = pool.starmap(process_fuc, [(param[0], test_my_songs, test_my_tags, song_tag_appended, param[1], param[2], param[3], param[4], \n",
    "                                         param[5], param[6], param[7], param[8], w2v, weight_mat_cv, weight_mat_tf, tag_weights, tag_weights_all) for param in params_list])\n",
    "    \n",
    "for result in results:\n",
    "    print(result)"
   ]
  },
  {
   "cell_type": "code",
   "execution_count": 60,
   "id": "b6cfa9b3",
   "metadata": {},
   "outputs": [
    {
     "name": "stdout",
     "output_type": "stream",
     "text": [
      "Recommend Model : 2, Simi_mode : cos, Tag : False, Genre : False, Like : True, Mode : cv, Genre Weight Mode : 0, Tag Weight Mode : 0, Like Weight Mode : 0\n",
      "MAP@K (K=10): 0.467\n",
      "nDCG: 0.687\n",
      "Recommend Model : 2, Simi_mode : cos, Tag : True, Genre : False, Like : True, Mode : cv, Genre Weight Mode : 0, Tag Weight Mode : 0, Like Weight Mode : 0\n",
      "MAP@K (K=10): 0.469\n",
      "nDCG: 0.688\n",
      "Recommend Model : 2, Simi_mode : cos, Tag : True, Genre : False, Like : True, Mode : cv, Genre Weight Mode : 0, Tag Weight Mode : 1, Like Weight Mode : 0\n",
      "MAP@K (K=10): 0.469\n",
      "nDCG: 0.685\n",
      "Recommend Model : 2, Simi_mode : cos, Tag : False, Genre : True, Like : True, Mode : cv, Genre Weight Mode : 0, Tag Weight Mode : 0, Like Weight Mode : 0\n",
      "MAP@K (K=10): 0.508\n",
      "nDCG: 0.719\n"
     ]
    }
   ],
   "source": [
    "# 28/36\n",
    "params_list = [\n",
    "    #recnum(1, 2) / simi_mode(cos, pea, jac) / 태그 / 장르 / 좋아요 / mode(cv/tf) / 장르 가중치 모드(0/1) / 좋아요 가중치 모드(0/1) / 태그 가중치 모드(0/1)\n",
    "    (2, 'cos', False, False, True, 'cv', 0, 0, 0),\n",
    "    (2, 'cos', True, False, True, 'cv', 0, 0, 0),\n",
    "    (2, 'cos', True, False, True, 'cv', 0, 0, 1),\n",
    "    (2, 'cos', False, True, True, 'cv', 0, 0, 0)\n",
    "]\n",
    "\n",
    "with multiprocessing.Pool(processes=4) as pool:\n",
    "    results = pool.starmap(process_fuc, [(param[0], test_my_songs, test_my_tags, song_tag_appended, param[1], param[2], param[3], param[4], \n",
    "                                         param[5], param[6], param[7], param[8], w2v, weight_mat_cv, weight_mat_tf, tag_weights, tag_weights_all) for param in params_list])\n",
    "    \n",
    "for result in results:\n",
    "    print(result)"
   ]
  },
  {
   "cell_type": "code",
   "execution_count": 61,
   "id": "c0fb6676",
   "metadata": {},
   "outputs": [
    {
     "name": "stdout",
     "output_type": "stream",
     "text": [
      "Recommend Model : 2, Simi_mode : cos, Tag : False, Genre : True, Like : True, Mode : cv, Genre Weight Mode : 1, Tag Weight Mode : 0, Like Weight Mode : 0\n",
      "MAP@K (K=10): 0.497\n",
      "nDCG: 0.704\n",
      "Recommend Model : 2, Simi_mode : cos, Tag : True, Genre : True, Like : True, Mode : cv, Genre Weight Mode : 0, Tag Weight Mode : 0, Like Weight Mode : 0\n",
      "MAP@K (K=10): 0.511\n",
      "nDCG: 0.722\n",
      "Recommend Model : 2, Simi_mode : cos, Tag : True, Genre : True, Like : True, Mode : cv, Genre Weight Mode : 0, Tag Weight Mode : 1, Like Weight Mode : 0\n",
      "MAP@K (K=10): 0.512\n",
      "nDCG: 0.721\n",
      "Recommend Model : 2, Simi_mode : cos, Tag : True, Genre : True, Like : True, Mode : cv, Genre Weight Mode : 1, Tag Weight Mode : 0, Like Weight Mode : 0\n",
      "MAP@K (K=10): 0.498\n",
      "nDCG: 0.705\n"
     ]
    }
   ],
   "source": [
    "# 29/36\n",
    "params_list = [\n",
    "    #recnum(1, 2) / simi_mode(cos, pea, jac) / 태그 / 장르 / 좋아요 / mode(cv/tf) / 장르 가중치 모드(0/1) / 좋아요 가중치 모드(0/1) / 태그 가중치 모드(0/1)\n",
    "    (2, 'cos', False, True, True, 'cv', 1, 0, 0),\n",
    "    (2, 'cos', True, True, True, 'cv', 0, 0, 0),\n",
    "    (2, 'cos', True, True, True, 'cv', 0, 0, 1),\n",
    "    (2, 'cos', True, True, True, 'cv', 1, 0, 0)\n",
    "]\n",
    "\n",
    "with multiprocessing.Pool(processes=4) as pool:\n",
    "    results = pool.starmap(process_fuc, [(param[0], test_my_songs, test_my_tags, song_tag_appended, param[1], param[2], param[3], param[4], \n",
    "                                         param[5], param[6], param[7], param[8], w2v, weight_mat_cv, weight_mat_tf, tag_weights, tag_weights_all) for param in params_list])\n",
    "    \n",
    "for result in results:\n",
    "    print(result)"
   ]
  },
  {
   "cell_type": "code",
   "execution_count": 62,
   "id": "c8c38f5d",
   "metadata": {},
   "outputs": [
    {
     "name": "stdout",
     "output_type": "stream",
     "text": [
      "Recommend Model : 2, Simi_mode : cos, Tag : True, Genre : True, Like : True, Mode : cv, Genre Weight Mode : 1, Tag Weight Mode : 1, Like Weight Mode : 0\n",
      "MAP@K (K=10): 0.502\n",
      "nDCG: 0.708\n",
      "Recommend Model : 2, Simi_mode : cos, Tag : False, Genre : False, Like : True, Mode : tf, Genre Weight Mode : 0, Tag Weight Mode : 0, Like Weight Mode : 0\n",
      "MAP@K (K=10): 0.489\n",
      "nDCG: 0.697\n",
      "Recommend Model : 2, Simi_mode : cos, Tag : True, Genre : False, Like : True, Mode : tf, Genre Weight Mode : 0, Tag Weight Mode : 0, Like Weight Mode : 0\n",
      "MAP@K (K=10): 0.491\n",
      "nDCG: 0.697\n",
      "Recommend Model : 2, Simi_mode : cos, Tag : True, Genre : False, Like : True, Mode : tf, Genre Weight Mode : 0, Tag Weight Mode : 1, Like Weight Mode : 0\n",
      "MAP@K (K=10): 0.491\n",
      "nDCG: 0.696\n"
     ]
    }
   ],
   "source": [
    "# 30/36\n",
    "params_list = [\n",
    "    #recnum(1, 2) / simi_mode(cos, pea, jac) / 태그 / 장르 / 좋아요 / mode(cv/tf) / 장르 가중치 모드(0/1) / 좋아요 가중치 모드(0/1) / 태그 가중치 모드(0/1)\n",
    "    (2, 'cos', True, True, True, 'cv', 1, 0, 1),\n",
    "    (2, 'cos', False, False, True, 'tf', 0, 0, 0),\n",
    "    (2, 'cos', True, False, True, 'tf', 0, 0, 0),\n",
    "    (2, 'cos', True, False, True, 'tf', 0, 0, 1)\n",
    "]\n",
    "\n",
    "with multiprocessing.Pool(processes=4) as pool:\n",
    "    results = pool.starmap(process_fuc, [(param[0], test_my_songs, test_my_tags, song_tag_appended, param[1], param[2], param[3], param[4], \n",
    "                                         param[5], param[6], param[7], param[8], w2v, weight_mat_cv, weight_mat_tf, tag_weights, tag_weights_all) for param in params_list])\n",
    "    \n",
    "for result in results:\n",
    "    print(result)"
   ]
  },
  {
   "cell_type": "code",
   "execution_count": 64,
   "id": "065e1039",
   "metadata": {},
   "outputs": [
    {
     "name": "stdout",
     "output_type": "stream",
     "text": [
      "Recommend Model : 2, Simi_mode : cos, Tag : False, Genre : True, Like : True, Mode : tf, Genre Weight Mode : 0, Tag Weight Mode : 0, Like Weight Mode : 0\n",
      "MAP@K (K=10): 0.505\n",
      "nDCG: 0.715\n",
      "Recommend Model : 2, Simi_mode : cos, Tag : False, Genre : True, Like : True, Mode : tf, Genre Weight Mode : 1, Tag Weight Mode : 0, Like Weight Mode : 0\n",
      "MAP@K (K=10): 0.505\n",
      "nDCG: 0.710\n",
      "Recommend Model : 2, Simi_mode : cos, Tag : True, Genre : True, Like : True, Mode : tf, Genre Weight Mode : 0, Tag Weight Mode : 0, Like Weight Mode : 0\n",
      "MAP@K (K=10): 0.507\n",
      "nDCG: 0.717\n",
      "Recommend Model : 2, Simi_mode : cos, Tag : True, Genre : True, Like : True, Mode : tf, Genre Weight Mode : 0, Tag Weight Mode : 1, Like Weight Mode : 0\n",
      "MAP@K (K=10): 0.507\n",
      "nDCG: 0.712\n"
     ]
    }
   ],
   "source": [
    "# 31/36\n",
    "params_list = [\n",
    "    #recnum(1, 2) / simi_mode(cos, pea, jac) / 태그 / 장르 / 좋아요 / mode(cv/tf) / 장르 가중치 모드(0/1) / 좋아요 가중치 모드(0/1) / 태그 가중치 모드(0/1)\n",
    "    (2, 'cos', False, True, True, 'tf', 0, 0, 0),\n",
    "    (2, 'cos', False, True, True, 'tf', 1, 0, 0),\n",
    "    (2, 'cos', True, True, True, 'tf', 0, 0, 0),\n",
    "    (2, 'cos', True, True, True, 'tf', 0, 0, 1)\n",
    "]\n",
    "\n",
    "with multiprocessing.Pool(processes=4) as pool:\n",
    "    results = pool.starmap(process_fuc, [(param[0], test_my_songs, test_my_tags, song_tag_appended, param[1], param[2], param[3], param[4], \n",
    "                                         param[5], param[6], param[7], param[8], w2v, weight_mat_cv, weight_mat_tf, tag_weights, tag_weights_all) for param in params_list])\n",
    "    \n",
    "for result in results:\n",
    "    print(result)"
   ]
  },
  {
   "cell_type": "code",
   "execution_count": 65,
   "id": "54820245",
   "metadata": {},
   "outputs": [
    {
     "name": "stdout",
     "output_type": "stream",
     "text": [
      "Recommend Model : 2, Simi_mode : cos, Tag : True, Genre : True, Like : True, Mode : tf, Genre Weight Mode : 1, Tag Weight Mode : 0, Like Weight Mode : 0\n",
      "MAP@K (K=10): 0.507\n",
      "nDCG: 0.713\n",
      "Recommend Model : 2, Simi_mode : cos, Tag : True, Genre : True, Like : True, Mode : tf, Genre Weight Mode : 1, Tag Weight Mode : 1, Like Weight Mode : 0\n",
      "MAP@K (K=10): 0.507\n",
      "nDCG: 0.713\n",
      "Recommend Model : 2, Simi_mode : pea, Tag : False, Genre : False, Like : True, Mode : cv, Genre Weight Mode : 0, Tag Weight Mode : 0, Like Weight Mode : 0\n",
      "MAP@K (K=10): 0.007\n",
      "nDCG: 0.010\n",
      "Recommend Model : 2, Simi_mode : pea, Tag : True, Genre : False, Like : True, Mode : cv, Genre Weight Mode : 0, Tag Weight Mode : 0, Like Weight Mode : 0\n",
      "MAP@K (K=10): 0.007\n",
      "nDCG: 0.010\n"
     ]
    }
   ],
   "source": [
    "# 32/36\n",
    "params_list = [\n",
    "    #recnum(1, 2) / simi_mode(cos, pea, jac) / 태그 / 장르 / 좋아요 / mode(cv/tf) / 장르 가중치 모드(0/1) / 좋아요 가중치 모드(0/1) / 태그 가중치 모드(0/1)\n",
    "    (2, 'cos', True, True, True, 'tf', 1, 0, 0),\n",
    "    (2, 'cos', True, True, True, 'tf', 1, 0, 1),\n",
    "    (2, 'pea', False, False, True, 'cv', 0, 0, 0),\n",
    "    (2, 'pea', True, False, True, 'cv', 0, 0, 0)\n",
    "]\n",
    "\n",
    "with multiprocessing.Pool(processes=4) as pool:\n",
    "    results = pool.starmap(process_fuc, [(param[0], test_my_songs, test_my_tags, song_tag_appended, param[1], param[2], param[3], param[4], \n",
    "                                         param[5], param[6], param[7], param[8], w2v, weight_mat_cv, weight_mat_tf, tag_weights, tag_weights_all) for param in params_list])\n",
    "    \n",
    "for result in results:\n",
    "    print(result)"
   ]
  },
  {
   "cell_type": "code",
   "execution_count": 66,
   "id": "88fda4b8",
   "metadata": {},
   "outputs": [
    {
     "name": "stdout",
     "output_type": "stream",
     "text": [
      "Recommend Model : 2, Simi_mode : pea, Tag : True, Genre : False, Like : True, Mode : cv, Genre Weight Mode : 0, Tag Weight Mode : 1, Like Weight Mode : 0\n",
      "MAP@K (K=10): 0.007\n",
      "nDCG: 0.010\n",
      "Recommend Model : 2, Simi_mode : pea, Tag : False, Genre : True, Like : True, Mode : cv, Genre Weight Mode : 0, Tag Weight Mode : 0, Like Weight Mode : 0\n",
      "MAP@K (K=10): 0.010\n",
      "nDCG: 0.013\n",
      "Recommend Model : 2, Simi_mode : pea, Tag : False, Genre : True, Like : True, Mode : cv, Genre Weight Mode : 1, Tag Weight Mode : 0, Like Weight Mode : 0\n",
      "MAP@K (K=10): 0.011\n",
      "nDCG: 0.017\n",
      "Recommend Model : 2, Simi_mode : pea, Tag : True, Genre : True, Like : True, Mode : cv, Genre Weight Mode : 0, Tag Weight Mode : 0, Like Weight Mode : 0\n",
      "MAP@K (K=10): 0.010\n",
      "nDCG: 0.013\n"
     ]
    }
   ],
   "source": [
    "# 33/36\n",
    "params_list = [\n",
    "    #recnum(1, 2) / simi_mode(cos, pea, jac) / 태그 / 장르 / 좋아요 / mode(cv/tf) / 장르 가중치 모드(0/1) / 좋아요 가중치 모드(0/1) / 태그 가중치 모드(0/1)\n",
    "    (2, 'pea', True, False, True, 'cv', 0, 0, 1),\n",
    "    (2, 'pea', False, True, True, 'cv', 0, 0, 0),\n",
    "    (2, 'pea', False, True, True, 'cv', 1, 0, 0),\n",
    "    (2, 'pea', True, True, True, 'cv', 0, 0, 0)\n",
    "]\n",
    "\n",
    "with multiprocessing.Pool(processes=4) as pool:\n",
    "    results = pool.starmap(process_fuc, [(param[0], test_my_songs, test_my_tags, song_tag_appended, param[1], param[2], param[3], param[4], \n",
    "                                         param[5], param[6], param[7], param[8], w2v, weight_mat_cv, weight_mat_tf, tag_weights, tag_weights_all) for param in params_list])\n",
    "    \n",
    "for result in results:\n",
    "    print(result)"
   ]
  },
  {
   "cell_type": "code",
   "execution_count": 68,
   "id": "64ac8106",
   "metadata": {},
   "outputs": [
    {
     "name": "stdout",
     "output_type": "stream",
     "text": [
      "Recommend Model : 2, Simi_mode : pea, Tag : True, Genre : True, Like : True, Mode : cv, Genre Weight Mode : 0, Tag Weight Mode : 1, Like Weight Mode : 0\n",
      "MAP@K (K=10): 0.010\n",
      "nDCG: 0.013\n",
      "Recommend Model : 2, Simi_mode : pea, Tag : True, Genre : True, Like : True, Mode : cv, Genre Weight Mode : 1, Tag Weight Mode : 0, Like Weight Mode : 0\n",
      "MAP@K (K=10): 0.011\n",
      "nDCG: 0.017\n",
      "Recommend Model : 2, Simi_mode : pea, Tag : True, Genre : True, Like : True, Mode : cv, Genre Weight Mode : 1, Tag Weight Mode : 1, Like Weight Mode : 0\n",
      "MAP@K (K=10): 0.011\n",
      "nDCG: 0.017\n",
      "Recommend Model : 2, Simi_mode : pea, Tag : False, Genre : False, Like : True, Mode : tf, Genre Weight Mode : 0, Tag Weight Mode : 0, Like Weight Mode : 0\n",
      "MAP@K (K=10): 0.005\n",
      "nDCG: 0.007\n"
     ]
    }
   ],
   "source": [
    "# 34/36\n",
    "params_list = [\n",
    "    #recnum(1, 2) / simi_mode(cos, pea, jac) / 태그 / 장르 / 좋아요 / mode(cv/tf) / 장르 가중치 모드(0/1) / 좋아요 가중치 모드(0/1) / 태그 가중치 모드(0/1)\n",
    "    (2, 'pea', True, True, True, 'cv', 0, 0, 1),\n",
    "    (2, 'pea', True, True, True, 'cv', 1, 0, 0),\n",
    "    (2, 'pea', True, True, True, 'cv', 1, 0, 1),\n",
    "    (2, 'pea', False, False, True, 'tf', 0, 0, 0)\n",
    "]\n",
    "\n",
    "with multiprocessing.Pool(processes=4) as pool:\n",
    "    results = pool.starmap(process_fuc, [(param[0], test_my_songs, test_my_tags, song_tag_appended, param[1], param[2], param[3], param[4], \n",
    "                                         param[5], param[6], param[7], param[8], w2v, weight_mat_cv, weight_mat_tf, tag_weights, tag_weights_all) for param in params_list])\n",
    "    \n",
    "for result in results:\n",
    "    print(result)"
   ]
  },
  {
   "cell_type": "code",
   "execution_count": 69,
   "id": "641531ef",
   "metadata": {},
   "outputs": [
    {
     "name": "stdout",
     "output_type": "stream",
     "text": [
      "Recommend Model : 2, Simi_mode : pea, Tag : True, Genre : False, Like : True, Mode : tf, Genre Weight Mode : 0, Tag Weight Mode : 0, Like Weight Mode : 0\n",
      "MAP@K (K=10): 0.005\n",
      "nDCG: 0.007\n",
      "Recommend Model : 2, Simi_mode : pea, Tag : True, Genre : False, Like : True, Mode : tf, Genre Weight Mode : 0, Tag Weight Mode : 1, Like Weight Mode : 0\n",
      "MAP@K (K=10): 0.005\n",
      "nDCG: 0.007\n",
      "Recommend Model : 2, Simi_mode : pea, Tag : False, Genre : True, Like : True, Mode : tf, Genre Weight Mode : 0, Tag Weight Mode : 0, Like Weight Mode : 0\n",
      "MAP@K (K=10): 0.014\n",
      "nDCG: 0.023\n",
      "Recommend Model : 2, Simi_mode : pea, Tag : False, Genre : True, Like : True, Mode : tf, Genre Weight Mode : 1, Tag Weight Mode : 0, Like Weight Mode : 0\n",
      "MAP@K (K=10): 0.012\n",
      "nDCG: 0.017\n"
     ]
    }
   ],
   "source": [
    "# 35/36\n",
    "params_list = [\n",
    "    #recnum(1, 2) / simi_mode(cos, pea, jac) / 태그 / 장르 / 좋아요 / mode(cv/tf) / 장르 가중치 모드(0/1) / 좋아요 가중치 모드(0/1) / 태그 가중치 모드(0/1)\n",
    "    (2, 'pea', True, False, True, 'tf', 0, 0, 0),\n",
    "    (2, 'pea', True, False, True, 'tf', 0, 0, 1),\n",
    "    (2, 'pea', False, True, True, 'tf', 0, 0, 0),\n",
    "    (2, 'pea', False, True, True, 'tf', 1, 0, 0)\n",
    "]\n",
    "\n",
    "with multiprocessing.Pool(processes=4) as pool:\n",
    "    results = pool.starmap(process_fuc, [(param[0], test_my_songs, test_my_tags, song_tag_appended, param[1], param[2], param[3], param[4], \n",
    "                                         param[5], param[6], param[7], param[8], w2v, weight_mat_cv, weight_mat_tf, tag_weights, tag_weights_all) for param in params_list])\n",
    "    \n",
    "for result in results:\n",
    "    print(result)"
   ]
  },
  {
   "cell_type": "code",
   "execution_count": 70,
   "id": "6b873e77",
   "metadata": {},
   "outputs": [
    {
     "name": "stdout",
     "output_type": "stream",
     "text": [
      "Recommend Model : 2, Simi_mode : pea, Tag : True, Genre : True, Like : True, Mode : tf, Genre Weight Mode : 0, Tag Weight Mode : 0, Like Weight Mode : 0\n",
      "MAP@K (K=10): 0.014\n",
      "nDCG: 0.023\n",
      "Recommend Model : 2, Simi_mode : pea, Tag : True, Genre : True, Like : True, Mode : tf, Genre Weight Mode : 0, Tag Weight Mode : 1, Like Weight Mode : 0\n",
      "MAP@K (K=10): 0.014\n",
      "nDCG: 0.023\n",
      "Recommend Model : 2, Simi_mode : pea, Tag : True, Genre : True, Like : True, Mode : tf, Genre Weight Mode : 1, Tag Weight Mode : 0, Like Weight Mode : 0\n",
      "MAP@K (K=10): 0.012\n",
      "nDCG: 0.017\n",
      "Recommend Model : 2, Simi_mode : pea, Tag : True, Genre : True, Like : True, Mode : tf, Genre Weight Mode : 1, Tag Weight Mode : 1, Like Weight Mode : 0\n",
      "MAP@K (K=10): 0.012\n",
      "nDCG: 0.017\n"
     ]
    }
   ],
   "source": [
    "# 36/36\n",
    "params_list = [\n",
    "    #recnum(1, 2) / simi_mode(cos, pea, jac) / 태그 / 장르 / 좋아요 / mode(cv/tf) / 장르 가중치 모드(0/1) / 좋아요 가중치 모드(0/1) / 태그 가중치 모드(0/1)\n",
    "    (2, 'pea', True, True, True, 'tf', 0, 0, 0),\n",
    "    (2, 'pea', True, True, True, 'tf', 0, 0, 1),\n",
    "    (2, 'pea', True, True, True, 'tf', 1, 0, 0),\n",
    "    (2, 'pea', True, True, True, 'tf', 1, 0, 1)\n",
    "]\n",
    "\n",
    "with multiprocessing.Pool(processes=4) as pool:\n",
    "    results = pool.starmap(process_fuc, [(param[0], test_my_songs, test_my_tags, song_tag_appended, param[1], param[2], param[3], param[4], \n",
    "                                         param[5], param[6], param[7], param[8], w2v, weight_mat_cv, weight_mat_tf, tag_weights, tag_weights_all) for param in params_list])\n",
    "    \n",
    "for result in results:\n",
    "    print(result)"
   ]
  },
  {
   "cell_type": "markdown",
   "id": "5bd4c7c3",
   "metadata": {},
   "source": [
    "# 태그 자연어 전처리"
   ]
  },
  {
   "cell_type": "markdown",
   "id": "970b52f1",
   "metadata": {},
   "source": [
    "## 한국어 전처리"
   ]
  },
  {
   "cell_type": "code",
   "execution_count": 72,
   "id": "bc1660ad",
   "metadata": {},
   "outputs": [
    {
     "name": "stderr",
     "output_type": "stream",
     "text": [
      "C:\\Users\\Hyun\\AppData\\Local\\Temp\\ipykernel_15164\\12101270.py:21: SettingWithCopyWarning: \n",
      "A value is trying to be set on a copy of a slice from a DataFrame\n",
      "\n",
      "See the caveats in the documentation: https://pandas.pydata.org/pandas-docs/stable/user_guide/indexing.html#returning-a-view-versus-a-copy\n",
      "  train_data_sample['tags'][i] = preprocessed_tags\n"
     ]
    }
   ],
   "source": [
    "import konlpy\n",
    "from konlpy.tag import Okt\n",
    "\n",
    "train_data_sample = train_data_origin.copy()\n",
    "\n",
    "okt = Okt()\n",
    "for i in range(len(train_data_sample)):\n",
    "    preprocessed_tags = []\n",
    "    for tag in train_data_sample['tags'][i]:\n",
    "        normalized_tag = okt.normalize(tag)\n",
    "        pos_tagging = okt.pos(normalized_tag)\n",
    "        for word, pos in pos_tagging:\n",
    "            if pos == 'Noun' or pos == 'Verb' or pos == 'Adjective':\n",
    "                preprocessed_tags.append(word)\n",
    "            elif pos == 'Alpha':\n",
    "                preprocessed_tags.append(word.lower())\n",
    "    if len(preprocessed_tags) == 0:\n",
    "        train_data_sample['tags'][i] = preprocessed_tags\n",
    "    else:\n",
    "        preprocessed_tags = list(dict.fromkeys(preprocessed_tags))\n",
    "        train_data_sample['tags'][i] = preprocessed_tags\n",
    "train_data_sample.head(20)\n",
    "preprocessed_plist = train_data_sample.copy()"
   ]
  },
  {
   "cell_type": "code",
   "execution_count": 73,
   "id": "31cf3781",
   "metadata": {},
   "outputs": [
    {
     "name": "stderr",
     "output_type": "stream",
     "text": [
      "C:\\Users\\Hyun\\AppData\\Local\\Temp\\ipykernel_15164\\299166450.py:20: SettingWithCopyWarning: \n",
      "A value is trying to be set on a copy of a slice from a DataFrame\n",
      "\n",
      "See the caveats in the documentation: https://pandas.pydata.org/pandas-docs/stable/user_guide/indexing.html#returning-a-view-versus-a-copy\n",
      "  train_data_sample['tags'].iloc[i] = list(train_dict[song])\n"
     ]
    }
   ],
   "source": [
    "train_data_sample = train_data_sample.explode('song_id', ignore_index=True)\n",
    "\n",
    "train_dict = dict()\n",
    "\n",
    "for i in range(len(train_data_sample)):\n",
    "    song = train_data_sample['song_id'][i]\n",
    "    tag = train_data_sample['tags'][i]\n",
    "    \n",
    "    if song in train_dict:\n",
    "        for j in tag:\n",
    "            train_dict[song].add(j)\n",
    "    \n",
    "    else:\n",
    "        train_dict[song] = set(tag)\n",
    "        \n",
    "train_data_sample.drop_duplicates(subset='song_id', keep='first',inplace=True)\n",
    "\n",
    "for i in range(len(train_data_sample)):\n",
    "    song = train_data_sample['song_id'].iloc[i]\n",
    "    train_data_sample['tags'].iloc[i] = list(train_dict[song])\n",
    "\n",
    "song_tag_appended = pd.merge(train_data_sample, song_data)\n",
    "song_tag_appended = song_tag_appended.astype({'song_id':'int64'})"
   ]
  },
  {
   "cell_type": "code",
   "execution_count": 74,
   "id": "1640d9ff",
   "metadata": {},
   "outputs": [
    {
     "data": {
      "text/plain": [
       "(536, 100)"
      ]
     },
     "execution_count": 74,
     "metadata": {},
     "output_type": "execute_result"
    }
   ],
   "source": [
    "from gensim.models.word2vec import Word2Vec\n",
    "\n",
    "w2v = Word2Vec(sentences = song_tag_appended['tags'], vector_size = 100, \n",
    "               window = 5, min_count = 15, workers = 4, sg = 1)\n",
    "\n",
    "w2v.wv.vectors.shape"
   ]
  },
  {
   "cell_type": "code",
   "execution_count": 75,
   "id": "f33da282",
   "metadata": {},
   "outputs": [
    {
     "name": "stdout",
     "output_type": "stream",
     "text": [
      "{'햇살': 3.882054595499302, '카페': 1.3677958684076557, '여유': 1.7675432232868373, '오후': 2.831329217262381, '재즈': 1.9322929173634826, '나른한': 3.692304952936964, '커피': 2.7052490788224985, '감성': 0.7124801708972748, '향': 4.149069461911347, '긋한': 4.149069461911347, '봄': 1.4660801974845397, '설렘': 1.2504417461336004, '사랑': 0.9002148750163199, '집중': 2.020787313427954, '아침': 2.577997072854012, '태교': 3.6366110255681794, '낮잠': 4.212621303146474, '피아노': 2.108014914123892, '명상': 4.212621303146474, '클래식': 2.725047777470781, '뉴에이지': 1.5842694584938488, '자장가': 2.6987478084398964, '숙면': 3.6366110255681794, '휴식': 1.0226498566951772, '창작': 4.149069461911347, '새벽': 0.979058326979858, '월드뮤직': 4.149069461911347, '드라이브': 0.8378673868758725, '작업': 4.149069461911347, '기분': 0.6931471805599453, '전환': 0.7007479265513843, '짝사랑': 2.801714676996845, '고백': 3.122173371953489, '애정': 4.212621303146474, '상사병': 4.212621303146474, '겨울': 1.654184399439723, '메리크리스마스': 4.613138355637268, '성탄절': 4.613138355637268, '크리스마스': 2.6922945461691086, '팝': 1.4143677294326167, 'christmas': 4.613138355637268, '힐링': 1.2260434884452462, '위로': 2.15389024094851, '밤': 1.0789652912843133, '일렉트로니카': 4.118790778359335, 'dance': 5.040443007353398, '댄스': 1.5309366658265424, 'edmfloor': 5.040443007353398, 'edm': 2.831329217262381, 'electronica': 5.040443007353398, '빌': 5.040443007353398, '로우': 5.040443007353398, '개인': 2.2318049109329983, '취향': 1.7675432232868373, '옛날': 3.0426158594528414, '노래': 1.3601947359293065, 'pop': 2.098523549563685, '경쾌한': 3.1867369529214065, '까페': 1.9001069723851576, '신나는': 1.1281880344622093, '음악': 1.1498875648753157, '듣기': 2.7590718536601875, '좋은': 2.293616423011285, '벚꽃': 3.6548152346867777, '락': 2.2097920676997425, '여름': 1.8090850663534643, '장마': 3.929862923556477, '아이돌': 3.2442306692036733, '여행': 1.2685513374671136, '스트레스': 1.6062391891949084, '수록': 3.502355531348903, '곡': 1.4686536721460624, 'ballad': 3.3055362630930425, '발라드': 1.091317826615699, '산책': 1.8133750597039953, '가을': 1.3307344720593113, '잔잔한': 1.1625999973433934, '추억': 0.9261729863758866, '회상': 0.9215837499026484, '랩': 1.3957623356531292, '힙합': 1.0102478930471428, '슬픔': 1.8048205354565483, '이별': 1.6030557607352132, '비': 2.089146073069014, '날': 2.061672926851289, '감정': 3.751462940415704, '헤어짐': 3.751462940415704, '어쿠스틱': 2.869791050196144, '우울': 2.8465152028958816, '분위기': 1.401515355130246, '띵곡들': 3.220801680061415, '인디': 2.120851598551645, '감각': 3.456559310994822, '그루': 2.831329217262381, '브': 2.831329217262381, '라운지': 2.6795294086948407, '도입': 4.613138355637268, '부': 4.613138355637268, '트렌디': 2.600836116795061, '렉': 2.4973981376820293, '연주': 1.8692630303829152, '주말': 1.7113379019174808, '모닝콜': 2.512919686015674, '아메리카노': 2.512919686015674, '포근한': 2.3432561327249735, '맑음': 2.512919686015674, 'fc': 4.280626520232152, '서울': 4.280626520232152, 'kleague': 4.280626520232152, '수원': 4.280626520232152, '블루': 4.280626520232152, '웡': 4.280626520232152, '축구': 4.280626520232152, '월드컵': 4.280626520232152, '전남드래곤즈': 4.280626520232152, '인천': 4.280626520232152, '유나이티드': 4.280626520232152, 'k': 4.280626520232152, '리그': 4.280626520232152, '오빠': 3.153887764500762, '뭐': 3.153887764500762, '이태원': 2.9694643467333806, '너': 2.943490212491855, '몰라': 3.153887764500762, '가창력': 4.474863402383688, '여름밤': 2.472144398174149, '시원한': 3.5840061491843835, '퇴근': 3.711618941083426, '바람': 4.212621303146474, '생각': 3.1431939652304526, '하루': 3.427223893680286, '드림': 4.280626520232152, '스테이션': 4.280626520232152, '리브': 4.280626520232152, '포': 3.814532673039525, '나우': 4.280626520232152, 'welovevocaledm': 4.280626520232152, '취': 4.280626520232152, '보이': 4.280626520232152, '스펙트럼': 4.280626520232152, '저격': 2.277717026416032, '보컬': 2.589340810585696, '있는': 2.364856553536974, '출근길': 3.836515452920001, '호텔': 3.0815276337169775, '루프': 3.4868409806362566, '탑': 3.4868409806362566, '비트': 3.836515452920001, '감': 3.836515452920001, '바': 2.2280940279994748, '느낌있는': 2.6302630123484834, '퇴근길': 2.2207231732582065, '행복': 3.814532673039525, '즐거운': 3.6548152346867777, '불면증': 3.398779000797874, '따뜻한': 3.929862923556477, '헬스': 3.1647075883950513, '스포츠': 3.427223893680286, '운동': 2.1743965447800186, '다이어트': 3.711618941083426, '멜론': 1.9399221072106907, '웨이': 3.711618941083426, '트': 3.711618941083426, '록': 2.523427147319976, '캐롤': 3.1979525699033178, '필요해': 4.353745861558934, '워십': 4.353745861558934, 'ccm': 3.2929466905820957, '찬송': 4.353745861558934, '나': 3.814532673039525, '필요한': 4.353745861558934, '최신': 3.0618639127599105, '헬스장': 3.7720269931075636, '에세': 3.7720269931075636, '듣는': 2.5668012098426103, '빠른': 3.7720269931075636, '체지방': 3.7720269931075636, '할': 3.052188982221648, '때': 2.600836116795061, '매장': 1.6732983295245307, 'hiphop': 2.3825520115129737, 'r': 3.929862923556477, 'rap': 3.2442306692036733, '내리는': 4.212621303146474, '센치': 3.132623400560351, '플레이': 3.6548152346867777, '리스트': 3.502355531348903, '클럽': 2.660725629094388, '마약': 3.9801734168821197, '해외': 3.9801734168821197, '뮤직': 3.9801734168821197, '방': 3.9801734168821197, '구석': 3.9801734168821197, '인': 3.9801734168821197, '싸': 3.9801734168821197, '외국': 3.9801734168821197, '비가오는': 5.301312875527835, '좋아요': 3.0618639127599105, 'raphiphop': 3.5504936830246154, '매드클라운': 3.5504936830246154, '망해라': 3.5504936830246154, '마미': 3.5504936830246154, '손': 3.5504936830246154, '쇼미더머니': 2.861964725538124, '래퍼': 2.861964725538124, '한국': 3.052188982221648, '티타임': 4.663935495214343, '편안한': 2.7801359278751643, '미국': 4.663935495214343, 'top': 2.918244778075617, 'hot': 4.663935495214343, 'billboard': 4.663935495214343, '술': 3.954689451747049, '술집': 4.663935495214343, '프로': 4.663935495214343, '혼술러': 4.663935495214343, '혼술': 3.954689451747049, '빅뱅': 3.091520807828093, '금': 3.091520807828093, '아님': 3.091520807828093, '즐': 3.091520807828093, '듣': 3.091520807828093, '뱅뱅뱅': 3.091520807828093, '무도': 3.091520807828093, '차': 4.060935500090971, '음색': 3.2324419243949194, '신인': 4.613138355637268, 'lofi': 4.613138355637268, '쌀쌀한': 3.331238793055245, 'rnb': 3.1431939652304526, 'soul': 3.3576711166122646, 'blackmusic': 3.3576711166122646, 'black': 3.3576711166122646, 'music': 3.3576711166122646, 'groove': 3.122173371953489, 'rudominick': 5.301312875527835, 'dominick': 5.301312875527835, '도미니크': 5.301312875527835, '생일': 4.474863402383688, '팝송': 2.1990079037116472, '축하': 4.474863402383688, 'happy': 4.474863402383688, '감미': 3.3182987478592736, '명곡': 2.095385192076972, '다양한': 4.564844100230789, '송라이터': 4.564844100230789, 'songwriter': 4.564844100230789, '작곡가': 4.564844100230789, '채': 4.564844100230789, '뮤지션': 3.5181300254796457, '부드러운': 4.474863402383688, '고막': 4.474863402383688, '남친': 4.474863402383688, '남자': 2.8163983752446646, '아름다운': 4.613138355637268, '로맨틱': 4.613138355637268, '샹송': 4.613138355637268, 'ost': 2.0556977109354992, '프랑스': 4.613138355637268, '프렌치': 4.613138355637268, '영화음악': 2.978291341240794, '낭만': 4.613138355637268, '흥': 3.1867369529214065, '졸음': 4.149069461911347, '방지': 4.149069461911347, '운전': 2.996208350687477, '시티': 3.882054595499302, '내적댄스': 4.149069461911347, '차트': 3.0426158594528414, '실시간': 3.0426158594528414, '산뜻': 4.774168081583575, '달달': 4.280626520232152, '가족': 4.033256870242263, '차분한': 2.3960754360813845, '자극': 2.1813512281799294, '맑은': 2.3960754360813845, '독서': 2.3960754360813845, '데이트': 2.195445217436142, '북카페': 2.3960754360813845, '힙': 2.133901458812217, 'popsong': 2.3960754360813845, '외힙': 2.9872054573248294, '모음': 3.4417769225504795, '분전': 4.2460291495541655, '환하기': 4.2460291495541655, '걷고싶은': 4.2460291495541655, '배경음악': 2.589340810585696, '효리': 4.060935500090971, '민박': 4.060935500090971, 'bgm': 2.854206481428095, '예능': 4.060935500090971, '첫키스': 3.502355531348903, '눈': 2.794463108446311, '설레임': 3.2442306692036733, '그리울': 3.502355531348903, '첫사랑': 3.502355531348903, '집콕': 4.613138355637268, '타': 4.613138355637268, '외로움': 3.331238793055245, '키즈': 3.2929466905820957, '정서': 4.898337188670442, '발달': 4.898337188670442, 'kpop': 4.717506315382343, '잠자기전': 2.978291341240794, '추천': 2.339003037710692, '황덕호': 4.0894305474196715, 'jazz': 5.11998783102362, '원더풀': 4.0894305474196715, '수면': 3.929862923556477, '서교동': 5.301312875527835, '몽환': 2.2430411107050268, '봄비': 3.122173371953489, '잔잔': 3.122173371953489, '블랙뮤직': 3.122173371953489, '흑인음악': 3.122173371953489, '알엔비': 3.398779000797874, '와인': 3.398779000797874, '타기': 3.398779000797874, 'soomooc': 4.564844100230789, '수묵': 4.564844100230789, '사람': 4.717506315382343, '공원': 3.9801734168821197, '벤치': 4.717506315382343, '박재범': 4.898337188670442, '대표': 4.898337188670442, '최애': 4.898337188670442, '서재': 4.432798960047305, '페': 4.432798960047305, '페스티벌': 4.432798960047305, '떠나자': 4.8342958089798485, '힘들었지': 4.006349900984122, '수고': 4.006349900984122, '했어': 4.006349900984122, '그럴수있지': 4.006349900984122, '괜찮아': 4.006349900984122, '고생': 4.006349900984122, '오늘': 4.006349900984122, '슬픈': 2.660725629094388, '따스한': 4.432798960047305, '잠들': 3.7720269931075636, '기전': 3.7720269931075636, '요즘': 3.427223893680286, 'jpop': 3.101624562688853, '바다': 2.918244778075617, '상': 3.6366110255681794, '시업': 3.6366110255681794, '뎃': 3.6366110255681794, '맥코이': 4.518819747555239, '타이': 4.518819747555239, '매코이': 4.518819747555239, '보석같은': 4.118790778359335, '숨은': 4.118790778359335, '편견': 4.118790778359335, '버린': 4.118790778359335, '에프엑스': 4.118790778359335, '남자친구': 3.859014654880893, '기념': 4.212621303146474, '합창': 4.212621303146474, '베토벤': 4.212621303146474, '비창': 4.212621303146474, '운명': 4.212621303146474, '스타': 4.149069461911347, '일리': 4.149069461911347, '쉬팝': 4.149069461911347, '팝신': 4.149069461911347, '보': 4.149069461911347, '힙스터': 4.149069461911347, '에너지': 3.2561716096118976, '점심': 4.2460291495541655, '뭉클한': 4.717506315382343, '연말': 3.4128934214253466, '커플': 3.4128934214253466, '송': 2.885652541964518, '명반': 3.905661349522498, '국힙': 2.9018004537197877, 'hifi': 4.280626520232152, '음질': 4.280626520232152, '인기가요': 4.149069461911347, '연인': 3.711618941083426, '러브': 3.711618941083426, '분': 4.180324941966854, '현빈': 4.180324941966854, '불시': 4.180324941966854, '착': 4.180324941966854, '기동': 4.564844100230789, '런닝': 4.564844100230789, '런닝머신': 4.564844100230789, '상쾌한': 4.2460291495541655, '산뜻한': 4.2460291495541655, '자전거': 4.2460291495541655, '월드': 4.2460291495541655, '인디밴드': 3.751462940415704, 'yb': 4.2460291495541655, '국내': 4.2460291495541655, '윤도현': 4.2460291495541655, '방탄소년단': 3.673375267577971, 'rock': 4.774168081583575, '몽롱': 2.4973981376820293, '세련된': 2.0768157196021684, '방학': 3.859014654880893, '흥겨운': 3.859014654880893, '단풍': 3.859014654880893, '종강': 3.859014654880893, '휴가': 3.4868409806362566, 'nct': 4.060935500090971, 'dream': 4.060935500090971, '버스': 3.3055362630930425, '야경': 3.2805255620998808, '피곤': 3.5181300254796457, '그리움': 3.2561716096118976, '예술의전당': 5.301312875527835, '오케스트라': 5.301312875527835, '교': 5.301312875527835, '향악': 5.301312875527835, '축제': 5.301312875527835, '분업': 4.717506315382343, '화이팅': 3.905661349522498, '새해': 4.717506315382343, '시작': 4.717506315382343, '목소리': 3.929862923556477, '명품': 3.929862923556477, '깡패': 3.929862923556477, '밴드': 3.814532673039525, 'jrock': 4.280626520232152, '일본': 4.280626520232152, '엑스재팬': 4.280626520232152, '비주얼록': 4.280626520232152, 'x': 4.280626520232152, 'japan': 4.280626520232152, '칵테일': 3.673375267577971, 'bar': 3.673375267577971, '띵곡': 3.673375267577971, '소울': 3.673375267577971, '축가': 5.656491186610505, '여성': 4.613138355637268, '책': 4.060935500090971, '봄날': 4.717506315382343, '안정감': 4.717506315382343, '행복한': 4.717506315382343, '릴': 4.717506315382343, '렉스': 4.717506315382343, '인연': 4.717506315382343, '난': 4.717506315382343, '언제': 4.717506315382343, '나꿈을': 4.717506315382343, '꾸지': 4.717506315382343, '아프': 4.717506315382343, '지마도': 4.717506315382343, '토도': 4.717506315382343, '안녕': 4.717506315382343, '꿀잠': 4.474863402383688, '가요': 3.3182987478592736, '메탈': 3.3182987478592736, '상큼': 3.9801734168821197, 'cheer': 4.717506315382343, 'up': 4.717506315382343, '청춘': 4.717506315382343, '시상식': 4.316499971163417, '노래방': 2.3432561327249735, '댄스팝': 4.613138355637268, '청량한': 4.613138355637268, '스웨덴': 4.613138355637268, '혼자': 2.738499746704494, '고독': 3.6366110255681794, '낙엽': 3.6366110255681794, '라디오': 3.859014654880893, '다가오는': 5.301312875527835, '드라마': 3.1756563226063883, '삽입곡': 3.1756563226063883, '영화': 3.1756563226063883, '넷플릭스': 4.774168081583575, '신남': 3.20930637385205, '고민': 3.20930637385205, '하우스': 3.0237669756719714, '빈첸': 3.502355531348903, '김하': 3.502355531348903, '온': 3.502355531348903, '고등': 3.502355531348903, '딕': 3.502355531348903, '키프': 3.502355531348903, '클랜': 3.502355531348903, '비투비': 4.180324941966854, '늦더위': 4.613138355637268, '듀엣': 3.005301724570142, '여자': 3.005301724570142, '그룹': 3.005301724570142, '혼성': 3.005301724570142, '기억': 3.905661349522498, '아픔': 3.905661349522498, '쓸쓸한': 4.613138355637268, '보사노바': 4.8342958089798485, '한강': 4.149069461911347, '맥주': 3.673375267577971, '현실': 2.6987478084398964, '애절한': 2.6987478084398964, '석양': 4.774168081583575, '먹': 4.774168081583575, '먹한': 4.774168081583575, '향수': 4.774168081583575, 'tv': 2.4671829411233044, '전율': 2.4671829411233044, '르네상스': 2.4671829411233044, '히트': 2.4671829411233044, '파티': 4.663935495214343, '인기': 4.663935495214343, '일렉트로닉': 4.663935495214343, '깨어나라': 4.898337188670442, '셋': 5.40617476240445, '공연': 5.40617476240445, '알앤비': 3.371173682640453, 'best': 4.663935495214343, '피쉬': 4.663935495214343, '슈즈': 4.663935495214343, '아티스트': 4.663935495214343, 'chill': 2.9694643467333806, '금요일': 2.9694643467333806, '크로스오버': 4.033256870242263, '샘플링': 4.033256870242263, '리메이크': 4.033256870242263, '신보라': 3.793043602235516, '김범수': 3.793043602235516, '김조한': 3.793043602235516, '가스펠': 3.793043602235516, '박지헌': 3.793043602235516, '나얼': 3.793043602235516, '찬양': 3.793043602235516, '박정현': 3.793043602235516, '이재훈': 3.793043602235516, '땅콩': 4.613138355637268, '막걸리': 4.613138355637268, '한잔': 4.613138355637268, '치맥': 4.613138355637268, '소주': 4.613138355637268, '모임': 4.613138355637268, '갬': 3.711618941083426, '성': 3.711618941083426, '섹시': 3.711618941083426, 'rmusic': 2.996208350687477, '태형': 2.996208350687477, '활기찬': 4.613138355637268, '씨잼': 3.2929466905820957, '기리보이': 3.2929466905820957, '나플': 3.2929466905820957, '블랙': 3.2929466905820957, '넛': 3.2929466905820957, '스윙스': 3.2929466905820957, 'dark': 3.2442306692036733, '어둠': 3.2442306692036733, '웅장': 3.2442306692036733, '함': 3.2442306692036733, '어': 3.2442306692036733, '두운': 3.2442306692036733, '플랫': 4.39247189253542, '화이트': 4.39247189253542, '더운': 4.39247189253542, '아이스': 4.39247189253542}\n"
     ]
    }
   ],
   "source": [
    "song_num_dict, song_num_max = make_song_num_dict(preprocessed_plist)\n",
    "tag_weights = {tag: np.log(song_num_max / cnt + 1) for tag, cnt in song_num_dict.items()}\n",
    "tag_weights_all = {tag: np.log(len(song_tag_appended) / cnt + 1) for tag, cnt in song_num_dict.items()}\n",
    "print(tag_weights)\n",
    "\n",
    "song_tag_appended['gnr_literal'] = song_tag_appended['gnr'].apply(lambda x : (' ').join(x))"
   ]
  },
  {
   "cell_type": "code",
   "execution_count": 76,
   "id": "7b2b8fd8",
   "metadata": {},
   "outputs": [],
   "source": [
    "#test_data_sample = train_data[500:1000].copy()\n",
    "test_data_sample = preprocessed_plist.copy()\n",
    "test_data_sample = test_data_sample.reset_index(drop=True)\n",
    "test_my_tags = test_data_sample['tags'].tolist()\n",
    "test_my_songs = test_data_sample['song_id'].tolist()\n",
    "\n",
    "weight_mat_cv = []\n",
    "weight_mat_tf = []\n",
    "\n",
    "weight_mat_cv.append(apply_genre_weight(get_embedding(song_tag_appended, 'cv'), 0))\n",
    "weight_mat_cv.append(apply_genre_weight(get_embedding(song_tag_appended, 'cv'), 1))\n",
    "\n",
    "weight_mat_tf.append(apply_genre_weight(get_embedding(song_tag_appended, 'tf'), 0))\n",
    "weight_mat_tf.append(apply_genre_weight(get_embedding(song_tag_appended, 'tf'), 1))"
   ]
  },
  {
   "cell_type": "markdown",
   "id": "2dc93766",
   "metadata": {},
   "source": [
    "## 결과 (2)"
   ]
  },
  {
   "cell_type": "code",
   "execution_count": 78,
   "id": "53d6cadb",
   "metadata": {},
   "outputs": [
    {
     "name": "stdout",
     "output_type": "stream",
     "text": [
      "Recommend Model : 1, Simi_mode : cos, Tag : False, Genre : False, Like : False, Mode : cv, Genre Weight Mode : 0, Tag Weight Mode : 0, Like Weight Mode : 0\n",
      "MAP@K (K=10): 0.287\n",
      "nDCG: 0.529\n",
      "Recommend Model : 1, Simi_mode : cos, Tag : True, Genre : False, Like : False, Mode : cv, Genre Weight Mode : 0, Tag Weight Mode : 0, Like Weight Mode : 0\n",
      "MAP@K (K=10): 0.281\n",
      "nDCG: 0.517\n",
      "Recommend Model : 1, Simi_mode : cos, Tag : True, Genre : False, Like : False, Mode : cv, Genre Weight Mode : 0, Tag Weight Mode : 1, Like Weight Mode : 0\n",
      "MAP@K (K=10): 0.282\n",
      "nDCG: 0.528\n",
      "Recommend Model : 1, Simi_mode : cos, Tag : False, Genre : True, Like : False, Mode : cv, Genre Weight Mode : 0, Tag Weight Mode : 0, Like Weight Mode : 0\n",
      "MAP@K (K=10): 0.355\n",
      "nDCG: 0.623\n"
     ]
    }
   ],
   "source": [
    "# 1/36\n",
    "params_list = [\n",
    "    #recnum(1, 2) / simi_mode(cos, pea, jac) / 태그 / 장르 / 좋아요 / mode(cv/tf) / 장르 가중치 모드(0/1) / 좋아요 가중치 모드(0/1) / 태그 가중치 모드(0/1)\n",
    "    (1, 'cos', False, False, False, 'cv', 0, 0, 0),\n",
    "    (1, 'cos', True, False, False, 'cv', 0, 0, 0),\n",
    "    (1, 'cos', True, False, False, 'cv', 0, 0, 1),\n",
    "    (1, 'cos', False, True, False, 'cv', 0, 0, 0)\n",
    "]\n",
    "\n",
    "with multiprocessing.Pool(processes=4) as pool:\n",
    "    results = pool.starmap(process_fuc, [(param[0], test_my_songs, test_my_tags, song_tag_appended, param[1], param[2], param[3], param[4], \n",
    "                                         param[5], param[6], param[7], param[8], w2v, weight_mat_cv, weight_mat_tf, tag_weights, tag_weights_all) for param in params_list])\n",
    "    \n",
    "for result in results:\n",
    "    print(result)"
   ]
  },
  {
   "cell_type": "code",
   "execution_count": 79,
   "id": "c51fdf3f",
   "metadata": {},
   "outputs": [
    {
     "name": "stdout",
     "output_type": "stream",
     "text": [
      "Recommend Model : 1, Simi_mode : cos, Tag : False, Genre : True, Like : False, Mode : cv, Genre Weight Mode : 1, Tag Weight Mode : 0, Like Weight Mode : 0\n",
      "MAP@K (K=10): 0.303\n",
      "nDCG: 0.556\n",
      "Recommend Model : 1, Simi_mode : cos, Tag : True, Genre : True, Like : False, Mode : cv, Genre Weight Mode : 0, Tag Weight Mode : 0, Like Weight Mode : 0\n",
      "MAP@K (K=10): 0.354\n",
      "nDCG: 0.633\n",
      "Recommend Model : 1, Simi_mode : cos, Tag : True, Genre : True, Like : False, Mode : cv, Genre Weight Mode : 0, Tag Weight Mode : 1, Like Weight Mode : 0\n",
      "MAP@K (K=10): 0.343\n",
      "nDCG: 0.614\n",
      "Recommend Model : 1, Simi_mode : cos, Tag : True, Genre : True, Like : False, Mode : cv, Genre Weight Mode : 1, Tag Weight Mode : 0, Like Weight Mode : 0\n",
      "MAP@K (K=10): 0.293\n",
      "nDCG: 0.542\n"
     ]
    }
   ],
   "source": [
    "# 2/36\n",
    "params_list = [\n",
    "    #recnum(1, 2) / simi_mode(cos, pea, jac) / 태그 / 장르 / 좋아요 / mode(cv/tf) / 장르 가중치 모드(0/1) / 좋아요 가중치 모드(0/1) / 태그 가중치 모드(0/1)\n",
    "    (1, 'cos', False, True, False, 'cv', 1, 0, 0),\n",
    "    (1, 'cos', True, True, False, 'cv', 0, 0, 0),\n",
    "    (1, 'cos', True, True, False, 'cv', 0, 0, 1),\n",
    "    (1, 'cos', True, True, False, 'cv', 1, 0, 0)\n",
    "]\n",
    "\n",
    "with multiprocessing.Pool(processes=4) as pool:\n",
    "    results = pool.starmap(process_fuc, [(param[0], test_my_songs, test_my_tags, song_tag_appended, param[1], param[2], param[3], param[4], \n",
    "                                         param[5], param[6], param[7], param[8], w2v, weight_mat_cv, weight_mat_tf, tag_weights, tag_weights_all) for param in params_list])\n",
    "    \n",
    "for result in results:\n",
    "    print(result)"
   ]
  },
  {
   "cell_type": "code",
   "execution_count": 80,
   "id": "3e5fbba8",
   "metadata": {},
   "outputs": [
    {
     "name": "stdout",
     "output_type": "stream",
     "text": [
      "Recommend Model : 1, Simi_mode : cos, Tag : True, Genre : True, Like : False, Mode : cv, Genre Weight Mode : 1, Tag Weight Mode : 1, Like Weight Mode : 0\n",
      "MAP@K (K=10): 0.288\n",
      "nDCG: 0.554\n",
      "Recommend Model : 1, Simi_mode : cos, Tag : False, Genre : False, Like : False, Mode : tf, Genre Weight Mode : 0, Tag Weight Mode : 0, Like Weight Mode : 0\n",
      "MAP@K (K=10): 0.302\n",
      "nDCG: 0.549\n",
      "Recommend Model : 1, Simi_mode : cos, Tag : True, Genre : False, Like : False, Mode : tf, Genre Weight Mode : 0, Tag Weight Mode : 0, Like Weight Mode : 0\n",
      "MAP@K (K=10): 0.302\n",
      "nDCG: 0.527\n",
      "Recommend Model : 1, Simi_mode : cos, Tag : True, Genre : False, Like : False, Mode : tf, Genre Weight Mode : 0, Tag Weight Mode : 1, Like Weight Mode : 0\n",
      "MAP@K (K=10): 0.294\n",
      "nDCG: 0.559\n"
     ]
    }
   ],
   "source": [
    "# 3/36\n",
    "params_list = [\n",
    "    #recnum(1, 2) / simi_mode(cos, pea, jac) / 태그 / 장르 / 좋아요 / mode(cv/tf) / 장르 가중치 모드(0/1) / 좋아요 가중치 모드(0/1) / 태그 가중치 모드(0/1)\n",
    "    (1, 'cos', True, True, False, 'cv', 1, 0, 1),\n",
    "    (1, 'cos', False, False, False, 'tf', 0, 0, 0),\n",
    "    (1, 'cos', True, False, False, 'tf', 0, 0, 0),\n",
    "    (1, 'cos', True, False, False, 'tf', 0, 0, 1)\n",
    "]\n",
    "\n",
    "with multiprocessing.Pool(processes=4) as pool:\n",
    "    results = pool.starmap(process_fuc, [(param[0], test_my_songs, test_my_tags, song_tag_appended, param[1], param[2], param[3], param[4], \n",
    "                                         param[5], param[6], param[7], param[8], w2v, weight_mat_cv, weight_mat_tf, tag_weights, tag_weights_all) for param in params_list])\n",
    "    \n",
    "for result in results:\n",
    "    print(result)"
   ]
  },
  {
   "cell_type": "code",
   "execution_count": 82,
   "id": "3131ea4b",
   "metadata": {},
   "outputs": [
    {
     "name": "stdout",
     "output_type": "stream",
     "text": [
      "Recommend Model : 1, Simi_mode : cos, Tag : False, Genre : True, Like : False, Mode : tf, Genre Weight Mode : 0, Tag Weight Mode : 0, Like Weight Mode : 0\n",
      "MAP@K (K=10): 0.319\n",
      "nDCG: 0.582\n",
      "Recommend Model : 1, Simi_mode : cos, Tag : False, Genre : True, Like : False, Mode : tf, Genre Weight Mode : 1, Tag Weight Mode : 0, Like Weight Mode : 0\n",
      "MAP@K (K=10): 0.309\n",
      "nDCG: 0.560\n",
      "Recommend Model : 1, Simi_mode : cos, Tag : True, Genre : True, Like : False, Mode : tf, Genre Weight Mode : 0, Tag Weight Mode : 0, Like Weight Mode : 0\n",
      "MAP@K (K=10): 0.310\n",
      "nDCG: 0.561\n",
      "Recommend Model : 1, Simi_mode : cos, Tag : True, Genre : True, Like : False, Mode : tf, Genre Weight Mode : 0, Tag Weight Mode : 1, Like Weight Mode : 0\n",
      "MAP@K (K=10): 0.313\n",
      "nDCG: 0.575\n"
     ]
    }
   ],
   "source": [
    "# 4/36\n",
    "params_list = [\n",
    "    #recnum(1, 2) / simi_mode(cos, pea, jac) / 태그 / 장르 / 좋아요 / mode(cv/tf) / 장르 가중치 모드(0/1) / 좋아요 가중치 모드(0/1) / 태그 가중치 모드(0/1)\n",
    "    (1, 'cos', False, True, False, 'tf', 0, 0, 0),\n",
    "    (1, 'cos', False, True, False, 'tf', 1, 0, 0),\n",
    "    (1, 'cos', True, True, False, 'tf', 0, 0, 0),\n",
    "    (1, 'cos', True, True, False, 'tf', 0, 0, 1)\n",
    "]\n",
    "\n",
    "with multiprocessing.Pool(processes=4) as pool:\n",
    "    results = pool.starmap(process_fuc, [(param[0], test_my_songs, test_my_tags, song_tag_appended, param[1], param[2], param[3], param[4], \n",
    "                                         param[5], param[6], param[7], param[8], w2v, weight_mat_cv, weight_mat_tf, tag_weights, tag_weights_all) for param in params_list])\n",
    "    \n",
    "for result in results:\n",
    "    print(result)"
   ]
  },
  {
   "cell_type": "code",
   "execution_count": 83,
   "id": "656665ce",
   "metadata": {},
   "outputs": [
    {
     "name": "stdout",
     "output_type": "stream",
     "text": [
      "Recommend Model : 1, Simi_mode : cos, Tag : True, Genre : True, Like : False, Mode : tf, Genre Weight Mode : 1, Tag Weight Mode : 0, Like Weight Mode : 0\n",
      "MAP@K (K=10): 0.305\n",
      "nDCG: 0.564\n",
      "Recommend Model : 1, Simi_mode : cos, Tag : True, Genre : True, Like : False, Mode : tf, Genre Weight Mode : 1, Tag Weight Mode : 1, Like Weight Mode : 0\n",
      "MAP@K (K=10): 0.299\n",
      "nDCG: 0.549\n",
      "Recommend Model : 1, Simi_mode : pea, Tag : False, Genre : False, Like : False, Mode : cv, Genre Weight Mode : 0, Tag Weight Mode : 0, Like Weight Mode : 0\n",
      "MAP@K (K=10): 0.063\n",
      "nDCG: 0.161\n",
      "Recommend Model : 1, Simi_mode : pea, Tag : True, Genre : False, Like : False, Mode : cv, Genre Weight Mode : 0, Tag Weight Mode : 0, Like Weight Mode : 0\n",
      "MAP@K (K=10): 0.064\n",
      "nDCG: 0.177\n"
     ]
    }
   ],
   "source": [
    "# 5/36\n",
    "params_list = [\n",
    "    #recnum(1, 2) / simi_mode(cos, pea, jac) / 태그 / 장르 / 좋아요 / mode(cv/tf) / 장르 가중치 모드(0/1) / 좋아요 가중치 모드(0/1) / 태그 가중치 모드(0/1)\n",
    "    (1, 'cos', True, True, False, 'tf', 1, 0, 0),\n",
    "    (1, 'cos', True, True, False, 'tf', 1, 0, 1),\n",
    "    (1, 'pea', False, False, False, 'cv', 0, 0, 0),\n",
    "    (1, 'pea', True, False, False, 'cv', 0, 0, 0)\n",
    "]\n",
    "\n",
    "with multiprocessing.Pool(processes=4) as pool:\n",
    "    results = pool.starmap(process_fuc, [(param[0], test_my_songs, test_my_tags, song_tag_appended, param[1], param[2], param[3], param[4], \n",
    "                                         param[5], param[6], param[7], param[8], w2v, weight_mat_cv, weight_mat_tf, tag_weights, tag_weights_all) for param in params_list])\n",
    "    \n",
    "for result in results:\n",
    "    print(result)"
   ]
  },
  {
   "cell_type": "code",
   "execution_count": 84,
   "id": "85df0090",
   "metadata": {},
   "outputs": [
    {
     "name": "stdout",
     "output_type": "stream",
     "text": [
      "Recommend Model : 1, Simi_mode : pea, Tag : True, Genre : False, Like : False, Mode : cv, Genre Weight Mode : 0, Tag Weight Mode : 1, Like Weight Mode : 0\n",
      "MAP@K (K=10): 0.060\n",
      "nDCG: 0.158\n",
      "Recommend Model : 1, Simi_mode : pea, Tag : False, Genre : True, Like : False, Mode : cv, Genre Weight Mode : 0, Tag Weight Mode : 0, Like Weight Mode : 0\n",
      "MAP@K (K=10): 0.119\n",
      "nDCG: 0.284\n",
      "Recommend Model : 1, Simi_mode : pea, Tag : False, Genre : True, Like : False, Mode : cv, Genre Weight Mode : 1, Tag Weight Mode : 0, Like Weight Mode : 0\n",
      "MAP@K (K=10): 0.074\n",
      "nDCG: 0.184\n",
      "Recommend Model : 1, Simi_mode : pea, Tag : True, Genre : True, Like : False, Mode : cv, Genre Weight Mode : 0, Tag Weight Mode : 0, Like Weight Mode : 0\n",
      "MAP@K (K=10): 0.134\n",
      "nDCG: 0.303\n"
     ]
    }
   ],
   "source": [
    "# 6/36\n",
    "params_list = [\n",
    "    #recnum(1, 2) / simi_mode(cos, pea, jac) / 태그 / 장르 / 좋아요 / mode(cv/tf) / 장르 가중치 모드(0/1) / 좋아요 가중치 모드(0/1) / 태그 가중치 모드(0/1)\n",
    "    (1, 'pea', True, False, False, 'cv', 0, 0, 1),\n",
    "    (1, 'pea', False, True, False, 'cv', 0, 0, 0),\n",
    "    (1, 'pea', False, True, False, 'cv', 1, 0, 0),\n",
    "    (1, 'pea', True, True, False, 'cv', 0, 0, 0)\n",
    "]\n",
    "\n",
    "with multiprocessing.Pool(processes=4) as pool:\n",
    "    results = pool.starmap(process_fuc, [(param[0], test_my_songs, test_my_tags, song_tag_appended, param[1], param[2], param[3], param[4], \n",
    "                                         param[5], param[6], param[7], param[8], w2v, weight_mat_cv, weight_mat_tf, tag_weights, tag_weights_all) for param in params_list])\n",
    "    \n",
    "for result in results:\n",
    "    print(result)"
   ]
  },
  {
   "cell_type": "code",
   "execution_count": 86,
   "id": "f6fcef5a",
   "metadata": {},
   "outputs": [
    {
     "name": "stdout",
     "output_type": "stream",
     "text": [
      "Recommend Model : 1, Simi_mode : pea, Tag : True, Genre : True, Like : False, Mode : cv, Genre Weight Mode : 0, Tag Weight Mode : 1, Like Weight Mode : 0\n",
      "MAP@K (K=10): 0.116\n",
      "nDCG: 0.274\n",
      "Recommend Model : 1, Simi_mode : pea, Tag : True, Genre : True, Like : False, Mode : cv, Genre Weight Mode : 1, Tag Weight Mode : 0, Like Weight Mode : 0\n",
      "MAP@K (K=10): 0.068\n",
      "nDCG: 0.185\n",
      "Recommend Model : 1, Simi_mode : pea, Tag : True, Genre : True, Like : False, Mode : cv, Genre Weight Mode : 1, Tag Weight Mode : 1, Like Weight Mode : 0\n",
      "MAP@K (K=10): 0.062\n",
      "nDCG: 0.163\n",
      "Recommend Model : 1, Simi_mode : pea, Tag : False, Genre : False, Like : False, Mode : tf, Genre Weight Mode : 0, Tag Weight Mode : 0, Like Weight Mode : 0\n",
      "MAP@K (K=10): 0.055\n",
      "nDCG: 0.157\n"
     ]
    }
   ],
   "source": [
    "# 7/36\n",
    "params_list = [\n",
    "    #recnum(1, 2) / simi_mode(cos, pea, jac) / 태그 / 장르 / 좋아요 / mode(cv/tf) / 장르 가중치 모드(0/1) / 좋아요 가중치 모드(0/1) / 태그 가중치 모드(0/1)\n",
    "    (1, 'pea', True, True, False, 'cv', 0, 0, 1),\n",
    "    (1, 'pea', True, True, False, 'cv', 1, 0, 0),\n",
    "    (1, 'pea', True, True, False, 'cv', 1, 0, 1),\n",
    "    (1, 'pea', False, False, False, 'tf', 0, 0, 0)\n",
    "]\n",
    "\n",
    "with multiprocessing.Pool(processes=4) as pool:\n",
    "    results = pool.starmap(process_fuc, [(param[0], test_my_songs, test_my_tags, song_tag_appended, param[1], param[2], param[3], param[4], \n",
    "                                         param[5], param[6], param[7], param[8], w2v, weight_mat_cv, weight_mat_tf, tag_weights, tag_weights_all) for param in params_list])\n",
    "    \n",
    "for result in results:\n",
    "    print(result)"
   ]
  },
  {
   "cell_type": "code",
   "execution_count": 87,
   "id": "4e1e7523",
   "metadata": {},
   "outputs": [
    {
     "name": "stdout",
     "output_type": "stream",
     "text": [
      "Recommend Model : 1, Simi_mode : pea, Tag : True, Genre : False, Like : False, Mode : tf, Genre Weight Mode : 0, Tag Weight Mode : 0, Like Weight Mode : 0\n",
      "MAP@K (K=10): 0.063\n",
      "nDCG: 0.179\n",
      "Recommend Model : 1, Simi_mode : pea, Tag : True, Genre : False, Like : False, Mode : tf, Genre Weight Mode : 0, Tag Weight Mode : 1, Like Weight Mode : 0\n",
      "MAP@K (K=10): 0.054\n",
      "nDCG: 0.160\n",
      "Recommend Model : 1, Simi_mode : pea, Tag : False, Genre : True, Like : False, Mode : tf, Genre Weight Mode : 0, Tag Weight Mode : 0, Like Weight Mode : 0\n",
      "MAP@K (K=10): 0.076\n",
      "nDCG: 0.189\n",
      "Recommend Model : 1, Simi_mode : pea, Tag : False, Genre : True, Like : False, Mode : tf, Genre Weight Mode : 1, Tag Weight Mode : 0, Like Weight Mode : 0\n",
      "MAP@K (K=10): 0.071\n",
      "nDCG: 0.184\n"
     ]
    }
   ],
   "source": [
    "# 8/36\n",
    "params_list = [\n",
    "    #recnum(1, 2) / simi_mode(cos, pea, jac) / 태그 / 장르 / 좋아요 / mode(cv/tf) / 장르 가중치 모드(0/1) / 좋아요 가중치 모드(0/1) / 태그 가중치 모드(0/1)\n",
    "    (1, 'pea', True, False, False, 'tf', 0, 0, 0),\n",
    "    (1, 'pea', True, False, False, 'tf', 0, 0, 1),\n",
    "    (1, 'pea', False, True, False, 'tf', 0, 0, 0),\n",
    "    (1, 'pea', False, True, False, 'tf', 1, 0, 0)\n",
    "]\n",
    "\n",
    "with multiprocessing.Pool(processes=4) as pool:\n",
    "    results = pool.starmap(process_fuc, [(param[0], test_my_songs, test_my_tags, song_tag_appended, param[1], param[2], param[3], param[4], \n",
    "                                         param[5], param[6], param[7], param[8], w2v, weight_mat_cv, weight_mat_tf, tag_weights, tag_weights_all) for param in params_list])\n",
    "    \n",
    "for result in results:\n",
    "    print(result)"
   ]
  },
  {
   "cell_type": "code",
   "execution_count": 88,
   "id": "a6eb0a0a",
   "metadata": {},
   "outputs": [
    {
     "name": "stdout",
     "output_type": "stream",
     "text": [
      "Recommend Model : 1, Simi_mode : pea, Tag : True, Genre : True, Like : False, Mode : tf, Genre Weight Mode : 0, Tag Weight Mode : 0, Like Weight Mode : 0\n",
      "MAP@K (K=10): 0.080\n",
      "nDCG: 0.210\n",
      "Recommend Model : 1, Simi_mode : pea, Tag : True, Genre : True, Like : False, Mode : tf, Genre Weight Mode : 0, Tag Weight Mode : 1, Like Weight Mode : 0\n",
      "MAP@K (K=10): 0.079\n",
      "nDCG: 0.209\n",
      "Recommend Model : 1, Simi_mode : pea, Tag : True, Genre : True, Like : False, Mode : tf, Genre Weight Mode : 1, Tag Weight Mode : 0, Like Weight Mode : 0\n",
      "MAP@K (K=10): 0.067\n",
      "nDCG: 0.177\n",
      "Recommend Model : 1, Simi_mode : pea, Tag : True, Genre : True, Like : False, Mode : tf, Genre Weight Mode : 1, Tag Weight Mode : 1, Like Weight Mode : 0\n",
      "MAP@K (K=10): 0.072\n",
      "nDCG: 0.164\n"
     ]
    }
   ],
   "source": [
    "# 9/36\n",
    "params_list = [\n",
    "    #recnum(1, 2) / simi_mode(cos, pea, jac) / 태그 / 장르 / 좋아요 / mode(cv/tf) / 장르 가중치 모드(0/1) / 좋아요 가중치 모드(0/1) / 태그 가중치 모드(0/1)\n",
    "    (1, 'pea', True, True, False, 'tf', 0, 0, 0),\n",
    "    (1, 'pea', True, True, False, 'tf', 0, 0, 1),\n",
    "    (1, 'pea', True, True, False, 'tf', 1, 0, 0),\n",
    "    (1, 'pea', True, True, False, 'tf', 1, 0, 1)\n",
    "]\n",
    "\n",
    "with multiprocessing.Pool(processes=4) as pool:\n",
    "    results = pool.starmap(process_fuc, [(param[0], test_my_songs, test_my_tags, song_tag_appended, param[1], param[2], param[3], param[4], \n",
    "                                         param[5], param[6], param[7], param[8], w2v, weight_mat_cv, weight_mat_tf, tag_weights, tag_weights_all) for param in params_list])\n",
    "    \n",
    "for result in results:\n",
    "    print(result)"
   ]
  },
  {
   "cell_type": "code",
   "execution_count": 90,
   "id": "3ef32940",
   "metadata": {},
   "outputs": [
    {
     "name": "stdout",
     "output_type": "stream",
     "text": [
      "Recommend Model : 2, Simi_mode : cos, Tag : False, Genre : False, Like : False, Mode : cv, Genre Weight Mode : 0, Tag Weight Mode : 0, Like Weight Mode : 0\n",
      "MAP@K (K=10): 0.561\n",
      "nDCG: 0.729\n",
      "Recommend Model : 2, Simi_mode : cos, Tag : True, Genre : False, Like : False, Mode : cv, Genre Weight Mode : 0, Tag Weight Mode : 0, Like Weight Mode : 0\n",
      "MAP@K (K=10): 0.563\n",
      "nDCG: 0.727\n",
      "Recommend Model : 2, Simi_mode : cos, Tag : True, Genre : False, Like : False, Mode : cv, Genre Weight Mode : 0, Tag Weight Mode : 1, Like Weight Mode : 0\n",
      "MAP@K (K=10): 0.564\n",
      "nDCG: 0.732\n",
      "Recommend Model : 2, Simi_mode : cos, Tag : False, Genre : True, Like : False, Mode : cv, Genre Weight Mode : 0, Tag Weight Mode : 0, Like Weight Mode : 0\n",
      "MAP@K (K=10): 0.589\n",
      "nDCG: 0.758\n"
     ]
    }
   ],
   "source": [
    "# 10/36\n",
    "params_list = [\n",
    "    #recnum(1, 2) / simi_mode(cos, pea, jac) / 태그 / 장르 / 좋아요 / mode(cv/tf) / 장르 가중치 모드(0/1) / 좋아요 가중치 모드(0/1) / 태그 가중치 모드(0/1)\n",
    "    (2, 'cos', False, False, False, 'cv', 0, 0, 0),\n",
    "    (2, 'cos', True, False, False, 'cv', 0, 0, 0),\n",
    "    (2, 'cos', True, False, False, 'cv', 0, 0, 1),\n",
    "    (2, 'cos', False, True, False, 'cv', 0, 0, 0)\n",
    "]\n",
    "\n",
    "with multiprocessing.Pool(processes=4) as pool:\n",
    "    results = pool.starmap(process_fuc, [(param[0], test_my_songs, test_my_tags, song_tag_appended, param[1], param[2], param[3], param[4], \n",
    "                                         param[5], param[6], param[7], param[8], w2v, weight_mat_cv, weight_mat_tf, tag_weights, tag_weights_all) for param in params_list])\n",
    "    \n",
    "for result in results:\n",
    "    print(result)"
   ]
  },
  {
   "cell_type": "code",
   "execution_count": 91,
   "id": "050f69b6",
   "metadata": {},
   "outputs": [
    {
     "name": "stdout",
     "output_type": "stream",
     "text": [
      "Recommend Model : 2, Simi_mode : cos, Tag : False, Genre : True, Like : False, Mode : cv, Genre Weight Mode : 1, Tag Weight Mode : 0, Like Weight Mode : 0\n",
      "MAP@K (K=10): 0.597\n",
      "nDCG: 0.760\n",
      "Recommend Model : 2, Simi_mode : cos, Tag : True, Genre : True, Like : False, Mode : cv, Genre Weight Mode : 0, Tag Weight Mode : 0, Like Weight Mode : 0\n",
      "MAP@K (K=10): 0.595\n",
      "nDCG: 0.758\n",
      "Recommend Model : 2, Simi_mode : cos, Tag : True, Genre : True, Like : False, Mode : cv, Genre Weight Mode : 0, Tag Weight Mode : 1, Like Weight Mode : 0\n",
      "MAP@K (K=10): 0.594\n",
      "nDCG: 0.764\n",
      "Recommend Model : 2, Simi_mode : cos, Tag : True, Genre : True, Like : False, Mode : cv, Genre Weight Mode : 1, Tag Weight Mode : 0, Like Weight Mode : 0\n",
      "MAP@K (K=10): 0.598\n",
      "nDCG: 0.761\n"
     ]
    }
   ],
   "source": [
    "# 11/36\n",
    "params_list = [\n",
    "    #recnum(1, 2) / simi_mode(cos, pea, jac) / 태그 / 장르 / 좋아요 / mode(cv/tf) / 장르 가중치 모드(0/1) / 좋아요 가중치 모드(0/1) / 태그 가중치 모드(0/1)\n",
    "    (2, 'cos', False, True, False, 'cv', 1, 0, 0),\n",
    "    (2, 'cos', True, True, False, 'cv', 0, 0, 0),\n",
    "    (2, 'cos', True, True, False, 'cv', 0, 0, 1),\n",
    "    (2, 'cos', True, True, False, 'cv', 1, 0, 0)\n",
    "]\n",
    "\n",
    "with multiprocessing.Pool(processes=4) as pool:\n",
    "    results = pool.starmap(process_fuc, [(param[0], test_my_songs, test_my_tags, song_tag_appended, param[1], param[2], param[3], param[4], \n",
    "                                         param[5], param[6], param[7], param[8], w2v, weight_mat_cv, weight_mat_tf, tag_weights, tag_weights_all) for param in params_list])\n",
    "    \n",
    "for result in results:\n",
    "    print(result)"
   ]
  },
  {
   "cell_type": "code",
   "execution_count": 92,
   "id": "231a3a0c",
   "metadata": {},
   "outputs": [
    {
     "name": "stdout",
     "output_type": "stream",
     "text": [
      "Recommend Model : 2, Simi_mode : cos, Tag : True, Genre : True, Like : False, Mode : cv, Genre Weight Mode : 1, Tag Weight Mode : 1, Like Weight Mode : 0\n",
      "MAP@K (K=10): 0.599\n",
      "nDCG: 0.762\n",
      "Recommend Model : 2, Simi_mode : cos, Tag : False, Genre : False, Like : False, Mode : tf, Genre Weight Mode : 0, Tag Weight Mode : 0, Like Weight Mode : 0\n",
      "MAP@K (K=10): 0.563\n",
      "nDCG: 0.723\n",
      "Recommend Model : 2, Simi_mode : cos, Tag : True, Genre : False, Like : False, Mode : tf, Genre Weight Mode : 0, Tag Weight Mode : 0, Like Weight Mode : 0\n",
      "MAP@K (K=10): 0.562\n",
      "nDCG: 0.715\n",
      "Recommend Model : 2, Simi_mode : cos, Tag : True, Genre : False, Like : False, Mode : tf, Genre Weight Mode : 0, Tag Weight Mode : 1, Like Weight Mode : 0\n",
      "MAP@K (K=10): 0.569\n",
      "nDCG: 0.726\n"
     ]
    }
   ],
   "source": [
    "# 12/36\n",
    "params_list = [\n",
    "    #recnum(1, 2) / simi_mode(cos, pea, jac) / 태그 / 장르 / 좋아요 / mode(cv/tf) / 장르 가중치 모드(0/1) / 좋아요 가중치 모드(0/1) / 태그 가중치 모드(0/1)\n",
    "    (2, 'cos', True, True, False, 'cv', 1, 0, 1),\n",
    "    (2, 'cos', False, False, False, 'tf', 0, 0, 0),\n",
    "    (2, 'cos', True, False, False, 'tf', 0, 0, 0),\n",
    "    (2, 'cos', True, False, False, 'tf', 0, 0, 1)\n",
    "]\n",
    "\n",
    "with multiprocessing.Pool(processes=4) as pool:\n",
    "    results = pool.starmap(process_fuc, [(param[0], test_my_songs, test_my_tags, song_tag_appended, param[1], param[2], param[3], param[4], \n",
    "                                         param[5], param[6], param[7], param[8], w2v, weight_mat_cv, weight_mat_tf, tag_weights, tag_weights_all) for param in params_list])\n",
    "    \n",
    "for result in results:\n",
    "    print(result)"
   ]
  },
  {
   "cell_type": "code",
   "execution_count": 94,
   "id": "7ac9f085",
   "metadata": {},
   "outputs": [
    {
     "name": "stdout",
     "output_type": "stream",
     "text": [
      "Recommend Model : 2, Simi_mode : cos, Tag : False, Genre : True, Like : False, Mode : tf, Genre Weight Mode : 0, Tag Weight Mode : 0, Like Weight Mode : 0\n",
      "MAP@K (K=10): 0.564\n",
      "nDCG: 0.722\n",
      "Recommend Model : 2, Simi_mode : cos, Tag : False, Genre : True, Like : False, Mode : tf, Genre Weight Mode : 1, Tag Weight Mode : 0, Like Weight Mode : 0\n",
      "MAP@K (K=10): 0.591\n",
      "nDCG: 0.740\n",
      "Recommend Model : 2, Simi_mode : cos, Tag : True, Genre : True, Like : False, Mode : tf, Genre Weight Mode : 0, Tag Weight Mode : 0, Like Weight Mode : 0\n",
      "MAP@K (K=10): 0.567\n",
      "nDCG: 0.723\n",
      "Recommend Model : 2, Simi_mode : cos, Tag : True, Genre : True, Like : False, Mode : tf, Genre Weight Mode : 0, Tag Weight Mode : 1, Like Weight Mode : 0\n",
      "MAP@K (K=10): 0.565\n",
      "nDCG: 0.722\n"
     ]
    }
   ],
   "source": [
    "# 13/36\n",
    "params_list = [\n",
    "    #recnum(1, 2) / simi_mode(cos, pea, jac) / 태그 / 장르 / 좋아요 / mode(cv/tf) / 장르 가중치 모드(0/1) / 좋아요 가중치 모드(0/1) / 태그 가중치 모드(0/1)\n",
    "    (2, 'cos', False, True, False, 'tf', 0, 0, 0),\n",
    "    (2, 'cos', False, True, False, 'tf', 1, 0, 0),\n",
    "    (2, 'cos', True, True, False, 'tf', 0, 0, 0),\n",
    "    (2, 'cos', True, True, False, 'tf', 0, 0, 1)\n",
    "]\n",
    "\n",
    "with multiprocessing.Pool(processes=4) as pool:\n",
    "    results = pool.starmap(process_fuc, [(param[0], test_my_songs, test_my_tags, song_tag_appended, param[1], param[2], param[3], param[4], \n",
    "                                         param[5], param[6], param[7], param[8], w2v, weight_mat_cv, weight_mat_tf, tag_weights, tag_weights_all) for param in params_list])\n",
    "    \n",
    "for result in results:\n",
    "    print(result)"
   ]
  },
  {
   "cell_type": "code",
   "execution_count": 95,
   "id": "3b6a4f5e",
   "metadata": {},
   "outputs": [
    {
     "name": "stdout",
     "output_type": "stream",
     "text": [
      "Recommend Model : 2, Simi_mode : cos, Tag : True, Genre : True, Like : False, Mode : tf, Genre Weight Mode : 1, Tag Weight Mode : 0, Like Weight Mode : 0\n",
      "MAP@K (K=10): 0.590\n",
      "nDCG: 0.739\n",
      "Recommend Model : 2, Simi_mode : cos, Tag : True, Genre : True, Like : False, Mode : tf, Genre Weight Mode : 1, Tag Weight Mode : 1, Like Weight Mode : 0\n",
      "MAP@K (K=10): 0.590\n",
      "nDCG: 0.738\n",
      "Recommend Model : 2, Simi_mode : pea, Tag : False, Genre : False, Like : False, Mode : cv, Genre Weight Mode : 0, Tag Weight Mode : 0, Like Weight Mode : 0\n",
      "MAP@K (K=10): 0.077\n",
      "nDCG: 0.182\n",
      "Recommend Model : 2, Simi_mode : pea, Tag : True, Genre : False, Like : False, Mode : cv, Genre Weight Mode : 0, Tag Weight Mode : 0, Like Weight Mode : 0\n",
      "MAP@K (K=10): 0.078\n",
      "nDCG: 0.184\n"
     ]
    }
   ],
   "source": [
    "# 14/36\n",
    "params_list = [\n",
    "    #recnum(1, 2) / simi_mode(cos, pea, jac) / 태그 / 장르 / 좋아요 / mode(cv/tf) / 장르 가중치 모드(0/1) / 좋아요 가중치 모드(0/1) / 태그 가중치 모드(0/1)\n",
    "    (2, 'cos', True, True, False, 'tf', 1, 0, 0),\n",
    "    (2, 'cos', True, True, False, 'tf', 1, 0, 1),\n",
    "    (2, 'pea', False, False, False, 'cv', 0, 0, 0),\n",
    "    (2, 'pea', True, False, False, 'cv', 0, 0, 0)\n",
    "]\n",
    "\n",
    "with multiprocessing.Pool(processes=4) as pool:\n",
    "    results = pool.starmap(process_fuc, [(param[0], test_my_songs, test_my_tags, song_tag_appended, param[1], param[2], param[3], param[4], \n",
    "                                         param[5], param[6], param[7], param[8], w2v, weight_mat_cv, weight_mat_tf, tag_weights, tag_weights_all) for param in params_list])\n",
    "    \n",
    "for result in results:\n",
    "    print(result)"
   ]
  },
  {
   "cell_type": "code",
   "execution_count": 96,
   "id": "d2e890d8",
   "metadata": {},
   "outputs": [
    {
     "name": "stdout",
     "output_type": "stream",
     "text": [
      "Recommend Model : 2, Simi_mode : pea, Tag : True, Genre : False, Like : False, Mode : cv, Genre Weight Mode : 0, Tag Weight Mode : 1, Like Weight Mode : 0\n",
      "MAP@K (K=10): 0.078\n",
      "nDCG: 0.185\n",
      "Recommend Model : 2, Simi_mode : pea, Tag : False, Genre : True, Like : False, Mode : cv, Genre Weight Mode : 0, Tag Weight Mode : 0, Like Weight Mode : 0\n",
      "MAP@K (K=10): 0.124\n",
      "nDCG: 0.264\n",
      "Recommend Model : 2, Simi_mode : pea, Tag : False, Genre : True, Like : False, Mode : cv, Genre Weight Mode : 1, Tag Weight Mode : 0, Like Weight Mode : 0\n",
      "MAP@K (K=10): 0.088\n",
      "nDCG: 0.199\n",
      "Recommend Model : 2, Simi_mode : pea, Tag : True, Genre : True, Like : False, Mode : cv, Genre Weight Mode : 0, Tag Weight Mode : 0, Like Weight Mode : 0\n",
      "MAP@K (K=10): 0.125\n",
      "nDCG: 0.265\n"
     ]
    }
   ],
   "source": [
    "# 15/36\n",
    "params_list = [\n",
    "    #recnum(1, 2) / simi_mode(cos, pea, jac) / 태그 / 장르 / 좋아요 / mode(cv/tf) / 장르 가중치 모드(0/1) / 좋아요 가중치 모드(0/1) / 태그 가중치 모드(0/1)\n",
    "    (2, 'pea', True, False, False, 'cv', 0, 0, 1),\n",
    "    (2, 'pea', False, True, False, 'cv', 0, 0, 0),\n",
    "    (2, 'pea', False, True, False, 'cv', 1, 0, 0),\n",
    "    (2, 'pea', True, True, False, 'cv', 0, 0, 0)\n",
    "]\n",
    "\n",
    "with multiprocessing.Pool(processes=4) as pool:\n",
    "    results = pool.starmap(process_fuc, [(param[0], test_my_songs, test_my_tags, song_tag_appended, param[1], param[2], param[3], param[4], \n",
    "                                         param[5], param[6], param[7], param[8], w2v, weight_mat_cv, weight_mat_tf, tag_weights, tag_weights_all) for param in params_list])\n",
    "    \n",
    "for result in results:\n",
    "    print(result)"
   ]
  },
  {
   "cell_type": "code",
   "execution_count": 98,
   "id": "e7bf7ef6",
   "metadata": {},
   "outputs": [
    {
     "name": "stdout",
     "output_type": "stream",
     "text": [
      "Recommend Model : 2, Simi_mode : pea, Tag : True, Genre : True, Like : False, Mode : cv, Genre Weight Mode : 0, Tag Weight Mode : 1, Like Weight Mode : 0\n",
      "MAP@K (K=10): 0.125\n",
      "nDCG: 0.266\n",
      "Recommend Model : 2, Simi_mode : pea, Tag : True, Genre : True, Like : False, Mode : cv, Genre Weight Mode : 1, Tag Weight Mode : 0, Like Weight Mode : 0\n",
      "MAP@K (K=10): 0.089\n",
      "nDCG: 0.201\n",
      "Recommend Model : 2, Simi_mode : pea, Tag : True, Genre : True, Like : False, Mode : cv, Genre Weight Mode : 1, Tag Weight Mode : 1, Like Weight Mode : 0\n",
      "MAP@K (K=10): 0.090\n",
      "nDCG: 0.204\n",
      "Recommend Model : 2, Simi_mode : pea, Tag : False, Genre : False, Like : False, Mode : tf, Genre Weight Mode : 0, Tag Weight Mode : 0, Like Weight Mode : 0\n",
      "MAP@K (K=10): 0.084\n",
      "nDCG: 0.210\n"
     ]
    }
   ],
   "source": [
    "# 16/36\n",
    "params_list = [\n",
    "    #recnum(1, 2) / simi_mode(cos, pea, jac) / 태그 / 장르 / 좋아요 / mode(cv/tf) / 장르 가중치 모드(0/1) / 좋아요 가중치 모드(0/1) / 태그 가중치 모드(0/1)\n",
    "    (2, 'pea', True, True, False, 'cv', 0, 0, 1),\n",
    "    (2, 'pea', True, True, False, 'cv', 1, 0, 0),\n",
    "    (2, 'pea', True, True, False, 'cv', 1, 0, 1),\n",
    "    (2, 'pea', False, False, False, 'tf', 0, 0, 0)\n",
    "]\n",
    "\n",
    "with multiprocessing.Pool(processes=4) as pool:\n",
    "    results = pool.starmap(process_fuc, [(param[0], test_my_songs, test_my_tags, song_tag_appended, param[1], param[2], param[3], param[4], \n",
    "                                         param[5], param[6], param[7], param[8], w2v, weight_mat_cv, weight_mat_tf, tag_weights, tag_weights_all) for param in params_list])\n",
    "    \n",
    "for result in results:\n",
    "    print(result)"
   ]
  },
  {
   "cell_type": "code",
   "execution_count": 99,
   "id": "51162bb9",
   "metadata": {},
   "outputs": [
    {
     "name": "stdout",
     "output_type": "stream",
     "text": [
      "Recommend Model : 2, Simi_mode : pea, Tag : True, Genre : False, Like : False, Mode : tf, Genre Weight Mode : 0, Tag Weight Mode : 0, Like Weight Mode : 0\n",
      "MAP@K (K=10): 0.086\n",
      "nDCG: 0.212\n",
      "Recommend Model : 2, Simi_mode : pea, Tag : True, Genre : False, Like : False, Mode : tf, Genre Weight Mode : 0, Tag Weight Mode : 1, Like Weight Mode : 0\n",
      "MAP@K (K=10): 0.086\n",
      "nDCG: 0.212\n",
      "Recommend Model : 2, Simi_mode : pea, Tag : False, Genre : True, Like : False, Mode : tf, Genre Weight Mode : 0, Tag Weight Mode : 0, Like Weight Mode : 0\n",
      "MAP@K (K=10): 0.096\n",
      "nDCG: 0.217\n",
      "Recommend Model : 2, Simi_mode : pea, Tag : False, Genre : True, Like : False, Mode : tf, Genre Weight Mode : 1, Tag Weight Mode : 0, Like Weight Mode : 0\n",
      "MAP@K (K=10): 0.106\n",
      "nDCG: 0.231\n"
     ]
    }
   ],
   "source": [
    "# 17/36\n",
    "params_list = [\n",
    "    #recnum(1, 2) / simi_mode(cos, pea, jac) / 태그 / 장르 / 좋아요 / mode(cv/tf) / 장르 가중치 모드(0/1) / 좋아요 가중치 모드(0/1) / 태그 가중치 모드(0/1)\n",
    "    (2, 'pea', True, False, False, 'tf', 0, 0, 0),\n",
    "    (2, 'pea', True, False, False, 'tf', 0, 0, 1),\n",
    "    (2, 'pea', False, True, False, 'tf', 0, 0, 0),\n",
    "    (2, 'pea', False, True, False, 'tf', 1, 0, 0)\n",
    "]\n",
    "\n",
    "with multiprocessing.Pool(processes=4) as pool:\n",
    "    results = pool.starmap(process_fuc, [(param[0], test_my_songs, test_my_tags, song_tag_appended, param[1], param[2], param[3], param[4], \n",
    "                                         param[5], param[6], param[7], param[8], w2v, weight_mat_cv, weight_mat_tf, tag_weights, tag_weights_all) for param in params_list])\n",
    "    \n",
    "for result in results:\n",
    "    print(result)"
   ]
  },
  {
   "cell_type": "code",
   "execution_count": 100,
   "id": "2256748e",
   "metadata": {},
   "outputs": [
    {
     "name": "stdout",
     "output_type": "stream",
     "text": [
      "Recommend Model : 2, Simi_mode : pea, Tag : True, Genre : True, Like : False, Mode : tf, Genre Weight Mode : 0, Tag Weight Mode : 0, Like Weight Mode : 0\n",
      "MAP@K (K=10): 0.097\n",
      "nDCG: 0.217\n",
      "Recommend Model : 2, Simi_mode : pea, Tag : True, Genre : True, Like : False, Mode : tf, Genre Weight Mode : 0, Tag Weight Mode : 1, Like Weight Mode : 0\n",
      "MAP@K (K=10): 0.096\n",
      "nDCG: 0.217\n",
      "Recommend Model : 2, Simi_mode : pea, Tag : True, Genre : True, Like : False, Mode : tf, Genre Weight Mode : 1, Tag Weight Mode : 0, Like Weight Mode : 0\n",
      "MAP@K (K=10): 0.108\n",
      "nDCG: 0.234\n",
      "Recommend Model : 2, Simi_mode : pea, Tag : True, Genre : True, Like : False, Mode : tf, Genre Weight Mode : 1, Tag Weight Mode : 1, Like Weight Mode : 0\n",
      "MAP@K (K=10): 0.109\n",
      "nDCG: 0.235\n"
     ]
    }
   ],
   "source": [
    "# 18/36\n",
    "params_list = [\n",
    "    #recnum(1, 2) / simi_mode(cos, pea, jac) / 태그 / 장르 / 좋아요 / mode(cv/tf) / 장르 가중치 모드(0/1) / 좋아요 가중치 모드(0/1) / 태그 가중치 모드(0/1)\n",
    "    (2, 'pea', True, True, False, 'tf', 0, 0, 0),\n",
    "    (2, 'pea', True, True, False, 'tf', 0, 0, 1),\n",
    "    (2, 'pea', True, True, False, 'tf', 1, 0, 0),\n",
    "    (2, 'pea', True, True, False, 'tf', 1, 0, 1)\n",
    "]\n",
    "\n",
    "with multiprocessing.Pool(processes=4) as pool:\n",
    "    results = pool.starmap(process_fuc, [(param[0], test_my_songs, test_my_tags, song_tag_appended, param[1], param[2], param[3], param[4], \n",
    "                                         param[5], param[6], param[7], param[8], w2v, weight_mat_cv, weight_mat_tf, tag_weights, tag_weights_all) for param in params_list])\n",
    "    \n",
    "for result in results:\n",
    "    print(result)"
   ]
  },
  {
   "cell_type": "code",
   "execution_count": 102,
   "id": "ceb8e313",
   "metadata": {},
   "outputs": [
    {
     "name": "stdout",
     "output_type": "stream",
     "text": [
      "Recommend Model : 1, Simi_mode : cos, Tag : False, Genre : False, Like : True, Mode : cv, Genre Weight Mode : 0, Tag Weight Mode : 0, Like Weight Mode : 0\n",
      "MAP@K (K=10): 0.251\n",
      "nDCG: 0.437\n",
      "Recommend Model : 1, Simi_mode : cos, Tag : True, Genre : False, Like : True, Mode : cv, Genre Weight Mode : 0, Tag Weight Mode : 0, Like Weight Mode : 0\n",
      "MAP@K (K=10): 0.250\n",
      "nDCG: 0.439\n",
      "Recommend Model : 1, Simi_mode : cos, Tag : True, Genre : False, Like : True, Mode : cv, Genre Weight Mode : 0, Tag Weight Mode : 1, Like Weight Mode : 0\n",
      "MAP@K (K=10): 0.249\n",
      "nDCG: 0.435\n",
      "Recommend Model : 1, Simi_mode : cos, Tag : False, Genre : True, Like : True, Mode : cv, Genre Weight Mode : 0, Tag Weight Mode : 0, Like Weight Mode : 0\n",
      "MAP@K (K=10): 0.310\n",
      "nDCG: 0.518\n"
     ]
    }
   ],
   "source": [
    "# 19/36\n",
    "params_list = [\n",
    "    #recnum(1, 2) / simi_mode(cos, pea, jac) / 태그 / 장르 / 좋아요 / mode(cv/tf) / 장르 가중치 모드(0/1) / 좋아요 가중치 모드(0/1) / 태그 가중치 모드(0/1)\n",
    "    (1, 'cos', False, False, True, 'cv', 0, 0, 0),\n",
    "    (1, 'cos', True, False, True, 'cv', 0, 0, 0),\n",
    "    (1, 'cos', True, False, True, 'cv', 0, 0, 1),\n",
    "    (1, 'cos', False, True, True, 'cv', 0, 0, 0)\n",
    "]\n",
    "\n",
    "with multiprocessing.Pool(processes=4) as pool:\n",
    "    results = pool.starmap(process_fuc, [(param[0], test_my_songs, test_my_tags, song_tag_appended, param[1], param[2], param[3], param[4], \n",
    "                                         param[5], param[6], param[7], param[8], w2v, weight_mat_cv, weight_mat_tf, tag_weights, tag_weights_all) for param in params_list])\n",
    "    \n",
    "for result in results:\n",
    "    print(result)"
   ]
  },
  {
   "cell_type": "code",
   "execution_count": 103,
   "id": "68aab29a",
   "metadata": {},
   "outputs": [
    {
     "name": "stdout",
     "output_type": "stream",
     "text": [
      "Recommend Model : 1, Simi_mode : cos, Tag : False, Genre : True, Like : True, Mode : cv, Genre Weight Mode : 1, Tag Weight Mode : 0, Like Weight Mode : 0\n",
      "MAP@K (K=10): 0.274\n",
      "nDCG: 0.468\n",
      "Recommend Model : 1, Simi_mode : cos, Tag : True, Genre : True, Like : True, Mode : cv, Genre Weight Mode : 0, Tag Weight Mode : 0, Like Weight Mode : 0\n",
      "MAP@K (K=10): 0.305\n",
      "nDCG: 0.511\n",
      "Recommend Model : 1, Simi_mode : cos, Tag : True, Genre : True, Like : True, Mode : cv, Genre Weight Mode : 0, Tag Weight Mode : 1, Like Weight Mode : 0\n",
      "MAP@K (K=10): 0.305\n",
      "nDCG: 0.504\n",
      "Recommend Model : 1, Simi_mode : cos, Tag : True, Genre : True, Like : True, Mode : cv, Genre Weight Mode : 1, Tag Weight Mode : 0, Like Weight Mode : 0\n",
      "MAP@K (K=10): 0.274\n",
      "nDCG: 0.470\n"
     ]
    }
   ],
   "source": [
    "# 20/36\n",
    "params_list = [\n",
    "    #recnum(1, 2) / simi_mode(cos, pea, jac) / 태그 / 장르 / 좋아요 / mode(cv/tf) / 장르 가중치 모드(0/1) / 좋아요 가중치 모드(0/1) / 태그 가중치 모드(0/1)\n",
    "    (1, 'cos', False, True, True, 'cv', 1, 0, 0),\n",
    "    (1, 'cos', True, True, True, 'cv', 0, 0, 0),\n",
    "    (1, 'cos', True, True, True, 'cv', 0, 0, 1),\n",
    "    (1, 'cos', True, True, True, 'cv', 1, 0, 0)\n",
    "]\n",
    "\n",
    "with multiprocessing.Pool(processes=4) as pool:\n",
    "    results = pool.starmap(process_fuc, [(param[0], test_my_songs, test_my_tags, song_tag_appended, param[1], param[2], param[3], param[4], \n",
    "                                         param[5], param[6], param[7], param[8], w2v, weight_mat_cv, weight_mat_tf, tag_weights, tag_weights_all) for param in params_list])\n",
    "    \n",
    "for result in results:\n",
    "    print(result)"
   ]
  },
  {
   "cell_type": "code",
   "execution_count": 104,
   "id": "aaf8aaaf",
   "metadata": {},
   "outputs": [
    {
     "name": "stdout",
     "output_type": "stream",
     "text": [
      "Recommend Model : 1, Simi_mode : cos, Tag : True, Genre : True, Like : True, Mode : cv, Genre Weight Mode : 1, Tag Weight Mode : 1, Like Weight Mode : 0\n",
      "MAP@K (K=10): 0.274\n",
      "nDCG: 0.467\n",
      "Recommend Model : 1, Simi_mode : cos, Tag : False, Genre : False, Like : True, Mode : tf, Genre Weight Mode : 0, Tag Weight Mode : 0, Like Weight Mode : 0\n",
      "MAP@K (K=10): 0.266\n",
      "nDCG: 0.453\n",
      "Recommend Model : 1, Simi_mode : cos, Tag : True, Genre : False, Like : True, Mode : tf, Genre Weight Mode : 0, Tag Weight Mode : 0, Like Weight Mode : 0\n",
      "MAP@K (K=10): 0.264\n",
      "nDCG: 0.452\n",
      "Recommend Model : 1, Simi_mode : cos, Tag : True, Genre : False, Like : True, Mode : tf, Genre Weight Mode : 0, Tag Weight Mode : 1, Like Weight Mode : 0\n",
      "MAP@K (K=10): 0.267\n",
      "nDCG: 0.451\n"
     ]
    }
   ],
   "source": [
    "# 21/36\n",
    "params_list = [\n",
    "    #recnum(1, 2) / simi_mode(cos, pea, jac) / 태그 / 장르 / 좋아요 / mode(cv/tf) / 장르 가중치 모드(0/1) / 좋아요 가중치 모드(0/1) / 태그 가중치 모드(0/1)\n",
    "    (1, 'cos', True, True, True, 'cv', 1, 0, 1),\n",
    "    (1, 'cos', False, False, True, 'tf', 0, 0, 0),\n",
    "    (1, 'cos', True, False, True, 'tf', 0, 0, 0),\n",
    "    (1, 'cos', True, False, True, 'tf', 0, 0, 1)\n",
    "]\n",
    "\n",
    "with multiprocessing.Pool(processes=4) as pool:\n",
    "    results = pool.starmap(process_fuc, [(param[0], test_my_songs, test_my_tags, song_tag_appended, param[1], param[2], param[3], param[4], \n",
    "                                         param[5], param[6], param[7], param[8], w2v, weight_mat_cv, weight_mat_tf, tag_weights, tag_weights_all) for param in params_list])\n",
    "    \n",
    "for result in results:\n",
    "    print(result)"
   ]
  },
  {
   "cell_type": "code",
   "execution_count": 106,
   "id": "36498900",
   "metadata": {},
   "outputs": [
    {
     "name": "stdout",
     "output_type": "stream",
     "text": [
      "Recommend Model : 1, Simi_mode : cos, Tag : False, Genre : True, Like : True, Mode : tf, Genre Weight Mode : 0, Tag Weight Mode : 0, Like Weight Mode : 0\n",
      "MAP@K (K=10): 0.285\n",
      "nDCG: 0.477\n",
      "Recommend Model : 1, Simi_mode : cos, Tag : False, Genre : True, Like : True, Mode : tf, Genre Weight Mode : 1, Tag Weight Mode : 0, Like Weight Mode : 0\n",
      "MAP@K (K=10): 0.281\n",
      "nDCG: 0.475\n",
      "Recommend Model : 1, Simi_mode : cos, Tag : True, Genre : True, Like : True, Mode : tf, Genre Weight Mode : 0, Tag Weight Mode : 0, Like Weight Mode : 0\n",
      "MAP@K (K=10): 0.282\n",
      "nDCG: 0.478\n",
      "Recommend Model : 1, Simi_mode : cos, Tag : True, Genre : True, Like : True, Mode : tf, Genre Weight Mode : 0, Tag Weight Mode : 1, Like Weight Mode : 0\n",
      "MAP@K (K=10): 0.284\n",
      "nDCG: 0.481\n"
     ]
    }
   ],
   "source": [
    "# 22/36\n",
    "params_list = [\n",
    "    #recnum(1, 2) / simi_mode(cos, pea, jac) / 태그 / 장르 / 좋아요 / mode(cv/tf) / 장르 가중치 모드(0/1) / 좋아요 가중치 모드(0/1) / 태그 가중치 모드(0/1)\n",
    "    (1, 'cos', False, True, True, 'tf', 0, 0, 0),\n",
    "    (1, 'cos', False, True, True, 'tf', 1, 0, 0),\n",
    "    (1, 'cos', True, True, True, 'tf', 0, 0, 0),\n",
    "    (1, 'cos', True, True, True, 'tf', 0, 0, 1)\n",
    "]\n",
    "\n",
    "with multiprocessing.Pool(processes=4) as pool:\n",
    "    results = pool.starmap(process_fuc, [(param[0], test_my_songs, test_my_tags, song_tag_appended, param[1], param[2], param[3], param[4], \n",
    "                                         param[5], param[6], param[7], param[8], w2v, weight_mat_cv, weight_mat_tf, tag_weights, tag_weights_all) for param in params_list])\n",
    "    \n",
    "for result in results:\n",
    "    print(result)"
   ]
  },
  {
   "cell_type": "code",
   "execution_count": 107,
   "id": "058d4373",
   "metadata": {},
   "outputs": [
    {
     "name": "stdout",
     "output_type": "stream",
     "text": [
      "Recommend Model : 1, Simi_mode : cos, Tag : True, Genre : True, Like : True, Mode : tf, Genre Weight Mode : 1, Tag Weight Mode : 0, Like Weight Mode : 0\n",
      "MAP@K (K=10): 0.280\n",
      "nDCG: 0.478\n",
      "Recommend Model : 1, Simi_mode : cos, Tag : True, Genre : True, Like : True, Mode : tf, Genre Weight Mode : 1, Tag Weight Mode : 1, Like Weight Mode : 0\n",
      "MAP@K (K=10): 0.281\n",
      "nDCG: 0.477\n",
      "Recommend Model : 1, Simi_mode : pea, Tag : False, Genre : False, Like : True, Mode : cv, Genre Weight Mode : 0, Tag Weight Mode : 0, Like Weight Mode : 0\n",
      "MAP@K (K=10): 0.024\n",
      "nDCG: 0.071\n",
      "Recommend Model : 1, Simi_mode : pea, Tag : True, Genre : False, Like : True, Mode : cv, Genre Weight Mode : 0, Tag Weight Mode : 0, Like Weight Mode : 0\n",
      "MAP@K (K=10): 0.025\n",
      "nDCG: 0.067\n"
     ]
    }
   ],
   "source": [
    "# 23/36\n",
    "params_list = [\n",
    "    #recnum(1, 2) / simi_mode(cos, pea, jac) / 태그 / 장르 / 좋아요 / mode(cv/tf) / 장르 가중치 모드(0/1) / 좋아요 가중치 모드(0/1) / 태그 가중치 모드(0/1)\n",
    "    (1, 'cos', True, True, True, 'tf', 1, 0, 0),\n",
    "    (1, 'cos', True, True, True, 'tf', 1, 0, 1),\n",
    "    (1, 'pea', False, False, True, 'cv', 0, 0, 0),\n",
    "    (1, 'pea', True, False, True, 'cv', 0, 0, 0)\n",
    "]\n",
    "\n",
    "with multiprocessing.Pool(processes=4) as pool:\n",
    "    results = pool.starmap(process_fuc, [(param[0], test_my_songs, test_my_tags, song_tag_appended, param[1], param[2], param[3], param[4], \n",
    "                                         param[5], param[6], param[7], param[8], w2v, weight_mat_cv, weight_mat_tf, tag_weights, tag_weights_all) for param in params_list])\n",
    "    \n",
    "for result in results:\n",
    "    print(result)"
   ]
  },
  {
   "cell_type": "code",
   "execution_count": 108,
   "id": "47580fd7",
   "metadata": {},
   "outputs": [
    {
     "name": "stdout",
     "output_type": "stream",
     "text": [
      "Recommend Model : 1, Simi_mode : pea, Tag : True, Genre : False, Like : True, Mode : cv, Genre Weight Mode : 0, Tag Weight Mode : 1, Like Weight Mode : 0\n",
      "MAP@K (K=10): 0.026\n",
      "nDCG: 0.072\n",
      "Recommend Model : 1, Simi_mode : pea, Tag : False, Genre : True, Like : True, Mode : cv, Genre Weight Mode : 0, Tag Weight Mode : 0, Like Weight Mode : 0\n",
      "MAP@K (K=10): 0.033\n",
      "nDCG: 0.093\n",
      "Recommend Model : 1, Simi_mode : pea, Tag : False, Genre : True, Like : True, Mode : cv, Genre Weight Mode : 1, Tag Weight Mode : 0, Like Weight Mode : 0\n",
      "MAP@K (K=10): 0.026\n",
      "nDCG: 0.077\n",
      "Recommend Model : 1, Simi_mode : pea, Tag : True, Genre : True, Like : True, Mode : cv, Genre Weight Mode : 0, Tag Weight Mode : 0, Like Weight Mode : 0\n",
      "MAP@K (K=10): 0.029\n",
      "nDCG: 0.080\n"
     ]
    }
   ],
   "source": [
    "# 24/36\n",
    "params_list = [\n",
    "    #recnum(1, 2) / simi_mode(cos, pea, jac) / 태그 / 장르 / 좋아요 / mode(cv/tf) / 장르 가중치 모드(0/1) / 좋아요 가중치 모드(0/1) / 태그 가중치 모드(0/1)\n",
    "    (1, 'pea', True, False, True, 'cv', 0, 0, 1),\n",
    "    (1, 'pea', False, True, True, 'cv', 0, 0, 0),\n",
    "    (1, 'pea', False, True, True, 'cv', 1, 0, 0),\n",
    "    (1, 'pea', True, True, True, 'cv', 0, 0, 0)\n",
    "]\n",
    "\n",
    "with multiprocessing.Pool(processes=4) as pool:\n",
    "    results = pool.starmap(process_fuc, [(param[0], test_my_songs, test_my_tags, song_tag_appended, param[1], param[2], param[3], param[4], \n",
    "                                         param[5], param[6], param[7], param[8], w2v, weight_mat_cv, weight_mat_tf, tag_weights, tag_weights_all) for param in params_list])\n",
    "    \n",
    "for result in results:\n",
    "    print(result)"
   ]
  },
  {
   "cell_type": "code",
   "execution_count": 110,
   "id": "aec51e7f",
   "metadata": {},
   "outputs": [
    {
     "name": "stdout",
     "output_type": "stream",
     "text": [
      "Recommend Model : 1, Simi_mode : pea, Tag : True, Genre : True, Like : True, Mode : cv, Genre Weight Mode : 0, Tag Weight Mode : 1, Like Weight Mode : 0\n",
      "MAP@K (K=10): 0.032\n",
      "nDCG: 0.089\n",
      "Recommend Model : 1, Simi_mode : pea, Tag : True, Genre : True, Like : True, Mode : cv, Genre Weight Mode : 1, Tag Weight Mode : 0, Like Weight Mode : 0\n",
      "MAP@K (K=10): 0.028\n",
      "nDCG: 0.070\n",
      "Recommend Model : 1, Simi_mode : pea, Tag : True, Genre : True, Like : True, Mode : cv, Genre Weight Mode : 1, Tag Weight Mode : 1, Like Weight Mode : 0\n",
      "MAP@K (K=10): 0.028\n",
      "nDCG: 0.083\n",
      "Recommend Model : 1, Simi_mode : pea, Tag : False, Genre : False, Like : True, Mode : tf, Genre Weight Mode : 0, Tag Weight Mode : 0, Like Weight Mode : 0\n",
      "MAP@K (K=10): 0.024\n",
      "nDCG: 0.082\n"
     ]
    }
   ],
   "source": [
    "# 25/36\n",
    "params_list = [\n",
    "    #recnum(1, 2) / simi_mode(cos, pea, jac) / 태그 / 장르 / 좋아요 / mode(cv/tf) / 장르 가중치 모드(0/1) / 좋아요 가중치 모드(0/1) / 태그 가중치 모드(0/1)\n",
    "    (1, 'pea', True, True, True, 'cv', 0, 0, 1),\n",
    "    (1, 'pea', True, True, True, 'cv', 1, 0, 0),\n",
    "    (1, 'pea', True, True, True, 'cv', 1, 0, 1),\n",
    "    (1, 'pea', False, False, True, 'tf', 0, 0, 0)\n",
    "]\n",
    "\n",
    "with multiprocessing.Pool(processes=4) as pool:\n",
    "    results = pool.starmap(process_fuc, [(param[0], test_my_songs, test_my_tags, song_tag_appended, param[1], param[2], param[3], param[4], \n",
    "                                         param[5], param[6], param[7], param[8], w2v, weight_mat_cv, weight_mat_tf, tag_weights, tag_weights_all) for param in params_list])\n",
    "    \n",
    "for result in results:\n",
    "    print(result)"
   ]
  },
  {
   "cell_type": "code",
   "execution_count": 111,
   "id": "820c4bce",
   "metadata": {},
   "outputs": [
    {
     "name": "stdout",
     "output_type": "stream",
     "text": [
      "Recommend Model : 1, Simi_mode : pea, Tag : True, Genre : False, Like : True, Mode : tf, Genre Weight Mode : 0, Tag Weight Mode : 0, Like Weight Mode : 0\n",
      "MAP@K (K=10): 0.026\n",
      "nDCG: 0.076\n",
      "Recommend Model : 1, Simi_mode : pea, Tag : True, Genre : False, Like : True, Mode : tf, Genre Weight Mode : 0, Tag Weight Mode : 1, Like Weight Mode : 0\n",
      "MAP@K (K=10): 0.025\n",
      "nDCG: 0.078\n",
      "Recommend Model : 1, Simi_mode : pea, Tag : False, Genre : True, Like : True, Mode : tf, Genre Weight Mode : 0, Tag Weight Mode : 0, Like Weight Mode : 0\n",
      "MAP@K (K=10): 0.024\n",
      "nDCG: 0.079\n",
      "Recommend Model : 1, Simi_mode : pea, Tag : False, Genre : True, Like : True, Mode : tf, Genre Weight Mode : 1, Tag Weight Mode : 0, Like Weight Mode : 0\n",
      "MAP@K (K=10): 0.026\n",
      "nDCG: 0.079\n"
     ]
    }
   ],
   "source": [
    "# 26/36\n",
    "params_list = [\n",
    "    #recnum(1, 2) / simi_mode(cos, pea, jac) / 태그 / 장르 / 좋아요 / mode(cv/tf) / 장르 가중치 모드(0/1) / 좋아요 가중치 모드(0/1) / 태그 가중치 모드(0/1)\n",
    "    (1, 'pea', True, False, True, 'tf', 0, 0, 0),\n",
    "    (1, 'pea', True, False, True, 'tf', 0, 0, 1),\n",
    "    (1, 'pea', False, True, True, 'tf', 0, 0, 0),\n",
    "    (1, 'pea', False, True, True, 'tf', 1, 0, 0)\n",
    "]\n",
    "\n",
    "with multiprocessing.Pool(processes=4) as pool:\n",
    "    results = pool.starmap(process_fuc, [(param[0], test_my_songs, test_my_tags, song_tag_appended, param[1], param[2], param[3], param[4], \n",
    "                                         param[5], param[6], param[7], param[8], w2v, weight_mat_cv, weight_mat_tf, tag_weights, tag_weights_all) for param in params_list])\n",
    "    \n",
    "for result in results:\n",
    "    print(result)"
   ]
  },
  {
   "cell_type": "code",
   "execution_count": 112,
   "id": "f022816d",
   "metadata": {},
   "outputs": [
    {
     "name": "stdout",
     "output_type": "stream",
     "text": [
      "Recommend Model : 1, Simi_mode : pea, Tag : True, Genre : True, Like : True, Mode : tf, Genre Weight Mode : 0, Tag Weight Mode : 0, Like Weight Mode : 0\n",
      "MAP@K (K=10): 0.028\n",
      "nDCG: 0.085\n",
      "Recommend Model : 1, Simi_mode : pea, Tag : True, Genre : True, Like : True, Mode : tf, Genre Weight Mode : 0, Tag Weight Mode : 1, Like Weight Mode : 0\n",
      "MAP@K (K=10): 0.028\n",
      "nDCG: 0.085\n",
      "Recommend Model : 1, Simi_mode : pea, Tag : True, Genre : True, Like : True, Mode : tf, Genre Weight Mode : 1, Tag Weight Mode : 0, Like Weight Mode : 0\n",
      "MAP@K (K=10): 0.026\n",
      "nDCG: 0.073\n",
      "Recommend Model : 1, Simi_mode : pea, Tag : True, Genre : True, Like : True, Mode : tf, Genre Weight Mode : 1, Tag Weight Mode : 1, Like Weight Mode : 0\n",
      "MAP@K (K=10): 0.024\n",
      "nDCG: 0.072\n"
     ]
    }
   ],
   "source": [
    "# 27/36\n",
    "params_list = [\n",
    "    #recnum(1, 2) / simi_mode(cos, pea, jac) / 태그 / 장르 / 좋아요 / mode(cv/tf) / 장르 가중치 모드(0/1) / 좋아요 가중치 모드(0/1) / 태그 가중치 모드(0/1)\n",
    "    (1, 'pea', True, True, True, 'tf', 0, 0, 0),\n",
    "    (1, 'pea', True, True, True, 'tf', 0, 0, 1),\n",
    "    (1, 'pea', True, True, True, 'tf', 1, 0, 0),\n",
    "    (1, 'pea', True, True, True, 'tf', 1, 0, 1)\n",
    "]\n",
    "\n",
    "with multiprocessing.Pool(processes=4) as pool:\n",
    "    results = pool.starmap(process_fuc, [(param[0], test_my_songs, test_my_tags, song_tag_appended, param[1], param[2], param[3], param[4], \n",
    "                                         param[5], param[6], param[7], param[8], w2v, weight_mat_cv, weight_mat_tf, tag_weights, tag_weights_all) for param in params_list])\n",
    "    \n",
    "for result in results:\n",
    "    print(result)"
   ]
  },
  {
   "cell_type": "code",
   "execution_count": 114,
   "id": "aa693daa",
   "metadata": {},
   "outputs": [
    {
     "name": "stdout",
     "output_type": "stream",
     "text": [
      "Recommend Model : 2, Simi_mode : cos, Tag : False, Genre : False, Like : True, Mode : cv, Genre Weight Mode : 0, Tag Weight Mode : 0, Like Weight Mode : 0\n",
      "MAP@K (K=10): 0.474\n",
      "nDCG: 0.695\n",
      "Recommend Model : 2, Simi_mode : cos, Tag : True, Genre : False, Like : True, Mode : cv, Genre Weight Mode : 0, Tag Weight Mode : 0, Like Weight Mode : 0\n",
      "MAP@K (K=10): 0.474\n",
      "nDCG: 0.694\n",
      "Recommend Model : 2, Simi_mode : cos, Tag : True, Genre : False, Like : True, Mode : cv, Genre Weight Mode : 0, Tag Weight Mode : 1, Like Weight Mode : 0\n",
      "MAP@K (K=10): 0.475\n",
      "nDCG: 0.696\n",
      "Recommend Model : 2, Simi_mode : cos, Tag : False, Genre : True, Like : True, Mode : cv, Genre Weight Mode : 0, Tag Weight Mode : 0, Like Weight Mode : 0\n",
      "MAP@K (K=10): 0.510\n",
      "nDCG: 0.722\n"
     ]
    }
   ],
   "source": [
    "# 28/36\n",
    "params_list = [\n",
    "    #recnum(1, 2) / simi_mode(cos, pea, jac) / 태그 / 장르 / 좋아요 / mode(cv/tf) / 장르 가중치 모드(0/1) / 좋아요 가중치 모드(0/1) / 태그 가중치 모드(0/1)\n",
    "    (2, 'cos', False, False, True, 'cv', 0, 0, 0),\n",
    "    (2, 'cos', True, False, True, 'cv', 0, 0, 0),\n",
    "    (2, 'cos', True, False, True, 'cv', 0, 0, 1),\n",
    "    (2, 'cos', False, True, True, 'cv', 0, 0, 0)\n",
    "]\n",
    "\n",
    "with multiprocessing.Pool(processes=4) as pool:\n",
    "    results = pool.starmap(process_fuc, [(param[0], test_my_songs, test_my_tags, song_tag_appended, param[1], param[2], param[3], param[4], \n",
    "                                         param[5], param[6], param[7], param[8], w2v, weight_mat_cv, weight_mat_tf, tag_weights, tag_weights_all) for param in params_list])\n",
    "    \n",
    "for result in results:\n",
    "    print(result)"
   ]
  },
  {
   "cell_type": "code",
   "execution_count": 115,
   "id": "d2b1959c",
   "metadata": {},
   "outputs": [
    {
     "name": "stdout",
     "output_type": "stream",
     "text": [
      "Recommend Model : 2, Simi_mode : cos, Tag : False, Genre : True, Like : True, Mode : cv, Genre Weight Mode : 1, Tag Weight Mode : 0, Like Weight Mode : 0\n",
      "MAP@K (K=10): 0.502\n",
      "nDCG: 0.714\n",
      "Recommend Model : 2, Simi_mode : cos, Tag : True, Genre : True, Like : True, Mode : cv, Genre Weight Mode : 0, Tag Weight Mode : 0, Like Weight Mode : 0\n",
      "MAP@K (K=10): 0.511\n",
      "nDCG: 0.727\n",
      "Recommend Model : 2, Simi_mode : cos, Tag : True, Genre : True, Like : True, Mode : cv, Genre Weight Mode : 0, Tag Weight Mode : 1, Like Weight Mode : 0\n",
      "MAP@K (K=10): 0.513\n",
      "nDCG: 0.729\n",
      "Recommend Model : 2, Simi_mode : cos, Tag : True, Genre : True, Like : True, Mode : cv, Genre Weight Mode : 1, Tag Weight Mode : 0, Like Weight Mode : 0\n",
      "MAP@K (K=10): 0.502\n",
      "nDCG: 0.714\n"
     ]
    }
   ],
   "source": [
    "# 29/36\n",
    "params_list = [\n",
    "    #recnum(1, 2) / simi_mode(cos, pea, jac) / 태그 / 장르 / 좋아요 / mode(cv/tf) / 장르 가중치 모드(0/1) / 좋아요 가중치 모드(0/1) / 태그 가중치 모드(0/1)\n",
    "    (2, 'cos', False, True, True, 'cv', 1, 0, 0),\n",
    "    (2, 'cos', True, True, True, 'cv', 0, 0, 0),\n",
    "    (2, 'cos', True, True, True, 'cv', 0, 0, 1),\n",
    "    (2, 'cos', True, True, True, 'cv', 1, 0, 0)\n",
    "]\n",
    "\n",
    "with multiprocessing.Pool(processes=4) as pool:\n",
    "    results = pool.starmap(process_fuc, [(param[0], test_my_songs, test_my_tags, song_tag_appended, param[1], param[2], param[3], param[4], \n",
    "                                         param[5], param[6], param[7], param[8], w2v, weight_mat_cv, weight_mat_tf, tag_weights, tag_weights_all) for param in params_list])\n",
    "    \n",
    "for result in results:\n",
    "    print(result)"
   ]
  },
  {
   "cell_type": "code",
   "execution_count": 116,
   "id": "fe1bca56",
   "metadata": {},
   "outputs": [
    {
     "name": "stdout",
     "output_type": "stream",
     "text": [
      "Recommend Model : 2, Simi_mode : cos, Tag : True, Genre : True, Like : True, Mode : cv, Genre Weight Mode : 1, Tag Weight Mode : 1, Like Weight Mode : 0\n",
      "MAP@K (K=10): 0.504\n",
      "nDCG: 0.714\n",
      "Recommend Model : 2, Simi_mode : cos, Tag : False, Genre : False, Like : True, Mode : tf, Genre Weight Mode : 0, Tag Weight Mode : 0, Like Weight Mode : 0\n",
      "MAP@K (K=10): 0.493\n",
      "nDCG: 0.703\n",
      "Recommend Model : 2, Simi_mode : cos, Tag : True, Genre : False, Like : True, Mode : tf, Genre Weight Mode : 0, Tag Weight Mode : 0, Like Weight Mode : 0\n",
      "MAP@K (K=10): 0.492\n",
      "nDCG: 0.702\n",
      "Recommend Model : 2, Simi_mode : cos, Tag : True, Genre : False, Like : True, Mode : tf, Genre Weight Mode : 0, Tag Weight Mode : 1, Like Weight Mode : 0\n",
      "MAP@K (K=10): 0.496\n",
      "nDCG: 0.707\n"
     ]
    }
   ],
   "source": [
    "# 30/36\n",
    "params_list = [\n",
    "    #recnum(1, 2) / simi_mode(cos, pea, jac) / 태그 / 장르 / 좋아요 / mode(cv/tf) / 장르 가중치 모드(0/1) / 좋아요 가중치 모드(0/1) / 태그 가중치 모드(0/1)\n",
    "    (2, 'cos', True, True, True, 'cv', 1, 0, 1),\n",
    "    (2, 'cos', False, False, True, 'tf', 0, 0, 0),\n",
    "    (2, 'cos', True, False, True, 'tf', 0, 0, 0),\n",
    "    (2, 'cos', True, False, True, 'tf', 0, 0, 1)\n",
    "]\n",
    "\n",
    "with multiprocessing.Pool(processes=4) as pool:\n",
    "    results = pool.starmap(process_fuc, [(param[0], test_my_songs, test_my_tags, song_tag_appended, param[1], param[2], param[3], param[4], \n",
    "                                         param[5], param[6], param[7], param[8], w2v, weight_mat_cv, weight_mat_tf, tag_weights, tag_weights_all) for param in params_list])\n",
    "    \n",
    "for result in results:\n",
    "    print(result)"
   ]
  },
  {
   "cell_type": "code",
   "execution_count": 118,
   "id": "3749baae",
   "metadata": {},
   "outputs": [
    {
     "name": "stdout",
     "output_type": "stream",
     "text": [
      "Recommend Model : 2, Simi_mode : cos, Tag : False, Genre : True, Like : True, Mode : tf, Genre Weight Mode : 0, Tag Weight Mode : 0, Like Weight Mode : 0\n",
      "MAP@K (K=10): 0.509\n",
      "nDCG: 0.717\n",
      "Recommend Model : 2, Simi_mode : cos, Tag : False, Genre : True, Like : True, Mode : tf, Genre Weight Mode : 1, Tag Weight Mode : 0, Like Weight Mode : 0\n",
      "MAP@K (K=10): 0.508\n",
      "nDCG: 0.716\n",
      "Recommend Model : 2, Simi_mode : cos, Tag : True, Genre : True, Like : True, Mode : tf, Genre Weight Mode : 0, Tag Weight Mode : 0, Like Weight Mode : 0\n",
      "MAP@K (K=10): 0.513\n",
      "nDCG: 0.721\n",
      "Recommend Model : 2, Simi_mode : cos, Tag : True, Genre : True, Like : True, Mode : tf, Genre Weight Mode : 0, Tag Weight Mode : 1, Like Weight Mode : 0\n",
      "MAP@K (K=10): 0.512\n",
      "nDCG: 0.723\n"
     ]
    }
   ],
   "source": [
    "# 31/36\n",
    "params_list = [\n",
    "    #recnum(1, 2) / simi_mode(cos, pea, jac) / 태그 / 장르 / 좋아요 / mode(cv/tf) / 장르 가중치 모드(0/1) / 좋아요 가중치 모드(0/1) / 태그 가중치 모드(0/1)\n",
    "    (2, 'cos', False, True, True, 'tf', 0, 0, 0),\n",
    "    (2, 'cos', False, True, True, 'tf', 1, 0, 0),\n",
    "    (2, 'cos', True, True, True, 'tf', 0, 0, 0),\n",
    "    (2, 'cos', True, True, True, 'tf', 0, 0, 1)\n",
    "]\n",
    "\n",
    "with multiprocessing.Pool(processes=4) as pool:\n",
    "    results = pool.starmap(process_fuc, [(param[0], test_my_songs, test_my_tags, song_tag_appended, param[1], param[2], param[3], param[4], \n",
    "                                         param[5], param[6], param[7], param[8], w2v, weight_mat_cv, weight_mat_tf, tag_weights, tag_weights_all) for param in params_list])\n",
    "    \n",
    "for result in results:\n",
    "    print(result)"
   ]
  },
  {
   "cell_type": "code",
   "execution_count": 119,
   "id": "6eecfbb1",
   "metadata": {},
   "outputs": [
    {
     "name": "stdout",
     "output_type": "stream",
     "text": [
      "Recommend Model : 2, Simi_mode : cos, Tag : True, Genre : True, Like : True, Mode : tf, Genre Weight Mode : 1, Tag Weight Mode : 0, Like Weight Mode : 0\n",
      "MAP@K (K=10): 0.506\n",
      "nDCG: 0.714\n",
      "Recommend Model : 2, Simi_mode : cos, Tag : True, Genre : True, Like : True, Mode : tf, Genre Weight Mode : 1, Tag Weight Mode : 1, Like Weight Mode : 0\n",
      "MAP@K (K=10): 0.510\n",
      "nDCG: 0.721\n",
      "Recommend Model : 2, Simi_mode : pea, Tag : False, Genre : False, Like : True, Mode : cv, Genre Weight Mode : 0, Tag Weight Mode : 0, Like Weight Mode : 0\n",
      "MAP@K (K=10): 0.008\n",
      "nDCG: 0.013\n",
      "Recommend Model : 2, Simi_mode : pea, Tag : True, Genre : False, Like : True, Mode : cv, Genre Weight Mode : 0, Tag Weight Mode : 0, Like Weight Mode : 0\n",
      "MAP@K (K=10): 0.008\n",
      "nDCG: 0.013\n"
     ]
    }
   ],
   "source": [
    "# 32/36\n",
    "params_list = [\n",
    "    #recnum(1, 2) / simi_mode(cos, pea, jac) / 태그 / 장르 / 좋아요 / mode(cv/tf) / 장르 가중치 모드(0/1) / 좋아요 가중치 모드(0/1) / 태그 가중치 모드(0/1)\n",
    "    (2, 'cos', True, True, True, 'tf', 1, 0, 0),\n",
    "    (2, 'cos', True, True, True, 'tf', 1, 0, 1),\n",
    "    (2, 'pea', False, False, True, 'cv', 0, 0, 0),\n",
    "    (2, 'pea', True, False, True, 'cv', 0, 0, 0)\n",
    "]\n",
    "\n",
    "with multiprocessing.Pool(processes=4) as pool:\n",
    "    results = pool.starmap(process_fuc, [(param[0], test_my_songs, test_my_tags, song_tag_appended, param[1], param[2], param[3], param[4], \n",
    "                                         param[5], param[6], param[7], param[8], w2v, weight_mat_cv, weight_mat_tf, tag_weights, tag_weights_all) for param in params_list])\n",
    "    \n",
    "for result in results:\n",
    "    print(result)"
   ]
  },
  {
   "cell_type": "code",
   "execution_count": 120,
   "id": "5a0edf33",
   "metadata": {},
   "outputs": [
    {
     "name": "stdout",
     "output_type": "stream",
     "text": [
      "Recommend Model : 2, Simi_mode : pea, Tag : True, Genre : False, Like : True, Mode : cv, Genre Weight Mode : 0, Tag Weight Mode : 1, Like Weight Mode : 0\n",
      "MAP@K (K=10): 0.008\n",
      "nDCG: 0.013\n",
      "Recommend Model : 2, Simi_mode : pea, Tag : False, Genre : True, Like : True, Mode : cv, Genre Weight Mode : 0, Tag Weight Mode : 0, Like Weight Mode : 0\n",
      "MAP@K (K=10): 0.010\n",
      "nDCG: 0.013\n",
      "Recommend Model : 2, Simi_mode : pea, Tag : False, Genre : True, Like : True, Mode : cv, Genre Weight Mode : 1, Tag Weight Mode : 0, Like Weight Mode : 0\n",
      "MAP@K (K=10): 0.012\n",
      "nDCG: 0.020\n",
      "Recommend Model : 2, Simi_mode : pea, Tag : True, Genre : True, Like : True, Mode : cv, Genre Weight Mode : 0, Tag Weight Mode : 0, Like Weight Mode : 0\n",
      "MAP@K (K=10): 0.010\n",
      "nDCG: 0.013\n"
     ]
    }
   ],
   "source": [
    "# 33/36\n",
    "params_list = [\n",
    "    #recnum(1, 2) / simi_mode(cos, pea, jac) / 태그 / 장르 / 좋아요 / mode(cv/tf) / 장르 가중치 모드(0/1) / 좋아요 가중치 모드(0/1) / 태그 가중치 모드(0/1)\n",
    "    (2, 'pea', True, False, True, 'cv', 0, 0, 1),\n",
    "    (2, 'pea', False, True, True, 'cv', 0, 0, 0),\n",
    "    (2, 'pea', False, True, True, 'cv', 1, 0, 0),\n",
    "    (2, 'pea', True, True, True, 'cv', 0, 0, 0)\n",
    "]\n",
    "\n",
    "with multiprocessing.Pool(processes=4) as pool:\n",
    "    results = pool.starmap(process_fuc, [(param[0], test_my_songs, test_my_tags, song_tag_appended, param[1], param[2], param[3], param[4], \n",
    "                                         param[5], param[6], param[7], param[8], w2v, weight_mat_cv, weight_mat_tf, tag_weights, tag_weights_all) for param in params_list])\n",
    "    \n",
    "for result in results:\n",
    "    print(result)"
   ]
  },
  {
   "cell_type": "code",
   "execution_count": 122,
   "id": "995f8e04",
   "metadata": {},
   "outputs": [
    {
     "name": "stdout",
     "output_type": "stream",
     "text": [
      "Recommend Model : 2, Simi_mode : pea, Tag : True, Genre : True, Like : True, Mode : cv, Genre Weight Mode : 0, Tag Weight Mode : 1, Like Weight Mode : 0\n",
      "MAP@K (K=10): 0.010\n",
      "nDCG: 0.013\n",
      "Recommend Model : 2, Simi_mode : pea, Tag : True, Genre : True, Like : True, Mode : cv, Genre Weight Mode : 1, Tag Weight Mode : 0, Like Weight Mode : 0\n",
      "MAP@K (K=10): 0.012\n",
      "nDCG: 0.020\n",
      "Recommend Model : 2, Simi_mode : pea, Tag : True, Genre : True, Like : True, Mode : cv, Genre Weight Mode : 1, Tag Weight Mode : 1, Like Weight Mode : 0\n",
      "MAP@K (K=10): 0.012\n",
      "nDCG: 0.020\n",
      "Recommend Model : 2, Simi_mode : pea, Tag : False, Genre : False, Like : True, Mode : tf, Genre Weight Mode : 0, Tag Weight Mode : 0, Like Weight Mode : 0\n",
      "MAP@K (K=10): 0.006\n",
      "nDCG: 0.010\n"
     ]
    }
   ],
   "source": [
    "# 34/36\n",
    "params_list = [\n",
    "    #recnum(1, 2) / simi_mode(cos, pea, jac) / 태그 / 장르 / 좋아요 / mode(cv/tf) / 장르 가중치 모드(0/1) / 좋아요 가중치 모드(0/1) / 태그 가중치 모드(0/1)\n",
    "    (2, 'pea', True, True, True, 'cv', 0, 0, 1),\n",
    "    (2, 'pea', True, True, True, 'cv', 1, 0, 0),\n",
    "    (2, 'pea', True, True, True, 'cv', 1, 0, 1),\n",
    "    (2, 'pea', False, False, True, 'tf', 0, 0, 0)\n",
    "]\n",
    "\n",
    "with multiprocessing.Pool(processes=4) as pool:\n",
    "    results = pool.starmap(process_fuc, [(param[0], test_my_songs, test_my_tags, song_tag_appended, param[1], param[2], param[3], param[4], \n",
    "                                         param[5], param[6], param[7], param[8], w2v, weight_mat_cv, weight_mat_tf, tag_weights, tag_weights_all) for param in params_list])\n",
    "    \n",
    "for result in results:\n",
    "    print(result)"
   ]
  },
  {
   "cell_type": "code",
   "execution_count": 123,
   "id": "c69e6a5c",
   "metadata": {},
   "outputs": [
    {
     "name": "stdout",
     "output_type": "stream",
     "text": [
      "Recommend Model : 2, Simi_mode : pea, Tag : True, Genre : False, Like : True, Mode : tf, Genre Weight Mode : 0, Tag Weight Mode : 0, Like Weight Mode : 0\n",
      "MAP@K (K=10): 0.006\n",
      "nDCG: 0.010\n",
      "Recommend Model : 2, Simi_mode : pea, Tag : True, Genre : False, Like : True, Mode : tf, Genre Weight Mode : 0, Tag Weight Mode : 1, Like Weight Mode : 0\n",
      "MAP@K (K=10): 0.006\n",
      "nDCG: 0.010\n",
      "Recommend Model : 2, Simi_mode : pea, Tag : False, Genre : True, Like : True, Mode : tf, Genre Weight Mode : 0, Tag Weight Mode : 0, Like Weight Mode : 0\n",
      "MAP@K (K=10): 0.014\n",
      "nDCG: 0.023\n",
      "Recommend Model : 2, Simi_mode : pea, Tag : False, Genre : True, Like : True, Mode : tf, Genre Weight Mode : 1, Tag Weight Mode : 0, Like Weight Mode : 0\n",
      "MAP@K (K=10): 0.012\n",
      "nDCG: 0.017\n"
     ]
    }
   ],
   "source": [
    "# 35/36\n",
    "params_list = [\n",
    "    #recnum(1, 2) / simi_mode(cos, pea, jac) / 태그 / 장르 / 좋아요 / mode(cv/tf) / 장르 가중치 모드(0/1) / 좋아요 가중치 모드(0/1) / 태그 가중치 모드(0/1)\n",
    "    (2, 'pea', True, False, True, 'tf', 0, 0, 0),\n",
    "    (2, 'pea', True, False, True, 'tf', 0, 0, 1),\n",
    "    (2, 'pea', False, True, True, 'tf', 0, 0, 0),\n",
    "    (2, 'pea', False, True, True, 'tf', 1, 0, 0)\n",
    "]\n",
    "\n",
    "with multiprocessing.Pool(processes=4) as pool:\n",
    "    results = pool.starmap(process_fuc, [(param[0], test_my_songs, test_my_tags, song_tag_appended, param[1], param[2], param[3], param[4], \n",
    "                                         param[5], param[6], param[7], param[8], w2v, weight_mat_cv, weight_mat_tf, tag_weights, tag_weights_all) for param in params_list])\n",
    "    \n",
    "for result in results:\n",
    "    print(result)"
   ]
  },
  {
   "cell_type": "code",
   "execution_count": 124,
   "id": "194b8395",
   "metadata": {},
   "outputs": [
    {
     "name": "stdout",
     "output_type": "stream",
     "text": [
      "Recommend Model : 2, Simi_mode : pea, Tag : True, Genre : True, Like : True, Mode : tf, Genre Weight Mode : 0, Tag Weight Mode : 0, Like Weight Mode : 0\n",
      "MAP@K (K=10): 0.014\n",
      "nDCG: 0.023\n",
      "Recommend Model : 2, Simi_mode : pea, Tag : True, Genre : True, Like : True, Mode : tf, Genre Weight Mode : 0, Tag Weight Mode : 1, Like Weight Mode : 0\n",
      "MAP@K (K=10): 0.014\n",
      "nDCG: 0.023\n",
      "Recommend Model : 2, Simi_mode : pea, Tag : True, Genre : True, Like : True, Mode : tf, Genre Weight Mode : 1, Tag Weight Mode : 0, Like Weight Mode : 0\n",
      "MAP@K (K=10): 0.012\n",
      "nDCG: 0.017\n",
      "Recommend Model : 2, Simi_mode : pea, Tag : True, Genre : True, Like : True, Mode : tf, Genre Weight Mode : 1, Tag Weight Mode : 1, Like Weight Mode : 0\n",
      "MAP@K (K=10): 0.012\n",
      "nDCG: 0.017\n"
     ]
    }
   ],
   "source": [
    "# 36/36\n",
    "params_list = [\n",
    "    #recnum(1, 2) / simi_mode(cos, pea, jac) / 태그 / 장르 / 좋아요 / mode(cv/tf) / 장르 가중치 모드(0/1) / 좋아요 가중치 모드(0/1) / 태그 가중치 모드(0/1)\n",
    "    (2, 'pea', True, True, True, 'tf', 0, 0, 0),\n",
    "    (2, 'pea', True, True, True, 'tf', 0, 0, 1),\n",
    "    (2, 'pea', True, True, True, 'tf', 1, 0, 0),\n",
    "    (2, 'pea', True, True, True, 'tf', 1, 0, 1)\n",
    "]\n",
    "\n",
    "with multiprocessing.Pool(processes=4) as pool:\n",
    "    results = pool.starmap(process_fuc, [(param[0], test_my_songs, test_my_tags, song_tag_appended, param[1], param[2], param[3], param[4], \n",
    "                                         param[5], param[6], param[7], param[8], w2v, weight_mat_cv, weight_mat_tf, tag_weights, tag_weights_all) for param in params_list])\n",
    "    \n",
    "for result in results:\n",
    "    print(result)"
   ]
  },
  {
   "cell_type": "markdown",
   "id": "7bdd9aa0",
   "metadata": {},
   "source": [
    "# 한국어 -> 영어 변환\n",
    "- 한국어 전처리에 어려움이 있어서, 영어로 모두 변환 후 처리"
   ]
  },
  {
   "cell_type": "code",
   "execution_count": 126,
   "id": "4f93831c",
   "metadata": {},
   "outputs": [
    {
     "data": {
      "text/plain": [
       "'\\nfrom googletrans import Translator\\nimport time\\n\\ndef trans_to_eng(tags):\\n    time.sleep(1)\\n    translator = Translator()\\n    translated = translator.translate(tags, src = \\'ko\\', dest = \\'en\\')\\n    return translated.text\\n\\nfor i in range(len(train_data_sample)):\\n    eng_tags = [trans_to_eng(tag) for tag in train_data_sample[\\'tags\\'][i]]\\n    train_data_sample[\\'tags\\'][i] = eng_tags\\n\\ntrain_data_sample.to_json(\\'../Datasets/train_eng1.json\\', orient=\\'records\\')\\ntrain_data_sample.head(30)\\n\\n    \\n#train_data.head()\\n#eng_tags = [trans_to_eng(tag) for tag in train_data[\\'tags\\'][1]]\\n#print(\"Kor: \", train_data[\\'tags\\'][1])\\n#print(\"Eng: \", eng_tags)\\n'"
      ]
     },
     "execution_count": 126,
     "metadata": {},
     "output_type": "execute_result"
    }
   ],
   "source": [
    "'''\n",
    "from googletrans import Translator\n",
    "import time\n",
    "\n",
    "def trans_to_eng(tags):\n",
    "    time.sleep(1)\n",
    "    translator = Translator()\n",
    "    translated = translator.translate(tags, src = 'ko', dest = 'en')\n",
    "    return translated.text\n",
    "\n",
    "for i in range(len(train_data_sample)):\n",
    "    eng_tags = [trans_to_eng(tag) for tag in train_data_sample['tags'][i]]\n",
    "    train_data_sample['tags'][i] = eng_tags\n",
    "\n",
    "train_data_sample.to_json('../Datasets/train_eng1.json', orient='records')\n",
    "train_data_sample.head(30)\n",
    "\n",
    "    \n",
    "#train_data.head()\n",
    "#eng_tags = [trans_to_eng(tag) for tag in train_data['tags'][1]]\n",
    "#print(\"Kor: \", train_data['tags'][1])\n",
    "#print(\"Eng: \", eng_tags)\n",
    "'''"
   ]
  },
  {
   "cell_type": "code",
   "execution_count": 127,
   "id": "be1990a5",
   "metadata": {},
   "outputs": [
    {
     "data": {
      "text/plain": [
       "(10000, 3)"
      ]
     },
     "execution_count": 127,
     "metadata": {},
     "output_type": "execute_result"
    }
   ],
   "source": [
    "with open('../Datasets/train_datas_eng.json', 'r', encoding='utf-8') as f:\n",
    "    json_data = json.load(f)\n",
    "\n",
    "train_data_eng = pd.DataFrame(json_data)\n",
    "\n",
    "train_data_eng.shape\n",
    "#print(train_data_eng.loc[train_data_indices])"
   ]
  },
  {
   "cell_type": "code",
   "execution_count": 128,
   "id": "ad2b8c2d",
   "metadata": {},
   "outputs": [
    {
     "name": "stderr",
     "output_type": "stream",
     "text": [
      "[nltk_data] Downloading collection 'popular'\n",
      "[nltk_data]    | \n",
      "[nltk_data]    | Downloading package cmudict to\n",
      "[nltk_data]    |     C:\\Users\\Hyun\\AppData\\Roaming\\nltk_data...\n",
      "[nltk_data]    |   Package cmudict is already up-to-date!\n",
      "[nltk_data]    | Downloading package gazetteers to\n",
      "[nltk_data]    |     C:\\Users\\Hyun\\AppData\\Roaming\\nltk_data...\n",
      "[nltk_data]    |   Package gazetteers is already up-to-date!\n",
      "[nltk_data]    | Downloading package genesis to\n",
      "[nltk_data]    |     C:\\Users\\Hyun\\AppData\\Roaming\\nltk_data...\n",
      "[nltk_data]    |   Package genesis is already up-to-date!\n",
      "[nltk_data]    | Downloading package gutenberg to\n",
      "[nltk_data]    |     C:\\Users\\Hyun\\AppData\\Roaming\\nltk_data...\n",
      "[nltk_data]    |   Package gutenberg is already up-to-date!\n",
      "[nltk_data]    | Downloading package inaugural to\n",
      "[nltk_data]    |     C:\\Users\\Hyun\\AppData\\Roaming\\nltk_data...\n",
      "[nltk_data]    |   Package inaugural is already up-to-date!\n",
      "[nltk_data]    | Downloading package movie_reviews to\n",
      "[nltk_data]    |     C:\\Users\\Hyun\\AppData\\Roaming\\nltk_data...\n",
      "[nltk_data]    |   Package movie_reviews is already up-to-date!\n",
      "[nltk_data]    | Downloading package names to\n",
      "[nltk_data]    |     C:\\Users\\Hyun\\AppData\\Roaming\\nltk_data...\n",
      "[nltk_data]    |   Package names is already up-to-date!\n",
      "[nltk_data]    | Downloading package shakespeare to\n",
      "[nltk_data]    |     C:\\Users\\Hyun\\AppData\\Roaming\\nltk_data...\n",
      "[nltk_data]    |   Package shakespeare is already up-to-date!\n",
      "[nltk_data]    | Downloading package stopwords to\n",
      "[nltk_data]    |     C:\\Users\\Hyun\\AppData\\Roaming\\nltk_data...\n",
      "[nltk_data]    |   Package stopwords is already up-to-date!\n",
      "[nltk_data]    | Downloading package treebank to\n",
      "[nltk_data]    |     C:\\Users\\Hyun\\AppData\\Roaming\\nltk_data...\n",
      "[nltk_data]    |   Package treebank is already up-to-date!\n",
      "[nltk_data]    | Downloading package twitter_samples to\n",
      "[nltk_data]    |     C:\\Users\\Hyun\\AppData\\Roaming\\nltk_data...\n",
      "[nltk_data]    |   Package twitter_samples is already up-to-date!\n",
      "[nltk_data]    | Downloading package omw to\n",
      "[nltk_data]    |     C:\\Users\\Hyun\\AppData\\Roaming\\nltk_data...\n",
      "[nltk_data]    |   Package omw is already up-to-date!\n",
      "[nltk_data]    | Downloading package omw-1.4 to\n",
      "[nltk_data]    |     C:\\Users\\Hyun\\AppData\\Roaming\\nltk_data...\n",
      "[nltk_data]    |   Package omw-1.4 is already up-to-date!\n",
      "[nltk_data]    | Downloading package wordnet to\n",
      "[nltk_data]    |     C:\\Users\\Hyun\\AppData\\Roaming\\nltk_data...\n",
      "[nltk_data]    |   Package wordnet is already up-to-date!\n",
      "[nltk_data]    | Downloading package wordnet2021 to\n",
      "[nltk_data]    |     C:\\Users\\Hyun\\AppData\\Roaming\\nltk_data...\n",
      "[nltk_data]    |   Package wordnet2021 is already up-to-date!\n",
      "[nltk_data]    | Downloading package wordnet31 to\n",
      "[nltk_data]    |     C:\\Users\\Hyun\\AppData\\Roaming\\nltk_data...\n",
      "[nltk_data]    |   Package wordnet31 is already up-to-date!\n",
      "[nltk_data]    | Downloading package wordnet_ic to\n",
      "[nltk_data]    |     C:\\Users\\Hyun\\AppData\\Roaming\\nltk_data...\n",
      "[nltk_data]    |   Package wordnet_ic is already up-to-date!\n",
      "[nltk_data]    | Downloading package words to\n",
      "[nltk_data]    |     C:\\Users\\Hyun\\AppData\\Roaming\\nltk_data...\n",
      "[nltk_data]    |   Package words is already up-to-date!\n",
      "[nltk_data]    | Downloading package maxent_ne_chunker to\n",
      "[nltk_data]    |     C:\\Users\\Hyun\\AppData\\Roaming\\nltk_data...\n",
      "[nltk_data]    |   Package maxent_ne_chunker is already up-to-date!\n",
      "[nltk_data]    | Downloading package punkt to\n",
      "[nltk_data]    |     C:\\Users\\Hyun\\AppData\\Roaming\\nltk_data...\n",
      "[nltk_data]    |   Package punkt is already up-to-date!\n",
      "[nltk_data]    | Downloading package snowball_data to\n",
      "[nltk_data]    |     C:\\Users\\Hyun\\AppData\\Roaming\\nltk_data...\n",
      "[nltk_data]    |   Package snowball_data is already up-to-date!\n",
      "[nltk_data]    | Downloading package averaged_perceptron_tagger to\n",
      "[nltk_data]    |     C:\\Users\\Hyun\\AppData\\Roaming\\nltk_data...\n",
      "[nltk_data]    |   Package averaged_perceptron_tagger is already up-\n",
      "[nltk_data]    |       to-date!\n",
      "[nltk_data]    | \n",
      "[nltk_data]  Done downloading collection popular\n",
      "C:\\Users\\Hyun\\AppData\\Local\\Temp\\ipykernel_15164\\3447819155.py:22: SettingWithCopyWarning: \n",
      "A value is trying to be set on a copy of a slice from a DataFrame\n",
      "\n",
      "See the caveats in the documentation: https://pandas.pydata.org/pandas-docs/stable/user_guide/indexing.html#returning-a-view-versus-a-copy\n",
      "  train_data_eng['tags'][idx] = eng_tags\n",
      "C:\\Users\\Hyun\\AppData\\Local\\Temp\\ipykernel_15164\\3447819155.py:34: SettingWithCopyWarning: \n",
      "A value is trying to be set on a copy of a slice from a DataFrame\n",
      "\n",
      "See the caveats in the documentation: https://pandas.pydata.org/pandas-docs/stable/user_guide/indexing.html#returning-a-view-versus-a-copy\n",
      "  train_data_eng['tags'][i] = eng_tags\n"
     ]
    },
    {
     "name": "stdout",
     "output_type": "stream",
     "text": [
      "['rest', 'Creation', 'cafe', 'dawn', 'World Music', 'drive', 'jazz', 'Emotion', 'work', 'Mood']\n",
      "['rest', 'creation', 'cafe', 'dawn', 'world', 'music', 'drive', 'jazz', 'emotion', 'work', 'mood']\n",
      "['summer', 'the', 'rainy', 'season', 'idol', 'drive', 'travel', 'mood', 'exciting', 'song', 'stress', 'recorded', 'song', 'exciting']\n",
      "['summer', 'rainy', 'season', 'idol', 'drive', 'travel', 'mood', 'exciting', 'song', 'stress', 'recorded', 'song', 'exciting']\n",
      "['lounge', 'what', 'is', 'your', 'brother', 's', 'song', 'drive', 'emotional', 'itaewon', 'mood', 'i', 'only', 'know', 'you']\n",
      "['lounge', 'brother', 'song', 'drive', 'emotional', 'itaewon', 'mood', 'know']\n",
      "['windless', 'emotion', 'the', 'songs', 'are', 'the', 'songs', 'summer', 'night', 'idol', 'drive', 'cool', 'love', 'stress', 'exciting']\n",
      "['windless', 'emotion', 'songs', 'songs', 'summer', 'night', 'idol', 'drive', 'cool', 'love', 'stress', 'exciting']\n",
      "['dreamstation', 'live', 'ponau', 'welovevocaledm', 'zurboy', 'spectrum', 'edm', 'with', 'a', 'taste', 'sniper', 'vocal']\n",
      "['dreamstation', 'live', 'ponau', 'welovevocaledm', 'zurboy', 'spectrum', 'edm', 'taste', 'sniper', 'vocal']\n",
      "['health', 'sports', 'work', 'out', 'diet', 'melon', 'sports', 'elect', 'pop', 'wait', 'rock', 'exciting']\n",
      "['health', 'sports', 'work', 'diet', 'melon', 'sports', 'elect', 'pop', 'wait', 'rock', 'exciting']\n",
      "['need', 'some', 'healing', 'i', 'need', 'comfort', 'worship', 'ccm', 'hymn', 'i', 'need', 'me']\n",
      "['need', 'healing', 'need', 'comfort', 'worship', 'ccm', 'hymn', 'need']\n",
      "['latest', 'dance', 'a', 'quick', 'song', 'to', 'listen', 'to', 'the', 'gym', 'body', 'fat', 'gym', 'when', 'exercising']\n",
      "['latest', 'dance', 'quick', 'song', 'listen', 'gym', 'body', 'fat', 'gym', 'exercising']\n",
      "['club', 'drug', 'drive', 'overseas', 'hip', 'hop', 'travel', 'club', 'music', 'in', 'the', 'corner', 'insa', '2019', 'foreign', 'hip', 'hop']\n",
      "['club', 'drug', 'drive', 'overseas', 'hip', 'hop', 'travel', 'club', 'music', 'corner', 'insa', '2019', 'foreign', 'hip', 'hop']\n",
      "['rainy', 'day', 'the', 'rainy', 'season', 'on', 'rainy', 'days']\n",
      "['rainy', 'day', 'rainy', 'season', 'rainy', 'days']\n",
      "['raphiphop', 'mad', 'clown', 'emotional', 'hip', 'hop', 'run', 'lab', 'mamison', 'mood', 'show', 'me', 'the', 'money', 'rapper', 'korean', 'hip', 'hop']\n",
      "['raphiphop', 'mad', 'clown', 'emotional', 'hip', 'hop', 'run', 'lab', 'mamison', 'mood', 'show', 'money', 'rapper', 'korean', 'hip', 'hop']\n",
      "['work', 'out', 'usa', 'top20', 'hot100', 'billboard', 'pop']\n",
      "['work', 'usa', 'top20', 'hot100', 'billboard', 'pop']\n",
      "['winter', 'night', 'timbre', 'new', 'man', 'lofi', 'listening', 'at', 'night', 'comfortable', 'emotional', 'indie', 'icy']\n",
      "['winter', 'night', 'timbre', 'new', 'man', 'lofi', 'listening', 'night', 'comfortable', 'emotional', 'indie', 'icy']\n",
      "['drive', 'work', 'out']\n",
      "['drive', 'work']\n",
      "['joy', 'prevention', 'of', 'drowsiness', 'drive', 'when', 'driving', 'city', 'pop', 'inner', 'dance', 'drive', 'trendy', 'stress', 'exciting']\n",
      "['joy', 'prevention', 'drowsiness', 'drive', 'driving', 'city', 'pop', 'inner', 'dance', 'drive', 'trendy', 'stress', 'exciting']\n",
      "['melon', 'chart', 'real', 'time', 'chart', 'chart', '100', 'era', 'of', 'charts']\n",
      "['melon', 'chart', 'real', 'time', 'chart', 'chart', '100', 'era', 'charts']\n",
      "['emotion', 'store', 'music', 'popsong', 'windless', 'my', 'type', 'atmosphere', 'travel', 'pop', 'song', 'mood', 'exciting']\n",
      "['emotion', 'store', 'music', 'popsong', 'windless', 'type', 'atmosphere', 'travel', 'pop', 'song', 'mood', 'exciting']\n",
      "['travel', 'a', 'good', 'song', 'to', 'change', 'the', 'day', 'i', 'want', 'to', 'walk']\n",
      "['travel', 'good', 'song', 'change', 'day', 'want', 'walk']\n",
      "['memory', 'winter', 'crush', 'winter', 'sensibility', 'first', 'kiss', 'first', 'snow', 'excitement', 'confession', 'when', 'you', 'miss', 'first', 'love']\n",
      "['memory', 'winter', 'crush', 'winter', 'sensibility', 'first', 'kiss', 'first', 'snow', 'excitement', 'confession', 'miss', 'first', 'love']\n",
      "['sleep', 'before']\n",
      "['sleep']\n",
      "['albi', 'windless', 'atmosphere', 'love', 'wine', 'bar', 'sensitivity', 'wine', 'ride', 'the', 'atmosphere', 'with', 'wine']\n",
      "['albi', 'windless', 'atmosphere', 'love', 'wine', 'bar', 'sensitivity', 'wine', 'ride', 'atmosphere', 'wine']\n",
      "['night', 'some', 'park', 'jazz', 'bench', 'walk']\n",
      "['night', 'park', 'jazz', 'bench', 'walk']\n",
      "['let', 's', 'leave', 'drive']\n",
      "['let', 'leave', 'drive']\n",
      "['it', 'was', 'hard', 'great', 'job', 'day', 'this', 'can', 'be', 'happen', 'are', 'you', 'okay', 'great', 'job', 'consolation', 'healing', 'today', 'sadly']\n",
      "['hard', 'great', 'job', 'day', 'happen', 'okay', 'great', 'job', 'consolation', 'healing', 'today', 'sadly']\n",
      "['warm', 'night', 'prenatal', 'dawn', 'healing', 'before', 'sleeping', 'new', 'age', 'insomnia', 'lullaby', 'deep', 'sleep']\n",
      "['warm', 'night', 'prenatal', 'dawn', 'healing', 'sleeping', 'new', 'age', 'insomnia', 'lullaby', 'deep', 'sleep']\n",
      "['taste', 'extremely', 'personal', 'the', 'song', 'i', 'hear', 'these', 'days']\n",
      "['taste', 'extremely', 'personal', 'song', 'hear', 'days']\n",
      "['dawn', 'at', 'night', 'drive', 'constant']\n",
      "['dawn', 'night', 'drive', 'constant']\n",
      "['health', 'exercise', 'when', 'exercising', 'work', 'out', 'energy', 'running', 'idol', 'running', 'machine', 'exciting']\n",
      "['health', 'exercise', 'exercising', 'work', 'energy', 'running', 'idol', 'running', 'machine', 'exciting']\n",
      "['yb', 'domestically', 'memory', 'masterpiece', 'lock', 'yoon', 'do', 'hyun']\n",
      "['yb', 'domestically', 'memory', 'masterpiece', 'lock', 'yoon', 'hyun']\n",
      "['light', 'music', 'health', 'sports', 'work', 'out', 'pop', 'rock']\n",
      "['light', 'music', 'health', 'sports', 'work', 'pop', 'rock']\n",
      "['emotion', 'love', 'ballade', 'a', 'good', 'song', 'to', 'listen', 'to', 'before', 'sleeping', 'longing']\n",
      "['emotion', 'love', 'ballade', 'good', 'song', 'listen', 'sleeping', 'longing']\n",
      "['mood', 'drive', 'go', 'for', 'it', 'new', 'year', 'start']\n",
      "['mood', 'drive', 'go', 'new', 'year', 'start']\n",
      "['cocktail', 'cafe', 'hotel', 'music', 'jazz', 'jazz', 'listening', 'to', 'jazz', 'bar', 'vocal', 'jazz', 'rest', 'healing', 'soul']\n",
      "['cocktail', 'cafe', 'hotel', 'music', 'jazz', 'jazz', 'listening', 'jazz', 'bar', 'vocal', 'jazz', 'rest', 'healing', 'soul']\n",
      "['don', 't', 'be', 'a', 'dreamer', 'dotodo', 'hi']\n",
      "['dreamer', 'dotodo', 'hi']\n",
      "['snap', 'emotion', 'night', 'weekend', 'dawn', 'before', 'sleeping', 'new', 'age', 'insomnia', 'go', 'for', 'it']\n",
      "['snap', 'emotion', 'night', 'weekend', 'dawn', 'sleeping', 'new', 'age', 'insomnia', 'go']\n",
      "['refreshing', 'cheer', 'up', 'mood', 'stress', 'youth', 'exciting']\n",
      "['refreshing', 'cheer', 'mood', 'stress', 'youth', 'exciting']\n",
      "['hip', 'hop', 'awards', 'rest', 'ballade', 'dance', 'work', 'out', 'drive', 'consolation', 'mood', 'karaoke']\n",
      "['hip', 'hop', 'awards', 'rest', 'ballade', 'dance', 'work', 'drive', 'consolation', 'mood', 'karaoke']\n",
      "['in', 'the', 'car']\n",
      "['car']\n",
      "['hip', 'hop', 'vincent', 'kim', 'haon', 'lab', 'show', 'me', 'the', 'money', 'high', 'rapper', 'dick', 'kids', 'keep', 'clan']\n",
      "['hip', 'hop', 'vincent', 'kim', 'haon', 'lab', 'show', 'money', 'high', 'rapper', 'dick', 'kids', 'keep', 'clan']\n",
      "['hip', 'hop', 'cafe', 'morning', 'park', 'my', 'taste', 'groove']\n",
      "['hip', 'hop', 'cafe', 'morning', 'park', 'taste', 'groove']\n",
      "['90s', 'reminisce', 'tv', 'thrill', 'memories', 'in', 'karaoke', 'old', 'melon', 'renaissance', 'hit']\n",
      "['90s', 'reminisce', 'tv', 'thrill', 'memories', 'karaoke', 'old', 'melon', 'renaissance', 'hit']\n",
      "['bus', 'joy', 'dance', 'atmosphere', 'wake', 'up', 'groove', 'sensual', 'exciting']\n",
      "['bus', 'joy', 'dance', 'atmosphere', 'wake', 'groove', 'sensual', 'exciting']\n",
      "['my', 'own', 'best3', 'fish', 'shoes', 'recommended', 'music', 'of', 'indie', 'artists', 'indie']\n",
      "['best3', 'fish', 'shoes', 'recommended', 'music', 'indie', 'artists', 'indie']\n",
      "['stress', 'work', 'out']\n",
      "['stress', 'work']\n",
      "['alcohol', 'leave', 'work', 'peanut', 'makgeolli', 'a', 'drink', 'chimac', 'beer', 'mixing', 'soju', 'class']\n",
      "['alcohol', 'leave', 'work', 'peanut', 'makgeolli', 'drink', 'chimac', 'beer', 'mixing', 'soju', 'class']\n"
     ]
    },
    {
     "name": "stderr",
     "output_type": "stream",
     "text": [
      "C:\\Users\\Hyun\\AppData\\Local\\Temp\\ipykernel_15164\\3447819155.py:40: SettingWithCopyWarning: \n",
      "A value is trying to be set on a copy of a slice from a DataFrame\n",
      "\n",
      "See the caveats in the documentation: https://pandas.pydata.org/pandas-docs/stable/user_guide/indexing.html#returning-a-view-versus-a-copy\n",
      "  train_data_eng['tags'][i] = eng_tags\n",
      "C:\\Users\\Hyun\\AppData\\Local\\Temp\\ipykernel_15164\\3447819155.py:45: SettingWithCopyWarning: \n",
      "A value is trying to be set on a copy of a slice from a DataFrame\n",
      "\n",
      "See the caveats in the documentation: https://pandas.pydata.org/pandas-docs/stable/user_guide/indexing.html#returning-a-view-versus-a-copy\n",
      "  train_data_eng['tags'][i] = eng_tags\n",
      "C:\\Users\\Hyun\\AppData\\Local\\Temp\\ipykernel_15164\\3447819155.py:50: SettingWithCopyWarning: \n",
      "A value is trying to be set on a copy of a slice from a DataFrame\n",
      "\n",
      "See the caveats in the documentation: https://pandas.pydata.org/pandas-docs/stable/user_guide/indexing.html#returning-a-view-versus-a-copy\n",
      "  train_data_eng['tags'][i] = eng_tags\n",
      "C:\\Users\\Hyun\\AppData\\Local\\Temp\\ipykernel_15164\\3447819155.py:57: SettingWithCopyWarning: \n",
      "A value is trying to be set on a copy of a slice from a DataFrame\n",
      "\n",
      "See the caveats in the documentation: https://pandas.pydata.org/pandas-docs/stable/user_guide/indexing.html#returning-a-view-versus-a-copy\n",
      "  train_data_eng['tags'][i] = eng_tags\n"
     ]
    }
   ],
   "source": [
    "import re\n",
    "import nltk\n",
    "from nltk.corpus import stopwords\n",
    "nltk.download('popular') # nltk 라이브러리 사용을 위해 다운해야 함\n",
    "\n",
    "with open('../Datasets/train_datas_eng.json', 'r', encoding='utf-8') as f:\n",
    "    json_data = json.load(f)\n",
    "\n",
    "train_data_eng = pd.DataFrame(json_data)\n",
    "train_data_eng = train_data_eng.loc[train_data_indices]\n",
    "train_data_eng = train_data_eng.reset_index(drop=True)\n",
    "\n",
    "print(train_data_eng['tags'][3])\n",
    "pattern = re.compile('[^a-zA-Z0-9]')#특수문자나 공백을 띄어쓰기로 처리할지는 이후 테스트\n",
    "idx = 0\n",
    "for tags in train_data_eng['tags']:\n",
    "    eng_tags = []\n",
    "    for tag in tags:\n",
    "        temp_tags = re.sub(pattern, ' ', tag).lower().split()\n",
    "        for temp_tag in temp_tags:\n",
    "            eng_tags.append(temp_tag)\n",
    "    train_data_eng['tags'][idx] = eng_tags\n",
    "    idx += 1\n",
    "print(train_data_eng['tags'][3])\n",
    "\n",
    "#Stopwords\n",
    "stops = set(stopwords.words('english'))\n",
    "\n",
    "for i in range(len(train_data_eng)):\n",
    "    eng_tags = [tag for tag in train_data_eng['tags'][i] if not tag in stops]\n",
    "    if train_data_eng['tags'][i] != eng_tags:\n",
    "        print(train_data_eng['tags'][i])\n",
    "        print(eng_tags)\n",
    "    train_data_eng['tags'][i] = eng_tags\n",
    "    \n",
    "#Stemming\n",
    "stemmer = nltk.stem.SnowballStemmer('english')\n",
    "for i in range(len(train_data_eng)):\n",
    "    eng_tags = [stemmer.stem(tag) for tag in train_data_eng['tags'][i]]\n",
    "    train_data_eng['tags'][i] = eng_tags\n",
    "\n",
    "#중복 제거\n",
    "for i in range(len(train_data_eng)):\n",
    "    eng_tags = list(dict.fromkeys(train_data_eng['tags'][i]))\n",
    "    train_data_eng['tags'][i] = eng_tags\n",
    "    \n",
    "#한 글자 제거\n",
    "for i in range(len(train_data_eng)):\n",
    "    eng_tags = [tag for tag in train_data_eng['tags'][i] if len(tag) > 1]\n",
    "    train_data_eng['tags'][i] = eng_tags\n",
    "\n",
    "\n",
    "# '록' 또는 '락' 이 'lock' 으로 번역되는 문제가 있어서, 'rock' 으로 일괄적으로 수정\n",
    "pattern = re.compile(r'\\block\\b')\n",
    "for i in range(len(train_data_eng)):\n",
    "    eng_tags = [re.sub(pattern, 'rock', tag) for tag in train_data_eng['tags'][i]]\n",
    "    train_data_eng['tags'][i] = eng_tags\n",
    "\n"
   ]
  },
  {
   "cell_type": "code",
   "execution_count": 129,
   "id": "ad1e9b79",
   "metadata": {},
   "outputs": [
    {
     "data": {
      "text/html": [
       "<div>\n",
       "<style scoped>\n",
       "    .dataframe tbody tr th:only-of-type {\n",
       "        vertical-align: middle;\n",
       "    }\n",
       "\n",
       "    .dataframe tbody tr th {\n",
       "        vertical-align: top;\n",
       "    }\n",
       "\n",
       "    .dataframe thead th {\n",
       "        text-align: right;\n",
       "    }\n",
       "</style>\n",
       "<table border=\"1\" class=\"dataframe\">\n",
       "  <thead>\n",
       "    <tr style=\"text-align: right;\">\n",
       "      <th></th>\n",
       "      <th>tags</th>\n",
       "      <th>song_id</th>\n",
       "      <th>like_cnt</th>\n",
       "    </tr>\n",
       "  </thead>\n",
       "  <tbody>\n",
       "    <tr>\n",
       "      <th>0</th>\n",
       "      <td>[sunlight, cafe, spare, afternoon, jazz, drows...</td>\n",
       "      <td>[314824, 249789, 28215, 497515, 650192, 182422...</td>\n",
       "      <td>10</td>\n",
       "    </tr>\n",
       "    <tr>\n",
       "      <th>1</th>\n",
       "      <td>[spring, flutter, love]</td>\n",
       "      <td>[396832, 84145, 610632, 512162, 505209, 411774...</td>\n",
       "      <td>4</td>\n",
       "    </tr>\n",
       "    <tr>\n",
       "      <th>2</th>\n",
       "      <td>[concentr, morn, prenat, nap, piano, medit, cl...</td>\n",
       "      <td>[418643, 85532, 33582, 361338, 404014, 193549,...</td>\n",
       "      <td>41</td>\n",
       "    </tr>\n",
       "    <tr>\n",
       "      <th>3</th>\n",
       "      <td>[rest, creation, cafe, dawn, world, music, dri...</td>\n",
       "      <td>[494436, 196322, 191118, 430859, 332650, 70067...</td>\n",
       "      <td>3355</td>\n",
       "    </tr>\n",
       "    <tr>\n",
       "      <th>4</th>\n",
       "      <td>[crush, pound, love, confess, flutter, affect,...</td>\n",
       "      <td>[312406, 506781, 328452, 425497, 380114, 2284,...</td>\n",
       "      <td>225</td>\n",
       "    </tr>\n",
       "    <tr>\n",
       "      <th>5</th>\n",
       "      <td>[winter, merri, christma, pop]</td>\n",
       "      <td>[387859, 357047, 131659, 613741, 318487, 33289...</td>\n",
       "      <td>3</td>\n",
       "    </tr>\n",
       "    <tr>\n",
       "      <th>6</th>\n",
       "      <td>[heal, rest, mood]</td>\n",
       "      <td>[394183, 397924, 311707, 625914, 244640, 53548...</td>\n",
       "      <td>0</td>\n",
       "    </tr>\n",
       "    <tr>\n",
       "      <th>7</th>\n",
       "      <td>[consol, night, dawn]</td>\n",
       "      <td>[666827, 457284, 389128, 23957, 488376, 677289...</td>\n",
       "      <td>6</td>\n",
       "    </tr>\n",
       "    <tr>\n",
       "      <th>8</th>\n",
       "      <td>[electronica, danc, edmfloor, edm, billow]</td>\n",
       "      <td>[31529, 618572, 257867, 328496, 372879, 588590...</td>\n",
       "      <td>0</td>\n",
       "    </tr>\n",
       "    <tr>\n",
       "      <th>9</th>\n",
       "      <td>[2017, person, tast, old, song]</td>\n",
       "      <td>[402779, 173943, 624242, 557503, 521517, 45338...</td>\n",
       "      <td>0</td>\n",
       "    </tr>\n",
       "    <tr>\n",
       "      <th>10</th>\n",
       "      <td>[drive, pop, mood, light, cafe, excit]</td>\n",
       "      <td>[612944, 206254, 99923, 388100, 484934, 634687...</td>\n",
       "      <td>25</td>\n",
       "    </tr>\n",
       "    <tr>\n",
       "      <th>11</th>\n",
       "      <td>[cafe, emot, listen, spring, cherri, blossom]</td>\n",
       "      <td>[37029, 482716, 351342, 173448, 626062, 696010...</td>\n",
       "      <td>2</td>\n",
       "    </tr>\n",
       "    <tr>\n",
       "      <th>12</th>\n",
       "      <td>[rock]</td>\n",
       "      <td>[590576, 202504, 645983, 159117, 31258, 461930...</td>\n",
       "      <td>11</td>\n",
       "    </tr>\n",
       "    <tr>\n",
       "      <th>13</th>\n",
       "      <td>[heal, rest, spring]</td>\n",
       "      <td>[656782, 211281, 651229, 250, 426500, 257434, ...</td>\n",
       "      <td>1244</td>\n",
       "    </tr>\n",
       "    <tr>\n",
       "      <th>14</th>\n",
       "      <td>[summer, raini, season, idol, drive, travel, m...</td>\n",
       "      <td>[612468, 642935, 585053, 493804, 498452, 32282...</td>\n",
       "      <td>2</td>\n",
       "    </tr>\n",
       "    <tr>\n",
       "      <th>15</th>\n",
       "      <td>[mood, drive, pop, ballad]</td>\n",
       "      <td>[677384, 686712, 601517, 247186, 32385, 392785...</td>\n",
       "      <td>12</td>\n",
       "    </tr>\n",
       "    <tr>\n",
       "      <th>16</th>\n",
       "      <td>[night, cafe, dawn]</td>\n",
       "      <td>[255485, 318917, 236767, 358028, 251582, 90969...</td>\n",
       "      <td>380</td>\n",
       "    </tr>\n",
       "    <tr>\n",
       "      <th>17</th>\n",
       "      <td>[rest, heal, travel, walk]</td>\n",
       "      <td>[278394, 169945, 274271, 379841, 666425, 15454...</td>\n",
       "      <td>1</td>\n",
       "    </tr>\n",
       "    <tr>\n",
       "      <th>18</th>\n",
       "      <td>[autumn, windless]</td>\n",
       "      <td>[360534, 17562, 81862, 273170, 536368, 603976,...</td>\n",
       "      <td>32</td>\n",
       "    </tr>\n",
       "    <tr>\n",
       "      <th>19</th>\n",
       "      <td>[pop]</td>\n",
       "      <td>[682264, 541109, 26202, 47002, 257651, 252834,...</td>\n",
       "      <td>0</td>\n",
       "    </tr>\n",
       "  </tbody>\n",
       "</table>\n",
       "</div>"
      ],
      "text/plain": [
       "                                                 tags  \\\n",
       "0   [sunlight, cafe, spare, afternoon, jazz, drows...   \n",
       "1                             [spring, flutter, love]   \n",
       "2   [concentr, morn, prenat, nap, piano, medit, cl...   \n",
       "3   [rest, creation, cafe, dawn, world, music, dri...   \n",
       "4   [crush, pound, love, confess, flutter, affect,...   \n",
       "5                      [winter, merri, christma, pop]   \n",
       "6                                  [heal, rest, mood]   \n",
       "7                               [consol, night, dawn]   \n",
       "8          [electronica, danc, edmfloor, edm, billow]   \n",
       "9                     [2017, person, tast, old, song]   \n",
       "10             [drive, pop, mood, light, cafe, excit]   \n",
       "11      [cafe, emot, listen, spring, cherri, blossom]   \n",
       "12                                             [rock]   \n",
       "13                               [heal, rest, spring]   \n",
       "14  [summer, raini, season, idol, drive, travel, m...   \n",
       "15                         [mood, drive, pop, ballad]   \n",
       "16                                [night, cafe, dawn]   \n",
       "17                         [rest, heal, travel, walk]   \n",
       "18                                 [autumn, windless]   \n",
       "19                                              [pop]   \n",
       "\n",
       "                                              song_id  like_cnt  \n",
       "0   [314824, 249789, 28215, 497515, 650192, 182422...        10  \n",
       "1   [396832, 84145, 610632, 512162, 505209, 411774...         4  \n",
       "2   [418643, 85532, 33582, 361338, 404014, 193549,...        41  \n",
       "3   [494436, 196322, 191118, 430859, 332650, 70067...      3355  \n",
       "4   [312406, 506781, 328452, 425497, 380114, 2284,...       225  \n",
       "5   [387859, 357047, 131659, 613741, 318487, 33289...         3  \n",
       "6   [394183, 397924, 311707, 625914, 244640, 53548...         0  \n",
       "7   [666827, 457284, 389128, 23957, 488376, 677289...         6  \n",
       "8   [31529, 618572, 257867, 328496, 372879, 588590...         0  \n",
       "9   [402779, 173943, 624242, 557503, 521517, 45338...         0  \n",
       "10  [612944, 206254, 99923, 388100, 484934, 634687...        25  \n",
       "11  [37029, 482716, 351342, 173448, 626062, 696010...         2  \n",
       "12  [590576, 202504, 645983, 159117, 31258, 461930...        11  \n",
       "13  [656782, 211281, 651229, 250, 426500, 257434, ...      1244  \n",
       "14  [612468, 642935, 585053, 493804, 498452, 32282...         2  \n",
       "15  [677384, 686712, 601517, 247186, 32385, 392785...        12  \n",
       "16  [255485, 318917, 236767, 358028, 251582, 90969...       380  \n",
       "17  [278394, 169945, 274271, 379841, 666425, 15454...         1  \n",
       "18  [360534, 17562, 81862, 273170, 536368, 603976,...        32  \n",
       "19  [682264, 541109, 26202, 47002, 257651, 252834,...         0  "
      ]
     },
     "execution_count": 129,
     "metadata": {},
     "output_type": "execute_result"
    }
   ],
   "source": [
    "train_data_sample = train_data_eng.copy()\n",
    "train_data_sample = train_data_sample.reset_index(drop=True)\n",
    "train_data_sample.head(20)"
   ]
  },
  {
   "cell_type": "code",
   "execution_count": 130,
   "id": "d2aa6d32",
   "metadata": {},
   "outputs": [],
   "source": [
    "train_data_sample = train_data_sample.explode('song_id', ignore_index=True)"
   ]
  },
  {
   "cell_type": "code",
   "execution_count": 131,
   "id": "3c9bf62d",
   "metadata": {},
   "outputs": [],
   "source": [
    "train_dict = dict()\n",
    "\n",
    "for i in range(len(train_data_sample)):\n",
    "    song = train_data_sample['song_id'][i]\n",
    "    tag = train_data_sample['tags'][i]\n",
    "    \n",
    "    if song in train_dict:\n",
    "        for j in tag:\n",
    "            train_dict[song].add(j)\n",
    "    \n",
    "    else:\n",
    "        train_dict[song] = set(tag)\n",
    "        \n",
    "train_data_sample.drop_duplicates(subset='song_id', keep='first',inplace=True)"
   ]
  },
  {
   "cell_type": "code",
   "execution_count": 132,
   "id": "56fa90d6",
   "metadata": {},
   "outputs": [
    {
     "name": "stderr",
     "output_type": "stream",
     "text": [
      "C:\\Users\\Hyun\\AppData\\Local\\Temp\\ipykernel_15164\\2746467678.py:4: SettingWithCopyWarning: \n",
      "A value is trying to be set on a copy of a slice from a DataFrame\n",
      "\n",
      "See the caveats in the documentation: https://pandas.pydata.org/pandas-docs/stable/user_guide/indexing.html#returning-a-view-versus-a-copy\n",
      "  train_data_sample['tags'].iloc[i] = list(train_dict[song])\n"
     ]
    }
   ],
   "source": [
    "for i in range(len(train_data_sample)):\n",
    "    song = train_data_sample['song_id'].iloc[i]\n",
    "    \n",
    "    train_data_sample['tags'].iloc[i] = list(train_dict[song])"
   ]
  },
  {
   "cell_type": "code",
   "execution_count": 133,
   "id": "6e64e7fd",
   "metadata": {},
   "outputs": [
    {
     "data": {
      "text/html": [
       "<div>\n",
       "<style scoped>\n",
       "    .dataframe tbody tr th:only-of-type {\n",
       "        vertical-align: middle;\n",
       "    }\n",
       "\n",
       "    .dataframe tbody tr th {\n",
       "        vertical-align: top;\n",
       "    }\n",
       "\n",
       "    .dataframe thead th {\n",
       "        text-align: right;\n",
       "    }\n",
       "</style>\n",
       "<table border=\"1\" class=\"dataframe\">\n",
       "  <thead>\n",
       "    <tr style=\"text-align: right;\">\n",
       "      <th></th>\n",
       "      <th>tags</th>\n",
       "      <th>song_id</th>\n",
       "      <th>like_cnt</th>\n",
       "      <th>gnr</th>\n",
       "      <th>issue_date</th>\n",
       "      <th>album_id</th>\n",
       "      <th>artist_id_basket</th>\n",
       "      <th>song_name</th>\n",
       "      <th>artist_name_basket</th>\n",
       "      <th>like_cnt_song</th>\n",
       "    </tr>\n",
       "  </thead>\n",
       "  <tbody>\n",
       "    <tr>\n",
       "      <th>0</th>\n",
       "      <td>[cafe, spare, drowsi, aromen, jazz, coffe, emo...</td>\n",
       "      <td>314824</td>\n",
       "      <td>10</td>\n",
       "      <td>[GN1912, GN1904, GN1901]</td>\n",
       "      <td>20070914</td>\n",
       "      <td>534654</td>\n",
       "      <td>[408062, 408064]</td>\n",
       "      <td>Afterglow</td>\n",
       "      <td>[Kosemura Akira, Nakamura Haruka]</td>\n",
       "      <td>43.126594</td>\n",
       "    </tr>\n",
       "    <tr>\n",
       "      <th>1</th>\n",
       "      <td>[cafe, spare, drowsi, aromen, jazz, coffe, emo...</td>\n",
       "      <td>249789</td>\n",
       "      <td>10</td>\n",
       "      <td>[GN1701, GN1704]</td>\n",
       "      <td>20090617</td>\n",
       "      <td>667658</td>\n",
       "      <td>[230358]</td>\n",
       "      <td>York Town Girl</td>\n",
       "      <td>[Eddie Higgins Trio]</td>\n",
       "      <td>242.402344</td>\n",
       "    </tr>\n",
       "    <tr>\n",
       "      <th>2</th>\n",
       "      <td>[cafe, spare, drowsi, aromen, jazz, coffe, emo...</td>\n",
       "      <td>28215</td>\n",
       "      <td>10</td>\n",
       "      <td>[GN0508, GN0501, GN2602, GN0504, GN2601]</td>\n",
       "      <td>20091217</td>\n",
       "      <td>744955</td>\n",
       "      <td>[446541]</td>\n",
       "      <td>Cottage Piano</td>\n",
       "      <td>[5mg]</td>\n",
       "      <td>276.400629</td>\n",
       "    </tr>\n",
       "    <tr>\n",
       "      <th>3</th>\n",
       "      <td>[cafe, spare, drowsi, aromen, jazz, coffe, emo...</td>\n",
       "      <td>497515</td>\n",
       "      <td>10</td>\n",
       "      <td>[GN1907, GN1910, GN1905, GN1912, GN1901]</td>\n",
       "      <td>20110126</td>\n",
       "      <td>1177351</td>\n",
       "      <td>[51538]</td>\n",
       "      <td>The Jazzy View</td>\n",
       "      <td>[DJ Ezasscul]</td>\n",
       "      <td>149.376908</td>\n",
       "    </tr>\n",
       "    <tr>\n",
       "      <th>4</th>\n",
       "      <td>[cafe, spare, drowsi, aromen, jazz, coffe, emo...</td>\n",
       "      <td>650192</td>\n",
       "      <td>10</td>\n",
       "      <td>[GN1701]</td>\n",
       "      <td>20050513</td>\n",
       "      <td>130391</td>\n",
       "      <td>[193389]</td>\n",
       "      <td>I M Through With Love</td>\n",
       "      <td>[Wendy Lee Taylor]</td>\n",
       "      <td>2.587995</td>\n",
       "    </tr>\n",
       "  </tbody>\n",
       "</table>\n",
       "</div>"
      ],
      "text/plain": [
       "                                                tags  song_id  like_cnt  \\\n",
       "0  [cafe, spare, drowsi, aromen, jazz, coffe, emo...   314824        10   \n",
       "1  [cafe, spare, drowsi, aromen, jazz, coffe, emo...   249789        10   \n",
       "2  [cafe, spare, drowsi, aromen, jazz, coffe, emo...    28215        10   \n",
       "3  [cafe, spare, drowsi, aromen, jazz, coffe, emo...   497515        10   \n",
       "4  [cafe, spare, drowsi, aromen, jazz, coffe, emo...   650192        10   \n",
       "\n",
       "                                        gnr  issue_date  album_id  \\\n",
       "0                  [GN1912, GN1904, GN1901]    20070914    534654   \n",
       "1                          [GN1701, GN1704]    20090617    667658   \n",
       "2  [GN0508, GN0501, GN2602, GN0504, GN2601]    20091217    744955   \n",
       "3  [GN1907, GN1910, GN1905, GN1912, GN1901]    20110126   1177351   \n",
       "4                                  [GN1701]    20050513    130391   \n",
       "\n",
       "   artist_id_basket              song_name                 artist_name_basket  \\\n",
       "0  [408062, 408064]              Afterglow  [Kosemura Akira, Nakamura Haruka]   \n",
       "1          [230358]         York Town Girl               [Eddie Higgins Trio]   \n",
       "2          [446541]          Cottage Piano                              [5mg]   \n",
       "3           [51538]         The Jazzy View                      [DJ Ezasscul]   \n",
       "4          [193389]  I M Through With Love                 [Wendy Lee Taylor]   \n",
       "\n",
       "   like_cnt_song  \n",
       "0      43.126594  \n",
       "1     242.402344  \n",
       "2     276.400629  \n",
       "3     149.376908  \n",
       "4       2.587995  "
      ]
     },
     "execution_count": 133,
     "metadata": {},
     "output_type": "execute_result"
    }
   ],
   "source": [
    "song_tag_appended = pd.merge(train_data_sample, song_data)\n",
    "song_tag_appended = song_tag_appended.astype({'song_id':'int64'})\n",
    "song_tag_appended.head()"
   ]
  },
  {
   "cell_type": "code",
   "execution_count": 134,
   "id": "1a294dd8",
   "metadata": {},
   "outputs": [
    {
     "data": {
      "text/plain": [
       "(467, 100)"
      ]
     },
     "execution_count": 134,
     "metadata": {},
     "output_type": "execute_result"
    }
   ],
   "source": [
    "from gensim.models.word2vec import Word2Vec\n",
    "\n",
    "train_data_sample2 = train_data_eng.copy()\n",
    "train_data_sample2 = train_data_sample2.reset_index(drop=True)\n",
    "\n",
    "w2v = Word2Vec(sentences = song_tag_appended['tags'], vector_size = 100, \n",
    "               window = 5, min_count = 15, workers = 4, sg = 1)\n",
    "\n",
    "w2v.wv.vectors.shape"
   ]
  },
  {
   "cell_type": "code",
   "execution_count": 135,
   "id": "81bd3677",
   "metadata": {},
   "outputs": [
    {
     "name": "stdout",
     "output_type": "stream",
     "text": [
      "{'sunlight': 3.7578723256008875, 'cafe': 0.8880687086500749, 'spare': 1.6634282963306397, 'afternoon': 2.7123077913548514, 'jazz': 1.824740149957914, 'drowsi': 3.09922357343648, 'coffe': 2.587290712228522, 'emot': 0.7157918770236508, 'aromen': 4.024234996035074, 'spring': 1.3478836925633537, 'flutter': 1.1615108890914296, 'love': 0.8048168654110363, 'concentr': 1.9116047364638402, 'morn': 1.824740149957914, 'prenat': 3.51320244003865, 'nap': 4.087655574071304, 'piano': 1.9973587108913553, 'medit': 4.087655574071304, 'classic': 2.606913556560569, 'new': 1.3243688542728522, 'age': 1.4846889231888072, 'lullabi': 2.580847943529335, 'deep': 3.51320244003865, 'sleep': 2.1802156630348932, 'rest': 0.9432218675400159, 'creation': 4.024234996035074, 'dawn': 0.9016968303202262, 'world': 3.0326816104671, 'music': 0.89972270164881, 'drive': 0.7678181629565582, 'work': 1.9488412698641722, 'mood': 0.6931471805599453, 'crush': 2.682931141006878, 'pound': 4.087655574071304, 'confess': 3.0011523410233303, 'affect': 4.087655574071304, 'sick': 4.087655574071304, 'winter': 1.552777878868609, 'merri': 4.487512142519859, 'christma': 2.574453124875575, 'pop': 0.9713305008538184, 'heal': 1.138034027050734, 'consol': 2.1340661454961736, 'night': 0.908679701476019, 'electronica': 3.9940218405942316, 'danc': 1.3661594527108347, 'edmfloor': 4.914350280321297, 'edm': 2.7123077913548514, 'billow': 4.914350280321297, '2017': 2.922085733385692, 'person': 2.1192630358665077, 'tast': 2.2292025470600216, 'old': 1.9696854145489715, 'song': 0.8166608909253139, 'light': 3.065345107863031, 'excit': 0.9933234088138888, 'listen': 1.849990027176574, 'cherri': 3.5313425443312916, 'blossom': 3.5313425443312916, 'rock': 1.769821599935418, 'summer': 1.452490027985781, 'raini': 2.0425082866341535, 'season': 3.8055507609176296, 'idol': 3.1225280699318825, 'travel': 1.2109191320162283, 'stress': 1.5060714153831385, 'record': 4.087655574071304, 'ballad': 1.008803959433317, 'walk': 1.7082474542603348, 'autumn': 1.2389198344031704, 'windless': 1.0770901221373608, 'memori': 0.8372410729416107, 'reminisc': 0.9593081169578459, 'lab': 1.3017705476020627, 'hip': 0.8852052587906213, 'hop': 0.9313991203265934, 'sad': 1.478710182897851, 'farewel': 1.5029723021782306, 'day': 1.606713115107915, 'breakup': 3.6276687230690396, 'acoust': 2.750470916986162, 'depress': 2.727374473928613, 'atmospher': 1.3992311521506102, 'singl': 3.09922357343648, 'indi': 2.0099890057398357, 'sensual': 3.3338515047830257, 'groov': 2.212538812309262, 'loung': 2.5618047007820652, 'introduct': 4.487512142519859, 'trendi': 2.483864440209557, 'elect': 2.9509289965381527, 'perform': 1.8322231906209332, 'weekend': 1.6085284080512599, 'call': 2.396861680975088, 'americano': 2.396861680975088, 'cozi': 2.160659238997577, 'sunni': 2.396861680975088, 'fc': 4.155529251261241, 'seoul': 4.155529251261241, 'kleagu': 4.155529251261241, 'suwon': 4.155529251261241, 'blue': 4.155529251261241, 'wongz': 4.155529251261241, 'soccer': 4.155529251261241, 'cup': 4.155529251261241, 'jeonnam': 4.155529251261241, 'dragon': 4.155529251261241, 'incheon': 4.155529251261241, 'unit': 4.155529251261241, 'leagu': 4.155529251261241, 'brother': 3.0326816104671, 'itaewon': 2.8494211542830694, 'know': 3.0326816104671, 'sing': 4.349436067360512, 'power': 4.349436067360512, 'cool': 3.460789478864401, 'leav': 2.4724841297894433, 'wind': 4.087655574071304, 'thought': 3.0220495818713644, 'dreamstat': 4.155529251261241, 'live': 3.6276687230690396, 'ponau': 4.155529251261241, 'welovevocaledm': 4.155529251261241, 'zurboy': 4.155529251261241, 'spectrum': 4.155529251261241, 'sniper': 4.155529251261241, 'vocal': 2.4724841297894433, 'commut': 3.712462804250022, 'hotel': 2.9607525546579643, 'rooftop': 3.3640063533360753, 'bite': 3.712462804250022, 'feel': 2.5130028525210064, 'way': 2.108340891243185, 'home': 2.108340891243185, 'happi': 2.9807266329361206, 'insomnia': 3.2763240517807475, 'warm': 3.3488069944602317, 'sensibl': 2.8581874976160098, 'health': 3.043439600584591, 'sport': 3.304642646625626, 'diet': 3.5879535355239756, 'melon': 1.8322231906209332, 'wait': 3.5879535355239756, 'carol': 3.076498701179507, 'need': 4.2285167751184725, 'comfort': 2.4953999255038393, 'worship': 4.2285167751184725, 'ccm': 3.1709943386349866, 'hymn': 4.2285167751184725, 'latest': 3.6481682690569226, 'quick': 3.6481682690569226, 'gym': 3.6481682690569226, 'bodi': 3.6481682690569226, 'fat': 3.6481682690569226, 'exercis': 3.290375355978807, 'store': 1.5714138799359454, 'hiphop': 2.2680038471545587, 'rap': 3.1225280699318825, 'rain': 2.593782107553271, 'sensi': 3.0115407248702746, 'playlist': 3.5313425443312916, 'club': 2.543175557911976, 'drug': 3.8557310891357592, 'oversea': 3.8557310891357592, 'corner': 3.8557310891357592, 'insa': 3.8557310891357592, '2019': 3.8557310891357592, 'foreign': 3.8557310891357592, 'great': 2.6406433727708936, 'raphiphop': 3.427404624490452, 'mad': 3.427404624490452, 'clown': 3.427404624490452, 'run': 3.1344066682417506, 'mamison': 3.427404624490452, 'show': 2.6757388962498636, 'money': 2.742704453816724, 'rapper': 2.742704453816724, 'korean': 2.931597711218116, 'tea': 4.538242848988211, 'time': 2.5555498104500325, 'usa': 4.538242848988211, 'top20': 4.538242848988211, 'hot100': 4.538242848988211, 'billboard': 4.538242848988211, 'alcohol': 3.8303122406539125, 'book': 2.0695502642010934, 'profession': 4.538242848988211, 'mixer': 4.538242848988211, 'mix': 2.587290712228522, '2015': 2.970684334684819, 'big': 2.970684334684819, 'bang': 2.970684334684819, '19': 2.970684334684819, 'martial': 2.970684334684819, 'art': 2.8759830204440653, 'top100': 2.970684334684819, 'carbun': 4.393326189927815, 'timbr': 3.110801603338778, 'man': 2.8850155586956396, 'lofi': 4.487512142519859, 'ici': 3.209098452029906, 'rnb': 3.0220495818713644, 'soul': 2.719808754540288, 'blackmus': 3.2354051268194115, 'black': 2.461255161706039, 'agreeabl': 3.395168314344811, 'rudominick': 5.175019150203543, 'dominick': 5.175019150203543, 'dominiqu': 5.175019150203543, 'birthday': 4.349436067360512, 'congrat': 4.349436067360512, 'sweet': 2.894140268412615, 'masterpiec': 2.164532215650677, 'varieti': 4.439284249942412, 'songwrit': 4.439284249942412, 'compos': 4.439284249942412, 'diver': 4.439284249942412, 'musician': 3.395168314344811, 'soft': 4.349436067360512, 'eardrum': 4.349436067360512, 'boyfriend': 4.349436067360512, 'male': 2.6974960134235197, 'beauti': 4.487512142519859, 'romant': 4.487512142519859, 'chanson': 4.487512142519859, 'ost': 1.9459101490553132, 'franc': 4.487512142519859, 'french': 4.487512142519859, 'film': 2.8581874976160098, 'joy': 3.065345107863031, 'prevent': 4.024234996035074, 'citi': 3.7578723256008875, 'inner': 4.024234996035074, 'chart': 2.922085733385692, 'real': 2.922085733385692, '100': 2.922085733385692, 'era': 2.922085733385692, 'neat': 3.669120304133474, 'epilepsi': 4.6483423578533, 'famili': 3.9086841041626315, 'trip': 3.9086841041626315, 'tranquil': 2.281361456542419, 'stimulus': 2.0695502642010934, 'clear': 2.281361456542419, 'read': 2.281361456542419, 'date': 2.083433562949373, 'balad': 4.772378104971998, 'popsong': 2.281361456542419, 'type': 2.281361456542419, 'muzzl': 2.8670409011334694, 'gater': 4.840806801549768, 'good': 2.840740261312579, 'chang': 4.120997685172954, 'want': 4.120997685172954, 'background': 2.4724841297894433, 'hyori': 3.936297412115719, 'nemin': 3.936297412115719, 'park': 2.6475499496609123, 'bgm': 2.7350060110907384, 'entertain': 3.936297412115719, 'first': 3.3794573950257494, 'kiss': 3.3794573950257494, 'snow': 3.3794573950257494, 'miss': 3.3794573950257494, 'hous': 2.7350060110907384, 'cock': 4.487512142519859, 'loneli': 3.209098452029906, 'kid': 3.1709943386349866, 'develop': 4.772378104971998, 'kpop': 4.591747165655951, 'recommend': 3.065345107863031, 'duk': 3.964727068918714, 'ho': 3.964727068918714, 'hwang': 3.964727068918714, 'wonder': 3.964727068918714, 'seogyo': 5.175019150203543, 'dong': 5.175019150203543, 'dreami': 5.175019150203543, 'calm': 3.0011523410233303, 'albi': 3.2763240517807475, 'wine': 3.2763240517807475, 'bar': 2.750470916986162, 'sensit': 3.2763240517807475, 'ride': 3.2763240517807475, 'soomooc': 4.439284249942412, 'ink': 4.439284249942412, 'bench': 4.591747165655951, 'jay': 4.772378104971998, 'repres': 4.772378104971998, 'choi': 4.772378104971998, 'ae': 4.772378104971998, 'librari': 4.307437777682809, 'festiv': 3.964727068918714, 'let': 4.708403440629744, 'hard': 3.8818423882781548, 'job': 3.8818423882781548, 'happen': 3.8818423882781548, 'okay': 3.8818423882781548, 'today': 3.8818423882781548, 'extrem': 3.304642646625626, 'hear': 3.304642646625626, 'jpop': 2.9807266329361206, 'ocean': 2.798564208643042, 'constant': 3.51320244003865, 'mccoy': 4.393326189927815, 'tenner': 4.393326189927815, 'macoi': 4.393326189927815, 'jewelri': 3.9940218405942316, 'hidden': 3.9940218405942316, 'prejud': 3.9940218405942316, 'fx': 3.9940218405942316, 'boy': 3.7348972294823937, 'friend': 3.7348972294823937, 'commemor': 4.087655574071304, 'chorus': 4.087655574071304, 'beethoven': 4.087655574071304, 'non': 4.087655574071304, 'window': 4.087655574071304, '2020': 4.087655574071304, 'fate': 4.087655574071304, 'stylist': 4.024234996035074, 'shinbo': 4.024234996035074, 'hipster': 4.024234996035074, 'energi': 3.1344066682417506, 'lunch': 4.120997685172954, 'bold': 4.591747165655951, 'year': 3.065345107863031, 'end': 2.8236286061432287, 'eye': 3.290375355978807, 'coupl': 3.290375355978807, 'suggest': 3.568703852670969, 'alum': 3.781414167246225, 'soup': 2.782240271692003, 'hifi': 4.155529251261241, 'high': 3.0220495818713644, 'qualiti': 4.155529251261241, 'popular': 3.568703852670969, 'recent': 3.568703852670969, 'lover': 3.5879535355239756, 'transit': 4.0554248790235725, 'hyun': 3.4111477125153233, 'bin': 4.0554248790235725, 'machin': 4.439284249942412, 'fresh': 4.120997685172954, 'bicycl': 4.120997685172954, 'play': 4.120997685172954, 'dream': 2.045837210990144, 'band': 2.9908818194202413, 'yb': 4.120997685172954, 'domest': 4.120997685172954, 'yoon': 4.120997685172954, 'bts': 3.549838405678444, 'monglong': 2.381509857566241, 'refin': 1.9666721405037424, 'vacat': 3.3640063533360753, 'nct': 3.936297412115719, '127': 3.936297412115719, 'bus': 3.183521312530079, 'view': 3.158635744490844, 'tire': 3.395168314344811, 'long': 3.1344066682417506, 'center': 5.175019150203543, 'orchestra': 5.175019150203543, 'symphoni': 5.175019150203543, 'go': 3.781414167246225, 'start': 4.591747165655951, 'voic': 3.8055507609176296, 'luxuri': 3.8055507609176296, 'tone': 3.8055507609176296, 'jrock': 4.155529251261241, 'japan': 4.155529251261241, 'visual': 4.155529251261241, 'cocktail': 3.549838405678444, 'anthem': 5.529995820312084, 'femal': 2.719808754540288, 'stabil': 4.591747165655951, 'relax': 4.591747165655951, 'destini': 4.591747165655951, 'dreamer': 4.591747165655951, 'dotodo': 4.591747165655951, 'hi': 4.591747165655951, 'snap': 4.349436067360512, 'metal': 3.1962211343033946, 'refresh': 3.443948548614819, 'cheer': 4.591747165655951, 'youth': 4.591747165655951, 'regress': 2.281361456542419, 'award': 4.19133682820941, 'karaok': 2.2292025470600216, '1990': 4.487512142519859, 'sweden': 4.487512142519859, 'alon': 2.6202479976577626, 'fallen': 3.51320244003865, 'car': 4.914350280321297, 'radio': 3.7348972294823937, 'oncom': 5.175019150203543, 'dramat': 3.054326437820044, 'drama': 3.054326437820044, 'movi': 3.054326437820044, 'netflix': 4.6483423578533, 'worri': 3.0877904179719384, 'vincent': 3.3794573950257494, 'kim': 2.8494211542830694, 'haon': 3.3794573950257494, 'dick': 3.3794573950257494, 'keep': 3.3794573950257494, 'clan': 3.3794573950257494, 'b2b': 4.0554248790235725, 'late': 4.487512142519859, 'heat': 4.487512142519859, '2030': 4.487512142519859, 'duet': 2.8850155586956396, 'group': 2.8850155586956396, 'pen': 3.781414167246225, 'lone': 4.487512142519859, 'bosa': 4.708403440629744, 'nova': 4.708403440629744, 'han': 4.024234996035074, 'river': 4.024234996035074, 'beer': 3.549838405678444, 'realiti': 2.580847943529335, 'sorrow': 2.580847943529335, 'sunset': 4.6483423578533, 'pour': 4.6483423578533, 'mongl': 4.6483423578533, 'perfum': 4.6483423578533, '90s': 2.3516326242991155, 'tv': 2.3516326242991155, 'thrill': 2.3516326242991155, 'renaiss': 2.3516326242991155, 'hit': 2.3516326242991155, 'parti': 4.538242848988211, 'electron': 4.538242848988211, 'wake': 4.772378104971998, 'setlist': 5.279813894983477, 'best3': 4.538242848988211, 'fish': 4.538242848988211, 'shoe': 4.538242848988211, 'artist': 4.538242848988211, 'chill': 2.8494211542830694, 'friday': 2.8494211542830694, 'sugget': 3.183521312530079, 'crossov': 3.9086841041626315, 'sampl': 3.9086841041626315, 'remak': 3.9086841041626315, 'shinbora': 3.669120304133474, 'bum': 3.669120304133474, 'soo': 3.669120304133474, 'johan': 3.669120304133474, 'gaspel': 3.669120304133474, 'ji': 3.669120304133474, 'heon': 3.669120304133474, 'naul': 3.669120304133474, 'prais': 3.669120304133474, 'lena': 3.669120304133474, 'jaehoon': 3.669120304133474, 'lee': 3.669120304133474, 'peanut': 4.487512142519859, 'makgeolli': 4.487512142519859, 'drink': 4.487512142519859, 'chimac': 4.487512142519859, 'soju': 4.487512142519859, 'class': 4.487512142519859, 'gamsung': 3.5879535355239756, 'sexi': 3.5879535355239756, 'rmusic': 2.8759830204440653, 'tae': 2.8759830204440653, 'hyung': 2.8759830204440653, '1970s': 4.487512142519859, 'seed': 3.1709943386349866, 'jam': 3.1709943386349866, 'kiriboy': 3.1709943386349866, 'napla': 3.1709943386349866, 'blacknut': 3.1709943386349866, 'swing': 3.1709943386349866, 'moistabadoz': 3.1709943386349866, 'dark': 3.1225280699318825, 'magnific': 3.1225280699318825, 'crisi': 3.1225280699318825, 'flat': 4.267176792994939, 'white': 4.267176792994939, 'hot': 4.267176792994939, 'ice': 4.267176792994939}\n"
     ]
    }
   ],
   "source": [
    "song_num_dict, song_num_max = make_song_num_dict(train_data_sample2)\n",
    "tag_weights = {tag: np.log(song_num_max / cnt + 1) for tag, cnt in song_num_dict.items()}\n",
    "tag_weights_all = {tag: np.log(len(song_tag_appended) / cnt + 1) for tag, cnt in song_num_dict.items()}\n",
    "print(tag_weights)\n",
    "\n",
    "song_tag_appended['gnr_literal'] = song_tag_appended['gnr'].apply(lambda x : (' ').join(x))"
   ]
  },
  {
   "cell_type": "code",
   "execution_count": 136,
   "id": "0a0b3b83",
   "metadata": {},
   "outputs": [],
   "source": [
    "#test_data_sample = train_data[500:1000].copy()\n",
    "test_data_sample = train_data_eng.copy()\n",
    "test_data_sample = test_data_sample.reset_index(drop=True)\n",
    "test_my_tags = test_data_sample['tags'].tolist()\n",
    "test_my_songs = test_data_sample['song_id'].tolist()\n",
    "\n",
    "weight_mat_cv = []\n",
    "weight_mat_tf = []\n",
    "\n",
    "weight_mat_cv.append(apply_genre_weight(get_embedding(song_tag_appended, 'cv'), 0))\n",
    "weight_mat_cv.append(apply_genre_weight(get_embedding(song_tag_appended, 'cv'), 1))\n",
    "\n",
    "weight_mat_tf.append(apply_genre_weight(get_embedding(song_tag_appended, 'tf'), 0))\n",
    "weight_mat_tf.append(apply_genre_weight(get_embedding(song_tag_appended, 'tf'), 1))"
   ]
  },
  {
   "cell_type": "markdown",
   "id": "b8c4ae0a",
   "metadata": {},
   "source": [
    "## 결과 (3)"
   ]
  },
  {
   "cell_type": "code",
   "execution_count": 138,
   "id": "f619b5d9",
   "metadata": {},
   "outputs": [
    {
     "name": "stdout",
     "output_type": "stream",
     "text": [
      "Recommend Model : 1, Simi_mode : cos, Tag : False, Genre : False, Like : False, Mode : cv, Genre Weight Mode : 0, Tag Weight Mode : 0, Like Weight Mode : 0\n",
      "MAP@K (K=10): 0.276\n",
      "nDCG: 0.535\n",
      "Recommend Model : 1, Simi_mode : cos, Tag : True, Genre : False, Like : False, Mode : cv, Genre Weight Mode : 0, Tag Weight Mode : 0, Like Weight Mode : 0\n",
      "MAP@K (K=10): 0.285\n",
      "nDCG: 0.555\n",
      "Recommend Model : 1, Simi_mode : cos, Tag : True, Genre : False, Like : False, Mode : cv, Genre Weight Mode : 0, Tag Weight Mode : 1, Like Weight Mode : 0\n",
      "MAP@K (K=10): 0.299\n",
      "nDCG: 0.565\n",
      "Recommend Model : 1, Simi_mode : cos, Tag : False, Genre : True, Like : False, Mode : cv, Genre Weight Mode : 0, Tag Weight Mode : 0, Like Weight Mode : 0\n",
      "MAP@K (K=10): 0.339\n",
      "nDCG: 0.593\n"
     ]
    }
   ],
   "source": [
    "# 1/36\n",
    "params_list = [\n",
    "    #recnum(1, 2) / simi_mode(cos, pea, jac) / 태그 / 장르 / 좋아요 / mode(cv/tf) / 장르 가중치 모드(0/1) / 좋아요 가중치 모드(0/1) / 태그 가중치 모드(0/1)\n",
    "    (1, 'cos', False, False, False, 'cv', 0, 0, 0),\n",
    "    (1, 'cos', True, False, False, 'cv', 0, 0, 0),\n",
    "    (1, 'cos', True, False, False, 'cv', 0, 0, 1),\n",
    "    (1, 'cos', False, True, False, 'cv', 0, 0, 0)\n",
    "]\n",
    "\n",
    "with multiprocessing.Pool(processes=4) as pool:\n",
    "    results = pool.starmap(process_fuc, [(param[0], test_my_songs, test_my_tags, song_tag_appended, param[1], param[2], param[3], param[4], \n",
    "                                         param[5], param[6], param[7], param[8], w2v, weight_mat_cv, weight_mat_tf, tag_weights, tag_weights_all) for param in params_list])\n",
    "    \n",
    "for result in results:\n",
    "    print(result)"
   ]
  },
  {
   "cell_type": "code",
   "execution_count": 139,
   "id": "62433ea4",
   "metadata": {},
   "outputs": [
    {
     "name": "stdout",
     "output_type": "stream",
     "text": [
      "Recommend Model : 1, Simi_mode : cos, Tag : False, Genre : True, Like : False, Mode : cv, Genre Weight Mode : 1, Tag Weight Mode : 0, Like Weight Mode : 0\n",
      "MAP@K (K=10): 0.290\n",
      "nDCG: 0.560\n",
      "Recommend Model : 1, Simi_mode : cos, Tag : True, Genre : True, Like : False, Mode : cv, Genre Weight Mode : 0, Tag Weight Mode : 0, Like Weight Mode : 0\n",
      "MAP@K (K=10): 0.343\n",
      "nDCG: 0.626\n",
      "Recommend Model : 1, Simi_mode : cos, Tag : True, Genre : True, Like : False, Mode : cv, Genre Weight Mode : 0, Tag Weight Mode : 1, Like Weight Mode : 0\n",
      "MAP@K (K=10): 0.341\n",
      "nDCG: 0.618\n",
      "Recommend Model : 1, Simi_mode : cos, Tag : True, Genre : True, Like : False, Mode : cv, Genre Weight Mode : 1, Tag Weight Mode : 0, Like Weight Mode : 0\n",
      "MAP@K (K=10): 0.298\n",
      "nDCG: 0.557\n"
     ]
    }
   ],
   "source": [
    "# 2/36\n",
    "params_list = [\n",
    "    #recnum(1, 2) / simi_mode(cos, pea, jac) / 태그 / 장르 / 좋아요 / mode(cv/tf) / 장르 가중치 모드(0/1) / 좋아요 가중치 모드(0/1) / 태그 가중치 모드(0/1)\n",
    "    (1, 'cos', False, True, False, 'cv', 1, 0, 0),\n",
    "    (1, 'cos', True, True, False, 'cv', 0, 0, 0),\n",
    "    (1, 'cos', True, True, False, 'cv', 0, 0, 1),\n",
    "    (1, 'cos', True, True, False, 'cv', 1, 0, 0)\n",
    "]\n",
    "\n",
    "with multiprocessing.Pool(processes=4) as pool:\n",
    "    results = pool.starmap(process_fuc, [(param[0], test_my_songs, test_my_tags, song_tag_appended, param[1], param[2], param[3], param[4], \n",
    "                                         param[5], param[6], param[7], param[8], w2v, weight_mat_cv, weight_mat_tf, tag_weights, tag_weights_all) for param in params_list])\n",
    "    \n",
    "for result in results:\n",
    "    print(result)"
   ]
  },
  {
   "cell_type": "code",
   "execution_count": 140,
   "id": "edf8e60b",
   "metadata": {},
   "outputs": [
    {
     "name": "stdout",
     "output_type": "stream",
     "text": [
      "Recommend Model : 1, Simi_mode : cos, Tag : True, Genre : True, Like : False, Mode : cv, Genre Weight Mode : 1, Tag Weight Mode : 1, Like Weight Mode : 0\n",
      "MAP@K (K=10): 0.294\n",
      "nDCG: 0.562\n",
      "Recommend Model : 1, Simi_mode : cos, Tag : False, Genre : False, Like : False, Mode : tf, Genre Weight Mode : 0, Tag Weight Mode : 0, Like Weight Mode : 0\n",
      "MAP@K (K=10): 0.286\n",
      "nDCG: 0.551\n",
      "Recommend Model : 1, Simi_mode : cos, Tag : True, Genre : False, Like : False, Mode : tf, Genre Weight Mode : 0, Tag Weight Mode : 0, Like Weight Mode : 0\n",
      "MAP@K (K=10): 0.286\n",
      "nDCG: 0.544\n",
      "Recommend Model : 1, Simi_mode : cos, Tag : True, Genre : False, Like : False, Mode : tf, Genre Weight Mode : 0, Tag Weight Mode : 1, Like Weight Mode : 0\n",
      "MAP@K (K=10): 0.304\n",
      "nDCG: 0.582\n"
     ]
    }
   ],
   "source": [
    "# 3/36\n",
    "params_list = [\n",
    "    #recnum(1, 2) / simi_mode(cos, pea, jac) / 태그 / 장르 / 좋아요 / mode(cv/tf) / 장르 가중치 모드(0/1) / 좋아요 가중치 모드(0/1) / 태그 가중치 모드(0/1)\n",
    "    (1, 'cos', True, True, False, 'cv', 1, 0, 1),\n",
    "    (1, 'cos', False, False, False, 'tf', 0, 0, 0),\n",
    "    (1, 'cos', True, False, False, 'tf', 0, 0, 0),\n",
    "    (1, 'cos', True, False, False, 'tf', 0, 0, 1)\n",
    "]\n",
    "\n",
    "with multiprocessing.Pool(processes=4) as pool:\n",
    "    results = pool.starmap(process_fuc, [(param[0], test_my_songs, test_my_tags, song_tag_appended, param[1], param[2], param[3], param[4], \n",
    "                                         param[5], param[6], param[7], param[8], w2v, weight_mat_cv, weight_mat_tf, tag_weights, tag_weights_all) for param in params_list])\n",
    "    \n",
    "for result in results:\n",
    "    print(result)"
   ]
  },
  {
   "cell_type": "code",
   "execution_count": 142,
   "id": "1c6e8d8c",
   "metadata": {},
   "outputs": [
    {
     "name": "stdout",
     "output_type": "stream",
     "text": [
      "Recommend Model : 1, Simi_mode : cos, Tag : False, Genre : True, Like : False, Mode : tf, Genre Weight Mode : 0, Tag Weight Mode : 0, Like Weight Mode : 0\n",
      "MAP@K (K=10): 0.306\n",
      "nDCG: 0.567\n",
      "Recommend Model : 1, Simi_mode : cos, Tag : False, Genre : True, Like : False, Mode : tf, Genre Weight Mode : 1, Tag Weight Mode : 0, Like Weight Mode : 0\n",
      "MAP@K (K=10): 0.300\n",
      "nDCG: 0.565\n",
      "Recommend Model : 1, Simi_mode : cos, Tag : True, Genre : True, Like : False, Mode : tf, Genre Weight Mode : 0, Tag Weight Mode : 0, Like Weight Mode : 0\n",
      "MAP@K (K=10): 0.299\n",
      "nDCG: 0.555\n",
      "Recommend Model : 1, Simi_mode : cos, Tag : True, Genre : True, Like : False, Mode : tf, Genre Weight Mode : 0, Tag Weight Mode : 1, Like Weight Mode : 0\n",
      "MAP@K (K=10): 0.306\n",
      "nDCG: 0.567\n"
     ]
    }
   ],
   "source": [
    "# 4/36\n",
    "params_list = [\n",
    "    #recnum(1, 2) / simi_mode(cos, pea, jac) / 태그 / 장르 / 좋아요 / mode(cv/tf) / 장르 가중치 모드(0/1) / 좋아요 가중치 모드(0/1) / 태그 가중치 모드(0/1)\n",
    "    (1, 'cos', False, True, False, 'tf', 0, 0, 0),\n",
    "    (1, 'cos', False, True, False, 'tf', 1, 0, 0),\n",
    "    (1, 'cos', True, True, False, 'tf', 0, 0, 0),\n",
    "    (1, 'cos', True, True, False, 'tf', 0, 0, 1)\n",
    "]\n",
    "\n",
    "with multiprocessing.Pool(processes=4) as pool:\n",
    "    results = pool.starmap(process_fuc, [(param[0], test_my_songs, test_my_tags, song_tag_appended, param[1], param[2], param[3], param[4], \n",
    "                                         param[5], param[6], param[7], param[8], w2v, weight_mat_cv, weight_mat_tf, tag_weights, tag_weights_all) for param in params_list])\n",
    "    \n",
    "for result in results:\n",
    "    print(result)"
   ]
  },
  {
   "cell_type": "code",
   "execution_count": 143,
   "id": "b524a625",
   "metadata": {},
   "outputs": [
    {
     "name": "stdout",
     "output_type": "stream",
     "text": [
      "Recommend Model : 1, Simi_mode : cos, Tag : True, Genre : True, Like : False, Mode : tf, Genre Weight Mode : 1, Tag Weight Mode : 0, Like Weight Mode : 0\n",
      "MAP@K (K=10): 0.311\n",
      "nDCG: 0.574\n",
      "Recommend Model : 1, Simi_mode : cos, Tag : True, Genre : True, Like : False, Mode : tf, Genre Weight Mode : 1, Tag Weight Mode : 1, Like Weight Mode : 0\n",
      "MAP@K (K=10): 0.315\n",
      "nDCG: 0.584\n",
      "Recommend Model : 1, Simi_mode : pea, Tag : False, Genre : False, Like : False, Mode : cv, Genre Weight Mode : 0, Tag Weight Mode : 0, Like Weight Mode : 0\n",
      "MAP@K (K=10): 0.069\n",
      "nDCG: 0.175\n",
      "Recommend Model : 1, Simi_mode : pea, Tag : True, Genre : False, Like : False, Mode : cv, Genre Weight Mode : 0, Tag Weight Mode : 0, Like Weight Mode : 0\n",
      "MAP@K (K=10): 0.064\n",
      "nDCG: 0.167\n"
     ]
    }
   ],
   "source": [
    "# 5/36\n",
    "params_list = [\n",
    "    #recnum(1, 2) / simi_mode(cos, pea, jac) / 태그 / 장르 / 좋아요 / mode(cv/tf) / 장르 가중치 모드(0/1) / 좋아요 가중치 모드(0/1) / 태그 가중치 모드(0/1)\n",
    "    (1, 'cos', True, True, False, 'tf', 1, 0, 0),\n",
    "    (1, 'cos', True, True, False, 'tf', 1, 0, 1),\n",
    "    (1, 'pea', False, False, False, 'cv', 0, 0, 0),\n",
    "    (1, 'pea', True, False, False, 'cv', 0, 0, 0)\n",
    "]\n",
    "\n",
    "with multiprocessing.Pool(processes=4) as pool:\n",
    "    results = pool.starmap(process_fuc, [(param[0], test_my_songs, test_my_tags, song_tag_appended, param[1], param[2], param[3], param[4], \n",
    "                                         param[5], param[6], param[7], param[8], w2v, weight_mat_cv, weight_mat_tf, tag_weights, tag_weights_all) for param in params_list])\n",
    "    \n",
    "for result in results:\n",
    "    print(result)"
   ]
  },
  {
   "cell_type": "code",
   "execution_count": 144,
   "id": "de0fb772",
   "metadata": {},
   "outputs": [
    {
     "name": "stdout",
     "output_type": "stream",
     "text": [
      "Recommend Model : 1, Simi_mode : pea, Tag : True, Genre : False, Like : False, Mode : cv, Genre Weight Mode : 0, Tag Weight Mode : 1, Like Weight Mode : 0\n",
      "MAP@K (K=10): 0.062\n",
      "nDCG: 0.166\n",
      "Recommend Model : 1, Simi_mode : pea, Tag : False, Genre : True, Like : False, Mode : cv, Genre Weight Mode : 0, Tag Weight Mode : 0, Like Weight Mode : 0\n",
      "MAP@K (K=10): 0.123\n",
      "nDCG: 0.290\n",
      "Recommend Model : 1, Simi_mode : pea, Tag : False, Genre : True, Like : False, Mode : cv, Genre Weight Mode : 1, Tag Weight Mode : 0, Like Weight Mode : 0\n",
      "MAP@K (K=10): 0.078\n",
      "nDCG: 0.194\n",
      "Recommend Model : 1, Simi_mode : pea, Tag : True, Genre : True, Like : False, Mode : cv, Genre Weight Mode : 0, Tag Weight Mode : 0, Like Weight Mode : 0\n",
      "MAP@K (K=10): 0.125\n",
      "nDCG: 0.300\n"
     ]
    }
   ],
   "source": [
    "# 6/36\n",
    "params_list = [\n",
    "    #recnum(1, 2) / simi_mode(cos, pea, jac) / 태그 / 장르 / 좋아요 / mode(cv/tf) / 장르 가중치 모드(0/1) / 좋아요 가중치 모드(0/1) / 태그 가중치 모드(0/1)\n",
    "    (1, 'pea', True, False, False, 'cv', 0, 0, 1),\n",
    "    (1, 'pea', False, True, False, 'cv', 0, 0, 0),\n",
    "    (1, 'pea', False, True, False, 'cv', 1, 0, 0),\n",
    "    (1, 'pea', True, True, False, 'cv', 0, 0, 0)\n",
    "]\n",
    "\n",
    "with multiprocessing.Pool(processes=4) as pool:\n",
    "    results = pool.starmap(process_fuc, [(param[0], test_my_songs, test_my_tags, song_tag_appended, param[1], param[2], param[3], param[4], \n",
    "                                         param[5], param[6], param[7], param[8], w2v, weight_mat_cv, weight_mat_tf, tag_weights, tag_weights_all) for param in params_list])\n",
    "    \n",
    "for result in results:\n",
    "    print(result)"
   ]
  },
  {
   "cell_type": "code",
   "execution_count": 146,
   "id": "31eb687b",
   "metadata": {},
   "outputs": [
    {
     "name": "stdout",
     "output_type": "stream",
     "text": [
      "Recommend Model : 1, Simi_mode : pea, Tag : True, Genre : True, Like : False, Mode : cv, Genre Weight Mode : 0, Tag Weight Mode : 1, Like Weight Mode : 0\n",
      "MAP@K (K=10): 0.112\n",
      "nDCG: 0.287\n",
      "Recommend Model : 1, Simi_mode : pea, Tag : True, Genre : True, Like : False, Mode : cv, Genre Weight Mode : 1, Tag Weight Mode : 0, Like Weight Mode : 0\n",
      "MAP@K (K=10): 0.072\n",
      "nDCG: 0.181\n",
      "Recommend Model : 1, Simi_mode : pea, Tag : True, Genre : True, Like : False, Mode : cv, Genre Weight Mode : 1, Tag Weight Mode : 1, Like Weight Mode : 0\n",
      "MAP@K (K=10): 0.067\n",
      "nDCG: 0.182\n",
      "Recommend Model : 1, Simi_mode : pea, Tag : False, Genre : False, Like : False, Mode : tf, Genre Weight Mode : 0, Tag Weight Mode : 0, Like Weight Mode : 0\n",
      "MAP@K (K=10): 0.063\n",
      "nDCG: 0.171\n"
     ]
    }
   ],
   "source": [
    "# 7/36\n",
    "params_list = [\n",
    "    #recnum(1, 2) / simi_mode(cos, pea, jac) / 태그 / 장르 / 좋아요 / mode(cv/tf) / 장르 가중치 모드(0/1) / 좋아요 가중치 모드(0/1) / 태그 가중치 모드(0/1)\n",
    "    (1, 'pea', True, True, False, 'cv', 0, 0, 1),\n",
    "    (1, 'pea', True, True, False, 'cv', 1, 0, 0),\n",
    "    (1, 'pea', True, True, False, 'cv', 1, 0, 1),\n",
    "    (1, 'pea', False, False, False, 'tf', 0, 0, 0)\n",
    "]\n",
    "\n",
    "with multiprocessing.Pool(processes=4) as pool:\n",
    "    results = pool.starmap(process_fuc, [(param[0], test_my_songs, test_my_tags, song_tag_appended, param[1], param[2], param[3], param[4], \n",
    "                                         param[5], param[6], param[7], param[8], w2v, weight_mat_cv, weight_mat_tf, tag_weights, tag_weights_all) for param in params_list])\n",
    "    \n",
    "for result in results:\n",
    "    print(result)"
   ]
  },
  {
   "cell_type": "code",
   "execution_count": 147,
   "id": "93e71d02",
   "metadata": {},
   "outputs": [
    {
     "name": "stdout",
     "output_type": "stream",
     "text": [
      "Recommend Model : 1, Simi_mode : pea, Tag : True, Genre : False, Like : False, Mode : tf, Genre Weight Mode : 0, Tag Weight Mode : 0, Like Weight Mode : 0\n",
      "MAP@K (K=10): 0.064\n",
      "nDCG: 0.168\n",
      "Recommend Model : 1, Simi_mode : pea, Tag : True, Genre : False, Like : False, Mode : tf, Genre Weight Mode : 0, Tag Weight Mode : 1, Like Weight Mode : 0\n",
      "MAP@K (K=10): 0.068\n",
      "nDCG: 0.182\n",
      "Recommend Model : 1, Simi_mode : pea, Tag : False, Genre : True, Like : False, Mode : tf, Genre Weight Mode : 0, Tag Weight Mode : 0, Like Weight Mode : 0\n",
      "MAP@K (K=10): 0.081\n",
      "nDCG: 0.197\n",
      "Recommend Model : 1, Simi_mode : pea, Tag : False, Genre : True, Like : False, Mode : tf, Genre Weight Mode : 1, Tag Weight Mode : 0, Like Weight Mode : 0\n",
      "MAP@K (K=10): 0.083\n",
      "nDCG: 0.205\n"
     ]
    }
   ],
   "source": [
    "# 8/36\n",
    "params_list = [\n",
    "    #recnum(1, 2) / simi_mode(cos, pea, jac) / 태그 / 장르 / 좋아요 / mode(cv/tf) / 장르 가중치 모드(0/1) / 좋아요 가중치 모드(0/1) / 태그 가중치 모드(0/1)\n",
    "    (1, 'pea', True, False, False, 'tf', 0, 0, 0),\n",
    "    (1, 'pea', True, False, False, 'tf', 0, 0, 1),\n",
    "    (1, 'pea', False, True, False, 'tf', 0, 0, 0),\n",
    "    (1, 'pea', False, True, False, 'tf', 1, 0, 0)\n",
    "]\n",
    "\n",
    "with multiprocessing.Pool(processes=4) as pool:\n",
    "    results = pool.starmap(process_fuc, [(param[0], test_my_songs, test_my_tags, song_tag_appended, param[1], param[2], param[3], param[4], \n",
    "                                         param[5], param[6], param[7], param[8], w2v, weight_mat_cv, weight_mat_tf, tag_weights, tag_weights_all) for param in params_list])\n",
    "    \n",
    "for result in results:\n",
    "    print(result)"
   ]
  },
  {
   "cell_type": "code",
   "execution_count": 148,
   "id": "dee3bd75",
   "metadata": {},
   "outputs": [
    {
     "name": "stdout",
     "output_type": "stream",
     "text": [
      "Recommend Model : 1, Simi_mode : pea, Tag : True, Genre : True, Like : False, Mode : tf, Genre Weight Mode : 0, Tag Weight Mode : 0, Like Weight Mode : 0\n",
      "MAP@K (K=10): 0.073\n",
      "nDCG: 0.185\n",
      "Recommend Model : 1, Simi_mode : pea, Tag : True, Genre : True, Like : False, Mode : tf, Genre Weight Mode : 0, Tag Weight Mode : 1, Like Weight Mode : 0\n",
      "MAP@K (K=10): 0.069\n",
      "nDCG: 0.192\n",
      "Recommend Model : 1, Simi_mode : pea, Tag : True, Genre : True, Like : False, Mode : tf, Genre Weight Mode : 1, Tag Weight Mode : 0, Like Weight Mode : 0\n",
      "MAP@K (K=10): 0.079\n",
      "nDCG: 0.203\n",
      "Recommend Model : 1, Simi_mode : pea, Tag : True, Genre : True, Like : False, Mode : tf, Genre Weight Mode : 1, Tag Weight Mode : 1, Like Weight Mode : 0\n",
      "MAP@K (K=10): 0.077\n",
      "nDCG: 0.191\n"
     ]
    }
   ],
   "source": [
    "# 9/36\n",
    "params_list = [\n",
    "    #recnum(1, 2) / simi_mode(cos, pea, jac) / 태그 / 장르 / 좋아요 / mode(cv/tf) / 장르 가중치 모드(0/1) / 좋아요 가중치 모드(0/1) / 태그 가중치 모드(0/1)\n",
    "    (1, 'pea', True, True, False, 'tf', 0, 0, 0),\n",
    "    (1, 'pea', True, True, False, 'tf', 0, 0, 1),\n",
    "    (1, 'pea', True, True, False, 'tf', 1, 0, 0),\n",
    "    (1, 'pea', True, True, False, 'tf', 1, 0, 1)\n",
    "]\n",
    "\n",
    "with multiprocessing.Pool(processes=4) as pool:\n",
    "    results = pool.starmap(process_fuc, [(param[0], test_my_songs, test_my_tags, song_tag_appended, param[1], param[2], param[3], param[4], \n",
    "                                         param[5], param[6], param[7], param[8], w2v, weight_mat_cv, weight_mat_tf, tag_weights, tag_weights_all) for param in params_list])\n",
    "    \n",
    "for result in results:\n",
    "    print(result)"
   ]
  },
  {
   "cell_type": "code",
   "execution_count": 150,
   "id": "4200207c",
   "metadata": {},
   "outputs": [
    {
     "name": "stdout",
     "output_type": "stream",
     "text": [
      "Recommend Model : 2, Simi_mode : cos, Tag : False, Genre : False, Like : False, Mode : cv, Genre Weight Mode : 0, Tag Weight Mode : 0, Like Weight Mode : 0\n",
      "MAP@K (K=10): 0.556\n",
      "nDCG: 0.727\n",
      "Recommend Model : 2, Simi_mode : cos, Tag : True, Genre : False, Like : False, Mode : cv, Genre Weight Mode : 0, Tag Weight Mode : 0, Like Weight Mode : 0\n",
      "MAP@K (K=10): 0.560\n",
      "nDCG: 0.725\n",
      "Recommend Model : 2, Simi_mode : cos, Tag : True, Genre : False, Like : False, Mode : cv, Genre Weight Mode : 0, Tag Weight Mode : 1, Like Weight Mode : 0\n",
      "MAP@K (K=10): 0.563\n",
      "nDCG: 0.732\n",
      "Recommend Model : 2, Simi_mode : cos, Tag : False, Genre : True, Like : False, Mode : cv, Genre Weight Mode : 0, Tag Weight Mode : 0, Like Weight Mode : 0\n",
      "MAP@K (K=10): 0.591\n",
      "nDCG: 0.749\n"
     ]
    }
   ],
   "source": [
    "# 10/36\n",
    "params_list = [\n",
    "    #recnum(1, 2) / simi_mode(cos, pea, jac) / 태그 / 장르 / 좋아요 / mode(cv/tf) / 장르 가중치 모드(0/1) / 좋아요 가중치 모드(0/1) / 태그 가중치 모드(0/1)\n",
    "    (2, 'cos', False, False, False, 'cv', 0, 0, 0),\n",
    "    (2, 'cos', True, False, False, 'cv', 0, 0, 0),\n",
    "    (2, 'cos', True, False, False, 'cv', 0, 0, 1),\n",
    "    (2, 'cos', False, True, False, 'cv', 0, 0, 0)\n",
    "]\n",
    "\n",
    "with multiprocessing.Pool(processes=4) as pool:\n",
    "    results = pool.starmap(process_fuc, [(param[0], test_my_songs, test_my_tags, song_tag_appended, param[1], param[2], param[3], param[4], \n",
    "                                         param[5], param[6], param[7], param[8], w2v, weight_mat_cv, weight_mat_tf, tag_weights, tag_weights_all) for param in params_list])\n",
    "    \n",
    "for result in results:\n",
    "    print(result)"
   ]
  },
  {
   "cell_type": "code",
   "execution_count": 151,
   "id": "5338d50c",
   "metadata": {},
   "outputs": [
    {
     "name": "stdout",
     "output_type": "stream",
     "text": [
      "Recommend Model : 2, Simi_mode : cos, Tag : False, Genre : True, Like : False, Mode : cv, Genre Weight Mode : 1, Tag Weight Mode : 0, Like Weight Mode : 0\n",
      "MAP@K (K=10): 0.584\n",
      "nDCG: 0.750\n",
      "Recommend Model : 2, Simi_mode : cos, Tag : True, Genre : True, Like : False, Mode : cv, Genre Weight Mode : 0, Tag Weight Mode : 0, Like Weight Mode : 0\n",
      "MAP@K (K=10): 0.593\n",
      "nDCG: 0.751\n",
      "Recommend Model : 2, Simi_mode : cos, Tag : True, Genre : True, Like : False, Mode : cv, Genre Weight Mode : 0, Tag Weight Mode : 1, Like Weight Mode : 0\n",
      "MAP@K (K=10): 0.593\n",
      "nDCG: 0.755\n",
      "Recommend Model : 2, Simi_mode : cos, Tag : True, Genre : True, Like : False, Mode : cv, Genre Weight Mode : 1, Tag Weight Mode : 0, Like Weight Mode : 0\n",
      "MAP@K (K=10): 0.587\n",
      "nDCG: 0.752\n"
     ]
    }
   ],
   "source": [
    "# 11/36\n",
    "params_list = [\n",
    "    #recnum(1, 2) / simi_mode(cos, pea, jac) / 태그 / 장르 / 좋아요 / mode(cv/tf) / 장르 가중치 모드(0/1) / 좋아요 가중치 모드(0/1) / 태그 가중치 모드(0/1)\n",
    "    (2, 'cos', False, True, False, 'cv', 1, 0, 0),\n",
    "    (2, 'cos', True, True, False, 'cv', 0, 0, 0),\n",
    "    (2, 'cos', True, True, False, 'cv', 0, 0, 1),\n",
    "    (2, 'cos', True, True, False, 'cv', 1, 0, 0)\n",
    "]\n",
    "\n",
    "with multiprocessing.Pool(processes=4) as pool:\n",
    "    results = pool.starmap(process_fuc, [(param[0], test_my_songs, test_my_tags, song_tag_appended, param[1], param[2], param[3], param[4], \n",
    "                                         param[5], param[6], param[7], param[8], w2v, weight_mat_cv, weight_mat_tf, tag_weights, tag_weights_all) for param in params_list])\n",
    "    \n",
    "for result in results:\n",
    "    print(result)"
   ]
  },
  {
   "cell_type": "code",
   "execution_count": 152,
   "id": "193e1c21",
   "metadata": {},
   "outputs": [
    {
     "name": "stdout",
     "output_type": "stream",
     "text": [
      "Recommend Model : 2, Simi_mode : cos, Tag : True, Genre : True, Like : False, Mode : cv, Genre Weight Mode : 1, Tag Weight Mode : 1, Like Weight Mode : 0\n",
      "MAP@K (K=10): 0.588\n",
      "nDCG: 0.755\n",
      "Recommend Model : 2, Simi_mode : cos, Tag : False, Genre : False, Like : False, Mode : tf, Genre Weight Mode : 0, Tag Weight Mode : 0, Like Weight Mode : 0\n",
      "MAP@K (K=10): 0.553\n",
      "nDCG: 0.706\n",
      "Recommend Model : 2, Simi_mode : cos, Tag : True, Genre : False, Like : False, Mode : tf, Genre Weight Mode : 0, Tag Weight Mode : 0, Like Weight Mode : 0\n",
      "MAP@K (K=10): 0.558\n",
      "nDCG: 0.710\n",
      "Recommend Model : 2, Simi_mode : cos, Tag : True, Genre : False, Like : False, Mode : tf, Genre Weight Mode : 0, Tag Weight Mode : 1, Like Weight Mode : 0\n",
      "MAP@K (K=10): 0.560\n",
      "nDCG: 0.714\n"
     ]
    }
   ],
   "source": [
    "# 12/36\n",
    "params_list = [\n",
    "    #recnum(1, 2) / simi_mode(cos, pea, jac) / 태그 / 장르 / 좋아요 / mode(cv/tf) / 장르 가중치 모드(0/1) / 좋아요 가중치 모드(0/1) / 태그 가중치 모드(0/1)\n",
    "    (2, 'cos', True, True, False, 'cv', 1, 0, 1),\n",
    "    (2, 'cos', False, False, False, 'tf', 0, 0, 0),\n",
    "    (2, 'cos', True, False, False, 'tf', 0, 0, 0),\n",
    "    (2, 'cos', True, False, False, 'tf', 0, 0, 1)\n",
    "]\n",
    "\n",
    "with multiprocessing.Pool(processes=4) as pool:\n",
    "    results = pool.starmap(process_fuc, [(param[0], test_my_songs, test_my_tags, song_tag_appended, param[1], param[2], param[3], param[4], \n",
    "                                         param[5], param[6], param[7], param[8], w2v, weight_mat_cv, weight_mat_tf, tag_weights, tag_weights_all) for param in params_list])\n",
    "    \n",
    "for result in results:\n",
    "    print(result)"
   ]
  },
  {
   "cell_type": "code",
   "execution_count": 154,
   "id": "02cd481c",
   "metadata": {},
   "outputs": [
    {
     "name": "stdout",
     "output_type": "stream",
     "text": [
      "Recommend Model : 2, Simi_mode : cos, Tag : False, Genre : True, Like : False, Mode : tf, Genre Weight Mode : 0, Tag Weight Mode : 0, Like Weight Mode : 0\n",
      "MAP@K (K=10): 0.562\n",
      "nDCG: 0.714\n",
      "Recommend Model : 2, Simi_mode : cos, Tag : False, Genre : True, Like : False, Mode : tf, Genre Weight Mode : 1, Tag Weight Mode : 0, Like Weight Mode : 0\n",
      "MAP@K (K=10): 0.579\n",
      "nDCG: 0.732\n",
      "Recommend Model : 2, Simi_mode : cos, Tag : True, Genre : True, Like : False, Mode : tf, Genre Weight Mode : 0, Tag Weight Mode : 0, Like Weight Mode : 0\n",
      "MAP@K (K=10): 0.566\n",
      "nDCG: 0.718\n",
      "Recommend Model : 2, Simi_mode : cos, Tag : True, Genre : True, Like : False, Mode : tf, Genre Weight Mode : 0, Tag Weight Mode : 1, Like Weight Mode : 0\n",
      "MAP@K (K=10): 0.566\n",
      "nDCG: 0.718\n"
     ]
    }
   ],
   "source": [
    "# 13/36\n",
    "params_list = [\n",
    "    #recnum(1, 2) / simi_mode(cos, pea, jac) / 태그 / 장르 / 좋아요 / mode(cv/tf) / 장르 가중치 모드(0/1) / 좋아요 가중치 모드(0/1) / 태그 가중치 모드(0/1)\n",
    "    (2, 'cos', False, True, False, 'tf', 0, 0, 0),\n",
    "    (2, 'cos', False, True, False, 'tf', 1, 0, 0),\n",
    "    (2, 'cos', True, True, False, 'tf', 0, 0, 0),\n",
    "    (2, 'cos', True, True, False, 'tf', 0, 0, 1)\n",
    "]\n",
    "\n",
    "with multiprocessing.Pool(processes=4) as pool:\n",
    "    results = pool.starmap(process_fuc, [(param[0], test_my_songs, test_my_tags, song_tag_appended, param[1], param[2], param[3], param[4], \n",
    "                                         param[5], param[6], param[7], param[8], w2v, weight_mat_cv, weight_mat_tf, tag_weights, tag_weights_all) for param in params_list])\n",
    "    \n",
    "for result in results:\n",
    "    print(result)"
   ]
  },
  {
   "cell_type": "code",
   "execution_count": 155,
   "id": "42c68e98",
   "metadata": {},
   "outputs": [
    {
     "name": "stdout",
     "output_type": "stream",
     "text": [
      "Recommend Model : 2, Simi_mode : cos, Tag : True, Genre : True, Like : False, Mode : tf, Genre Weight Mode : 1, Tag Weight Mode : 0, Like Weight Mode : 0\n",
      "MAP@K (K=10): 0.585\n",
      "nDCG: 0.736\n",
      "Recommend Model : 2, Simi_mode : cos, Tag : True, Genre : True, Like : False, Mode : tf, Genre Weight Mode : 1, Tag Weight Mode : 1, Like Weight Mode : 0\n",
      "MAP@K (K=10): 0.583\n",
      "nDCG: 0.733\n",
      "Recommend Model : 2, Simi_mode : pea, Tag : False, Genre : False, Like : False, Mode : cv, Genre Weight Mode : 0, Tag Weight Mode : 0, Like Weight Mode : 0\n",
      "MAP@K (K=10): 0.077\n",
      "nDCG: 0.184\n",
      "Recommend Model : 2, Simi_mode : pea, Tag : True, Genre : False, Like : False, Mode : cv, Genre Weight Mode : 0, Tag Weight Mode : 0, Like Weight Mode : 0\n",
      "MAP@K (K=10): 0.077\n",
      "nDCG: 0.186\n"
     ]
    }
   ],
   "source": [
    "# 14/36\n",
    "params_list = [\n",
    "    #recnum(1, 2) / simi_mode(cos, pea, jac) / 태그 / 장르 / 좋아요 / mode(cv/tf) / 장르 가중치 모드(0/1) / 좋아요 가중치 모드(0/1) / 태그 가중치 모드(0/1)\n",
    "    (2, 'cos', True, True, False, 'tf', 1, 0, 0),\n",
    "    (2, 'cos', True, True, False, 'tf', 1, 0, 1),\n",
    "    (2, 'pea', False, False, False, 'cv', 0, 0, 0),\n",
    "    (2, 'pea', True, False, False, 'cv', 0, 0, 0)\n",
    "]\n",
    "\n",
    "with multiprocessing.Pool(processes=4) as pool:\n",
    "    results = pool.starmap(process_fuc, [(param[0], test_my_songs, test_my_tags, song_tag_appended, param[1], param[2], param[3], param[4], \n",
    "                                         param[5], param[6], param[7], param[8], w2v, weight_mat_cv, weight_mat_tf, tag_weights, tag_weights_all) for param in params_list])\n",
    "    \n",
    "for result in results:\n",
    "    print(result)"
   ]
  },
  {
   "cell_type": "code",
   "execution_count": 156,
   "id": "aec2d524",
   "metadata": {},
   "outputs": [
    {
     "name": "stdout",
     "output_type": "stream",
     "text": [
      "Recommend Model : 2, Simi_mode : pea, Tag : True, Genre : False, Like : False, Mode : cv, Genre Weight Mode : 0, Tag Weight Mode : 1, Like Weight Mode : 0\n",
      "MAP@K (K=10): 0.077\n",
      "nDCG: 0.187\n",
      "Recommend Model : 2, Simi_mode : pea, Tag : False, Genre : True, Like : False, Mode : cv, Genre Weight Mode : 0, Tag Weight Mode : 0, Like Weight Mode : 0\n",
      "MAP@K (K=10): 0.120\n",
      "nDCG: 0.254\n",
      "Recommend Model : 2, Simi_mode : pea, Tag : False, Genre : True, Like : False, Mode : cv, Genre Weight Mode : 1, Tag Weight Mode : 0, Like Weight Mode : 0\n",
      "MAP@K (K=10): 0.090\n",
      "nDCG: 0.203\n",
      "Recommend Model : 2, Simi_mode : pea, Tag : True, Genre : True, Like : False, Mode : cv, Genre Weight Mode : 0, Tag Weight Mode : 0, Like Weight Mode : 0\n",
      "MAP@K (K=10): 0.120\n",
      "nDCG: 0.254\n"
     ]
    }
   ],
   "source": [
    "# 15/36\n",
    "params_list = [\n",
    "    #recnum(1, 2) / simi_mode(cos, pea, jac) / 태그 / 장르 / 좋아요 / mode(cv/tf) / 장르 가중치 모드(0/1) / 좋아요 가중치 모드(0/1) / 태그 가중치 모드(0/1)\n",
    "    (2, 'pea', True, False, False, 'cv', 0, 0, 1),\n",
    "    (2, 'pea', False, True, False, 'cv', 0, 0, 0),\n",
    "    (2, 'pea', False, True, False, 'cv', 1, 0, 0),\n",
    "    (2, 'pea', True, True, False, 'cv', 0, 0, 0)\n",
    "]\n",
    "\n",
    "with multiprocessing.Pool(processes=4) as pool:\n",
    "    results = pool.starmap(process_fuc, [(param[0], test_my_songs, test_my_tags, song_tag_appended, param[1], param[2], param[3], param[4], \n",
    "                                         param[5], param[6], param[7], param[8], w2v, weight_mat_cv, weight_mat_tf, tag_weights, tag_weights_all) for param in params_list])\n",
    "    \n",
    "for result in results:\n",
    "    print(result)"
   ]
  },
  {
   "cell_type": "code",
   "execution_count": 158,
   "id": "a247cdbb",
   "metadata": {},
   "outputs": [
    {
     "name": "stdout",
     "output_type": "stream",
     "text": [
      "Recommend Model : 2, Simi_mode : pea, Tag : True, Genre : True, Like : False, Mode : cv, Genre Weight Mode : 0, Tag Weight Mode : 1, Like Weight Mode : 0\n",
      "MAP@K (K=10): 0.120\n",
      "nDCG: 0.256\n",
      "Recommend Model : 2, Simi_mode : pea, Tag : True, Genre : True, Like : False, Mode : cv, Genre Weight Mode : 1, Tag Weight Mode : 0, Like Weight Mode : 0\n",
      "MAP@K (K=10): 0.089\n",
      "nDCG: 0.201\n",
      "Recommend Model : 2, Simi_mode : pea, Tag : True, Genre : True, Like : False, Mode : cv, Genre Weight Mode : 1, Tag Weight Mode : 1, Like Weight Mode : 0\n",
      "MAP@K (K=10): 0.091\n",
      "nDCG: 0.204\n",
      "Recommend Model : 2, Simi_mode : pea, Tag : False, Genre : False, Like : False, Mode : tf, Genre Weight Mode : 0, Tag Weight Mode : 0, Like Weight Mode : 0\n",
      "MAP@K (K=10): 0.083\n",
      "nDCG: 0.206\n"
     ]
    }
   ],
   "source": [
    "# 16/36\n",
    "params_list = [\n",
    "    #recnum(1, 2) / simi_mode(cos, pea, jac) / 태그 / 장르 / 좋아요 / mode(cv/tf) / 장르 가중치 모드(0/1) / 좋아요 가중치 모드(0/1) / 태그 가중치 모드(0/1)\n",
    "    (2, 'pea', True, True, False, 'cv', 0, 0, 1),\n",
    "    (2, 'pea', True, True, False, 'cv', 1, 0, 0),\n",
    "    (2, 'pea', True, True, False, 'cv', 1, 0, 1),\n",
    "    (2, 'pea', False, False, False, 'tf', 0, 0, 0)\n",
    "]\n",
    "\n",
    "with multiprocessing.Pool(processes=4) as pool:\n",
    "    results = pool.starmap(process_fuc, [(param[0], test_my_songs, test_my_tags, song_tag_appended, param[1], param[2], param[3], param[4], \n",
    "                                         param[5], param[6], param[7], param[8], w2v, weight_mat_cv, weight_mat_tf, tag_weights, tag_weights_all) for param in params_list])\n",
    "    \n",
    "for result in results:\n",
    "    print(result)"
   ]
  },
  {
   "cell_type": "code",
   "execution_count": 159,
   "id": "932bec79",
   "metadata": {},
   "outputs": [
    {
     "name": "stdout",
     "output_type": "stream",
     "text": [
      "Recommend Model : 2, Simi_mode : pea, Tag : True, Genre : False, Like : False, Mode : tf, Genre Weight Mode : 0, Tag Weight Mode : 0, Like Weight Mode : 0\n",
      "MAP@K (K=10): 0.084\n",
      "nDCG: 0.206\n",
      "Recommend Model : 2, Simi_mode : pea, Tag : True, Genre : False, Like : False, Mode : tf, Genre Weight Mode : 0, Tag Weight Mode : 1, Like Weight Mode : 0\n",
      "MAP@K (K=10): 0.084\n",
      "nDCG: 0.206\n",
      "Recommend Model : 2, Simi_mode : pea, Tag : False, Genre : True, Like : False, Mode : tf, Genre Weight Mode : 0, Tag Weight Mode : 0, Like Weight Mode : 0\n",
      "MAP@K (K=10): 0.094\n",
      "nDCG: 0.215\n",
      "Recommend Model : 2, Simi_mode : pea, Tag : False, Genre : True, Like : False, Mode : tf, Genre Weight Mode : 1, Tag Weight Mode : 0, Like Weight Mode : 0\n",
      "MAP@K (K=10): 0.107\n",
      "nDCG: 0.232\n"
     ]
    }
   ],
   "source": [
    "# 17/36\n",
    "params_list = [\n",
    "    #recnum(1, 2) / simi_mode(cos, pea, jac) / 태그 / 장르 / 좋아요 / mode(cv/tf) / 장르 가중치 모드(0/1) / 좋아요 가중치 모드(0/1) / 태그 가중치 모드(0/1)\n",
    "    (2, 'pea', True, False, False, 'tf', 0, 0, 0),\n",
    "    (2, 'pea', True, False, False, 'tf', 0, 0, 1),\n",
    "    (2, 'pea', False, True, False, 'tf', 0, 0, 0),\n",
    "    (2, 'pea', False, True, False, 'tf', 1, 0, 0)\n",
    "]\n",
    "\n",
    "with multiprocessing.Pool(processes=4) as pool:\n",
    "    results = pool.starmap(process_fuc, [(param[0], test_my_songs, test_my_tags, song_tag_appended, param[1], param[2], param[3], param[4], \n",
    "                                         param[5], param[6], param[7], param[8], w2v, weight_mat_cv, weight_mat_tf, tag_weights, tag_weights_all) for param in params_list])\n",
    "    \n",
    "for result in results:\n",
    "    print(result)"
   ]
  },
  {
   "cell_type": "code",
   "execution_count": 160,
   "id": "2d284515",
   "metadata": {},
   "outputs": [
    {
     "name": "stdout",
     "output_type": "stream",
     "text": [
      "Recommend Model : 2, Simi_mode : pea, Tag : True, Genre : True, Like : False, Mode : tf, Genre Weight Mode : 0, Tag Weight Mode : 0, Like Weight Mode : 0\n",
      "MAP@K (K=10): 0.093\n",
      "nDCG: 0.214\n",
      "Recommend Model : 2, Simi_mode : pea, Tag : True, Genre : True, Like : False, Mode : tf, Genre Weight Mode : 0, Tag Weight Mode : 1, Like Weight Mode : 0\n",
      "MAP@K (K=10): 0.092\n",
      "nDCG: 0.210\n",
      "Recommend Model : 2, Simi_mode : pea, Tag : True, Genre : True, Like : False, Mode : tf, Genre Weight Mode : 1, Tag Weight Mode : 0, Like Weight Mode : 0\n",
      "MAP@K (K=10): 0.106\n",
      "nDCG: 0.231\n",
      "Recommend Model : 2, Simi_mode : pea, Tag : True, Genre : True, Like : False, Mode : tf, Genre Weight Mode : 1, Tag Weight Mode : 1, Like Weight Mode : 0\n",
      "MAP@K (K=10): 0.107\n",
      "nDCG: 0.231\n"
     ]
    }
   ],
   "source": [
    "# 18/36\n",
    "params_list = [\n",
    "    #recnum(1, 2) / simi_mode(cos, pea, jac) / 태그 / 장르 / 좋아요 / mode(cv/tf) / 장르 가중치 모드(0/1) / 좋아요 가중치 모드(0/1) / 태그 가중치 모드(0/1)\n",
    "    (2, 'pea', True, True, False, 'tf', 0, 0, 0),\n",
    "    (2, 'pea', True, True, False, 'tf', 0, 0, 1),\n",
    "    (2, 'pea', True, True, False, 'tf', 1, 0, 0),\n",
    "    (2, 'pea', True, True, False, 'tf', 1, 0, 1)\n",
    "]\n",
    "\n",
    "with multiprocessing.Pool(processes=4) as pool:\n",
    "    results = pool.starmap(process_fuc, [(param[0], test_my_songs, test_my_tags, song_tag_appended, param[1], param[2], param[3], param[4], \n",
    "                                         param[5], param[6], param[7], param[8], w2v, weight_mat_cv, weight_mat_tf, tag_weights, tag_weights_all) for param in params_list])\n",
    "    \n",
    "for result in results:\n",
    "    print(result)"
   ]
  },
  {
   "cell_type": "code",
   "execution_count": 162,
   "id": "d829e4e6",
   "metadata": {},
   "outputs": [
    {
     "name": "stdout",
     "output_type": "stream",
     "text": [
      "Recommend Model : 1, Simi_mode : cos, Tag : False, Genre : False, Like : True, Mode : cv, Genre Weight Mode : 0, Tag Weight Mode : 0, Like Weight Mode : 0\n",
      "MAP@K (K=10): 0.250\n",
      "nDCG: 0.440\n",
      "Recommend Model : 1, Simi_mode : cos, Tag : True, Genre : False, Like : True, Mode : cv, Genre Weight Mode : 0, Tag Weight Mode : 0, Like Weight Mode : 0\n",
      "MAP@K (K=10): 0.246\n",
      "nDCG: 0.436\n",
      "Recommend Model : 1, Simi_mode : cos, Tag : True, Genre : False, Like : True, Mode : cv, Genre Weight Mode : 0, Tag Weight Mode : 1, Like Weight Mode : 0\n",
      "MAP@K (K=10): 0.244\n",
      "nDCG: 0.434\n",
      "Recommend Model : 1, Simi_mode : cos, Tag : False, Genre : True, Like : True, Mode : cv, Genre Weight Mode : 0, Tag Weight Mode : 0, Like Weight Mode : 0\n",
      "MAP@K (K=10): 0.302\n",
      "nDCG: 0.506\n"
     ]
    }
   ],
   "source": [
    "# 19/36\n",
    "params_list = [\n",
    "    #recnum(1, 2) / simi_mode(cos, pea, jac) / 태그 / 장르 / 좋아요 / mode(cv/tf) / 장르 가중치 모드(0/1) / 좋아요 가중치 모드(0/1) / 태그 가중치 모드(0/1)\n",
    "    (1, 'cos', False, False, True, 'cv', 0, 0, 0),\n",
    "    (1, 'cos', True, False, True, 'cv', 0, 0, 0),\n",
    "    (1, 'cos', True, False, True, 'cv', 0, 0, 1),\n",
    "    (1, 'cos', False, True, True, 'cv', 0, 0, 0)\n",
    "]\n",
    "\n",
    "with multiprocessing.Pool(processes=4) as pool:\n",
    "    results = pool.starmap(process_fuc, [(param[0], test_my_songs, test_my_tags, song_tag_appended, param[1], param[2], param[3], param[4], \n",
    "                                         param[5], param[6], param[7], param[8], w2v, weight_mat_cv, weight_mat_tf, tag_weights, tag_weights_all) for param in params_list])\n",
    "    \n",
    "for result in results:\n",
    "    print(result)"
   ]
  },
  {
   "cell_type": "code",
   "execution_count": 163,
   "id": "2b09ea1e",
   "metadata": {},
   "outputs": [
    {
     "name": "stdout",
     "output_type": "stream",
     "text": [
      "Recommend Model : 1, Simi_mode : cos, Tag : False, Genre : True, Like : True, Mode : cv, Genre Weight Mode : 1, Tag Weight Mode : 0, Like Weight Mode : 0\n",
      "MAP@K (K=10): 0.269\n",
      "nDCG: 0.464\n",
      "Recommend Model : 1, Simi_mode : cos, Tag : True, Genre : True, Like : True, Mode : cv, Genre Weight Mode : 0, Tag Weight Mode : 0, Like Weight Mode : 0\n",
      "MAP@K (K=10): 0.295\n",
      "nDCG: 0.508\n",
      "Recommend Model : 1, Simi_mode : cos, Tag : True, Genre : True, Like : True, Mode : cv, Genre Weight Mode : 0, Tag Weight Mode : 1, Like Weight Mode : 0\n",
      "MAP@K (K=10): 0.299\n",
      "nDCG: 0.511\n",
      "Recommend Model : 1, Simi_mode : cos, Tag : True, Genre : True, Like : True, Mode : cv, Genre Weight Mode : 1, Tag Weight Mode : 0, Like Weight Mode : 0\n",
      "MAP@K (K=10): 0.266\n",
      "nDCG: 0.462\n"
     ]
    }
   ],
   "source": [
    "# 20/36\n",
    "params_list = [\n",
    "    #recnum(1, 2) / simi_mode(cos, pea, jac) / 태그 / 장르 / 좋아요 / mode(cv/tf) / 장르 가중치 모드(0/1) / 좋아요 가중치 모드(0/1) / 태그 가중치 모드(0/1)\n",
    "    (1, 'cos', False, True, True, 'cv', 1, 0, 0),\n",
    "    (1, 'cos', True, True, True, 'cv', 0, 0, 0),\n",
    "    (1, 'cos', True, True, True, 'cv', 0, 0, 1),\n",
    "    (1, 'cos', True, True, True, 'cv', 1, 0, 0)\n",
    "]\n",
    "\n",
    "with multiprocessing.Pool(processes=4) as pool:\n",
    "    results = pool.starmap(process_fuc, [(param[0], test_my_songs, test_my_tags, song_tag_appended, param[1], param[2], param[3], param[4], \n",
    "                                         param[5], param[6], param[7], param[8], w2v, weight_mat_cv, weight_mat_tf, tag_weights, tag_weights_all) for param in params_list])\n",
    "    \n",
    "for result in results:\n",
    "    print(result)"
   ]
  },
  {
   "cell_type": "code",
   "execution_count": 164,
   "id": "f975d964",
   "metadata": {},
   "outputs": [
    {
     "name": "stdout",
     "output_type": "stream",
     "text": [
      "Recommend Model : 1, Simi_mode : cos, Tag : True, Genre : True, Like : True, Mode : cv, Genre Weight Mode : 1, Tag Weight Mode : 1, Like Weight Mode : 0\n",
      "MAP@K (K=10): 0.266\n",
      "nDCG: 0.456\n",
      "Recommend Model : 1, Simi_mode : cos, Tag : False, Genre : False, Like : True, Mode : tf, Genre Weight Mode : 0, Tag Weight Mode : 0, Like Weight Mode : 0\n",
      "MAP@K (K=10): 0.266\n",
      "nDCG: 0.454\n",
      "Recommend Model : 1, Simi_mode : cos, Tag : True, Genre : False, Like : True, Mode : tf, Genre Weight Mode : 0, Tag Weight Mode : 0, Like Weight Mode : 0\n",
      "MAP@K (K=10): 0.261\n",
      "nDCG: 0.451\n",
      "Recommend Model : 1, Simi_mode : cos, Tag : True, Genre : False, Like : True, Mode : tf, Genre Weight Mode : 0, Tag Weight Mode : 1, Like Weight Mode : 0\n",
      "MAP@K (K=10): 0.261\n",
      "nDCG: 0.448\n"
     ]
    }
   ],
   "source": [
    "# 21/36\n",
    "params_list = [\n",
    "    #recnum(1, 2) / simi_mode(cos, pea, jac) / 태그 / 장르 / 좋아요 / mode(cv/tf) / 장르 가중치 모드(0/1) / 좋아요 가중치 모드(0/1) / 태그 가중치 모드(0/1)\n",
    "    (1, 'cos', True, True, True, 'cv', 1, 0, 1),\n",
    "    (1, 'cos', False, False, True, 'tf', 0, 0, 0),\n",
    "    (1, 'cos', True, False, True, 'tf', 0, 0, 0),\n",
    "    (1, 'cos', True, False, True, 'tf', 0, 0, 1)\n",
    "]\n",
    "\n",
    "with multiprocessing.Pool(processes=4) as pool:\n",
    "    results = pool.starmap(process_fuc, [(param[0], test_my_songs, test_my_tags, song_tag_appended, param[1], param[2], param[3], param[4], \n",
    "                                         param[5], param[6], param[7], param[8], w2v, weight_mat_cv, weight_mat_tf, tag_weights, tag_weights_all) for param in params_list])\n",
    "    \n",
    "for result in results:\n",
    "    print(result)"
   ]
  },
  {
   "cell_type": "code",
   "execution_count": 166,
   "id": "bba9a49c",
   "metadata": {},
   "outputs": [
    {
     "name": "stdout",
     "output_type": "stream",
     "text": [
      "Recommend Model : 1, Simi_mode : cos, Tag : False, Genre : True, Like : True, Mode : tf, Genre Weight Mode : 0, Tag Weight Mode : 0, Like Weight Mode : 0\n",
      "MAP@K (K=10): 0.283\n",
      "nDCG: 0.475\n",
      "Recommend Model : 1, Simi_mode : cos, Tag : False, Genre : True, Like : True, Mode : tf, Genre Weight Mode : 1, Tag Weight Mode : 0, Like Weight Mode : 0\n",
      "MAP@K (K=10): 0.279\n",
      "nDCG: 0.471\n",
      "Recommend Model : 1, Simi_mode : cos, Tag : True, Genre : True, Like : True, Mode : tf, Genre Weight Mode : 0, Tag Weight Mode : 0, Like Weight Mode : 0\n",
      "MAP@K (K=10): 0.275\n",
      "nDCG: 0.475\n",
      "Recommend Model : 1, Simi_mode : cos, Tag : True, Genre : True, Like : True, Mode : tf, Genre Weight Mode : 0, Tag Weight Mode : 1, Like Weight Mode : 0\n",
      "MAP@K (K=10): 0.278\n",
      "nDCG: 0.474\n"
     ]
    }
   ],
   "source": [
    "# 22/36\n",
    "params_list = [\n",
    "    #recnum(1, 2) / simi_mode(cos, pea, jac) / 태그 / 장르 / 좋아요 / mode(cv/tf) / 장르 가중치 모드(0/1) / 좋아요 가중치 모드(0/1) / 태그 가중치 모드(0/1)\n",
    "    (1, 'cos', False, True, True, 'tf', 0, 0, 0),\n",
    "    (1, 'cos', False, True, True, 'tf', 1, 0, 0),\n",
    "    (1, 'cos', True, True, True, 'tf', 0, 0, 0),\n",
    "    (1, 'cos', True, True, True, 'tf', 0, 0, 1)\n",
    "]\n",
    "\n",
    "with multiprocessing.Pool(processes=4) as pool:\n",
    "    results = pool.starmap(process_fuc, [(param[0], test_my_songs, test_my_tags, song_tag_appended, param[1], param[2], param[3], param[4], \n",
    "                                         param[5], param[6], param[7], param[8], w2v, weight_mat_cv, weight_mat_tf, tag_weights, tag_weights_all) for param in params_list])\n",
    "    \n",
    "for result in results:\n",
    "    print(result)"
   ]
  },
  {
   "cell_type": "code",
   "execution_count": 167,
   "id": "bd1a4ad0",
   "metadata": {},
   "outputs": [
    {
     "name": "stdout",
     "output_type": "stream",
     "text": [
      "Recommend Model : 1, Simi_mode : cos, Tag : True, Genre : True, Like : True, Mode : tf, Genre Weight Mode : 1, Tag Weight Mode : 0, Like Weight Mode : 0\n",
      "MAP@K (K=10): 0.273\n",
      "nDCG: 0.472\n",
      "Recommend Model : 1, Simi_mode : cos, Tag : True, Genre : True, Like : True, Mode : tf, Genre Weight Mode : 1, Tag Weight Mode : 1, Like Weight Mode : 0\n",
      "MAP@K (K=10): 0.274\n",
      "nDCG: 0.468\n",
      "Recommend Model : 1, Simi_mode : pea, Tag : False, Genre : False, Like : True, Mode : cv, Genre Weight Mode : 0, Tag Weight Mode : 0, Like Weight Mode : 0\n",
      "MAP@K (K=10): 0.022\n",
      "nDCG: 0.066\n",
      "Recommend Model : 1, Simi_mode : pea, Tag : True, Genre : False, Like : True, Mode : cv, Genre Weight Mode : 0, Tag Weight Mode : 0, Like Weight Mode : 0\n",
      "MAP@K (K=10): 0.021\n",
      "nDCG: 0.060\n"
     ]
    }
   ],
   "source": [
    "# 23/36\n",
    "params_list = [\n",
    "    #recnum(1, 2) / simi_mode(cos, pea, jac) / 태그 / 장르 / 좋아요 / mode(cv/tf) / 장르 가중치 모드(0/1) / 좋아요 가중치 모드(0/1) / 태그 가중치 모드(0/1)\n",
    "    (1, 'cos', True, True, True, 'tf', 1, 0, 0),\n",
    "    (1, 'cos', True, True, True, 'tf', 1, 0, 1),\n",
    "    (1, 'pea', False, False, True, 'cv', 0, 0, 0),\n",
    "    (1, 'pea', True, False, True, 'cv', 0, 0, 0)\n",
    "]\n",
    "\n",
    "with multiprocessing.Pool(processes=4) as pool:\n",
    "    results = pool.starmap(process_fuc, [(param[0], test_my_songs, test_my_tags, song_tag_appended, param[1], param[2], param[3], param[4], \n",
    "                                         param[5], param[6], param[7], param[8], w2v, weight_mat_cv, weight_mat_tf, tag_weights, tag_weights_all) for param in params_list])\n",
    "    \n",
    "for result in results:\n",
    "    print(result)"
   ]
  },
  {
   "cell_type": "code",
   "execution_count": 168,
   "id": "3a8042a2",
   "metadata": {},
   "outputs": [
    {
     "name": "stdout",
     "output_type": "stream",
     "text": [
      "Recommend Model : 1, Simi_mode : pea, Tag : True, Genre : False, Like : True, Mode : cv, Genre Weight Mode : 0, Tag Weight Mode : 1, Like Weight Mode : 0\n",
      "MAP@K (K=10): 0.022\n",
      "nDCG: 0.064\n",
      "Recommend Model : 1, Simi_mode : pea, Tag : False, Genre : True, Like : True, Mode : cv, Genre Weight Mode : 0, Tag Weight Mode : 0, Like Weight Mode : 0\n",
      "MAP@K (K=10): 0.032\n",
      "nDCG: 0.085\n",
      "Recommend Model : 1, Simi_mode : pea, Tag : False, Genre : True, Like : True, Mode : cv, Genre Weight Mode : 1, Tag Weight Mode : 0, Like Weight Mode : 0\n",
      "MAP@K (K=10): 0.024\n",
      "nDCG: 0.072\n",
      "Recommend Model : 1, Simi_mode : pea, Tag : True, Genre : True, Like : True, Mode : cv, Genre Weight Mode : 0, Tag Weight Mode : 0, Like Weight Mode : 0\n",
      "MAP@K (K=10): 0.031\n",
      "nDCG: 0.087\n"
     ]
    }
   ],
   "source": [
    "# 24/36\n",
    "params_list = [\n",
    "    #recnum(1, 2) / simi_mode(cos, pea, jac) / 태그 / 장르 / 좋아요 / mode(cv/tf) / 장르 가중치 모드(0/1) / 좋아요 가중치 모드(0/1) / 태그 가중치 모드(0/1)\n",
    "    (1, 'pea', True, False, True, 'cv', 0, 0, 1),\n",
    "    (1, 'pea', False, True, True, 'cv', 0, 0, 0),\n",
    "    (1, 'pea', False, True, True, 'cv', 1, 0, 0),\n",
    "    (1, 'pea', True, True, True, 'cv', 0, 0, 0)\n",
    "]\n",
    "\n",
    "with multiprocessing.Pool(processes=4) as pool:\n",
    "    results = pool.starmap(process_fuc, [(param[0], test_my_songs, test_my_tags, song_tag_appended, param[1], param[2], param[3], param[4], \n",
    "                                         param[5], param[6], param[7], param[8], w2v, weight_mat_cv, weight_mat_tf, tag_weights, tag_weights_all) for param in params_list])\n",
    "    \n",
    "for result in results:\n",
    "    print(result)"
   ]
  },
  {
   "cell_type": "code",
   "execution_count": 170,
   "id": "46d98bbc",
   "metadata": {},
   "outputs": [
    {
     "name": "stdout",
     "output_type": "stream",
     "text": [
      "Recommend Model : 1, Simi_mode : pea, Tag : True, Genre : True, Like : True, Mode : cv, Genre Weight Mode : 0, Tag Weight Mode : 1, Like Weight Mode : 0\n",
      "MAP@K (K=10): 0.032\n",
      "nDCG: 0.091\n",
      "Recommend Model : 1, Simi_mode : pea, Tag : True, Genre : True, Like : True, Mode : cv, Genre Weight Mode : 1, Tag Weight Mode : 0, Like Weight Mode : 0\n",
      "MAP@K (K=10): 0.024\n",
      "nDCG: 0.077\n",
      "Recommend Model : 1, Simi_mode : pea, Tag : True, Genre : True, Like : True, Mode : cv, Genre Weight Mode : 1, Tag Weight Mode : 1, Like Weight Mode : 0\n",
      "MAP@K (K=10): 0.023\n",
      "nDCG: 0.075\n",
      "Recommend Model : 1, Simi_mode : pea, Tag : False, Genre : False, Like : True, Mode : tf, Genre Weight Mode : 0, Tag Weight Mode : 0, Like Weight Mode : 0\n",
      "MAP@K (K=10): 0.023\n",
      "nDCG: 0.073\n"
     ]
    }
   ],
   "source": [
    "# 25/36\n",
    "params_list = [\n",
    "    #recnum(1, 2) / simi_mode(cos, pea, jac) / 태그 / 장르 / 좋아요 / mode(cv/tf) / 장르 가중치 모드(0/1) / 좋아요 가중치 모드(0/1) / 태그 가중치 모드(0/1)\n",
    "    (1, 'pea', True, True, True, 'cv', 0, 0, 1),\n",
    "    (1, 'pea', True, True, True, 'cv', 1, 0, 0),\n",
    "    (1, 'pea', True, True, True, 'cv', 1, 0, 1),\n",
    "    (1, 'pea', False, False, True, 'tf', 0, 0, 0)\n",
    "]\n",
    "\n",
    "with multiprocessing.Pool(processes=4) as pool:\n",
    "    results = pool.starmap(process_fuc, [(param[0], test_my_songs, test_my_tags, song_tag_appended, param[1], param[2], param[3], param[4], \n",
    "                                         param[5], param[6], param[7], param[8], w2v, weight_mat_cv, weight_mat_tf, tag_weights, tag_weights_all) for param in params_list])\n",
    "    \n",
    "for result in results:\n",
    "    print(result)"
   ]
  },
  {
   "cell_type": "code",
   "execution_count": 171,
   "id": "fe675a2e",
   "metadata": {},
   "outputs": [
    {
     "name": "stdout",
     "output_type": "stream",
     "text": [
      "Recommend Model : 1, Simi_mode : pea, Tag : True, Genre : False, Like : True, Mode : tf, Genre Weight Mode : 0, Tag Weight Mode : 0, Like Weight Mode : 0\n",
      "MAP@K (K=10): 0.021\n",
      "nDCG: 0.075\n",
      "Recommend Model : 1, Simi_mode : pea, Tag : True, Genre : False, Like : True, Mode : tf, Genre Weight Mode : 0, Tag Weight Mode : 1, Like Weight Mode : 0\n",
      "MAP@K (K=10): 0.022\n",
      "nDCG: 0.075\n",
      "Recommend Model : 1, Simi_mode : pea, Tag : False, Genre : True, Like : True, Mode : tf, Genre Weight Mode : 0, Tag Weight Mode : 0, Like Weight Mode : 0\n",
      "MAP@K (K=10): 0.029\n",
      "nDCG: 0.079\n",
      "Recommend Model : 1, Simi_mode : pea, Tag : False, Genre : True, Like : True, Mode : tf, Genre Weight Mode : 1, Tag Weight Mode : 0, Like Weight Mode : 0\n",
      "MAP@K (K=10): 0.021\n",
      "nDCG: 0.080\n"
     ]
    }
   ],
   "source": [
    "# 26/36\n",
    "params_list = [\n",
    "    #recnum(1, 2) / simi_mode(cos, pea, jac) / 태그 / 장르 / 좋아요 / mode(cv/tf) / 장르 가중치 모드(0/1) / 좋아요 가중치 모드(0/1) / 태그 가중치 모드(0/1)\n",
    "    (1, 'pea', True, False, True, 'tf', 0, 0, 0),\n",
    "    (1, 'pea', True, False, True, 'tf', 0, 0, 1),\n",
    "    (1, 'pea', False, True, True, 'tf', 0, 0, 0),\n",
    "    (1, 'pea', False, True, True, 'tf', 1, 0, 0)\n",
    "]\n",
    "\n",
    "with multiprocessing.Pool(processes=4) as pool:\n",
    "    results = pool.starmap(process_fuc, [(param[0], test_my_songs, test_my_tags, song_tag_appended, param[1], param[2], param[3], param[4], \n",
    "                                         param[5], param[6], param[7], param[8], w2v, weight_mat_cv, weight_mat_tf, tag_weights, tag_weights_all) for param in params_list])\n",
    "    \n",
    "for result in results:\n",
    "    print(result)"
   ]
  },
  {
   "cell_type": "code",
   "execution_count": 172,
   "id": "79c053c5",
   "metadata": {},
   "outputs": [
    {
     "name": "stdout",
     "output_type": "stream",
     "text": [
      "Recommend Model : 1, Simi_mode : pea, Tag : True, Genre : True, Like : True, Mode : tf, Genre Weight Mode : 0, Tag Weight Mode : 0, Like Weight Mode : 0\n",
      "MAP@K (K=10): 0.028\n",
      "nDCG: 0.083\n",
      "Recommend Model : 1, Simi_mode : pea, Tag : True, Genre : True, Like : True, Mode : tf, Genre Weight Mode : 0, Tag Weight Mode : 1, Like Weight Mode : 0\n",
      "MAP@K (K=10): 0.026\n",
      "nDCG: 0.088\n",
      "Recommend Model : 1, Simi_mode : pea, Tag : True, Genre : True, Like : True, Mode : tf, Genre Weight Mode : 1, Tag Weight Mode : 0, Like Weight Mode : 0\n",
      "MAP@K (K=10): 0.021\n",
      "nDCG: 0.080\n",
      "Recommend Model : 1, Simi_mode : pea, Tag : True, Genre : True, Like : True, Mode : tf, Genre Weight Mode : 1, Tag Weight Mode : 1, Like Weight Mode : 0\n",
      "MAP@K (K=10): 0.021\n",
      "nDCG: 0.077\n"
     ]
    }
   ],
   "source": [
    "# 27/36\n",
    "params_list = [\n",
    "    #recnum(1, 2) / simi_mode(cos, pea, jac) / 태그 / 장르 / 좋아요 / mode(cv/tf) / 장르 가중치 모드(0/1) / 좋아요 가중치 모드(0/1) / 태그 가중치 모드(0/1)\n",
    "    (1, 'pea', True, True, True, 'tf', 0, 0, 0),\n",
    "    (1, 'pea', True, True, True, 'tf', 0, 0, 1),\n",
    "    (1, 'pea', True, True, True, 'tf', 1, 0, 0),\n",
    "    (1, 'pea', True, True, True, 'tf', 1, 0, 1)\n",
    "]\n",
    "\n",
    "with multiprocessing.Pool(processes=4) as pool:\n",
    "    results = pool.starmap(process_fuc, [(param[0], test_my_songs, test_my_tags, song_tag_appended, param[1], param[2], param[3], param[4], \n",
    "                                         param[5], param[6], param[7], param[8], w2v, weight_mat_cv, weight_mat_tf, tag_weights, tag_weights_all) for param in params_list])\n",
    "    \n",
    "for result in results:\n",
    "    print(result)"
   ]
  },
  {
   "cell_type": "code",
   "execution_count": 174,
   "id": "14dc3680",
   "metadata": {},
   "outputs": [
    {
     "name": "stdout",
     "output_type": "stream",
     "text": [
      "Recommend Model : 2, Simi_mode : cos, Tag : False, Genre : False, Like : True, Mode : cv, Genre Weight Mode : 0, Tag Weight Mode : 0, Like Weight Mode : 0\n",
      "MAP@K (K=10): 0.472\n",
      "nDCG: 0.697\n",
      "Recommend Model : 2, Simi_mode : cos, Tag : True, Genre : False, Like : True, Mode : cv, Genre Weight Mode : 0, Tag Weight Mode : 0, Like Weight Mode : 0\n",
      "MAP@K (K=10): 0.473\n",
      "nDCG: 0.694\n",
      "Recommend Model : 2, Simi_mode : cos, Tag : True, Genre : False, Like : True, Mode : cv, Genre Weight Mode : 0, Tag Weight Mode : 1, Like Weight Mode : 0\n",
      "MAP@K (K=10): 0.474\n",
      "nDCG: 0.698\n",
      "Recommend Model : 2, Simi_mode : cos, Tag : False, Genre : True, Like : True, Mode : cv, Genre Weight Mode : 0, Tag Weight Mode : 0, Like Weight Mode : 0\n",
      "MAP@K (K=10): 0.511\n",
      "nDCG: 0.720\n"
     ]
    }
   ],
   "source": [
    "# 28/36\n",
    "params_list = [\n",
    "    #recnum(1, 2) / simi_mode(cos, pea, jac) / 태그 / 장르 / 좋아요 / mode(cv/tf) / 장르 가중치 모드(0/1) / 좋아요 가중치 모드(0/1) / 태그 가중치 모드(0/1)\n",
    "    (2, 'cos', False, False, True, 'cv', 0, 0, 0),\n",
    "    (2, 'cos', True, False, True, 'cv', 0, 0, 0),\n",
    "    (2, 'cos', True, False, True, 'cv', 0, 0, 1),\n",
    "    (2, 'cos', False, True, True, 'cv', 0, 0, 0)\n",
    "]\n",
    "\n",
    "with multiprocessing.Pool(processes=4) as pool:\n",
    "    results = pool.starmap(process_fuc, [(param[0], test_my_songs, test_my_tags, song_tag_appended, param[1], param[2], param[3], param[4], \n",
    "                                         param[5], param[6], param[7], param[8], w2v, weight_mat_cv, weight_mat_tf, tag_weights, tag_weights_all) for param in params_list])\n",
    "    \n",
    "for result in results:\n",
    "    print(result)"
   ]
  },
  {
   "cell_type": "code",
   "execution_count": 175,
   "id": "99aaa885",
   "metadata": {},
   "outputs": [
    {
     "name": "stdout",
     "output_type": "stream",
     "text": [
      "Recommend Model : 2, Simi_mode : cos, Tag : False, Genre : True, Like : True, Mode : cv, Genre Weight Mode : 1, Tag Weight Mode : 0, Like Weight Mode : 0\n",
      "MAP@K (K=10): 0.498\n",
      "nDCG: 0.712\n",
      "Recommend Model : 2, Simi_mode : cos, Tag : True, Genre : True, Like : True, Mode : cv, Genre Weight Mode : 0, Tag Weight Mode : 0, Like Weight Mode : 0\n",
      "MAP@K (K=10): 0.512\n",
      "nDCG: 0.720\n",
      "Recommend Model : 2, Simi_mode : cos, Tag : True, Genre : True, Like : True, Mode : cv, Genre Weight Mode : 0, Tag Weight Mode : 1, Like Weight Mode : 0\n",
      "MAP@K (K=10): 0.511\n",
      "nDCG: 0.718\n",
      "Recommend Model : 2, Simi_mode : cos, Tag : True, Genre : True, Like : True, Mode : cv, Genre Weight Mode : 1, Tag Weight Mode : 0, Like Weight Mode : 0\n",
      "MAP@K (K=10): 0.498\n",
      "nDCG: 0.711\n"
     ]
    }
   ],
   "source": [
    "# 29/36\n",
    "params_list = [\n",
    "    #recnum(1, 2) / simi_mode(cos, pea, jac) / 태그 / 장르 / 좋아요 / mode(cv/tf) / 장르 가중치 모드(0/1) / 좋아요 가중치 모드(0/1) / 태그 가중치 모드(0/1)\n",
    "    (2, 'cos', False, True, True, 'cv', 1, 0, 0),\n",
    "    (2, 'cos', True, True, True, 'cv', 0, 0, 0),\n",
    "    (2, 'cos', True, True, True, 'cv', 0, 0, 1),\n",
    "    (2, 'cos', True, True, True, 'cv', 1, 0, 0)\n",
    "]\n",
    "\n",
    "with multiprocessing.Pool(processes=4) as pool:\n",
    "    results = pool.starmap(process_fuc, [(param[0], test_my_songs, test_my_tags, song_tag_appended, param[1], param[2], param[3], param[4], \n",
    "                                         param[5], param[6], param[7], param[8], w2v, weight_mat_cv, weight_mat_tf, tag_weights, tag_weights_all) for param in params_list])\n",
    "    \n",
    "for result in results:\n",
    "    print(result)"
   ]
  },
  {
   "cell_type": "code",
   "execution_count": 176,
   "id": "05703f59",
   "metadata": {},
   "outputs": [
    {
     "name": "stdout",
     "output_type": "stream",
     "text": [
      "Recommend Model : 2, Simi_mode : cos, Tag : True, Genre : True, Like : True, Mode : cv, Genre Weight Mode : 1, Tag Weight Mode : 1, Like Weight Mode : 0\n",
      "MAP@K (K=10): 0.499\n",
      "nDCG: 0.709\n",
      "Recommend Model : 2, Simi_mode : cos, Tag : False, Genre : False, Like : True, Mode : tf, Genre Weight Mode : 0, Tag Weight Mode : 0, Like Weight Mode : 0\n",
      "MAP@K (K=10): 0.489\n",
      "nDCG: 0.699\n",
      "Recommend Model : 2, Simi_mode : cos, Tag : True, Genre : False, Like : True, Mode : tf, Genre Weight Mode : 0, Tag Weight Mode : 0, Like Weight Mode : 0\n",
      "MAP@K (K=10): 0.490\n",
      "nDCG: 0.697\n",
      "Recommend Model : 2, Simi_mode : cos, Tag : True, Genre : False, Like : True, Mode : tf, Genre Weight Mode : 0, Tag Weight Mode : 1, Like Weight Mode : 0\n",
      "MAP@K (K=10): 0.490\n",
      "nDCG: 0.699\n"
     ]
    }
   ],
   "source": [
    "# 30/36\n",
    "params_list = [\n",
    "    #recnum(1, 2) / simi_mode(cos, pea, jac) / 태그 / 장르 / 좋아요 / mode(cv/tf) / 장르 가중치 모드(0/1) / 좋아요 가중치 모드(0/1) / 태그 가중치 모드(0/1)\n",
    "    (2, 'cos', True, True, True, 'cv', 1, 0, 1),\n",
    "    (2, 'cos', False, False, True, 'tf', 0, 0, 0),\n",
    "    (2, 'cos', True, False, True, 'tf', 0, 0, 0),\n",
    "    (2, 'cos', True, False, True, 'tf', 0, 0, 1)\n",
    "]\n",
    "\n",
    "with multiprocessing.Pool(processes=4) as pool:\n",
    "    results = pool.starmap(process_fuc, [(param[0], test_my_songs, test_my_tags, song_tag_appended, param[1], param[2], param[3], param[4], \n",
    "                                         param[5], param[6], param[7], param[8], w2v, weight_mat_cv, weight_mat_tf, tag_weights, tag_weights_all) for param in params_list])\n",
    "    \n",
    "for result in results:\n",
    "    print(result)"
   ]
  },
  {
   "cell_type": "code",
   "execution_count": 178,
   "id": "3568edae",
   "metadata": {},
   "outputs": [
    {
     "name": "stdout",
     "output_type": "stream",
     "text": [
      "Recommend Model : 2, Simi_mode : cos, Tag : False, Genre : True, Like : True, Mode : tf, Genre Weight Mode : 0, Tag Weight Mode : 0, Like Weight Mode : 0\n",
      "MAP@K (K=10): 0.507\n",
      "nDCG: 0.717\n",
      "Recommend Model : 2, Simi_mode : cos, Tag : False, Genre : True, Like : True, Mode : tf, Genre Weight Mode : 1, Tag Weight Mode : 0, Like Weight Mode : 0\n",
      "MAP@K (K=10): 0.508\n",
      "nDCG: 0.714\n",
      "Recommend Model : 2, Simi_mode : cos, Tag : True, Genre : True, Like : True, Mode : tf, Genre Weight Mode : 0, Tag Weight Mode : 0, Like Weight Mode : 0\n",
      "MAP@K (K=10): 0.507\n",
      "nDCG: 0.717\n",
      "Recommend Model : 2, Simi_mode : cos, Tag : True, Genre : True, Like : True, Mode : tf, Genre Weight Mode : 0, Tag Weight Mode : 1, Like Weight Mode : 0\n",
      "MAP@K (K=10): 0.507\n",
      "nDCG: 0.716\n"
     ]
    }
   ],
   "source": [
    "# 31/36\n",
    "params_list = [\n",
    "    #recnum(1, 2) / simi_mode(cos, pea, jac) / 태그 / 장르 / 좋아요 / mode(cv/tf) / 장르 가중치 모드(0/1) / 좋아요 가중치 모드(0/1) / 태그 가중치 모드(0/1)\n",
    "    (2, 'cos', False, True, True, 'tf', 0, 0, 0),\n",
    "    (2, 'cos', False, True, True, 'tf', 1, 0, 0),\n",
    "    (2, 'cos', True, True, True, 'tf', 0, 0, 0),\n",
    "    (2, 'cos', True, True, True, 'tf', 0, 0, 1)\n",
    "]\n",
    "\n",
    "with multiprocessing.Pool(processes=4) as pool:\n",
    "    results = pool.starmap(process_fuc, [(param[0], test_my_songs, test_my_tags, song_tag_appended, param[1], param[2], param[3], param[4], \n",
    "                                         param[5], param[6], param[7], param[8], w2v, weight_mat_cv, weight_mat_tf, tag_weights, tag_weights_all) for param in params_list])\n",
    "    \n",
    "for result in results:\n",
    "    print(result)"
   ]
  },
  {
   "cell_type": "code",
   "execution_count": 179,
   "id": "42134275",
   "metadata": {},
   "outputs": [
    {
     "name": "stdout",
     "output_type": "stream",
     "text": [
      "Recommend Model : 2, Simi_mode : cos, Tag : True, Genre : True, Like : True, Mode : tf, Genre Weight Mode : 1, Tag Weight Mode : 0, Like Weight Mode : 0\n",
      "MAP@K (K=10): 0.508\n",
      "nDCG: 0.713\n",
      "Recommend Model : 2, Simi_mode : cos, Tag : True, Genre : True, Like : True, Mode : tf, Genre Weight Mode : 1, Tag Weight Mode : 1, Like Weight Mode : 0\n",
      "MAP@K (K=10): 0.509\n",
      "nDCG: 0.718\n",
      "Recommend Model : 2, Simi_mode : pea, Tag : False, Genre : False, Like : True, Mode : cv, Genre Weight Mode : 0, Tag Weight Mode : 0, Like Weight Mode : 0\n",
      "MAP@K (K=10): 0.008\n",
      "nDCG: 0.013\n",
      "Recommend Model : 2, Simi_mode : pea, Tag : True, Genre : False, Like : True, Mode : cv, Genre Weight Mode : 0, Tag Weight Mode : 0, Like Weight Mode : 0\n",
      "MAP@K (K=10): 0.008\n",
      "nDCG: 0.013\n"
     ]
    }
   ],
   "source": [
    "# 32/36\n",
    "params_list = [\n",
    "    #recnum(1, 2) / simi_mode(cos, pea, jac) / 태그 / 장르 / 좋아요 / mode(cv/tf) / 장르 가중치 모드(0/1) / 좋아요 가중치 모드(0/1) / 태그 가중치 모드(0/1)\n",
    "    (2, 'cos', True, True, True, 'tf', 1, 0, 0),\n",
    "    (2, 'cos', True, True, True, 'tf', 1, 0, 1),\n",
    "    (2, 'pea', False, False, True, 'cv', 0, 0, 0),\n",
    "    (2, 'pea', True, False, True, 'cv', 0, 0, 0)\n",
    "]\n",
    "\n",
    "with multiprocessing.Pool(processes=4) as pool:\n",
    "    results = pool.starmap(process_fuc, [(param[0], test_my_songs, test_my_tags, song_tag_appended, param[1], param[2], param[3], param[4], \n",
    "                                         param[5], param[6], param[7], param[8], w2v, weight_mat_cv, weight_mat_tf, tag_weights, tag_weights_all) for param in params_list])\n",
    "    \n",
    "for result in results:\n",
    "    print(result)"
   ]
  },
  {
   "cell_type": "code",
   "execution_count": 180,
   "id": "e30ed41b",
   "metadata": {},
   "outputs": [
    {
     "name": "stdout",
     "output_type": "stream",
     "text": [
      "Recommend Model : 2, Simi_mode : pea, Tag : True, Genre : False, Like : True, Mode : cv, Genre Weight Mode : 0, Tag Weight Mode : 1, Like Weight Mode : 0\n",
      "MAP@K (K=10): 0.008\n",
      "nDCG: 0.013\n",
      "Recommend Model : 2, Simi_mode : pea, Tag : False, Genre : True, Like : True, Mode : cv, Genre Weight Mode : 0, Tag Weight Mode : 0, Like Weight Mode : 0\n",
      "MAP@K (K=10): 0.010\n",
      "nDCG: 0.013\n",
      "Recommend Model : 2, Simi_mode : pea, Tag : False, Genre : True, Like : True, Mode : cv, Genre Weight Mode : 1, Tag Weight Mode : 0, Like Weight Mode : 0\n",
      "MAP@K (K=10): 0.012\n",
      "nDCG: 0.020\n",
      "Recommend Model : 2, Simi_mode : pea, Tag : True, Genre : True, Like : True, Mode : cv, Genre Weight Mode : 0, Tag Weight Mode : 0, Like Weight Mode : 0\n",
      "MAP@K (K=10): 0.010\n",
      "nDCG: 0.013\n"
     ]
    }
   ],
   "source": [
    "# 33/36\n",
    "params_list = [\n",
    "    #recnum(1, 2) / simi_mode(cos, pea, jac) / 태그 / 장르 / 좋아요 / mode(cv/tf) / 장르 가중치 모드(0/1) / 좋아요 가중치 모드(0/1) / 태그 가중치 모드(0/1)\n",
    "    (2, 'pea', True, False, True, 'cv', 0, 0, 1),\n",
    "    (2, 'pea', False, True, True, 'cv', 0, 0, 0),\n",
    "    (2, 'pea', False, True, True, 'cv', 1, 0, 0),\n",
    "    (2, 'pea', True, True, True, 'cv', 0, 0, 0)\n",
    "]\n",
    "\n",
    "with multiprocessing.Pool(processes=4) as pool:\n",
    "    results = pool.starmap(process_fuc, [(param[0], test_my_songs, test_my_tags, song_tag_appended, param[1], param[2], param[3], param[4], \n",
    "                                         param[5], param[6], param[7], param[8], w2v, weight_mat_cv, weight_mat_tf, tag_weights, tag_weights_all) for param in params_list])\n",
    "    \n",
    "for result in results:\n",
    "    print(result)"
   ]
  },
  {
   "cell_type": "code",
   "execution_count": 182,
   "id": "67c20379",
   "metadata": {},
   "outputs": [
    {
     "name": "stdout",
     "output_type": "stream",
     "text": [
      "Recommend Model : 2, Simi_mode : pea, Tag : True, Genre : True, Like : True, Mode : cv, Genre Weight Mode : 0, Tag Weight Mode : 1, Like Weight Mode : 0\n",
      "MAP@K (K=10): 0.010\n",
      "nDCG: 0.013\n",
      "Recommend Model : 2, Simi_mode : pea, Tag : True, Genre : True, Like : True, Mode : cv, Genre Weight Mode : 1, Tag Weight Mode : 0, Like Weight Mode : 0\n",
      "MAP@K (K=10): 0.012\n",
      "nDCG: 0.020\n",
      "Recommend Model : 2, Simi_mode : pea, Tag : True, Genre : True, Like : True, Mode : cv, Genre Weight Mode : 1, Tag Weight Mode : 1, Like Weight Mode : 0\n",
      "MAP@K (K=10): 0.012\n",
      "nDCG: 0.020\n",
      "Recommend Model : 2, Simi_mode : pea, Tag : False, Genre : False, Like : True, Mode : tf, Genre Weight Mode : 0, Tag Weight Mode : 0, Like Weight Mode : 0\n",
      "MAP@K (K=10): 0.006\n",
      "nDCG: 0.010\n"
     ]
    }
   ],
   "source": [
    "# 34/36\n",
    "params_list = [\n",
    "    #recnum(1, 2) / simi_mode(cos, pea, jac) / 태그 / 장르 / 좋아요 / mode(cv/tf) / 장르 가중치 모드(0/1) / 좋아요 가중치 모드(0/1) / 태그 가중치 모드(0/1)\n",
    "    (2, 'pea', True, True, True, 'cv', 0, 0, 1),\n",
    "    (2, 'pea', True, True, True, 'cv', 1, 0, 0),\n",
    "    (2, 'pea', True, True, True, 'cv', 1, 0, 1),\n",
    "    (2, 'pea', False, False, True, 'tf', 0, 0, 0)\n",
    "]\n",
    "\n",
    "with multiprocessing.Pool(processes=4) as pool:\n",
    "    results = pool.starmap(process_fuc, [(param[0], test_my_songs, test_my_tags, song_tag_appended, param[1], param[2], param[3], param[4], \n",
    "                                         param[5], param[6], param[7], param[8], w2v, weight_mat_cv, weight_mat_tf, tag_weights, tag_weights_all) for param in params_list])\n",
    "    \n",
    "for result in results:\n",
    "    print(result)"
   ]
  },
  {
   "cell_type": "code",
   "execution_count": 183,
   "id": "229ecd31",
   "metadata": {},
   "outputs": [
    {
     "name": "stdout",
     "output_type": "stream",
     "text": [
      "Recommend Model : 2, Simi_mode : pea, Tag : True, Genre : False, Like : True, Mode : tf, Genre Weight Mode : 0, Tag Weight Mode : 0, Like Weight Mode : 0\n",
      "MAP@K (K=10): 0.006\n",
      "nDCG: 0.010\n",
      "Recommend Model : 2, Simi_mode : pea, Tag : True, Genre : False, Like : True, Mode : tf, Genre Weight Mode : 0, Tag Weight Mode : 1, Like Weight Mode : 0\n",
      "MAP@K (K=10): 0.006\n",
      "nDCG: 0.010\n",
      "Recommend Model : 2, Simi_mode : pea, Tag : False, Genre : True, Like : True, Mode : tf, Genre Weight Mode : 0, Tag Weight Mode : 0, Like Weight Mode : 0\n",
      "MAP@K (K=10): 0.014\n",
      "nDCG: 0.023\n",
      "Recommend Model : 2, Simi_mode : pea, Tag : False, Genre : True, Like : True, Mode : tf, Genre Weight Mode : 1, Tag Weight Mode : 0, Like Weight Mode : 0\n",
      "MAP@K (K=10): 0.012\n",
      "nDCG: 0.017\n"
     ]
    }
   ],
   "source": [
    "# 35/36\n",
    "params_list = [\n",
    "    #recnum(1, 2) / simi_mode(cos, pea, jac) / 태그 / 장르 / 좋아요 / mode(cv/tf) / 장르 가중치 모드(0/1) / 좋아요 가중치 모드(0/1) / 태그 가중치 모드(0/1)\n",
    "    (2, 'pea', True, False, True, 'tf', 0, 0, 0),\n",
    "    (2, 'pea', True, False, True, 'tf', 0, 0, 1),\n",
    "    (2, 'pea', False, True, True, 'tf', 0, 0, 0),\n",
    "    (2, 'pea', False, True, True, 'tf', 1, 0, 0)\n",
    "]\n",
    "\n",
    "with multiprocessing.Pool(processes=4) as pool:\n",
    "    results = pool.starmap(process_fuc, [(param[0], test_my_songs, test_my_tags, song_tag_appended, param[1], param[2], param[3], param[4], \n",
    "                                         param[5], param[6], param[7], param[8], w2v, weight_mat_cv, weight_mat_tf, tag_weights, tag_weights_all) for param in params_list])\n",
    "    \n",
    "for result in results:\n",
    "    print(result)"
   ]
  },
  {
   "cell_type": "code",
   "execution_count": 184,
   "id": "8361eec3",
   "metadata": {},
   "outputs": [
    {
     "name": "stdout",
     "output_type": "stream",
     "text": [
      "Recommend Model : 2, Simi_mode : pea, Tag : True, Genre : True, Like : True, Mode : tf, Genre Weight Mode : 0, Tag Weight Mode : 0, Like Weight Mode : 0\n",
      "MAP@K (K=10): 0.014\n",
      "nDCG: 0.023\n",
      "Recommend Model : 2, Simi_mode : pea, Tag : True, Genre : True, Like : True, Mode : tf, Genre Weight Mode : 0, Tag Weight Mode : 1, Like Weight Mode : 0\n",
      "MAP@K (K=10): 0.014\n",
      "nDCG: 0.023\n",
      "Recommend Model : 2, Simi_mode : pea, Tag : True, Genre : True, Like : True, Mode : tf, Genre Weight Mode : 1, Tag Weight Mode : 0, Like Weight Mode : 0\n",
      "MAP@K (K=10): 0.012\n",
      "nDCG: 0.017\n",
      "Recommend Model : 2, Simi_mode : pea, Tag : True, Genre : True, Like : True, Mode : tf, Genre Weight Mode : 1, Tag Weight Mode : 1, Like Weight Mode : 0\n",
      "MAP@K (K=10): 0.012\n",
      "nDCG: 0.017\n"
     ]
    }
   ],
   "source": [
    "# 36/36\n",
    "params_list = [\n",
    "    #recnum(1, 2) / simi_mode(cos, pea, jac) / 태그 / 장르 / 좋아요 / mode(cv/tf) / 장르 가중치 모드(0/1) / 좋아요 가중치 모드(0/1) / 태그 가중치 모드(0/1)\n",
    "    (2, 'pea', True, True, True, 'tf', 0, 0, 0),\n",
    "    (2, 'pea', True, True, True, 'tf', 0, 0, 1),\n",
    "    (2, 'pea', True, True, True, 'tf', 1, 0, 0),\n",
    "    (2, 'pea', True, True, True, 'tf', 1, 0, 1)\n",
    "]\n",
    "\n",
    "with multiprocessing.Pool(processes=4) as pool:\n",
    "    results = pool.starmap(process_fuc, [(param[0], test_my_songs, test_my_tags, song_tag_appended, param[1], param[2], param[3], param[4], \n",
    "                                         param[5], param[6], param[7], param[8], w2v, weight_mat_cv, weight_mat_tf, tag_weights, tag_weights_all) for param in params_list])\n",
    "    \n",
    "for result in results:\n",
    "    print(result)"
   ]
  }
 ],
 "metadata": {
  "kernelspec": {
   "display_name": "Python 3 (ipykernel)",
   "language": "python",
   "name": "python3"
  },
  "language_info": {
   "codemirror_mode": {
    "name": "ipython",
    "version": 3
   },
   "file_extension": ".py",
   "mimetype": "text/x-python",
   "name": "python",
   "nbconvert_exporter": "python",
   "pygments_lexer": "ipython3",
   "version": "3.10.9"
  }
 },
 "nbformat": 4,
 "nbformat_minor": 5
}
